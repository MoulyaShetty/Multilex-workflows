{
 "cells": [
  {
   "cell_type": "code",
   "execution_count": 3,
   "id": "5b36e43d-9a25-4c94-b708-733c61b390ce",
   "metadata": {},
   "outputs": [],
   "source": [
    "from datetime import datetime,date\n",
    "import pandas as pd \n",
    "from advertools import word_tokenize\n",
    "def FilterFunction(final):\n",
    "    try:\n",
    "        if(final.empty):\n",
    "            return final\n",
    "        key_1_gram = [ 'IPO','IPO','IPO ','SPACs','ipo','pre-IPO','pre-ipo','PRE-IPO','pre-IPO','going public','spac','shares','pre ipo']\n",
    "        key_2_gram = [\"listed on\",\"go public\",\"plan to\",\"going public\",\"offering shares\",\"initial public\",\"public offering\",\"have listed\",\"files for\"]\n",
    "        key_3_gram = [\"offer its shares\",\"to the public\",\"going to list\",\"files for ipo\",\"filed for ipo\"]\n",
    "        title,link,published_date,scraped_date,text=[],[],[],[],[]\n",
    "        for i,row in final.iterrows():\n",
    "            cases = [0]*3\n",
    "            article = str(str(row[\"title\"]) + \" \" + str(row[\"text\"])).lower()\n",
    "            print(article + \"\\n\\n\\n\\n\")\n",
    "            text_list = [article]\n",
    "            key_1_gram = [str(i).lower() for i in key_1_gram]\n",
    "            key_2_gram = [str(i).lower() for i in key_2_gram]\n",
    "            key_3_gram = [i.lower() for i in key_3_gram]\n",
    "            res_1_gram = set(word_tokenize(text_list,1)[0])\n",
    "            res_2_gram = set(word_tokenize(text_list,2)[0])\n",
    "            res_3_gram = set(word_tokenize(text_list,3)[0])\n",
    "            if(len(res_1_gram.intersection(key_1_gram))>0):\n",
    "                cases[0] = 1\n",
    "            if(len(res_2_gram.intersection(key_2_gram))>0):\n",
    "                cases[1] = 1\n",
    "            if(len(res_3_gram.intersection(key_3_gram))):\n",
    "                cases[2] = 1\n",
    "            if(cases[0] or cases[1] or cases[2]):\n",
    "                title.append(final['title'][i])\n",
    "                link.append(final['link'][i])\n",
    "                published_date.append(final['publish_date'][i])\n",
    "                scraped_date.append(final['scraped_date'][i])\n",
    "                text.append(final['text'][i])\n",
    "            cases = [0]*3\n",
    "        final = pd.DataFrame(list(zip(published_date,scraped_date,title,text,link)), \n",
    "                   columns =['title','link','publish_date','scraped_date','text'])\n",
    "        final = final[~final['title'].isin([\"private placement\", \"reverse merger\", \"blank check merger\"])]\n",
    "        final = final[~final['text'].isin([\"private placement\", \"reverse merger\", \"blank check merger\"])]\n",
    "        final.to_csv(\"Newshab.csv\")\n",
    "        return final\n",
    "    except:\n",
    "        print(\"Issue in Filter Function\")\n",
    "def dropDuplicates2(df): #This function drops all the duplicates from a dataframe of all old data.\n",
    "    df1 = df.drop_duplicates(subset=[\"text\",\"link\",\"title\"])\n",
    "    return df1\n",
    "def merge_reports(location):\n",
    "    cur_date = date.today()\n",
    "    cur_date = str(cur_date.strftime(\"%Y-%m-%d\"))\n",
    "    df = pd.read_csv(location+\"FinalReport_\"+cur_date+\".csv\")\n",
    "    # print(df.head())\n",
    "    df1 = pd.read_csv(location+\"FinalReport_\"+cur_date+\"_1.csv\")\n",
    "    df = pd.concat([df,df1])\n",
    "    df = dropDuplicates2(df)\n",
    "    # df = FilterFunction(df)\n",
    "    file_name = \"PREIPO_Final_Report_\"+cur_date+\".csv\"\n",
    "    df.to_csv(location+file_name)\n",
    "merge_reports(\"/home/prachi_multilex2/\")"
   ]
  },
  {
   "cell_type": "code",
   "execution_count": null,
   "id": "c11a1d40-c75a-408b-9e52-9c74e72366ef",
   "metadata": {},
   "outputs": [],
   "source": []
  }
 ],
 "metadata": {
  "kernelspec": {
   "display_name": "Python 3.8.3 ('venv': venv)",
   "language": "python",
   "name": "python3"
  },
  "language_info": {
   "codemirror_mode": {
    "name": "ipython",
    "version": 3
   },
   "file_extension": ".py",
   "mimetype": "text/x-python",
   "name": "python",
   "nbconvert_exporter": "python",
   "pygments_lexer": "ipython3",
   "version": "3.8.3"
  },
  "vscode": {
   "interpreter": {
    "hash": "b8a3eba9cebfb28c86551ee57a111622898a8006182aee53eafa7649e6f45aff"
   }
  }
 },
 "nbformat": 4,
 "nbformat_minor": 5
}
