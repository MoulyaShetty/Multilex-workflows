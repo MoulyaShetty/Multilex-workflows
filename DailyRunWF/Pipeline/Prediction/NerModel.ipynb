{
 "cells": [
  {
   "cell_type": "code",
   "execution_count": 6,
   "id": "842c9a70-270b-4b08-9201-d88fa0597322",
   "metadata": {},
   "outputs": [
    {
     "name": "stderr",
     "output_type": "stream",
     "text": [
      "2022-07-15 13:42:21,405 - 322050 - root - INFO - first line of multilex_NERModel_lg_xform\n",
      "2022-07-15 13:42:29,196 - 322050 - root - INFO - reading input artifact /home/prachi_multilex2/todays_report.csv\n",
      "2022-07-15 13:42:29,272 - 322050 - root - INFO - completed reading input artifact /home/prachi_multilex2/todays_report.csv\n",
      "2022-07-15 13:42:29,293 - 322050 - simpletransformers.question_answering.question_answering_model - INFO -  Converting to features started.\n"
     ]
    },
    {
     "name": "stdout",
     "output_type": "stream",
     "text": [
      "/home/prachi_multilex2/Main_Scripts\n",
      "MOLECULAR PARTNERS AG (NASDAQ: MOLN) SHAREHOLDER CLASS ACTION ALERT: Bernstein Liebhard LLP Announces that a Securities Class Action Lawsuit Has Been Filed Against Molecular Partners AG (NASDAQ: MOLN) Did you lose money on investments in Molecular Partners? If so, please visit Molecular Partners AG Shareholder Class Action Lawsuit or contact Peter Allocco at (212) 951-2030 or pallocco@bernlieb.com to discuss your rights.  NEW YORK, July  14, 2022  (GLOBE NEWSWIRE) -- Bernstein Liebhard LLP announces that a securities class action lawsuit has been filed on behalf of investors who purchased or otherwise acquired: (a) Molecular Partners AG (“Molecular Partners” or the “Company”) American Depositary Shares (“ADSs”) pursuant and/or traceable to the Offering Documents issued in connection with the Company’s initial public offering conducted on or about June 16, 2021 (the “IPO”); and/or (b) Molecular Partners securities between June 16, 2021 and April 26, 2022, both dates inclusive (the “Class Period”). The lawsuit was filed in the United States District Court for the Southern District of New York and alleges violations of the Securities Act of 1933 and Securities Exchange Act of 1934.  Molecular Partners operates as a clinical-stage biopharmaceutical company that focuses on the discovery, development, and commercialization of therapeutic proteins. Leading up to and following the IPO, the Company repeatedly touted the clinical and commercial prospects of certain of its product candidates under development in collaboration with other companies.     Among other product candidates, Molecular Partners is developing ensovibep as a treatment for COVID-19 in collaboration with Novartis AG (“Novartis”). One of the Company’s most important development strategies for ensovibep includes securing Emergency Use Authorization (“EUA”) for ensovibep from the U.S. Food and Drug Administration (“FDA”).  In addition, Molecular Partners is developing MP0310 (AMG 506) for the treatment of certain types of cancer in collaboration with Amgen Inc. (“Amgen”). The Company granted Amgen, among other licenses, the right to progress MP0310’s development program into later stage development, including into combination trials, following Phase 1 data.  On April 22, 2021, Molecular Partners filed a registration statement on Form F-1 with the SEC in connection with the IPO, which, after several amendments, was declared effective by the SEC on June 15, 2021 (the “Registration Statement”). Then, on June 16, 2021, the Company filed a prospectus on Form 424B4 with the SEC in connection with the IPO, which incorporated and formed part of the Registration Statement (collectively, the “Offering Documents”).  Pursuant to the Offering Documents, Molecular Partners conducted the IPO, issuing 3 million of its ADSs to the public at the IPO price $21.25 per ADS, for proceeds to the Company of over $59 million.  Plaintiff alleges that Defendants’ statements in the Offering Documents were materially false and misleading when made because Defendants failed to disclose that: (i) ensovibep was less effective at treating COVID-19 than Defendants had led investors to believe; (ii) accordingly, the FDA was reasonably likely to require an additional Phase 3 study of ensovibep before granting the drug EUA; (iii) waning global rates of COVID-19 significantly reduced the Company’s chances of securing EUA for ensovibep; (iv) as a product candidate, MP0310 was less attractive to Amgen than Defendants had led investors to believe; (v) accordingly, there was a significant likelihood that Amgen would return global rights of MP0310 to Molecular Partners; (vi) as a result of all the foregoing, the clinical and commercial prospects of ensovibep and MP0310 were overstated; and (vii) as a result, the Offering Documents and Defendants’ public statements throughout the Class Period were materially false and/or misleading and failed to state information required to be stated therein.  On November 16, 2021, Molecular Partners disclosed that “a planned futility analysis of ensovibep in [an] ongoing [Phase 3] clinical study . . . has not met the thresholds required to continue enrollment of adults with COVID-19 in the hospitalized setting.”   On this news, Molecular Partners’ ADS price fell $4.64 per ADS to close at $10.15 per ADS on November 16, 2021.  Then, on April 26, 2022, months after applying for EUA from the FDA for ensovibep, Novartis’ Chief Executive Officer, Vas Narasimhan, disclosed that “given the latest feedback . . . in our discussions with the [FDA], we would expect the agency to require a Phase 3 study before granting an EUA approval or a general approval” for ensovibep, and that “we need to make a kind of sober evaluation as to is it a doable study in light of the waning rates of COVID around the world[.]”  On this news, Molecular Partners’ ADS price fell $2.68 per ADS to close at $13.89 per ADS on April 26, 2022.  Also on April 26, 2022, during after-market hours, Molecular Partners “announced that Amgen . . . has informed the Company of their decision to return global rights of MP0310 to Molecular Partners following a strategic pipeline review.”  On this news, Molecular Partners’ ADS price fell an additional $5.19 per ADS to close at $8.70 per ADS on April 27, 2022 — a total decline of $7.87 per ADS, or 47.5%, over two consecutive trading days, and 59.06% below the $21.25 per ADS IPO price.  If you wish to serve as lead plaintiff, you must move the Court no later than September 12, 2022. A lead plaintiff is a representative party acting on behalf of other class members in directing the litigation. Your ability to share in any recovery doesn’t require that you serve as lead plaintiff. If you choose to take no action, you may remain an absent class member.  If you purchased or otherwise acquired MOLN ADSs or securities, and/or would like to discuss your legal rights and options please visit Molecular Partners AG Shareholder Class Action Lawsuit or contact Peter Allocco at (212) 951-2030 or pallocco@bernlieb.com.  Since 1993, Bernstein Liebhard LLP has recovered over $3.5 billion for its clients. In addition to representing individual investors, the Firm has been retained by some of the largest public and private pension funds in the country to monitor their assets and pursue litigation on their behalf. As a result of its success litigating hundreds of lawsuits and class actions, the Firm has been named to The National Law Journal’s “Plaintiffs’ Hot List” thirteen times and listed in The Legal 500 for ten consecutive years.  ATTORNEY ADVERTISING. © 2022 Bernstein Liebhard LLP. The law firm responsible for this advertisement is Bernstein Liebhard LLP, 10 East 40th Street, New York, New York 10016, (212) 779-1414. Prior results do not guarantee or predict a similar outcome with respect to any future matter.  Contact Information:  Peter AlloccoBernstein Liebhard LLPhttps://www.bernlieb.com(212) 951-2030pallocco@bernlieb.com  \n"
     ]
    },
    {
     "name": "stderr",
     "output_type": "stream",
     "text": [
      "convert squad examples to features: 100%|██████████| 1/1 [00:00<00:00,  8.72it/s]\n",
      "add example index and unique id: 100%|██████████| 1/1 [00:00<00:00, 1527.98it/s]\n"
     ]
    },
    {
     "data": {
      "application/vnd.jupyter.widget-view+json": {
       "model_id": "5c59b96ee1c84b8a9039c0de4fbd9855",
       "version_major": 2,
       "version_minor": 0
      },
      "text/plain": [
       "Running Prediction:   0%|          | 0/1 [00:00<?, ?it/s]"
      ]
     },
     "metadata": {},
     "output_type": "display_data"
    },
    {
     "name": "stderr",
     "output_type": "stream",
     "text": [
      "2022-07-15 13:42:30,780 - 322050 - simpletransformers.question_answering.question_answering_model - INFO -  Converting to features started.\n"
     ]
    },
    {
     "name": "stdout",
     "output_type": "stream",
     "text": [
      "MISSFRESH LIMITED (NASDAQ: MF) SHAREHOLDER CLASS ACTION ALERT: Bernstein Liebhard LLP Announces that a Securities Class Action Lawsuit Has Been Filed Against Missfresh Limited (NASDAQ: MF) Did you lose money on investments in Missfresh Limited? If so, please visit Missfresh Limited Shareholder Class Action Lawsuit or contact Peter Allocco at (212) 951-2030 or pallocco@bernlieb.com to discuss your rights.  NEW YORK, July  14, 2022  (GLOBE NEWSWIRE) -- Bernstein Liebhard LLP announces that a securities class action lawsuit has been filed on behalf of investors who purchased or otherwise acquired the securities of Missfresh Limited (“Missfresh” or the “Company”) (NASDAQ: MF) pursuant and/or traceable to the registration statement and related prospectus (collectively, the “Registration Statement”) issued in connection with Missfresh’s June 2021 initial public offering (the “IPO” or “Offering”). The lawsuit was filed in the United States District Court for the Eastern District of New York and alleges violations of the Securities Exchange Act of 1933.  Missfresh purports to be an innovator and leader in China’s neighborhood retail industry which invented the Distributed Mini Warehouse (DMW) model to operate an integrated online-and-offline on-demand retail business focusing on offering fresh produce and fast-moving consumer goods (FMCGs).     On or about June 8, 2021, Missfresh filed with the SEC a Registration Statement on Form F-1, which in combination with a subsequent amendment on Form F-1/A and filed pursuant to Rule 424(b)(4), would be used for the IPO.  On June 23, 2021, Missfresh filed with the SEC its final prospectus for the IPO on Form 424B4 (the “Prospectus”), which forms part of the Registration Statement. In the IPO, Missfresh sold approximately 21 million American Depositary Shares (“ADSs”) at $13.00 per ADS.  Plaintiff alleges that Defendants’ statements in the Registration Statement were materially false and misleading when made because: (1) Missfresh provided false financial figures in its Registration Statement; (2) Missfresh would need to amend its financial figures; (3) Missfresh, among other things, had lesser net revenues for the quarter ended March 31, 2021; and (4) as a result, Defendants’ public statements were materially false and misleading at all relevant times and negligently prepared.  On April 29, 2022, after trading hours, Missfresh filed with the SEC a Notification of Late Filing on Form 12b-25 which announced, among other things, that the independent Audit Committee of the Company’s board of directors, with the assistance of professional advisors, “[wa]s in the process of conducting an internal review of certain matters, including those relating to transactions between the Company and certain third-party enterprises.”   On this news, Missfresh ADSs fell 13% to close at $0.448 per ADS on May 2, 2021.  Then, on May 24, 2022, Missfresh disclosed that the Company was unable to file its 2021 Annual Report by the extended deadline, \"primarily because the Company is unable to complete the audit of the financial statements of the Company for the fiscal year ended December 31, 2021\". On this news, Missfresh's ADSs fell $0.018 per share, or 9.7%, over the following two trading days, to close at $0.167 per ADS on May 26, 2022.  Finally, on July 1, 2022, Missfresh issued a press release entitled \"Missfresh Announces the Substantial Completion of the Audit Committee-Led Independent Internal Review\" which disclosed, among other things, that the Company's review \"identified certain transactions . . . that exhibit characteristics of questionable transactions, such as undisclosed relationships between suppliers and customers, different customers or suppliers sharing the same contact information, and/or lack of supporting logistics information\" and that consequently, \"certain revenue associated with those reporting periods in 2021 may have been inaccurately recorded in the Company's financial statements.\"  Since the IPO, the price of Missfresh's ADSs has fallen over 97%, closing at $0.3075 per ADS on July 6, 2022.  If you wish to serve as lead plaintiff, you must move the Court no later than September 12, 2022. A lead plaintiff is a representative party acting on behalf of other class members in directing the litigation. Your ability to share in any recovery doesn’t require that you serve as lead plaintiff. If you choose to take no action, you may remain an absent class member.  If you purchased or otherwise acquired MF securities, and/or would like to discuss your legal rights and options please visit Missfresh Limited Shareholder Class Action Lawsuit or contact Peter Allocco at (212) 951-2030 or pallocco@bernlieb.com.  Since 1993, Bernstein Liebhard LLP has recovered over $3.5 billion for its clients. In addition to representing individual investors, the Firm has been retained by some of the largest public and private pension funds in the country to monitor their assets and pursue litigation on their behalf. As a result of its success litigating hundreds of lawsuits and class actions, the Firm has been named to The National Law Journal’s “Plaintiffs’ Hot List” thirteen times and listed in The Legal 500 for ten consecutive years.  ATTORNEY ADVERTISING. © 2022 Bernstein Liebhard LLP. The law firm responsible for this advertisement is Bernstein Liebhard LLP, 10 East 40th Street, New York, New York 10016, (212) 779-1414. Prior results do not guarantee or predict a similar outcome with respect to any future matter.  Contact Information:  Peter AlloccoBernstein Liebhard LLPhttps://www.bernlieb.com(212) 951-2030pallocco@bernlieb.com  \n"
     ]
    },
    {
     "name": "stderr",
     "output_type": "stream",
     "text": [
      "convert squad examples to features: 100%|██████████| 1/1 [00:00<00:00, 20.62it/s]\n",
      "add example index and unique id: 100%|██████████| 1/1 [00:00<00:00, 2449.94it/s]\n"
     ]
    },
    {
     "data": {
      "application/vnd.jupyter.widget-view+json": {
       "model_id": "5f321dd38fc64faca812ee96b7fc6469",
       "version_major": 2,
       "version_minor": 0
      },
      "text/plain": [
       "Running Prediction:   0%|          | 0/1 [00:00<?, ?it/s]"
      ]
     },
     "metadata": {},
     "output_type": "display_data"
    },
    {
     "name": "stderr",
     "output_type": "stream",
     "text": [
      "2022-07-15 13:42:31,851 - 322050 - simpletransformers.question_answering.question_answering_model - INFO -  Converting to features started.\n"
     ]
    },
    {
     "name": "stdout",
     "output_type": "stream",
     "text": [
      "Kazakhstan’s KazMunayGas to Undertake IPO This Year \n",
      "NUR-SULTAN – KazMunayGas (KMG), a national oil and gas company, will go public in 2022, said Samruk Kazyna Board Chair Almasadam Satkaliyev.\n",
      "Founded in 2002, KMG represents Kazakhstan’s interests in the national oil and gas industry. Photo credit: KMG\n",
      "KMG is a key asset of Samruk Kazyna National Wealth Fund, a state-owned sovereign wealth fund that controls most of Kazakhstan’s valuable assets – all worth nearly US$67.4 billion. KMG alone produces 25 percent of the country’s oil and gas condensate and 15 percent of natural gas and associated gas. It also owns a 56 percent share of Kazakhstan’s oil transportation market.\n",
      "In 2021, KMG produced 21.651 million tons of oil and 8.1 billion cubic meters of associated gas and natural gas. Besides its exploration activities, KMG operates the four largest refineries in Kazakhstan and two in Romania.\n",
      "The initial public offering (IPO) of KMG shares will take place on the platforms of Astana International Exchange (AIX) and KASE (The Kazakhstan Stock Exchange). The fund and KMG have hired investment banks to prepare the listing.\n",
      "“The main point of our development strategy is the reduction of the share of Samruk Kazyna in the local economy and the implementation of our comprehensive privatization plan. In February this year, the government approved new criteria for our assets to be included in the list of the privatization program. The philosophy of this criteria is based on the idea to promote an inclusive economy and create competitive markets,” said Satkaliyev at the Astana Finance Days on June 28. He noted KMG’s huge potential in terms of development and the energy transition.\n",
      "Speaking about other plans for IPO, Satkaliyev said Air Astana is most ready, but considering the current geopolitical situation, conducting Air Astana IPO this year will not be effective.\n",
      "There is a possibility of QazaqGas national company, which is in charge of natural gas transport via main gas pipelines, international transit, and sale of natural gas on domestic and foreign markets, going public in 2023.\n",
      "“The company is young and ambitious,” he said. “The company, however, needs to focus on the growth in the resource base and implementation of large infrastructure projects.”\n",
      "Addressing the Astana International Financial Centre management council meeting on June 2, President Kassym-Jomart Tokayev emphasized all citizens should have equal opportunity to buy shares of national companies, including through digital platforms. It is one of the ways to form an investment culture among people.\n",
      "“To involve the general population, we plan to use Kazpost’s [national post company] digital infrastructure, exchanges and brokers. For example, it will be possible to buy shares without leaving home, using mobile applications, and for remote regions – to use the services of Kazpost offices,” said Satkaliyev.\n",
      "KMG is among 25 companies from Samruk Kazyna included in the nation’s privatization plan for 2021-2025. Overall, the plan, which is 35 percent complete as of 2021, includes 721 state-owned enterprises.\n",
      "Privatization has been a long effort for Kazakhstan. Its large-scale privatization plan for 2016-2020 was fully implemented. The share of the state’s involvement in the economy went down from 19 percent in 2015 to 14.6 percent in 2021.\n",
      "In November 2018, Kazatomprom, the world’s leading uranium producer and one of the Samruk Kazyna assets, placed 15 percent of its shares worth $451 million on the London Stock Exchange and AIX becoming the first national company listed on an international stock exchange. Back then, its shares were purchased by 49 foreign and 17 local companies and 2,700 Kazakh citizens.\n",
      "\n"
     ]
    },
    {
     "name": "stderr",
     "output_type": "stream",
     "text": [
      "convert squad examples to features: 100%|██████████| 1/1 [00:00<00:00, 18.89it/s]\n",
      "add example index and unique id: 100%|██████████| 1/1 [00:00<00:00, 19508.39it/s]\n"
     ]
    },
    {
     "data": {
      "application/vnd.jupyter.widget-view+json": {
       "model_id": "f908f14d72a146d383eb864f6a4c09d0",
       "version_major": 2,
       "version_minor": 0
      },
      "text/plain": [
       "Running Prediction:   0%|          | 0/1 [00:00<?, ?it/s]"
      ]
     },
     "metadata": {},
     "output_type": "display_data"
    },
    {
     "name": "stderr",
     "output_type": "stream",
     "text": [
      "2022-07-15 13:42:32,668 - 322050 - simpletransformers.question_answering.question_answering_model - INFO -  Converting to features started.\n"
     ]
    },
    {
     "name": "stdout",
     "output_type": "stream",
     "text": [
      "\n",
      "Nutraceutical player Sami-Sabinsa to invest ₹300 crore for two new manufacturing facilities\n",
      " Sami-Sabinsa Group Limited, a nutraceutical company, will be building two additional manufacturing units with an investment of ₹300 crore in Hassan, Karnataka, within a year. The company expects to strengthen its position in the Indian and overseas markets with additional production capacities.“Our first facility would be operational within three months; the other is scheduled before we close the FY23. The objective is to enhance our production capacity in the nutritional fine chemicals and herbal extract segments. The two units together have a production capacity of producing 50 tonnes of ingredients per month,” said Muhammed Majeed, Founder and Chairman, Sami-Sabinsa Group.Although the company’s herbal extract product line contributes up to 60 per cent to the overall revenue of ₹1200 crore it clocked in FY22, Majeed believes that the nutritional fine chemical segment is expected to register growth in the coming years. “Going forward, the fine chemicals will take a major leap because we have new capacity coming up now.” Currently, nutritional fine chemicals contribute about 10 per cent to the company’s annual revenue. The other two product lines include probiotics (20 per cent) and cosmeceuticals (10 per cent).While there are no new product launches scheduled for this year, the company has other plans. Majeed said, “There are 300 patents in the pipeline. Every patent is a product and we launch new products every alternate year.” The nutraceutical player has 380 patents on its name. Sami Sabinsa is an export-oriented company with 95 per cent of its business coming from exports. However, the Indian market is essential as it has more volume. “The Indian market is highly price-sensitive, so here the products are priced at just one-sixth of the US price. India offers much bigger volumes,” Majeed added. The company said it expects revenue to increase by at least 20 per cent in the FY23. The company has a headcount of 1200 employees across its six facilities and plans to add 300 people more by end of FY23. Launching its IPOSami-Sabsina is also examining a initial public offering (IPO). “Within two years the company will launch its initial public offering (IPO), post which we would proceed with our acquisition plans,” he added, stating, “in the last 34 years, the company has established itself organically and feels market-based acquisition to be the key to moving forward.”The prospective companies being examined by Sami-Sabinsa for acquisition would be in the areas of manufacturing and marketing with shelf space across the globe. “The money raised from the IPO will go into acquisition and we will look for a company that has a manufacturing and market space in Europe, the US, and Dubai,” said the founder. The Sami-Sabinsa group’s manufacturing facilities are located in Bengaluru, Hyderabad, and Utah (USA). It has a global footprint with a presence in the US, Australia, Brazil, Canada, China, Germany, India, Japan, South Africa, South Korea, and several more. \n",
      "Published on\n",
      "\n",
      "July 13, 2022\n",
      "companiesmanufacturing\n",
      "SHARE\n",
      "COMMENTS\n",
      "Comments will be moderated by The Hindu editorial team.\n",
      "\n",
      "Comments that are abusive, personal, incendiary or irrelevant cannot be published.\n",
      "\n",
      "Please write complete sentences. Do not type comments in all capital letters, or in all lower case letters,\n",
      "or using abbreviated text. (example: u cannot substitute for you, d is not 'the', n is not 'and').\n",
      "\n",
      "We may remove hyperlinks within comments.\n",
      "\n",
      "Please use a genuine email ID and provide your name, to avoid rejection.\n",
      "\n"
     ]
    },
    {
     "name": "stderr",
     "output_type": "stream",
     "text": [
      "convert squad examples to features: 100%|██████████| 1/1 [00:00<00:00, 30.48it/s]\n",
      "add example index and unique id: 100%|██████████| 1/1 [00:00<00:00, 13573.80it/s]\n"
     ]
    },
    {
     "data": {
      "application/vnd.jupyter.widget-view+json": {
       "model_id": "410a6aaf7096414d91927ff966d48a73",
       "version_major": 2,
       "version_minor": 0
      },
      "text/plain": [
       "Running Prediction:   0%|          | 0/1 [00:00<?, ?it/s]"
      ]
     },
     "metadata": {},
     "output_type": "display_data"
    },
    {
     "name": "stderr",
     "output_type": "stream",
     "text": [
      "2022-07-15 13:42:33,459 - 322050 - simpletransformers.question_answering.question_answering_model - INFO -  Converting to features started.\n"
     ]
    },
    {
     "name": "stdout",
     "output_type": "stream",
     "text": [
      "Underwriting: The risk-assessment process used in everything from IPOs to life insurance     … , often in the form of initial public offerings (ipos) by an underwriter (bank). … sell securities to fund the ipo.   how long does underwriting …  as part of the ipo process typically happens within  … is not complete until the ipo is complete.   the financial … \n"
     ]
    },
    {
     "name": "stderr",
     "output_type": "stream",
     "text": [
      "convert squad examples to features: 100%|██████████| 1/1 [00:00<00:00, 224.14it/s]\n",
      "add example index and unique id: 100%|██████████| 1/1 [00:00<00:00, 10754.63it/s]\n"
     ]
    },
    {
     "data": {
      "application/vnd.jupyter.widget-view+json": {
       "model_id": "cab86a45c2e04620a66bf6a3e1e0dd1e",
       "version_major": 2,
       "version_minor": 0
      },
      "text/plain": [
       "Running Prediction:   0%|          | 0/1 [00:00<?, ?it/s]"
      ]
     },
     "metadata": {},
     "output_type": "display_data"
    },
    {
     "name": "stderr",
     "output_type": "stream",
     "text": [
      "2022-07-15 13:42:34,061 - 322050 - simpletransformers.question_answering.question_answering_model - INFO -  Converting to features started.\n"
     ]
    },
    {
     "name": "stdout",
     "output_type": "stream",
     "text": [
      "Chinese fast-fashion company Shein seeks U.S. IPO as soon as 2024, report says  …  shein hopes to do an initial public offering in the united states as …  be an obstacle to an ipo, according to the report. previously … , shein had sought a 2022 ipo in the u.s., according …\n"
     ]
    },
    {
     "name": "stderr",
     "output_type": "stream",
     "text": [
      "convert squad examples to features: 100%|██████████| 1/1 [00:00<00:00, 699.98it/s]\n",
      "add example index and unique id: 100%|██████████| 1/1 [00:00<00:00, 6105.25it/s]\n"
     ]
    },
    {
     "data": {
      "application/vnd.jupyter.widget-view+json": {
       "model_id": "e88cdb4ef59547869b87c4d2b3f06d37",
       "version_major": 2,
       "version_minor": 0
      },
      "text/plain": [
       "Running Prediction:   0%|          | 0/1 [00:00<?, ?it/s]"
      ]
     },
     "metadata": {},
     "output_type": "display_data"
    },
    {
     "name": "stderr",
     "output_type": "stream",
     "text": [
      "2022-07-15 13:42:34,608 - 322050 - simpletransformers.question_answering.question_answering_model - INFO -  Converting to features started.\n"
     ]
    },
    {
     "name": "stdout",
     "output_type": "stream",
     "text": [
      "Discord: Why an IPO Could Be Imminent     … of an initial public offering if that better suits their needs. ipos raise capital … last year's coinbase ipo has fared. sometimes a  … considering buying into a discord ipo.   no one knows for sure … really quickly. analysts forecast an ipo to happen as early as … \n"
     ]
    },
    {
     "name": "stderr",
     "output_type": "stream",
     "text": [
      "convert squad examples to features: 100%|██████████| 1/1 [00:00<00:00, 238.08it/s]\n",
      "add example index and unique id: 100%|██████████| 1/1 [00:00<00:00, 16070.13it/s]\n"
     ]
    },
    {
     "data": {
      "application/vnd.jupyter.widget-view+json": {
       "model_id": "5366de4099da4c658c8b07c76bb773d4",
       "version_major": 2,
       "version_minor": 0
      },
      "text/plain": [
       "Running Prediction:   0%|          | 0/1 [00:00<?, ?it/s]"
      ]
     },
     "metadata": {},
     "output_type": "display_data"
    },
    {
     "name": "stderr",
     "output_type": "stream",
     "text": [
      "2022-07-15 13:42:35,140 - 322050 - simpletransformers.question_answering.question_answering_model - INFO -  Converting to features started.\n"
     ]
    },
    {
     "name": "stdout",
     "output_type": "stream",
     "text": [
      "Kobo Resources Inc. Strengthens Its Technical Team Ahead of the Completion of Its IPO  …  prospectus\") for a proposed initial public offering of units of the corporation …\n"
     ]
    },
    {
     "name": "stderr",
     "output_type": "stream",
     "text": [
      "convert squad examples to features: 100%|██████████| 1/1 [00:00<00:00, 745.12it/s]\n",
      "add example index and unique id: 100%|██████████| 1/1 [00:00<00:00, 13706.88it/s]\n"
     ]
    },
    {
     "data": {
      "application/vnd.jupyter.widget-view+json": {
       "model_id": "d9748480af4b4295944cffd9fc5a85d8",
       "version_major": 2,
       "version_minor": 0
      },
      "text/plain": [
       "Running Prediction:   0%|          | 0/1 [00:00<?, ?it/s]"
      ]
     },
     "metadata": {},
     "output_type": "display_data"
    },
    {
     "name": "stderr",
     "output_type": "stream",
     "text": [
      "2022-07-15 13:42:35,668 - 322050 - simpletransformers.question_answering.question_answering_model - INFO -  Converting to features started.\n"
     ]
    },
    {
     "name": "stdout",
     "output_type": "stream",
     "text": [
      "Brazilian internet provider Vero looks for strategic alternatives after cancelling IPO     … .   vero had to cancel its initial public offering (ipo) in january. following a report … \n"
     ]
    },
    {
     "name": "stderr",
     "output_type": "stream",
     "text": [
      "convert squad examples to features: 100%|██████████| 1/1 [00:00<00:00, 199.00it/s]\n",
      "add example index and unique id: 100%|██████████| 1/1 [00:00<00:00, 13706.88it/s]\n"
     ]
    },
    {
     "data": {
      "application/vnd.jupyter.widget-view+json": {
       "model_id": "f41f6a9416f845dfbdb0d3dfd41bb5d8",
       "version_major": 2,
       "version_minor": 0
      },
      "text/plain": [
       "Running Prediction:   0%|          | 0/1 [00:00<?, ?it/s]"
      ]
     },
     "metadata": {},
     "output_type": "display_data"
    },
    {
     "name": "stderr",
     "output_type": "stream",
     "text": [
      "2022-07-15 13:42:36,190 - 322050 - simpletransformers.question_answering.question_answering_model - INFO -  Converting to features started.\n"
     ]
    },
    {
     "name": "stdout",
     "output_type": "stream",
     "text": [
      "Thai Life Insurance raises $1 billion via IPO  …  raised $1 billion from an initial public offering, the largest share sale by …  also the country’s largest ipo since ngern tid lor pcl …\n"
     ]
    },
    {
     "name": "stderr",
     "output_type": "stream",
     "text": [
      "convert squad examples to features: 100%|██████████| 1/1 [00:00<00:00, 246.03it/s]\n",
      "add example index and unique id: 100%|██████████| 1/1 [00:00<00:00, 4262.50it/s]\n"
     ]
    },
    {
     "data": {
      "application/vnd.jupyter.widget-view+json": {
       "model_id": "b0dd644998694b349f1d94bdb5a029bf",
       "version_major": 2,
       "version_minor": 0
      },
      "text/plain": [
       "Running Prediction:   0%|          | 0/1 [00:00<?, ?it/s]"
      ]
     },
     "metadata": {},
     "output_type": "display_data"
    },
    {
     "name": "stderr",
     "output_type": "stream",
     "text": [
      "2022-07-15 13:42:36,798 - 322050 - simpletransformers.question_answering.question_answering_model - INFO -  Converting to features started.\n"
     ]
    },
    {
     "name": "stdout",
     "output_type": "stream",
     "text": [
      "Opdenergy's IPO gets nod, listing date set for July 22  …  approved the prospectus for the initial public offering (ipo) and listing of shares of …\n"
     ]
    },
    {
     "name": "stderr",
     "output_type": "stream",
     "text": [
      "convert squad examples to features: 100%|██████████| 1/1 [00:00<00:00, 708.26it/s]\n",
      "add example index and unique id: 100%|██████████| 1/1 [00:00<00:00, 9731.56it/s]\n"
     ]
    },
    {
     "data": {
      "application/vnd.jupyter.widget-view+json": {
       "model_id": "cba975ec27184f9e8b1682e9cfa622f7",
       "version_major": 2,
       "version_minor": 0
      },
      "text/plain": [
       "Running Prediction:   0%|          | 0/1 [00:00<?, ?it/s]"
      ]
     },
     "metadata": {},
     "output_type": "display_data"
    },
    {
     "name": "stderr",
     "output_type": "stream",
     "text": [
      "2022-07-15 13:42:37,510 - 322050 - simpletransformers.question_answering.question_answering_model - INFO -  Converting to features started.\n"
     ]
    },
    {
     "name": "stdout",
     "output_type": "stream",
     "text": [
      "NVCA: Report confirms U.S. venture deals tanked and IPOs plummeted in Q2     … traditional initial public offerings (ipos).   spac mergers (special purpose acquisition companies, which bypass ipo  … also concerning because vc-backed ipos have traditionally had an  …  the last three years.   ipos continued to be essentially nonexistent … \n"
     ]
    },
    {
     "name": "stderr",
     "output_type": "stream",
     "text": [
      "convert squad examples to features: 100%|██████████| 1/1 [00:00<00:00, 135.55it/s]\n",
      "add example index and unique id: 100%|██████████| 1/1 [00:00<00:00, 16194.22it/s]\n"
     ]
    },
    {
     "data": {
      "application/vnd.jupyter.widget-view+json": {
       "model_id": "192a0fdf8f47480c8d5e66c121f98f0a",
       "version_major": 2,
       "version_minor": 0
      },
      "text/plain": [
       "Running Prediction:   0%|          | 0/1 [00:00<?, ?it/s]"
      ]
     },
     "metadata": {},
     "output_type": "display_data"
    },
    {
     "name": "stderr",
     "output_type": "stream",
     "text": [
      "2022-07-15 13:42:38,058 - 322050 - simpletransformers.question_answering.question_answering_model - INFO -  Converting to features started.\n"
     ]
    },
    {
     "name": "stdout",
     "output_type": "stream",
     "text": [
      "Kazakhstan’s KazMunayGas to Undertake IPO This Year     …  and two in romania.   the initial public offering (ipo) of kmg shares will take … .   speaking about other plans for ipo, satkaliyev said air astana is …  geopolitical situation, conducting air astana ipo this year will not be … \n"
     ]
    },
    {
     "name": "stderr",
     "output_type": "stream",
     "text": [
      "convert squad examples to features: 100%|██████████| 1/1 [00:00<00:00, 257.79it/s]\n",
      "add example index and unique id: 100%|██████████| 1/1 [00:00<00:00, 12483.05it/s]\n"
     ]
    },
    {
     "data": {
      "application/vnd.jupyter.widget-view+json": {
       "model_id": "5b8e1659c1684ca5982c0934ca543eec",
       "version_major": 2,
       "version_minor": 0
      },
      "text/plain": [
       "Running Prediction:   0%|          | 0/1 [00:00<?, ?it/s]"
      ]
     },
     "metadata": {},
     "output_type": "display_data"
    },
    {
     "name": "stderr",
     "output_type": "stream",
     "text": [
      "2022-07-15 13:42:38,585 - 322050 - simpletransformers.question_answering.question_answering_model - INFO -  Converting to features started.\n"
     ]
    },
    {
     "name": "stdout",
     "output_type": "stream",
     "text": [
      "Mobileye IPO on hold due market conditions, say reports July 12, 2022     …  news   |   july 12, 2022   an initial public offering of shares in intel subsidiary … \n"
     ]
    },
    {
     "name": "stderr",
     "output_type": "stream",
     "text": [
      "convert squad examples to features: 100%|██████████| 1/1 [00:00<00:00, 435.95it/s]\n",
      "add example index and unique id: 100%|██████████| 1/1 [00:00<00:00, 17331.83it/s]\n"
     ]
    },
    {
     "data": {
      "application/vnd.jupyter.widget-view+json": {
       "model_id": "3077730177744457afeed1f66500e8bc",
       "version_major": 2,
       "version_minor": 0
      },
      "text/plain": [
       "Running Prediction:   0%|          | 0/1 [00:00<?, ?it/s]"
      ]
     },
     "metadata": {},
     "output_type": "display_data"
    },
    {
     "name": "stderr",
     "output_type": "stream",
     "text": [
      "2022-07-15 13:42:39,132 - 322050 - simpletransformers.question_answering.question_answering_model - INFO -  Converting to features started.\n"
     ]
    },
    {
     "name": "stdout",
     "output_type": "stream",
     "text": [
      "More Acer-affiliated companies to launch IPOs  …  more of its subsidiaries launch initial public offerings (ipo) by the end of this …\n"
     ]
    },
    {
     "name": "stderr",
     "output_type": "stream",
     "text": [
      "convert squad examples to features: 100%|██████████| 1/1 [00:00<00:00, 482.10it/s]\n",
      "add example index and unique id: 100%|██████████| 1/1 [00:00<00:00, 10356.31it/s]\n"
     ]
    },
    {
     "data": {
      "application/vnd.jupyter.widget-view+json": {
       "model_id": "35b94a5115674b4f805da6fa2bb275fd",
       "version_major": 2,
       "version_minor": 0
      },
      "text/plain": [
       "Running Prediction:   0%|          | 0/1 [00:00<?, ?it/s]"
      ]
     },
     "metadata": {},
     "output_type": "display_data"
    },
    {
     "name": "stderr",
     "output_type": "stream",
     "text": [
      "2022-07-15 13:42:39,677 - 322050 - simpletransformers.question_answering.question_answering_model - INFO -  Converting to features started.\n"
     ]
    },
    {
     "name": "stdout",
     "output_type": "stream",
     "text": [
      "Alternergy Holdings files for P2.1-billion IPO in November  …  p2.1 billion through an ipo that alter plans to list … ’m a big fan of ipos that raise money to build …  coverage of the other recent ipo announcement, orca cold storage [orca …  the potential value of this ipo is going to be heavily …\n"
     ]
    },
    {
     "name": "stderr",
     "output_type": "stream",
     "text": [
      "convert squad examples to features: 100%|██████████| 1/1 [00:00<00:00, 268.68it/s]\n",
      "add example index and unique id: 100%|██████████| 1/1 [00:00<00:00, 10230.01it/s]\n"
     ]
    },
    {
     "data": {
      "application/vnd.jupyter.widget-view+json": {
       "model_id": "4105469f15d14a218c2ab311c08a03ff",
       "version_major": 2,
       "version_minor": 0
      },
      "text/plain": [
       "Running Prediction:   0%|          | 0/1 [00:00<?, ?it/s]"
      ]
     },
     "metadata": {},
     "output_type": "display_data"
    },
    {
     "name": "stderr",
     "output_type": "stream",
     "text": [
      "2022-07-15 13:42:40,186 - 322050 - simpletransformers.question_answering.question_answering_model - INFO -  Converting to features started.\n"
     ]
    },
    {
     "name": "stdout",
     "output_type": "stream",
     "text": [
      "Should You Accept Stock In Lieu Of A Higher Salary? Financial Experts Weigh In.  …  has not yet undertaken an initial public offering (ipo), figuring out the value of …  that have come out of ipos, that’s 99.9% a … , but most companies don’t ipo ... statistically, your options are  …  the stock going before it ipos?” is another good question to …\n"
     ]
    },
    {
     "name": "stderr",
     "output_type": "stream",
     "text": [
      "convert squad examples to features: 100%|██████████| 1/1 [00:00<00:00, 136.88it/s]\n",
      "add example index and unique id: 100%|██████████| 1/1 [00:00<00:00, 11214.72it/s]\n"
     ]
    },
    {
     "data": {
      "application/vnd.jupyter.widget-view+json": {
       "model_id": "d6cdf7d7d61d40a1a96979173307c526",
       "version_major": 2,
       "version_minor": 0
      },
      "text/plain": [
       "Running Prediction:   0%|          | 0/1 [00:00<?, ?it/s]"
      ]
     },
     "metadata": {},
     "output_type": "display_data"
    },
    {
     "name": "stderr",
     "output_type": "stream",
     "text": [
      "2022-07-15 13:42:40,706 - 322050 - simpletransformers.question_answering.question_answering_model - INFO -  Converting to features started.\n"
     ]
    },
    {
     "name": "stdout",
     "output_type": "stream",
     "text": [
      "Why we are in a season of IPO drought MUMBAI : There is a lull of initial public offerings (IPOs) after a storm last year. Consolidation over the past few months have made it tough for companies wanting to tap the capital markets to raise funds. As a result, there has been a dearth of IPOs for more than a month. This is the longest dry spell since May 2021, the only month in last year’s IPO boom when no public issue hit the primary markets.\n",
      "\n",
      "The quiet phase is mainly because of intensifying geopolitical tensions, rising inflation worries, and global growth concerns that have rattled the equity markets.\n",
      "\n",
      "View Full Image IPO lull\n",
      "\n",
      "There is no new IPO in sight. However, whether this phase can be longer than the lockdown-induced lacuna of the June 2020 quarter depends on when stability returns to the markets. The IPO pipeline is still strong as issues worth ₹1.06 trillion have already received the regulator’s approval. However, companies are hesitant to launch IPOs in this jittery market.\n",
      "\n",
      "“As things stand presently, volatility in the market does not show any sign of abating and the overall mood is also bearish,\" said Pranav Haldea, managing director, PRIME Database Group. “In such markets, typically and historically, companies do not like to launch their IPO,\" Haldea said.\n",
      "\n",
      "Both retail and institutional investors had thronged the primary markets soon after the crash that came as a result of the pandemic. Consequently, IPO fundraising reached a record ₹1.2 trillion in 2021. The euphoria has, however, been ebbing since the beginning of 2022, though some heavy lifting has been done by the biggest public issue, that of the Life Insurance Corporation of India.\n",
      "\n",
      "Yet, the public equity fundraising scenario is not totally gloomy as the June quarter saw 10 public issues compared to six in the corresponding period last fiscal.\n",
      "\n",
      "“It’s been just a month or so that has not seen any IPO activity. We don’t believe that the IPO market has completely dried up,\" said Prashant Rao, director and head, equity capital markets, Anand Rathi Investment Banking. “That being said, it is a challenging time and companies with approvals in hand are waiting for the right window of opportunity to launch,\" he said.\n",
      "\n",
      "Meanwhile, corporate fundraising looks challenging against the backdrop of a highly volatile stock market and rising interest rates.\n",
      "\n",
      "“There have been some market challenges as well as some performance pressure with companies that launched IPOs recently. Hence, some investors are wary of new IPO opportunities. Many companies are already in talks for alternative sources of financing till the time the IPO market opens up,\" Rao said.\n"
     ]
    },
    {
     "name": "stderr",
     "output_type": "stream",
     "text": [
      "convert squad examples to features: 100%|██████████| 1/1 [00:00<00:00, 41.74it/s]\n",
      "add example index and unique id: 100%|██████████| 1/1 [00:00<00:00, 13842.59it/s]\n"
     ]
    },
    {
     "data": {
      "application/vnd.jupyter.widget-view+json": {
       "model_id": "be22ea09660540b5a1385b61be68b89a",
       "version_major": 2,
       "version_minor": 0
      },
      "text/plain": [
       "Running Prediction:   0%|          | 0/1 [00:00<?, ?it/s]"
      ]
     },
     "metadata": {},
     "output_type": "display_data"
    },
    {
     "name": "stderr",
     "output_type": "stream",
     "text": [
      "2022-07-15 13:42:41,340 - 322050 - simpletransformers.question_answering.question_answering_model - INFO -  Converting to features started.\n"
     ]
    },
    {
     "name": "stdout",
     "output_type": "stream",
     "text": [
      "Chinese fast-fashion company Shein seeks U.S. IPO as soon as 2024, report says Two people hold two Shein bags after entering SHEIN's first physical store in Madrid, Spain, June 2, 2022.\n",
      "\n",
      "Chinese fast-fashion giant Shein hopes to do an initial public offering in the United States as soon as 2024, according to a report from Bloomberg, which cited people familiar with the matter.\n",
      "\n",
      "Yet it faces environmental, social and governance, or ESG, concerns that could be an obstacle to an IPO, according to the report. Previously, Shein had sought a 2022 IPO in the U.S., according to Reuters.\n",
      "\n",
      "Shein, which has a $100 billion valuation, has drawn scrutiny for its cheap product line that has been built on a fast and prolific production chain. A probe by Swiss watchdog group Public Eye said some of Shein's manufacturers have been subjecting employees to dangerous conditions and 75-hour workweeks.\n",
      "\n",
      "While these concerns have not dissuaded large investors such as Sequoia Capital China, IDG Capital, and Tiger Global Management, recent executive moves within Shein appear to focus on improving their ESG appearance in preparation for a public offering, according to Bloomberg.\n",
      "\n",
      "Shein didn't immediately respond to CNBC's request for comment.\n",
      "\n",
      "Critics still take issue with Shein garments short-term wearability, and the criticism has spread to fast-fashion more broadly. A 2019 World Bank report stated that the annual number of new garments produced had doubled from the 50 billion produced in 2000.\n",
      "\n",
      "Read the full story at Bloomberg.\n"
     ]
    },
    {
     "name": "stderr",
     "output_type": "stream",
     "text": [
      "convert squad examples to features: 100%|██████████| 1/1 [00:00<00:00, 56.71it/s]\n",
      "add example index and unique id: 100%|██████████| 1/1 [00:00<00:00, 20763.88it/s]\n"
     ]
    },
    {
     "data": {
      "application/vnd.jupyter.widget-view+json": {
       "model_id": "3f212362ff904615b157dc9cda08e62c",
       "version_major": 2,
       "version_minor": 0
      },
      "text/plain": [
       "Running Prediction:   0%|          | 0/1 [00:00<?, ?it/s]"
      ]
     },
     "metadata": {},
     "output_type": "display_data"
    },
    {
     "name": "stderr",
     "output_type": "stream",
     "text": [
      "2022-07-15 13:42:41,885 - 322050 - simpletransformers.question_answering.question_answering_model - INFO -  Converting to features started.\n"
     ]
    },
    {
     "name": "stdout",
     "output_type": "stream",
     "text": [
      "Discord: Why an IPO Could Be Imminent Signs point to community chat platform Discord going public soon, which could present investors with a major opportunity. While no official plans have been made yet, here's why an investment in Discord deserves a look.\n",
      "\n",
      "A text, audio and video communication platform originally designed for gamers, Discord was launched in 2015 by avid gaming enthusiasts Jason Citron and Stan Vishnevskiy. Frustrated with slow and complex chat apps of the day, the pair built Discord to provide a simpler and streamlined way to communicate while gaming.\n",
      "\n",
      "Discord soon attracted gamers in droves, who converged on the platform thanks to its low-latency chats and appealing user interface. An immediate success, Discord quickly became the standard chat tool for gamers.\n",
      "\n",
      "Discord's not just for gamers anymore\n",
      "\n",
      "Before long, gamers weren't the only users of Discord. Crypto traders, anime fans, and other interest groups soon joined the ranks of gamers, and Discord reconsidered its position in the market.\n",
      "\n",
      "The COVID-19 lockdown in early 2020 skyrocketed Discord's user base as the general public took to the app to stay in touch with family and friends. In a major marketing shift, Discord changed their slogan from \"Chat for gamers\" to \"Your place to talk\" and opened the floodgates to a much wider audience. In late 2020, Discord reported that 70% of its user base utilized the platform for non-gaming purposes.\n",
      "\n",
      "By 2021, Discord's registered users reached 350 million. Previously the app of choice for gaming and crypto communities, Discord is now the industry standard for nerdy discussion of all types. And its loyal, cult-like user base continues to grow.\n",
      "\n",
      "Discord has shown substantial growth\n",
      "\n",
      "Discord's user base has grown steadily, with its monthly active users jumping from 9 million to 140 million between 2017 and 2021. But that acceleration appears to have slowed, with only 150 million current monthly active users reported in 2022.\n",
      "\n",
      "As for revenue, Discord doesn't disclose this information as a privately held company. Still, estimates show it brought in revenues of $130 million in 2020, a year-over-year increase of 188% from 2019's estimate of $45 million.\n",
      "\n",
      "The company has also grown by way of acquisitions, picking up three new companies in the past four years. The Blitz App, where users can earn money playing games, was acquired back in 2018. In 2021, Discord bought augmented reality pioneer Ubiquity6 as well as Sentropy Technologies, which detects and deters harmful content.\n",
      "\n",
      "Discord doesn't use ads, no doubt a contributing factor to its popularity, but rather makes money through its Nitro subscription plans. Discord is free for the basic version with standard functionality. Nitro and Nitro Classic, a cheaper option with fewer benefits, enhance Discord's experience by unlocking additional features and tools. Many of these features are geared for serious gamers, a niche but ever-expanding and global market. Nitro is offered at $9.99 a month or $99.99 a year, and Nitro Classic runs $4.99 a month or $49.99 a year.\n",
      "\n",
      "Discord has already carved itself a niche in the market with its universal app that works on all mobile and desktop systems. Now practically a household name, a Discord IPO could draw a lot of attention.\n",
      "\n",
      "Signs Discord is looking to go public\n",
      "\n",
      "In September 2021, Discord raised $500 million in a funding round that valued the company at a whopping $15 billion. This doubled its previous valuation of $7.3 billion in December. 2020.\n",
      "\n",
      "The company hasn't officially confirmed its intention to go public, and whether it will be via an IPO or direct listing. In March, Discord is reported to have held interviews with investment bankers to discuss the possibility of a direct listing.\n",
      "\n",
      "But they might also decide to go the route of an initial public offering if that better suits their needs. IPOs raise capital by issuing new shares, but come with underwriting fees and often volatile price movement when they first hit the market. In a direct listing, only existing shares are sold, but it's a much quicker and cheaper process for the company.\n",
      "\n",
      "In early 2021, Microsoft is said to have offered $12 billion to buy out Discord, but the offer was turned down. Amazon, Twitter and Epic Games have also reportedly offered to buy out Discord in the past.\n",
      "\n",
      "Instead of entertaining offers, Discord hired former Pinterest executive Tomasz Marcinkowski as its first-ever CFO. Since Marcinkowski led Pinterest's successful IPO in 2019, this move was seen as a strategic step toward IPOing.\n",
      "\n",
      "To serve as COO, Discord snagged Liz Hamren away from Microsoft last December. Other recent company additions include former Netflix executive Leslie Kilgore and former Block CFO Amrita Ahuja to its board of directors. Recruiting this top-level talent from public companies has some analysts concluding that Discord plans to go public.\n",
      "\n",
      "Reasons to proceed with caution\n",
      "\n",
      "IPOs are sometimes easy to get excited about, since fans and enthusiasts often can't wait to get a piece of their favorite companies. However, let's not forget how last year's Coinbase IPO has fared. Sometimes a company's initial price at offering is far more than what the market considers a fair value. Video game investors should keep this in mind when considering buying into a Discord IPO.\n",
      "\n",
      "No one knows for sure what will happen, but if the company can keep its momentum up, a Discord IPO or direct listing could be worth preparing for. Once an announcement is made, things could move really quickly. Analysts forecast an IPO to happen as early as the second half of 2022.\n"
     ]
    },
    {
     "name": "stderr",
     "output_type": "stream",
     "text": [
      "convert squad examples to features: 100%|██████████| 1/1 [00:00<00:00, 20.79it/s]\n",
      "add example index and unique id: 100%|██████████| 1/1 [00:00<00:00, 7157.52it/s]\n"
     ]
    },
    {
     "data": {
      "application/vnd.jupyter.widget-view+json": {
       "model_id": "7d3d578a66fe443fa11d2ce3775ebcde",
       "version_major": 2,
       "version_minor": 0
      },
      "text/plain": [
       "Running Prediction:   0%|          | 0/1 [00:00<?, ?it/s]"
      ]
     },
     "metadata": {},
     "output_type": "display_data"
    },
    {
     "name": "stderr",
     "output_type": "stream",
     "text": [
      "2022-07-15 13:42:42,940 - 322050 - simpletransformers.question_answering.question_answering_model - INFO -  Converting to features started.\n"
     ]
    },
    {
     "name": "stdout",
     "output_type": "stream",
     "text": [
      "Brazilian internet provider Vero looks for strategic alternatives after cancelling IPO SAO PAULO, July 14 (Reuters) - Brazilian internet provider Vero, controlled by investment firm Vinci Partners Investments , confirmed on Thursday in a securities filing it had hired investment bank Itau BBA to consider strategic alternatives.Vero had to cancel its initial public offering (IPO) in January. Following a report by Brazilian newspaper O Estado de S. Paulo saying Vinci was discussing a potential stake sale to Fibrasil, owned by telecom company Telefonica SA (TEF.MC), its subsidiary Telefonica Brasil (VIVT3.SA) and Canadian pension fund CDPQ, Vero said the company was in talks with \"several investors about potential strategic transactions\", but shareholders have not yet decided on a specific deal.O Estado de S.Paulo report said Vero would be valued at around 4 billion reais ($733 million).($1 = 5.4561 reais)Register now for FREE unlimited access to Reuters.comRegisterReporting by Tatiana Bautzer; editing by David EvansOur Standards: The Thomson Reuters Trust Principles.\n"
     ]
    },
    {
     "name": "stderr",
     "output_type": "stream",
     "text": [
      "convert squad examples to features: 100%|██████████| 1/1 [00:00<00:00, 60.33it/s]\n",
      "add example index and unique id: 100%|██████████| 1/1 [00:00<00:00, 9939.11it/s]\n"
     ]
    },
    {
     "data": {
      "application/vnd.jupyter.widget-view+json": {
       "model_id": "5660d99ad89b437bb0150353f980743a",
       "version_major": 2,
       "version_minor": 0
      },
      "text/plain": [
       "Running Prediction:   0%|          | 0/1 [00:00<?, ?it/s]"
      ]
     },
     "metadata": {},
     "output_type": "display_data"
    },
    {
     "name": "stderr",
     "output_type": "stream",
     "text": [
      "2022-07-15 13:42:43,581 - 322050 - simpletransformers.question_answering.question_answering_model - INFO -  Converting to features started.\n"
     ]
    },
    {
     "name": "stdout",
     "output_type": "stream",
     "text": [
      "Burned Twitter deal bankers see silver lining in Musk's startups July 14 (Reuters) - Wall Street's top investment banks that stand to lose lucrative fees from Elon Musk abandoning his $44 billion acquisition of Twitter Inc hope the start-ups backed by the world's richest person will make up for the lost business.Musk has been one of Wall Street's biggest patrons, doling out nearly $500 million in fees to investment banks such as Goldman Sachs Group Inc and Morgan Stanley since 2000, mostly for work on Tesla Inc , according to an estimate by Refinitiv.This estimate does not include Musk's privately held start-ups SpaceX, Neuralink and The Boring Company. Bankers said these companies have paid tens of millions of dollars in investment banking fee revenue over the years for their capital raisings.Register now for FREE unlimited access to Reuters.comRegisterThe bankers, who spoke about their business prospects with Musk on condition of not being identified, said they would pursue some of these opportunities, including roles in any initial public offerings these companies may pursue down the line.Goldman Sachs and Morgan Stanley did not immediately respond to a request for comment.For an interactive graphic, click here: https://tmsnrt.rs/3AMwve2According to an earlier regulatory filing, Twitter's financial advisors Goldman Sachs and JPMorgan Chase would receive fees amounting to a total of $133 million.According to estimates from Refinitiv, Morgan Stanley and the other financial advisors stand to make over $55 million from advising Musk, while the banks providing acquisition financing would stand to receive anywhere between $150 million to $200 million.This is not the first time bankers have been let down by Musk in an acquisition. He also reneged on his plan to take Tesla private for $72 billion in 2018 after publicly announcing that he had the \"funding secured\".SpaceX was most recently valued at a whopping $125 billion, making it one of the world's most richly valued private companies. It is expected to go public at a significantly higher valuation, according to IPO bankers and lawyers.SpaceX did not immediately respond to a request for comment.To be sure, there is no guarantee that banks will lose out on the fees. This is because Twitter has sued Musk in a Delaware court to force him to complete the deal.Register now for FREE unlimited access to Reuters.comRegisterReporting by Anirban Sen in New York; Editing by Stephen CoatesOur Standards: The Thomson Reuters Trust Principles.\n"
     ]
    },
    {
     "name": "stderr",
     "output_type": "stream",
     "text": [
      "convert squad examples to features: 100%|██████████| 1/1 [00:00<00:00, 46.11it/s]\n",
      "add example index and unique id: 100%|██████████| 1/1 [00:00<00:00, 3554.49it/s]\n"
     ]
    },
    {
     "data": {
      "application/vnd.jupyter.widget-view+json": {
       "model_id": "6afb24ac66ea4b67b2e7da8bbf7a730b",
       "version_major": 2,
       "version_minor": 0
      },
      "text/plain": [
       "Running Prediction:   0%|          | 0/1 [00:00<?, ?it/s]"
      ]
     },
     "metadata": {},
     "output_type": "display_data"
    },
    {
     "name": "stderr",
     "output_type": "stream",
     "text": [
      "2022-07-15 13:42:44,300 - 322050 - simpletransformers.question_answering.question_answering_model - INFO -  Converting to features started.\n"
     ]
    },
    {
     "name": "stdout",
     "output_type": "stream",
     "text": [
      "Russian cen bank considering sale of entire Otkritie Group to VTB -Vedomosti SummaryCompaniesThis content was produced in Russia where the law restricts coverage of Russian military operations in UkraineMOSCOW, July 14 (Reuters) - Russia's central bank said it may go one step further in its sale of Otkritie Bank by selling the bailed out lender's wider group, which includes pension fund and insurance assets, to VTB Bank (VTBR.MM), the Vedomosti daily reported.\"We are now considering selling Otkritie Group to VTB,\" Vedomosti quoted Central Bank First Deputy Governor Vladimir Chistyukhin as saying in an interview published on Thursday.The group unites the bank, non-state pension fund (NPF) Otkritie, insurance asset Rosgosstrakh and a number of other companies, Chistyukhin said.Register now for FREE unlimited access to Reuters.comRegisterThe central bank took control of Otkritie, once Russia's largest private lender, five years ago in a clean-up of the banking sector. It says it has fixed the bank's toxic assets.Before Russia started what it calls a special military operation in Ukraine on Feb. 24, the central bank had considered selling Otkritie to investors via an initial public offering (IPO).The central bank now wants to sell Otkritie group to VTB at a market price, Chistyukhin said without disclosing details.Register now for FREE unlimited access to Reuters.comRegisterReporting by Reuters; editing by David EvansOur Standards: The Thomson Reuters Trust Principles.\n"
     ]
    },
    {
     "name": "stderr",
     "output_type": "stream",
     "text": [
      "convert squad examples to features: 100%|██████████| 1/1 [00:00<00:00, 66.53it/s]\n",
      "add example index and unique id: 100%|██████████| 1/1 [00:00<00:00, 10381.94it/s]\n"
     ]
    },
    {
     "data": {
      "application/vnd.jupyter.widget-view+json": {
       "model_id": "8070a3dc3ade4e92841f162cb3451d7f",
       "version_major": 2,
       "version_minor": 0
      },
      "text/plain": [
       "Running Prediction:   0%|          | 0/1 [00:00<?, ?it/s]"
      ]
     },
     "metadata": {},
     "output_type": "display_data"
    },
    {
     "name": "stderr",
     "output_type": "stream",
     "text": [
      "2022-07-15 13:42:45,030 - 322050 - simpletransformers.question_answering.question_answering_model - INFO -  Converting to features started.\n"
     ]
    },
    {
     "name": "stdout",
     "output_type": "stream",
     "text": [
      "Spain's Opdenergy plans market debut on July 22 MADRID, July 14 (Reuters) - Spanish renewable power group Opdenergy plans to start trading on July 22 following the approval of its initial public offering by the supervisor, the company said in a statement late on Wednesday.Opdenergy's is planning to set its final price on July 21 after previously determining a price range at between 4.75 euros and 5.40 euros ($4.75 and $5.40) per share, valuing the business at up to 572 million euros ($572.5 million) before the offering of new shares, the company said.Opdenergy, which operates solar parks in Europe and Latin America, hopes to raise 200 million euros to finance its business plan through 2025.  read more ($1 = 0.9994 euros)Register now for FREE unlimited access to Reuters.comRegisterReporting by Christina Thykjaer; editing by Jesús AguadoOur Standards: The Thomson Reuters Trust Principles.\n"
     ]
    },
    {
     "name": "stderr",
     "output_type": "stream",
     "text": [
      "convert squad examples to features: 100%|██████████| 1/1 [00:00<00:00, 97.57it/s]\n",
      "add example index and unique id: 100%|██████████| 1/1 [00:00<00:00, 15947.92it/s]\n"
     ]
    },
    {
     "data": {
      "application/vnd.jupyter.widget-view+json": {
       "model_id": "93169259c9fe40aab80c0ab9cbe0dcb4",
       "version_major": 2,
       "version_minor": 0
      },
      "text/plain": [
       "Running Prediction:   0%|          | 0/1 [00:00<?, ?it/s]"
      ]
     },
     "metadata": {},
     "output_type": "display_data"
    },
    {
     "name": "stderr",
     "output_type": "stream",
     "text": [
      "2022-07-15 13:42:45,608 - 322050 - simpletransformers.question_answering.question_answering_model - INFO -  Converting to features started.\n"
     ]
    },
    {
     "name": "stdout",
     "output_type": "stream",
     "text": [
      "Spain's Opdenergy plans market debut on July 22 MADRID, July 14 (Reuters) - Spanish renewable power group Opdenergy plans to start trading on July 22 following the approval of its initial public offering by the supervisor, the company said in a statement late on Wednesday.Opdenergy's is planning to set its final price on July 21 after previously determining a price range at between 4.75 euros and 5.40 euros ($4.75 and $5.40) per share, valuing the business at up to 572 million euros ($572.5 million) before the offering of new shares, the company said.Opdenergy, which operates solar parks in Europe and Latin America, hopes to raise 200 million euros to finance its business plan through 2025.  read more ($1 = 0.9994 euros)Register now for FREE unlimited access to Reuters.comRegisterReporting by Christina Thykjaer; editing by Jesús AguadoOur Standards: The Thomson Reuters Trust Principles.\n"
     ]
    },
    {
     "name": "stderr",
     "output_type": "stream",
     "text": [
      "convert squad examples to features: 100%|██████████| 1/1 [00:00<00:00, 79.81it/s]\n",
      "add example index and unique id: 100%|██████████| 1/1 [00:00<00:00, 11683.30it/s]\n"
     ]
    },
    {
     "data": {
      "application/vnd.jupyter.widget-view+json": {
       "model_id": "f198963412d647a28a4a45dccc7c8891",
       "version_major": 2,
       "version_minor": 0
      },
      "text/plain": [
       "Running Prediction:   0%|          | 0/1 [00:00<?, ?it/s]"
      ]
     },
     "metadata": {},
     "output_type": "display_data"
    },
    {
     "name": "stderr",
     "output_type": "stream",
     "text": [
      "2022-07-15 13:42:46,161 - 322050 - simpletransformers.question_answering.question_answering_model - INFO -  Converting to features started.\n"
     ]
    },
    {
     "name": "stdout",
     "output_type": "stream",
     "text": [
      "Home gym Tonal tones up for IPO or recessions by shedding 35% of workforce \n",
      "Tonal, the rival of Peloton which is backed by athlete Serena Williams and Amazon’s Alexa fund, has slashed 35% of its workforce as it prepares for possible recession and an initial public offer.\n",
      "The fitness equipment maker joins a list of companies, including Peloton Interactive (NASDAQ:PTON), reducing head count to reduce expenses.\n",
      "Aly Orady, Tonal's chief executive, said the company is trying to become profitable so that it can go public, and that it currently employs 750 people, up from about 110 before the Covid-19 pandemic.\n",
      "As the company considers an IPO, Orady stressed the need for profitability, adding the company hasn't been profitable in the past but the job cuts would put the company on track to make money within a few months.\n",
      "All impacted employees will receive a minimum of eight weeks of continued pay, as well as health-care benefits through September, Tonal said.\n",
      "During the pandemic with consumers stuck at home and searching for ways to exercise, Tonal registered rampant growth in 2020 and 2021.\n",
      "By partnering with star athletes like LeBron James and Williams, Tonal was also able to increase its brand awareness. \n",
      "A total of US$450mln has been raised to date, with the company valued at US$1.6bn at one point in 2021.\n",
      "For now, Tonal is putting the brakes on, with the CEO saying, \"As we head into a recession, and many of us believe we’re headed into a recession, it’s really important that we become a business that’s here for the long term. What we’re doing is effectively going from a hypergrowth business ... to more of a sustained-growth business.\"\n",
      "\n"
     ]
    },
    {
     "name": "stderr",
     "output_type": "stream",
     "text": [
      "convert squad examples to features: 100%|██████████| 1/1 [00:00<00:00, 67.62it/s]\n",
      "add example index and unique id: 100%|██████████| 1/1 [00:00<00:00, 14217.98it/s]\n"
     ]
    },
    {
     "data": {
      "application/vnd.jupyter.widget-view+json": {
       "model_id": "4e905aaa98b94613ad8ed69e65bfa651",
       "version_major": 2,
       "version_minor": 0
      },
      "text/plain": [
       "Running Prediction:   0%|          | 0/1 [00:00<?, ?it/s]"
      ]
     },
     "metadata": {},
     "output_type": "display_data"
    },
    {
     "name": "stderr",
     "output_type": "stream",
     "text": [
      "2022-07-15 13:42:46,825 - 322050 - simpletransformers.question_answering.question_answering_model - INFO -  Converting to features started.\n"
     ]
    },
    {
     "name": "stdout",
     "output_type": "stream",
     "text": [
      "Burned Twitter deal bankers see silver lining in Musk's startups July 14 (Reuters) - Wall Street's top investment banks that stand to lose lucrative fees from Elon Musk abandoning his $44 billion acquisition of Twitter Inc hope the start-ups backed by the world's richest person will make up for the lost business.Musk has been one of Wall Street's biggest patrons, doling out nearly $500 million in fees to investment banks such as Goldman Sachs Group Inc and Morgan Stanley since 2000, mostly for work on Tesla Inc , according to an estimate by Refinitiv.This estimate does not include Musk's privately held start-ups SpaceX, Neuralink and The Boring Company. Bankers said these companies have paid tens of millions of dollars in investment banking fee revenue over the years for their capital raisings.Register now for FREE unlimited access to Reuters.comRegisterThe bankers, who spoke about their business prospects with Musk on condition of not being identified, said they would pursue some of these opportunities, including roles in any initial public offerings these companies may pursue down the line.Goldman Sachs and Morgan Stanley did not immediately respond to a request for comment.For an interactive graphic, click here: https://tmsnrt.rs/3AMwve2According to an earlier regulatory filing, Twitter's financial advisors Goldman Sachs and JPMorgan Chase would receive fees amounting to a total of $133 million.According to estimates from Refinitiv, Morgan Stanley and the other financial advisors stand to make over $55 million from advising Musk, while the banks providing acquisition financing would stand to receive anywhere between $150 million to $200 million.This is not the first time bankers have been let down by Musk in an acquisition. He also reneged on his plan to take Tesla private for $72 billion in 2018 after publicly announcing that he had the \"funding secured\".SpaceX was most recently valued at a whopping $125 billion, making it one of the world's most richly valued private companies. It is expected to go public at a significantly higher valuation, according to IPO bankers and lawyers.SpaceX did not immediately respond to a request for comment.To be sure, there is no guarantee that banks will lose out on the fees. This is because Twitter has sued Musk in a Delaware court to force him to complete the deal.Register now for FREE unlimited access to Reuters.comRegisterReporting by Anirban Sen in New York; Editing by Stephen CoatesOur Standards: The Thomson Reuters Trust Principles.\n"
     ]
    },
    {
     "name": "stderr",
     "output_type": "stream",
     "text": [
      "convert squad examples to features: 100%|██████████| 1/1 [00:00<00:00, 30.87it/s]\n",
      "add example index and unique id: 100%|██████████| 1/1 [00:00<00:00, 18641.35it/s]\n"
     ]
    },
    {
     "data": {
      "application/vnd.jupyter.widget-view+json": {
       "model_id": "c07d84b5977d4a5a95bab4e7c9d2c1f9",
       "version_major": 2,
       "version_minor": 0
      },
      "text/plain": [
       "Running Prediction:   0%|          | 0/1 [00:00<?, ?it/s]"
      ]
     },
     "metadata": {},
     "output_type": "display_data"
    },
    {
     "name": "stderr",
     "output_type": "stream",
     "text": [
      "2022-07-15 13:42:47,439 - 322050 - simpletransformers.question_answering.question_answering_model - INFO -  Converting to features started.\n"
     ]
    },
    {
     "name": "stdout",
     "output_type": "stream",
     "text": [
      "Russian cen bank considering sale of entire Otkritie Group to VTB -Vedomosti SummaryCompaniesThis content was produced in Russia where the law restricts coverage of Russian military operations in UkraineMOSCOW, July 14 (Reuters) - Russia's central bank said it may go one step further in its sale of Otkritie Bank by selling the bailed out lender's wider group, which includes pension fund and insurance assets, to VTB Bank (VTBR.MM), the Vedomosti daily reported.\"We are now considering selling Otkritie Group to VTB,\" Vedomosti quoted Central Bank First Deputy Governor Vladimir Chistyukhin as saying in an interview published on Thursday.The group unites the bank, non-state pension fund (NPF) Otkritie, insurance asset Rosgosstrakh and a number of other companies, Chistyukhin said.Register now for FREE unlimited access to Reuters.comRegisterThe central bank took control of Otkritie, once Russia's largest private lender, five years ago in a clean-up of the banking sector. It says it has fixed the bank's toxic assets.Before Russia started what it calls a special military operation in Ukraine on Feb. 24, the central bank had considered selling Otkritie to investors via an initial public offering (IPO).The central bank now wants to sell Otkritie group to VTB at a market price, Chistyukhin said without disclosing details.Register now for FREE unlimited access to Reuters.comRegisterReporting by Reuters; editing by David EvansOur Standards: The Thomson Reuters Trust Principles.\n"
     ]
    },
    {
     "name": "stderr",
     "output_type": "stream",
     "text": [
      "convert squad examples to features: 100%|██████████| 1/1 [00:00<00:00, 75.59it/s]\n",
      "add example index and unique id: 100%|██████████| 1/1 [00:00<00:00, 8338.58it/s]\n"
     ]
    },
    {
     "data": {
      "application/vnd.jupyter.widget-view+json": {
       "model_id": "3c83149b2e2448c1a5f4aa5577291bd0",
       "version_major": 2,
       "version_minor": 0
      },
      "text/plain": [
       "Running Prediction:   0%|          | 0/1 [00:00<?, ?it/s]"
      ]
     },
     "metadata": {},
     "output_type": "display_data"
    },
    {
     "name": "stderr",
     "output_type": "stream",
     "text": [
      "2022-07-15 13:42:48,112 - 322050 - simpletransformers.question_answering.question_answering_model - INFO -  Converting to features started.\n"
     ]
    },
    {
     "name": "stdout",
     "output_type": "stream",
     "text": [
      "U.S. venture capital dealmaking slows on economic uncertainty July 14 (Reuters) - Venture capital dealmaking in the United States dipped in the first half of 2022, as investors shied away from signing large checks for startups due to uncertain macroeconomic conditions and market turmoil, according to a report on Thursday.The value of deals struck in the first half of 2022 dropped to $144.2 billion, due to an ongoing stock market rout driven by fears of a looming recession, raging inflation and aggressive rate hikes, from $158.2 billion over the same period last year.VC dealmaking hit an all-time high of over $340 billion in 2021, as firms ramped up bets on high-tech, biotech, healthcare and fintech startups, buoyed by excess liquidity and an accommodative monetary policy.  read more Register now for FREE unlimited access to Reuters.comRegisterWhile investments in late-stage firms saw a substantial decline in average size and valuations from recent highs, funding in early-stage companies in the second-quarter also came in well below the record levels set in the prior year, according to the report by PitchBook and the National Venture Capital Association (NVCA)The pace of VC activity is also expected to slow in the second half of 2022 as the threshold for closing deals rises and pricing uncertainty extends to the early stages of the investment cycle.The door to potential billion-dollar exits has also closed with initial public offerings (IPOs) on ice against the backdrop of falling valuations and choppy trading across U.S. exchanges.\"Exits remain extremely low while late-stage companies act with caution as a result of bearish public market activity,\" said John Gabbert, founder and chief executive of PitchBook.The IPO market in the second-quarter hit a 13-year low with only eight companies managing to list. Only 22 VC-backed companies managed to successfully list in the first half of year compared to 183 over the same period in 2021, and 108 in 2020, the report said.Register now for FREE unlimited access to Reuters.comRegisterReporting by Manya Saini and Niket Nishant in Bengaluru; Editing by Shailesh KuberOur Standards: The Thomson Reuters Trust Principles.\n"
     ]
    },
    {
     "name": "stderr",
     "output_type": "stream",
     "text": [
      "convert squad examples to features: 100%|██████████| 1/1 [00:00<00:00, 51.78it/s]\n",
      "add example index and unique id: 100%|██████████| 1/1 [00:00<00:00, 12865.96it/s]\n"
     ]
    },
    {
     "data": {
      "application/vnd.jupyter.widget-view+json": {
       "model_id": "43456a094c4f47d29c0ad7b07308ba10",
       "version_major": 2,
       "version_minor": 0
      },
      "text/plain": [
       "Running Prediction:   0%|          | 0/1 [00:00<?, ?it/s]"
      ]
     },
     "metadata": {},
     "output_type": "display_data"
    },
    {
     "name": "stderr",
     "output_type": "stream",
     "text": [
      "2022-07-15 13:42:48,709 - 322050 - simpletransformers.question_answering.question_answering_model - INFO -  Converting to features started.\n"
     ]
    },
    {
     "name": "stdout",
     "output_type": "stream",
     "text": [
      "U.S. venture capital dealmaking slows on economic uncertainty July 14 (Reuters) - Venture capital dealmaking in the United States dipped in the first half of 2022, as investors shied away from signing large checks for startups due to uncertain macroeconomic conditions and market turmoil, according to a report on Thursday.The value of deals struck in the first half of 2022 dropped to $144.2 billion, due to an ongoing stock market rout driven by fears of a looming recession, raging inflation and aggressive rate hikes, from $158.2 billion over the same period last year.VC dealmaking hit an all-time high of over $340 billion in 2021, as firms ramped up bets on high-tech, biotech, healthcare and fintech startups, buoyed by excess liquidity and an accommodative monetary policy.  read more Register now for FREE unlimited access to Reuters.comRegisterWhile investments in late-stage firms saw a substantial decline in average size and valuations from recent highs, funding in early-stage companies in the second-quarter also came in well below the record levels set in the prior year, according to the report by PitchBook and the National Venture Capital Association (NVCA)The pace of VC activity is also expected to slow in the second half of 2022 as the threshold for closing deals rises and pricing uncertainty extends to the early stages of the investment cycle.The door to potential billion-dollar exits has also closed with initial public offerings (IPOs) on ice against the backdrop of falling valuations and choppy trading across U.S. exchanges.\"Exits remain extremely low while late-stage companies act with caution as a result of bearish public market activity,\" said John Gabbert, founder and chief executive of PitchBook.The IPO market in the second-quarter hit a 13-year low with only eight companies managing to list. Only 22 VC-backed companies managed to successfully list in the first half of year compared to 183 over the same period in 2021, and 108 in 2020, the report said.Register now for FREE unlimited access to Reuters.comRegisterReporting by Manya Saini and Niket Nishant in Bengaluru; Editing by Shailesh KuberOur Standards: The Thomson Reuters Trust Principles.\n"
     ]
    },
    {
     "name": "stderr",
     "output_type": "stream",
     "text": [
      "convert squad examples to features: 100%|██████████| 1/1 [00:00<00:00, 52.61it/s]\n",
      "add example index and unique id: 100%|██████████| 1/1 [00:00<00:00, 19328.59it/s]\n"
     ]
    },
    {
     "data": {
      "application/vnd.jupyter.widget-view+json": {
       "model_id": "4bca2f9edc234e239c5fb30b4e84386b",
       "version_major": 2,
       "version_minor": 0
      },
      "text/plain": [
       "Running Prediction:   0%|          | 0/1 [00:00<?, ?it/s]"
      ]
     },
     "metadata": {},
     "output_type": "display_data"
    },
    {
     "name": "stderr",
     "output_type": "stream",
     "text": [
      "2022-07-15 13:42:49,320 - 322050 - simpletransformers.question_answering.question_answering_model - INFO -  Converting to features started.\n"
     ]
    },
    {
     "name": "stdout",
     "output_type": "stream",
     "text": [
      "Justworks, The Fresh Market scrap IPO plans amid equities rout July 13 (Reuters) - Food retailer The Fresh Market Holdings Inc (TFM) and human resources software platform Justworks Inc shelved plans for their initial public offerings on Wednesday.While the companies did not give a reason for the move, the U.S. IPO market has hit a slump in recent months as recession fears and the fallout from the Ukraine crisis hammer equities.Justworks had originally filed for its IPO in December and was seeking to raise up to $224 million. But it decided to delay the listing in January amid a selloff in technology stocks.Register now for FREE unlimited access to Reuters.comRegisterThe New York-based company's cloud-based platform enables small- and medium-sized businesses to handle payroll, benefits, compliance and human resources.TFM's decision to scrap its listing plans comes nearly two months after Chilean retail group Cencosud (CENCOSUD.SN) struck a $676 million deal to buy a 67% stake in the company.The food retailer, which also sells meat, seafood, dairy products, beer and wine, was taken private by Apollo Global Management Inc (APO.N) in 2016 in a $1.36 billion deal. It had filed for its IPO in July last year.Register now for FREE unlimited access to Reuters.comRegisterReporting by Niket Nishant in Bengaluru; Editing by Shinjini Ganguli and Aditya SoniOur Standards: The Thomson Reuters Trust Principles.\n"
     ]
    },
    {
     "name": "stderr",
     "output_type": "stream",
     "text": [
      "convert squad examples to features: 100%|██████████| 1/1 [00:00<00:00, 71.02it/s]\n",
      "add example index and unique id: 100%|██████████| 1/1 [00:00<00:00, 20360.70it/s]\n"
     ]
    },
    {
     "data": {
      "application/vnd.jupyter.widget-view+json": {
       "model_id": "3627c2c05c2d439dadb78ae5850e34c7",
       "version_major": 2,
       "version_minor": 0
      },
      "text/plain": [
       "Running Prediction:   0%|          | 0/1 [00:00<?, ?it/s]"
      ]
     },
     "metadata": {},
     "output_type": "display_data"
    },
    {
     "name": "stderr",
     "output_type": "stream",
     "text": [
      "2022-07-15 13:42:49,807 - 322050 - simpletransformers.question_answering.question_answering_model - INFO -  Converting to features started.\n"
     ]
    },
    {
     "name": "stdout",
     "output_type": "stream",
     "text": [
      "MOLECULAR PARTNERS AG (NASDAQ: MOLN) SHAREHOLDER CLASS ACTION ALERT: Bernstein Liebhard LLP Announces that a Securities Class Action Lawsuit Has Been Filed Against Molecular Partners AG (NASDAQ: MOLN)  NEW YORK, July  14, Jul 14, 2022 (GLOBE NEWSWIRE via COMTEX) --\n",
      " EQNX::TICKER_START (NASDAQ:MOLN), EQNX::TICKER_END Did you lose money on investments in Molecular Partners? If so, please visit Molecular Partners AG Shareholder Class Action Lawsuit or contact Peter Allocco at (212) 951-2030 or pallocco@bernlieb.com to discuss your rights.\n",
      " Bernstein Liebhard LLP announces that a securities class action lawsuit has been filed on behalf of investors who purchased or otherwise acquired: (a) Molecular Partners AG (\"Molecular Partners\" or the \"Company\") American Depositary Shares (\"ADSs\") pursuant and/or traceable to the Offering Documents issued in connection with the Company's initial public offering conducted on or about June 16, 2021 (the \"IPO\"); and/or (b) Molecular Partners securities between June 16, 2021 and April 26, 2022, both dates inclusive (the \"Class Period\"). The lawsuit was filed in the United States District Court for the Southern District of New York and alleges violations of the Securities Act of 1933 and Securities Exchange Act of 1934.\n",
      " Molecular Partners operates as a clinical-stage biopharmaceutical company that focuses on the discovery, development, and commercialization of therapeutic proteins. Leading up to and following the IPO, the Company repeatedly touted the clinical and commercial prospects of certain of its product candidates under development in collaboration with other companies.\n",
      " Among other product candidates, Molecular Partners is developing ensovibep as a treatment for COVID-19 in collaboration with Novartis AG (\"Novartis\"). One of the Company's most important development strategies for ensovibep includes securing Emergency Use Authorization (\"EUA\") for ensovibep from the U.S. Food and Drug Administration (\"FDA\").\n",
      " In addition, Molecular Partners is developing MP0310 (AMG 506) for the treatment of certain types of cancer in collaboration with Amgen Inc. (\"Amgen\"). The Company granted Amgen, among other licenses, the right to progress MP0310's development program into later stage development, including into combination trials, following Phase 1 data.\n",
      " On April 22, 2021, Molecular Partners filed a registration statement on Form F-1 with the SEC in connection with the IPO, which, after several amendments, was declared effective by the SEC on June 15, 2021 (the \"Registration Statement\"). Then, on June 16, 2021, the Company filed a prospectus on Form 424B4 with the SEC in connection with the IPO, which incorporated and formed part of the Registration Statement (collectively, the \"Offering Documents\").\n",
      " Pursuant to the Offering Documents, Molecular Partners conducted the IPO, issuing 3 million of its ADSs to the public at the IPO price $21.25 per ADS, for proceeds to the Company of over $59 million.\n",
      " Plaintiff alleges that Defendants' statements in the Offering Documents were materially false and misleading when made because Defendants failed to disclose that: (i) ensovibep was less effective at treating COVID-19 than Defendants had led investors to believe; (ii) accordingly, the FDA was reasonably likely to require an additional Phase 3 study of ensovibep before granting the drug EUA; (iii) waning global rates of COVID-19 significantly reduced the Company's chances of securing EUA for ensovibep; (iv) as a product candidate, MP0310 was less attractive to Amgen than Defendants had led investors to believe; (v) accordingly, there was a significant likelihood that Amgen would return global rights of MP0310 to Molecular Partners; (vi) as a result of all the foregoing, the clinical and commercial prospects of ensovibep and MP0310 were overstated; and (vii) as a result, the Offering Documents and Defendants' public statements throughout the Class Period were materially false and/or misleading and failed to state information required to be stated therein.\n",
      " On November 16, 2021, Molecular Partners disclosed that \"a planned futility analysis of ensovibep in [an] ongoing [Phase 3] clinical study . . . has not met the thresholds required to continue enrollment of adults with COVID-19 in the hospitalized setting.\"   On this news, Molecular Partners' ADS price fell $4.64 per ADS to close at $10.15 per ADS on November 16, 2021.\n",
      " Then, on April 26, 2022, months after applying for EUA from the FDA for ensovibep, Novartis' Chief Executive Officer, Vas Narasimhan, disclosed that \"given the latest feedback . . . in our discussions with the [FDA], we would expect the agency to require a Phase 3 study before granting an EUA approval or a general approval\" for ensovibep, and that \"we need to make a kind of sober evaluation as to is it a doable study in light of the waning rates of COVID around the world[.]\"\n",
      " On this news, Molecular Partners' ADS price fell $2.68 per ADS to close at $13.89 per ADS on April 26, 2022.\n",
      " Also on April 26, 2022, during after-market hours, Molecular Partners \"announced that Amgen . . . has informed the Company of their decision to return global rights of MP0310 to Molecular Partners following a strategic pipeline review.\"\n",
      " On this news, Molecular Partners' ADS price fell an additional $5.19 per ADS to close at $8.70 per ADS on April 27, 2022 -- a total decline of $7.87 per ADS, or 47.5%, over two consecutive trading days, and 59.06% below the $21.25 per ADS IPO price.\n",
      " If you wish to serve as lead plaintiff, you must move the Court no later than September 12, 2022. A lead plaintiff is a representative party acting on behalf of other class members in directing the litigation. Your ability to share in any recovery doesn't require that you serve as lead plaintiff. If you choose to take no action, you may remain an absent class member.\n",
      " If you purchased or otherwise acquired MOLN ADSs or securities, and/or would like to discuss your legal rights and options please visit Molecular Partners AG Shareholder Class Action Lawsuit or contact Peter Allocco at (212) 951-2030 or pallocco@bernlieb.com.\n",
      " Since 1993, Bernstein Liebhard LLP has recovered over $3.5 billion for its clients. In addition to representing individual investors, the Firm has been retained by some of the largest public and private pension funds in the country to monitor their assets and pursue litigation on their behalf. As a result of its success litigating hundreds of lawsuits and class actions, the Firm has been named to The National Law Journal's \"Plaintiffs' Hot List\" thirteen times and listed in The Legal 500 for ten consecutive years.\n",
      " ATTORNEY ADVERTISING. (C) 2022 Bernstein Liebhard LLP. The law firm responsible for this advertisement is Bernstein Liebhard LLP, 10 East 40th Street, New York, New York 10016, (212) 779-1414. Prior results do not guarantee or predict a similar outcome with respect to any future matter.\n",
      " Contact Information:\n",
      " Peter Allocco\n",
      " Bernstein Liebhard LLP\n",
      " https://www.bernlieb.com\n",
      " (212) 951-2030\n",
      " pallocco@bernlieb.com\n",
      " <img src=\"https://ml.globenewswire.com/media/NzI3YmY2ZWYtMzViMi00Yjk5LWE5ZjYtNDA5MTc3YjlkNjhlLTEwNDA5MjA=/tiny/Bernstein-Liebhard-LLP.png\" referrerpolicy=\"no-referrer-when-downgrade\" /><p>https://ml.globenewswire.com/media/5d514042-8326-4555-8ad7-f6cc765ecfcd/small/bl-new-logo-jpg.jpg\n",
      " https://ml.globenewswire.com/media/5d514042-8326-4555-8ad7-f6cc765ecfcd/small/bl-new-logo-jpg.jpg\n",
      " COMTEX_410196539/2010/2022-07-14T18:00:00  (C) Copyright 2022 GlobeNewswire, Inc. All rights reserved.\n",
      " \n"
     ]
    },
    {
     "name": "stderr",
     "output_type": "stream",
     "text": [
      "convert squad examples to features: 100%|██████████| 1/1 [00:00<00:00, 16.01it/s]\n",
      "add example index and unique id: 100%|██████████| 1/1 [00:00<00:00, 13231.24it/s]\n"
     ]
    },
    {
     "data": {
      "application/vnd.jupyter.widget-view+json": {
       "model_id": "128478128e9b4655834b1bed1b6874fe",
       "version_major": 2,
       "version_minor": 0
      },
      "text/plain": [
       "Running Prediction:   0%|          | 0/1 [00:00<?, ?it/s]"
      ]
     },
     "metadata": {},
     "output_type": "display_data"
    },
    {
     "name": "stderr",
     "output_type": "stream",
     "text": [
      "2022-07-15 13:42:50,996 - 322050 - simpletransformers.question_answering.question_answering_model - INFO -  Converting to features started.\n"
     ]
    },
    {
     "name": "stdout",
     "output_type": "stream",
     "text": [
      "MISSFRESH LIMITED (NASDAQ: MF) SHAREHOLDER CLASS ACTION ALERT: Bernstein Liebhard LLP Announces that a Securities Class Action Lawsuit Has Been Filed Against Missfresh Limited (NASDAQ: MF)  NEW YORK, July  14, Jul 14, 2022 (GLOBE NEWSWIRE via COMTEX) --\n",
      " EQNX::TICKER_START (NasdaqGM:MF), EQNX::TICKER_END Did you lose money on investments in Missfresh Limited? If so, please visit Missfresh Limited Shareholder Class Action Lawsuit or contact Peter Allocco at (212) 951-2030 or pallocco@bernlieb.com to discuss your rights.\n",
      " Bernstein Liebhard LLP announces that a securities class action lawsuit has been filed on behalf of investors who purchased or otherwise acquired the securities of Missfresh Limited (\"Missfresh\" or the \"Company\") (NASDAQ: MF) pursuant and/or traceable to the registration statement and related prospectus (collectively, the \"Registration Statement\") issued in connection with Missfresh's June 2021 initial public offering (the \"IPO\" or \"Offering\"). The lawsuit was filed in the United States District Court for the Eastern District of New York and alleges violations of the Securities Exchange Act of 1933.\n",
      " Missfresh purports to be an innovator and leader in China's neighborhood retail industry which invented the Distributed Mini Warehouse (DMW) model to operate an integrated online-and-offline on-demand retail business focusing on offering fresh produce and fast-moving consumer goods (FMCGs).\n",
      " On or about June 8, 2021, Missfresh filed with the SEC a Registration Statement on Form F-1, which in combination with a subsequent amendment on Form F-1/A and filed pursuant to Rule 424(b)(4), would be used for the IPO.\n",
      " On June 23, 2021, Missfresh filed with the SEC its final prospectus for the IPO on Form 424B4 (the \"Prospectus\"), which forms part of the Registration Statement. In the IPO, Missfresh sold approximately 21 million American Depositary Shares (\"ADSs\") at $13.00 per ADS.\n",
      " Plaintiff alleges that Defendants' statements in the Registration Statement were materially false and misleading when made because: (1) Missfresh provided false financial figures in its Registration Statement; (2) Missfresh would need to amend its financial figures; (3) Missfresh, among other things, had lesser net revenues for the quarter ended March 31, 2021; and (4) as a result, Defendants' public statements were materially false and misleading at all relevant times and negligently prepared.\n",
      " On April 29, 2022, after trading hours, Missfresh filed with the SEC a Notification of Late Filing on Form 12b-25 which announced, among other things, that the independent Audit Committee of the Company's board of directors, with the assistance of professional advisors, \"[wa]s in the process of conducting an internal review of certain matters, including those relating to transactions between the Company and certain third-party enterprises.\"   On this news, Missfresh ADSs fell 13% to close at $0.448 per ADS on May 2, 2021.\n",
      " Then, on May 24, 2022, Missfresh disclosed that the Company was unable to file its 2021 Annual Report by the extended deadline, \"primarily because the Company is unable to complete the audit of the financial statements of the Company for the fiscal year ended December 31, 2021\". On this news, Missfresh's ADSs fell $0.018 per share, or 9.7%, over the following two trading days, to close at $0.167 per ADS on May 26, 2022.\n",
      " Finally, on July 1, 2022, Missfresh issued a press release entitled \"Missfresh Announces the Substantial Completion of the Audit Committee-Led Independent Internal Review\" which disclosed, among other things, that the Company's review \"identified certain transactions . . . that exhibit characteristics of questionable transactions, such as undisclosed relationships between suppliers and customers, different customers or suppliers sharing the same contact information, and/or lack of supporting logistics information\" and that consequently, \"certain revenue associated with those reporting periods in 2021 may have been inaccurately recorded in the Company's financial statements.\"\n",
      " Since the IPO, the price of Missfresh's ADSs has fallen over 97%, closing at $0.3075 per ADS on July 6, 2022.\n",
      " If you wish to serve as lead plaintiff, you must move the Court no later than September 12, 2022. A lead plaintiff is a representative party acting on behalf of other class members in directing the litigation. Your ability to share in any recovery doesn't require that you serve as lead plaintiff. If you choose to take no action, you may remain an absent class member.\n",
      " If you purchased or otherwise acquired MF securities, and/or would like to discuss your legal rights and options please visit Missfresh Limited Shareholder Class Action Lawsuit or contact Peter Allocco at (212) 951-2030 or pallocco@bernlieb.com.\n",
      " Since 1993, Bernstein Liebhard LLP has recovered over $3.5 billion for its clients. In addition to representing individual investors, the Firm has been retained by some of the largest public and private pension funds in the country to monitor their assets and pursue litigation on their behalf. As a result of its success litigating hundreds of lawsuits and class actions, the Firm has been named to The National Law Journal's \"Plaintiffs' Hot List\" thirteen times and listed in The Legal 500 for ten consecutive years.\n",
      " ATTORNEY ADVERTISING. (C) 2022 Bernstein Liebhard LLP. The law firm responsible for this advertisement is Bernstein Liebhard LLP, 10 East 40th Street, New York, New York 10016, (212) 779-1414. Prior results do not guarantee or predict a similar outcome with respect to any future matter.\n",
      " Contact Information:\n",
      " Peter Allocco\n",
      " Bernstein Liebhard LLP\n",
      " https://www.bernlieb.com\n",
      " (212) 951-2030\n",
      " pallocco@bernlieb.com\n",
      " <img src=\"https://ml.globenewswire.com/media/YTIzZDRiYzUtMDk4Mi00NGIwLTkyNzItOTAzYWY1NDZkMWIxLTEwNDA5MjA=/tiny/Bernstein-Liebhard-LLP.png\" referrerpolicy=\"no-referrer-when-downgrade\" /><p>https://ml.globenewswire.com/media/5d514042-8326-4555-8ad7-f6cc765ecfcd/small/bl-new-logo-jpg.jpg\n",
      " https://ml.globenewswire.com/media/5d514042-8326-4555-8ad7-f6cc765ecfcd/small/bl-new-logo-jpg.jpg\n",
      " COMTEX_410196541/2010/2022-07-14T18:00:00  (C) Copyright 2022 GlobeNewswire, Inc. All rights reserved.\n",
      " \n"
     ]
    },
    {
     "name": "stderr",
     "output_type": "stream",
     "text": [
      "convert squad examples to features: 100%|██████████| 1/1 [00:00<00:00, 20.27it/s]\n",
      "add example index and unique id: 100%|██████████| 1/1 [00:00<00:00, 8648.05it/s]\n"
     ]
    },
    {
     "data": {
      "application/vnd.jupyter.widget-view+json": {
       "model_id": "443a11c19fca40449d8cca132c88c859",
       "version_major": 2,
       "version_minor": 0
      },
      "text/plain": [
       "Running Prediction:   0%|          | 0/1 [00:00<?, ?it/s]"
      ]
     },
     "metadata": {},
     "output_type": "display_data"
    },
    {
     "name": "stderr",
     "output_type": "stream",
     "text": [
      "2022-07-15 13:42:52,117 - 322050 - simpletransformers.question_answering.question_answering_model - INFO -  Converting to features started.\n"
     ]
    },
    {
     "name": "stdout",
     "output_type": "stream",
     "text": [
      "Shareholder Alert: Robbins LLP Informs Investors of Class Action Against Molecular Partners AG (MOLN)  SAN DIEGO, July 14, 2022 (BUSINESS WIRE) --\n",
      " The Class: Shareholder rights law firm Robbins LLP informs investors that a shareholder filed a class action on behalf of all persons who purchased or otherwise acquired Molecular Partners AG (NASDAQ: MOLN) American Depository Shares (ADS) in connection with the Company's initial public offering (\"IPO\") and/or Molecular Partners securities between June 16, 2021 and April 26, 2022. Molecular Partners operates a clinical-stage biopharmaceutical company that focuses on the discovery, development, and commercialization of therapeutic proteins.\n",
      " If you would like more information about Molecular Partners AG's misconduct, click here.\n",
      " What is this Case About: Molecular Partners AG (MOLN) Misled Investors Regarding the Commercial Prospects of its Drug Candidates\n",
      " According to the complaint, leading up to and following the IPO Molecular Partners touted the clinical and commercial prospects of certain of its product candidates under development in collaboration with other companies. Two of these products include ensovibep as a treatment for COVID-19 in collaboration with Novartis AG, and MP0310 (AMG 506) for the treatment of certain types of cancer in collaboration with Amgen, Inc.\n",
      " Molecular Partners held its IPO in June 2021, offering its ADSs at the IPO price of $21.25 per ADS. However, the documents in support of the IPO were negligently prepared. Specifically, defendants failed to disclose that ensovibep was less effective in treating COVID-19 than defendants led investors to believe, and therefore, the FDA would require an additional trial before granting the drug emergency use authorization. Waning global rates of COVID-19 also significantly reduced the Company's chances of securing emergency approval. Further, the product candidate MP0310 was less attractive to Amgen than defendants led investors to believe, increasing the likelihood Amgen would return global rights of MP0310 to Molecular Partners, which it did in June 2022.\n",
      " At each announcement of these setbacks, Molecular Partners' ADS price declined. The stock now trades significantly lower than its IPO price.\n",
      " Next Steps: If you acquired shares of Molecular Partners AG (MOLN) ADSs pursuant to the Company's IPO or between June 16, 2021 and April 26, 2022, you have until September 12, 2022, to ask the court to appoint you lead plaintiff for the class. A lead plaintiff is a representative party acting on behalf of other class members in directing the litigation. You do not have to participate in the case to be eligible for a recovery.\n",
      " All representation is on a contingency fee basis. Shareholders pay no fees or expenses.\n",
      " Contact us to learn more:\n",
      " Aaron Dumas\n",
      "(800) 350-6003\n",
      "adumas@robbinsllp.com \n",
      "Shareholder Information Form\n",
      " About Robbins LLP: A recognized leader in shareholder rights litigation, the attorneys and staff of Robbins LLP have been dedicated to helping shareholders recover losses, improve corporate governance structures, and hold company executives accountable for their wrongdoing since 2002. To be notified if a class action against Molecular Partners AG settles or to receive free alerts when corporate executives engage in wrongdoing, sign up for Stock Watch today.\n",
      " Attorney Advertising. Past results do not guarantee a similar outcome.\n",
      " View source version on businesswire.com: https://www.businesswire.com/news/home/20220714005879/en/\n",
      " SOURCE: Robbins LLP\"><Property FormalName=\"PrimaryTwitterHandle\" Value=\"@robbinsllp\n",
      " <img alt=\"\" src=\"https://cts.businesswire.com/ct/CT?id=bwnews&sty=20220714005879r1&sid=cmtx6&distro=nx&lang=en\" style=\"width:0;height:0\" />\n",
      " COMTEX_410194964/1006/2022-07-14T17:25:00  Copyright Business Wire 2022\n",
      " \n"
     ]
    },
    {
     "name": "stderr",
     "output_type": "stream",
     "text": [
      "convert squad examples to features: 100%|██████████| 1/1 [00:00<00:00, 34.28it/s]\n",
      "add example index and unique id: 100%|██████████| 1/1 [00:00<00:00, 1965.47it/s]\n"
     ]
    },
    {
     "data": {
      "application/vnd.jupyter.widget-view+json": {
       "model_id": "d9a772395cff4883acd1be95619343fc",
       "version_major": 2,
       "version_minor": 0
      },
      "text/plain": [
       "Running Prediction:   0%|          | 0/1 [00:00<?, ?it/s]"
      ]
     },
     "metadata": {},
     "output_type": "display_data"
    },
    {
     "name": "stderr",
     "output_type": "stream",
     "text": [
      "2022-07-15 13:42:52,890 - 322050 - simpletransformers.question_answering.question_answering_model - INFO -  Converting to features started.\n"
     ]
    },
    {
     "name": "stdout",
     "output_type": "stream",
     "text": [
      "Glancy Prongay & Murray LLP, a Leading Securities Fraud Law Firm, Announces the Filing of a Securities Class Action on Behalf of Missfresh Limited (MF) Investors  LOS ANGELES, July 14, 2022 (BUSINESS WIRE) --\n",
      " Glancy Prongay & Murray LLP (\"GPM\"), a leading national shareholder rights law firm, announces that a class action lawsuit has been filed on behalf of investors who purchased or otherwise acquired Missfresh Limited (\"Missfresh\" or the \"Company\") (NASDAQ: MF) securities pursuant and/or traceable to the registration statement and prospectus (collectively, the \"Registration Statement\") issued in connection with the Company's June 2021 initial public offering (\"IPO\" or the \"Offering\"). Missfresh investors have until September 12, 2022 to file a lead plaintiff motion.\n",
      " If you suffered a loss on your Missfresh investments or would like to inquire about potentially pursuing claims to recover your loss under the federal securities laws, you can submit your contact information at www.glancylaw.com/cases/missfresh-limited/. You can also contact Charles H. Linehan, of GPM at 310-201-9150, Toll-Free at 888-773-9224, or via email at shareholders@glancylaw.com to learn more about your rights.\n",
      " In June 2021, Missfresh held its IPO, selling 21 million American Depository Shares (\"ADSs\") at $13 per ADS.\n",
      " On April 29, 2022, Missfresh disclosed that it could not timely file its fiscal 2021 annual report because it was conducting \"an internal review of certain matters, including those relating to transactions between the Company and certain third-party enterprises.\"\n",
      " On this news, Missfresh's stock fell 13%, to close at $0.448 per ADS on May 2, 2022, thereby injuring investors.\n",
      " Then, on July 1, 2022, after the market closed. Missfresh announced that, based on substantial completion of the internal review, certain revenue reported during fiscal 2021 \"may have been inaccurately recorded.\" Specifically, the review identified \"questionable transactions\" carried out by the Next-Day Delivery Business Unit in 2021, including \"undisclosed relationships between suppliers and customers, different customers or suppliers sharing the same contact information, and/or lack of supporting logistics information.\"\n",
      " Since the IPO, Missfresh's ADSs have traded as low as $0.3075, representing a 97% decline from the IPO price.\n",
      " The complaint filed in this class action alleges that Defendants made materially false and/or misleading statements, as well as failed to disclose material adverse facts about the Company's business, operations, and prospects. Specifically, Defendants failed to disclose to investors that: (1) Missfresh provided false financial figures in its Registration Statement; (2) Missfresh would need to amend its financial figures; (3) Missfresh, among other things, had lesser net revenues for the quarter ended March 31, 2021; and (4) as a result, Defendants' positive statements about the Company's business, operations, and prospects were materially misleading and/or lacked a reasonable basis at all relevant times.\n",
      " Follow us for updates on LinkedIn, Twitter, or Facebook.\n",
      " If you purchased or otherwise acquired Missfresh securities pursuant and/or traceable to the IPO, you may move the Court no later than September 12, 2022 to ask the Court to appoint you as lead plaintiff. To be a member of the Class you need not take any action at this time; you may retain counsel of your choice or take no action and remain an absent member of the Class. If you wish to learn more about this action, or if you have any questions concerning this announcement or your rights or interests with respect to these matters, please contact Charles Linehan, Esquire, of GPM, 1925 Century Park East, Suite 2100, Los Angeles, California 90067 at 310-201-9150, Toll-Free at 888-773-9224, by email to shareholders@glancylaw.com, or visit our website at www.glancylaw.com. If you inquire by email please include your mailing address, telephone number and number of shares purchased.\n",
      " This press release may be considered Attorney Advertising in some jurisdictions under the applicable law and ethical rules.\n",
      " View source version on businesswire.com: https://www.businesswire.com/news/home/20220714005751/en/\n",
      " SOURCE: Glancy Prongay & Murray LLP\n",
      " <img alt=\"\" src=\"https://cts.businesswire.com/ct/CT?id=bwnews&sty=20220714005751r1&sid=cmtx6&distro=nx&lang=en\" style=\"width:0;height:0\" />\n",
      " COMTEX_410150646/1006/2022-07-14T13:23:00  Copyright Business Wire 2022\n",
      " \n"
     ]
    },
    {
     "name": "stderr",
     "output_type": "stream",
     "text": [
      "convert squad examples to features: 100%|██████████| 1/1 [00:00<00:00, 24.89it/s]\n",
      "add example index and unique id: 100%|██████████| 1/1 [00:00<00:00, 13530.01it/s]\n"
     ]
    },
    {
     "data": {
      "application/vnd.jupyter.widget-view+json": {
       "model_id": "205bff390bae4fa9bafad3f0a1d1f8f2",
       "version_major": 2,
       "version_minor": 0
      },
      "text/plain": [
       "Running Prediction:   0%|          | 0/1 [00:00<?, ?it/s]"
      ]
     },
     "metadata": {},
     "output_type": "display_data"
    },
    {
     "name": "stderr",
     "output_type": "stream",
     "text": [
      "2022-07-15 13:42:53,712 - 322050 - simpletransformers.question_answering.question_answering_model - INFO -  Converting to features started.\n"
     ]
    },
    {
     "name": "stdout",
     "output_type": "stream",
     "text": [
      "The Law Offices of Frank R. Cruz Announces the Filing of a Securities Class Action on Behalf of Missfresh Limited (MF) Investors  LOS ANGELES, July 14, 2022 (BUSINESS WIRE) --\n",
      " The Law Offices of Frank R. Cruz announces that a class action lawsuit has been filed on behalf of persons and entities that purchased or otherwise acquired Missfresh Limited (\"Missfresh\" or the \"Company\") (NASDAQ: MF) securities pursuant and/or traceable to the registration statement and prospectus (collectively, the \"Registration Statement\") issued in connection with the Company's June 2021 initial public offering (\"IPO\" or the \"Offering\"). Missfresh investors have until September 12, 2022 to file a lead plaintiff motion.\n",
      " If you are a shareholder who suffered a loss, click here to participate.\n",
      " In June 2021, Missfresh held its IPO, selling 21 million American Depository Shares (\"ADSs\") at $13 per ADS.\n",
      " On April 29, 2022, Missfresh disclosed that it could not timely file its fiscal 2021 annual report because it was conducting \"an internal review of certain matters, including those relating to transactions between the Company and certain third-party enterprises.\"\n",
      " On this news, Missfresh's stock fell 13%, to close at $0.448 per ADS on May 2, 2022, thereby injuring investors.\n",
      " Then, on July 1, 2022, after the market closed. Missfresh announced that, based on substantial completion of the internal review, certain revenue reported during fiscal 2021 \"may have been inaccurately recorded.\" Specifically, the review identified \"questionable transactions\" carried out by the Next-Day Delivery Business Unit in 2021, including \"undisclosed relationships between suppliers and customers, different customers or suppliers sharing the same contact information, and/or lack of supporting logistics information.\"\n",
      " Since the IPO, Missfresh's ADSs have traded as low as $0.3075, representing a 97% decline from the IPO price.\n",
      " The complaint filed in this class action alleges that Defendants made materially false and/or misleading statements, as well as failed to disclose material adverse facts about the Company's business, operations, and prospects. Specifically, Defendants failed to disclose to investors that: (1) Missfresh provided false financial figures in its Registration Statement; (2) Missfresh would need to amend its financial figures; (3) Missfresh, among other things, had lesser net revenues for the quarter ended March 31, 2021; and (4) as a result, Defendants' positive statements about the Company's business, operations, and prospects were materially misleading and/or lacked a reasonable basis at all relevant times.\n",
      " Follow us for updates on Twitter: twitter.com/FRC_LAW.\n",
      " If you purchased Missfresh securities during the Class Period, you may move the Court no later than September 12, 2022 to ask the Court to appoint you as lead plaintiff. To be a member of the Class you need not take any action at this time; you may retain counsel of your choice or take no action and remain an absent member of the Class. If you purchased Missfresh securities, have information or would like to learn more about these claims, or have any questions concerning this announcement or your rights or interests with respect to these matters, please contact Frank R. Cruz, of The Law Offices of Frank R. Cruz, 1999 Avenue of the Stars, Suite 1100, Los Angeles, California 90067 at 310-914-5007, by email to info@frankcruzlaw.com, or visit our website at www.frankcruzlaw.com. If you inquire by email please include your mailing address, telephone number, and number of shares purchased.\n",
      " This press release may be considered Attorney Advertising in some jurisdictions under the applicable law and ethical rules.\n",
      " View source version on businesswire.com: https://www.businesswire.com/news/home/20220714005290/en/\n",
      " SOURCE: The Law Offices of Frank R. Cruz\"><Property FormalName=\"PrimaryTwitterHandle\" Value=\"@FRC_LAW\n",
      " <img alt=\"\" src=\"https://cts.businesswire.com/ct/CT?id=bwnews&sty=20220714005290r1&sid=cmtx6&distro=nx&lang=en\" style=\"width:0;height:0\" />\n",
      " COMTEX_410147786/1006/2022-07-14T11:45:00  Copyright Business Wire 2022\n",
      " \n"
     ]
    },
    {
     "name": "stderr",
     "output_type": "stream",
     "text": [
      "convert squad examples to features: 100%|██████████| 1/1 [00:00<00:00, 27.81it/s]\n",
      "add example index and unique id: 100%|██████████| 1/1 [00:00<00:00, 12264.05it/s]\n"
     ]
    },
    {
     "data": {
      "application/vnd.jupyter.widget-view+json": {
       "model_id": "cc058c70558841358955bbb1d3bd9988",
       "version_major": 2,
       "version_minor": 0
      },
      "text/plain": [
       "Running Prediction:   0%|          | 0/1 [00:00<?, ?it/s]"
      ]
     },
     "metadata": {},
     "output_type": "display_data"
    },
    {
     "name": "stderr",
     "output_type": "stream",
     "text": [
      "2022-07-15 13:42:54,560 - 322050 - simpletransformers.question_answering.question_answering_model - INFO -  Converting to features started.\n"
     ]
    },
    {
     "name": "stdout",
     "output_type": "stream",
     "text": [
      "Kobo Resources Inc. Strengthens Its Technical Team Ahead of the Completion of Its IPO  MONTREAL, July 14, 2022 (BUSINESS WIRE) --\n",
      " Kobo Resources Inc. (\"Kobo\" or the \"Corporation\") is pleased to announce that Mr. Marc-Antoine Audet, Ph.D (Geology), P.Geo., will become Technical Advisor to the Board of Directors and Mr. Chris Picken, MIMMM will join Kobo as its Exploration Manager.\n",
      " Mr. Marc-Antoine Audet, BSc, MSc and Ph.D (geology) will act as Technical Advisor to the Board. Dr. Audet has over 35 years of geological experience in exploration and developments projects internationally previously having been involved with Xstrata Nickel and Falconbridge in Africa, Brazil and New Caledonia.\n",
      " He is currently CEO of Sama Resources Inc since March 2010 an emerging Junior co. exploring and developing the Samapleu Nickel-Copper-Palladium deposit in Cote d'Ivoire in West Africa. He is also founder and lead geologist for SRG Mining, a company developing a graphite project in Guinea, West Africa.\n",
      " Mr. Audet is also a Consulting Geologist specialized in project management in foreign countries as well as in mineral resource and reserve estimations and reporting. He has offered his expertise towards the implementation and management of greenfield and early development stage projects in foreign environments (Africa, South America, Pacific, Caribbean, etc.) with experience in environmental, health and safety and social/community aspects.\n",
      " Kobo is also pleased to announce that Mr. Chris Picken, MIMMM will join Kobo as its Exploration Manager. Mr. Chris Picken has over 35 years' experience in the mineral exploration industry as a geologist, exploration manager and chief operating officer. He has worked for a numerous of international major, mid-tier and junior exploration companies in various countries in Africa and South America with a track record of significant mineral discoveries resulting from his participation in exploration programs.\n",
      " Chris has been exploring Archaean and Birimian gold terranes in West Africa for the past ten years in Cote d'Ivoire, Liberia and Sierra Leone. He was the geological superintendent for the pre-feasibility and definitive-feasibility study drill programs at the Yaoure Gold Deposit between 2014 and 2018 for Amara Mining and Perseus Mining following their acquisition in 2016. Prior to this he spent time in Tanzania and Uganda targeting greenstone-hosted gold mineralization in the Lake Victoria region.\n",
      " About Kobo\n",
      " Incorporated in December 2015 and headquartered in Quebec City, Kobo Resources Inc. is a junior exploration and mining development company focused on acquiring, exploring and developing gold projects located in West Africa, primarily in Cote d'Ivoire. Kobo has, through its wholly owned subsidiary KOBO Ressources C.I., obtained two research permits for gold covering approximately 449 km2. Kobo's primary objective is the exploration and development of the Kossou Gold Project, located in the Yamoussoukro and Bouafle regions of central Cote d'Ivoire, and which covers an area of 147.365 km2. The Kossou project is located 6 km east of the Yaoure Gold Deposit exploited by Perseus Mining since March 2021.\n",
      " Kobo has filed with the securities regulatory authorities in the provinces of British Columbia, Alberta, Ontario and Quebec, and obtained on May 27, 2022 a receipt for a final amended long-form prospectus (the \"Final Prospectus\") for a proposed initial public offering of units of the Corporation (\"Units\") for a minimum aggregate gross proceeds of $5,000,000 and up to a maximum aggregate gross proceeds of $10,000,000 (the \"Offering\").\n",
      " The issue price for each Unit is $0.25. The number of Units to be sold pursuant to the Offering has not yet been determined.\n",
      " Each Unit consists of one common share of the Corporation (a \"Common Share\") and one-half of one Common Share purchase warrant of the Corporation (a \"Warrant\"). Each whole Warrant entitles the holder to purchase one Common Share for a purchase price of $0.40 per Common Share for a period of three years from the closing of the Offering.\n",
      " The Offering will be conducted on a \"best efforts\" basis by Echelon Wealth Partners Inc. as lead agent on behalf of a syndicate of agents that includes Laurentian Bank Securities and Leede Jones Gable Inc. (collectively, the \"Agents\"). The Corporation has granted the Agents an over-allotment option to purchase up to such additional number of Units, Warrants, Common Shares, or a combination thereof, as is equal to 15% of the Units offered and sold in the Offering exercisable in whole or in part at any time for a period of 30 days after and including the closing of the Offering.\n",
      " The Final Prospectus contains important information relating to Kobo, the Units and the Offering. Copies of the Final Prospectus, technical report NI 43-101 and marketing materials are available on SEDAR at www.sedar.com.\n",
      " The closing of the Offering is expected to occur on or about August 15, 2022 and is subject to customary closing conditions, including the receipt of all necessary regulatory approvals. The TSX Venture Exchange (the \"TSXV\") has conditionally approved the listing of the Common Shares, including those to be issued and sold pursuant to the Offering. Listing is subject to the approval of the TSXV in accordance with its original listing requirements including Kobo's fulfilling customary TSXV requirements. The Common Shares are expected to commence trading on the TSXV under the symbol \"KRI\" on the closing date of the Offering.\n",
      " The net proceeds of the Offering will be used to fund the planned exploration program at the Corporation's Kossou Gold Project, exploration activities at its Bongouanou Project, working capital and general corporate purposes, as set out in the Final Prospectus.\n",
      " No securities regulatory authority has either approved or disapproved the contents of this news release. This news release does not constitute an offer to sell or the solicitation of an offer to buy any securities of Kobo in any jurisdiction in which such offer, solicitation or sale would be unlawful.\n",
      " The TSXV has neither approved nor disapproved the contents of this news release. Neither the TSXV nor its Regulation Services Provider (as that term is defined in the policies of the TSXV) accepts responsibility for the adequacy or accuracy of this news release.\n",
      " The Corporation's securities have not been and will not be registered under the United States Securities Act of 1933, as amended (the \"U.S. Securities Act\"), or any state securities laws, and may not be offered, sold or delivered, directly or indirectly, in the United States (as defined in Regulation S under the U.S. Securities Act). Accordingly, the Corporation's securities may not be offered or sold within the United States unless registered under the U.S. Securities Act and applicable state securities laws or pursuant to exemptions from the registration requirements of the U.S. Securities Act and applicable state securities laws.\n",
      " Forward-Looking Statements\n",
      " This news release includes certain statements and information that may constitute forward-looking information within the meaning of Canadian securities laws. Often, but not always, forward-looking information can be identified by the use of words such as \"plans\", \"is expected\", \"expects\", \"scheduled\", \"intends\", \"contemplates\", \"anticipates\", \"believes\", \"proposes\" or variations (including negative and grammatical variations) of such words and phrases, or state that certain actions, events or results \"may\", \"could\", \"would\", \"might\" or \"will\" be taken, occur or be achieved. Forward-looking statements in this news release include, but are not limited to, statements regarding the details of the Offering, the closing of the Offering and satisfaction of related closing conditions, the ability for Kobo to obtain final TSXV approval, the potential exercise by the Agents of the over-allotment option, the use of proceeds, the listing of the Common Shares and Kobo's business. Forward-looking statements or information are based on a number of factors and assumptions which have been used to develop such statements and information, but which may prove to be incorrect. Although Kobo believes that the expectations reflected in such forward-looking statements or information are reasonable, undue reliance should not be placed on forward-looking statements because Kobo can give no assurance that such expectations will prove to be correct. Factors that could cause actual results to differ materially from those described in such forward-looking information include, but are not limited to, negotiations with the Agents concerning the particulars of the Offering, inability to raise the money necessary to complete the Offering, the listing or other conditions imposed by the TSXV for the listing of the Common Shares, other regulatory approvals required for the closing of the Offering, as well as those risks and uncertainties discussed in the section entitled \"Risk Factors\" of the Final Prospectus available on SEDAR at www.sedar.com. The forward-looking information in this news release reflects the current expectations, assumptions and beliefs of Kobo based on the information currently available to the Corporation. Any forward-looking information speaks only as of the date on which it is made and, except as may be required by applicable securities laws, Kobo disclaims any intent or obligation to update any forward-looking information, whether as a result of new information, future events or otherwise.\n",
      " View source version on businesswire.com: https://www.businesswire.com/news/home/20220714005254/en/\n",
      " SOURCE: Kobo Resources Inc.\n",
      " <img alt=\"\" src=\"https://cts.businesswire.com/ct/CT?id=bwnews&sty=20220714005254r1&sid=cmtx6&distro=nx&lang=en\" style=\"width:0;height:0\" />\n",
      " COMTEX_410137596/1006/2022-07-14T08:30:01  Copyright Business Wire 2022\n",
      " \n"
     ]
    },
    {
     "name": "stderr",
     "output_type": "stream",
     "text": [
      "convert squad examples to features: 100%|██████████| 1/1 [00:00<00:00, 12.93it/s]\n",
      "add example index and unique id: 100%|██████████| 1/1 [00:00<00:00, 17924.38it/s]\n"
     ]
    },
    {
     "data": {
      "application/vnd.jupyter.widget-view+json": {
       "model_id": "ffd0bc52dfb443bc876b5fa23ad82db5",
       "version_major": 2,
       "version_minor": 0
      },
      "text/plain": [
       "Running Prediction:   0%|          | 0/1 [00:00<?, ?it/s]"
      ]
     },
     "metadata": {},
     "output_type": "display_data"
    },
    {
     "name": "stderr",
     "output_type": "stream",
     "text": [
      "2022-07-15 13:42:55,850 - 322050 - simpletransformers.question_answering.question_answering_model - INFO -  Converting to features started.\n"
     ]
    },
    {
     "name": "stdout",
     "output_type": "stream",
     "text": [
      "INVESTOR ALERT: Missfresh Limited Investors with Substantial Losses Have Opportunity to Lead Class Action Lawsuit - MF  SAN DIEGO, July 14, 2022 (BUSINESS WIRE) --\n",
      " Robbins Geller Rudman & Dowd LLP announces that purchasers or acquirers of Missfresh Limited (NASDAQ: MF) securities pursuant and/or traceable to the registration statement and related prospectus (collectively, the \"Registration Statement\") issued in connection with Missfresh's June 2021 initial public offering (the \"IPO\") that suffered compensable damages have until September 12, 2022 to seek appointment as lead plaintiff in the Missfresh class action lawsuit. The Missfresh class action lawsuit - captioned Chen v. Missfresh Limited, No. 22-cv-04065 (E.D.N.Y.) - charges Missfresh, certain of its top executives and directors, as well as the IPO's underwriters with violations of the Securities Act of 1933.\n",
      " If you suffered substantial losses and wish to serve as lead plaintiff, please provide your information here:\n",
      " https://www.rgrdlaw.com/cases-missfresh-limited-class-action-lawsuit-mf.html\n",
      " You can also contact attorney J.C. Sanchez of Robbins Geller by calling 800/449-4900 or via e-mail at jsanchez@rgrdlaw.com.\n",
      " CASE ALLEGATIONS: Missfresh purports to be an innovator and leader in China's neighborhood retail industry which invented the Distributed Mini Warehouse model to operate an integrated online-and-offline on-demand retail business focusing on offering fresh produce and fast-moving consumer goods. Pursuant to its IPO, Missfresh sold approximately 21 million of its American Depositary Shares (\"ADSs\") at a price of $13.00 per ADS.\n",
      " The Missfresh class action lawsuit alleges that the IPO's Registration Statement contained false and/or misleading statements and/or failed to disclose that: (i) Missfresh provided false financial figures in its Registration Statement; (ii) Missfresh would need to amend its financial figures; and (iii) Missfresh, among other things, had lesser net revenues for the quarter ended March 31, 2021.\n",
      " On April 29, 2022, Missfresh filed with the U.S. Securities and Exchange Commission (\"SEC\") a Notification of Late Filing on Form 12b-25 which announced that Missfresh would not be able to file its Annual Report on Form 20-F for the fiscal year ended December 31, 2021 by the prescribed filing deadline of April 30, 2022 given that \"[t]he independent Audit Committee of the [Missfresh]'s board of directors, with the assistance of professional advisors, is in the process of conducting an internal review of certain matters, including those relating to transactions between [Missfresh] and certain third-party enterprises.\" Missfresh further disclosed that \"[t]he Audit Committee is working with its advisors to complete the review in a timely manner.\" On this news, the price of Missfresh ADSs fell by 13%.\n",
      " Then, on May 24, 2022, Missfresh issued a press release entitled \"Missfresh Announces Receipt of Nasdaq Notification Regarding Late Filing of Form 20-F\" which stated \"the Listing Qualifications Department of The Nasdaq Stock Market Inc. ('Nasdaq'), indicating that [Missfresh] is not in compliance with the requirements for continued listing set forth in Nasdaq Listing Rule 5250(c)(1) since [Missfresh] did not timely file its annual report on Form 20-F for the fiscal year ended December 31, 2021.\" Missfresh further revealed that it was not able to file the 2021 Form 20-F by the prescribed deadline \"primarily because [Missfresh] is unable to complete the audit of the financial statements of [Missfresh] for the fiscal year ended December 31, 2021.\" On this news, the price of Missfresh ADSs fell by more than 9% over the next two trading days.\n",
      " Finally, on July 1, 2022, Missfresh issued a press release entitled \"Missfresh Announces the Substantial Completion of the Audit Committee-Led Independent Internal Review\" which revealed that the review \"identified certain transactions carried out by the Next-Day Delivery BU in 2021 that exhibited characteristics of questionable transactions, such as undisclosed relationships between suppliers and customers, different customers or suppliers sharing the same contact information, and/or lack of supporting logistics information.\" Missfresh thus concluded that \"[a]s a result, certain revenue associated with these reporting periods in 2021 may have been inaccurately recorded in [Missfresh]'s financial statements.\"\n",
      " As of July 6, 2022, Missfresh ADSs closed at $0.3075, representing a 97% decline from the IPO price.\n",
      " THE LEAD PLAINTIFF PROCESS: The Private Securities Litigation Reform Act of 1995 permits any purchaser of Missfresh securities pursuant and/or traceable to the Registration Statement issued in connection with the IPO to seek appointment as lead plaintiff in the Missfresh class action lawsuit. A lead plaintiff is generally the movant with the greatest financial interest in the relief sought by the putative class who is also typical and adequate of the putative class. A lead plaintiff acts on behalf of all other class members in directing the Missfresh class action lawsuit. The lead plaintiff can select a law firm of its choice to litigate the Missfresh class action lawsuit. An investor's ability to share in any potential future recovery of the Missfresh class action lawsuit is not dependent upon serving as lead plaintiff.\n",
      " ABOUT ROBBINS GELLER RUDMAN & DOWD LLP: With 200 lawyers in 9 offices nationwide, Robbins Geller Rudman & Dowd LLP is the largest U.S. law firm representing investors in securities class actions. Robbins Geller attorneys have obtained many of the largest shareholder recoveries in history, including the largest securities class action recovery ever - $7.2 billion - in In re Enron Corp. Sec. Litig. The 2021 ISS Securities Class Action Services Top 50 Report ranked Robbins Geller first for recovering nearly $1.9 billion for investors last year, more than triple the amount recovered by any other securities plaintiffs' firm. Please visit the following page for more information:\n",
      " https://www.rgrdlaw.com/services-litigation-securities-fraud.html\n",
      " Attorney advertising.\n",
      "Past results do not guarantee future outcomes.\n",
      "Services may be performed by attorneys in any of our offices.\n",
      " View source version on businesswire.com: https://www.businesswire.com/news/home/20220713005946/en/\n",
      " SOURCE: Robbins Geller Rudman & Dowd LLP\n",
      " <img alt=\"\" src=\"https://cts.businesswire.com/ct/CT?id=bwnews&sty=20220713005946r1&sid=cmtx6&distro=nx&lang=en\" style=\"width:0;height:0\" />\n",
      " COMTEX_410113302/1006/2022-07-13T21:24:00  Copyright Business Wire 2022\n",
      " \n"
     ]
    },
    {
     "name": "stderr",
     "output_type": "stream",
     "text": [
      "convert squad examples to features: 100%|██████████| 1/1 [00:00<00:00, 20.20it/s]\n",
      "add example index and unique id: 100%|██████████| 1/1 [00:00<00:00, 6909.89it/s]\n"
     ]
    },
    {
     "data": {
      "application/vnd.jupyter.widget-view+json": {
       "model_id": "81e4a1ad50604bb6b2aff695d707b5f6",
       "version_major": 2,
       "version_minor": 0
      },
      "text/plain": [
       "Running Prediction:   0%|          | 0/1 [00:00<?, ?it/s]"
      ]
     },
     "metadata": {},
     "output_type": "display_data"
    },
    {
     "name": "stderr",
     "output_type": "stream",
     "text": [
      "2022-07-15 13:42:56,932 - 322050 - simpletransformers.question_answering.question_answering_model - INFO -  Converting to features started.\n"
     ]
    },
    {
     "name": "stdout",
     "output_type": "stream",
     "text": [
      "TMT and tech SPAC Namaste World Acquisition slashes deal size by 50% ahead of $100 million <b>IPO</b> TMT and tech SPAC Namaste World Acquisition slashes deal size by 50% ahead of $100 million <b>IPO</b>\n"
     ]
    },
    {
     "name": "stderr",
     "output_type": "stream",
     "text": [
      "convert squad examples to features: 100%|██████████| 1/1 [00:00<00:00, 206.18it/s]\n",
      "add example index and unique id: 100%|██████████| 1/1 [00:00<00:00, 12905.55it/s]\n"
     ]
    },
    {
     "data": {
      "application/vnd.jupyter.widget-view+json": {
       "model_id": "84cc9e8515244ad6beaec96de8c54a59",
       "version_major": 2,
       "version_minor": 0
      },
      "text/plain": [
       "Running Prediction:   0%|          | 0/1 [00:00<?, ?it/s]"
      ]
     },
     "metadata": {},
     "output_type": "display_data"
    },
    {
     "name": "stderr",
     "output_type": "stream",
     "text": [
      "2022-07-15 13:42:57,494 - 322050 - simpletransformers.question_answering.question_answering_model - INFO -  Converting to features started.\n"
     ]
    },
    {
     "name": "stdout",
     "output_type": "stream",
     "text": [
      "Chinese fast-fashion company Shein seeks U.S. <b>IPO</b> as soon as 2024, report says - CNBC Chinese fast-fashion company Shein seeks U.S. <b>IPO</b> as soon as 2024, report says - CNBC\n"
     ]
    },
    {
     "name": "stderr",
     "output_type": "stream",
     "text": [
      "convert squad examples to features: 100%|██████████| 1/1 [00:00<00:00, 347.79it/s]\n",
      "add example index and unique id: 100%|██████████| 1/1 [00:00<00:00, 11366.68it/s]\n"
     ]
    },
    {
     "data": {
      "application/vnd.jupyter.widget-view+json": {
       "model_id": "d85b3df54e2a4305bc5e87412696d730",
       "version_major": 2,
       "version_minor": 0
      },
      "text/plain": [
       "Running Prediction:   0%|          | 0/1 [00:00<?, ?it/s]"
      ]
     },
     "metadata": {},
     "output_type": "display_data"
    },
    {
     "name": "stderr",
     "output_type": "stream",
     "text": [
      "2022-07-15 13:42:57,989 - 322050 - simpletransformers.question_answering.question_answering_model - INFO -  Converting to features started.\n"
     ]
    },
    {
     "name": "stdout",
     "output_type": "stream",
     "text": [
      "<b>Pre</b>-Market Earnings Report for July 15, 2022 : UNH, WFC, BLK, C, PGR, USB, PNC, BK, STT <b>Pre</b>-Market Earnings Report for July 15, 2022 : UNH, WFC, BLK, C, PGR, USB, PNC, BK, STT\n"
     ]
    },
    {
     "name": "stderr",
     "output_type": "stream",
     "text": [
      "convert squad examples to features: 100%|██████████| 1/1 [00:00<00:00, 204.99it/s]\n",
      "add example index and unique id: 100%|██████████| 1/1 [00:00<00:00, 12557.80it/s]\n"
     ]
    },
    {
     "data": {
      "application/vnd.jupyter.widget-view+json": {
       "model_id": "499b36b4eb13405cafc7c57e63998a09",
       "version_major": 2,
       "version_minor": 0
      },
      "text/plain": [
       "Running Prediction:   0%|          | 0/1 [00:00<?, ?it/s]"
      ]
     },
     "metadata": {},
     "output_type": "display_data"
    },
    {
     "name": "stderr",
     "output_type": "stream",
     "text": [
      "2022-07-15 13:42:58,562 - 322050 - simpletransformers.question_answering.question_answering_model - INFO -  Converting to features started.\n"
     ]
    },
    {
     "name": "stdout",
     "output_type": "stream",
     "text": [
      "As Zomato, Paytm and new-age start-ups struggle at bourses, their unlisted peers stare at ... As Zomato, Paytm and new-age start-ups struggle at bourses, their unlisted peers stare at ...\n"
     ]
    },
    {
     "name": "stderr",
     "output_type": "stream",
     "text": [
      "convert squad examples to features: 100%|██████████| 1/1 [00:00<00:00, 360.27it/s]\n",
      "add example index and unique id: 100%|██████████| 1/1 [00:00<00:00, 10618.49it/s]\n"
     ]
    },
    {
     "data": {
      "application/vnd.jupyter.widget-view+json": {
       "model_id": "82f293066a9f4da09e9936dbdcfdcd0d",
       "version_major": 2,
       "version_minor": 0
      },
      "text/plain": [
       "Running Prediction:   0%|          | 0/1 [00:00<?, ?it/s]"
      ]
     },
     "metadata": {},
     "output_type": "display_data"
    },
    {
     "name": "stderr",
     "output_type": "stream",
     "text": [
      "2022-07-15 13:42:59,175 - 322050 - simpletransformers.question_answering.question_answering_model - INFO -  Converting to features started.\n"
     ]
    },
    {
     "name": "stdout",
     "output_type": "stream",
     "text": [
      "Neo-Bank Dave Lands $100 Million FTX Investment To Grow Crypto Presence - dot.LA Neo-Bank Dave Lands $100 Million FTX Investment To Grow Crypto Presence - dot.LA\n"
     ]
    },
    {
     "name": "stderr",
     "output_type": "stream",
     "text": [
      "convert squad examples to features: 100%|██████████| 1/1 [00:00<00:00, 171.79it/s]\n",
      "add example index and unique id: 100%|██████████| 1/1 [00:00<00:00, 9404.27it/s]\n"
     ]
    },
    {
     "data": {
      "application/vnd.jupyter.widget-view+json": {
       "model_id": "b12b2c0ece9046edb1d3991db22fd58e",
       "version_major": 2,
       "version_minor": 0
      },
      "text/plain": [
       "Running Prediction:   0%|          | 0/1 [00:00<?, ?it/s]"
      ]
     },
     "metadata": {},
     "output_type": "display_data"
    },
    {
     "name": "stderr",
     "output_type": "stream",
     "text": [
      "2022-07-15 13:42:59,904 - 322050 - simpletransformers.question_answering.question_answering_model - INFO -  Converting to features started.\n"
     ]
    },
    {
     "name": "stdout",
     "output_type": "stream",
     "text": [
      "Short-seller Hindenburg Research has built up a large stake in Twitter Short-seller Hindenburg Research has built up a large stake in Twitter\n"
     ]
    },
    {
     "name": "stderr",
     "output_type": "stream",
     "text": [
      "convert squad examples to features: 100%|██████████| 1/1 [00:00<00:00, 642.51it/s]\n",
      "add example index and unique id: 100%|██████████| 1/1 [00:00<00:00, 11125.47it/s]\n"
     ]
    },
    {
     "data": {
      "application/vnd.jupyter.widget-view+json": {
       "model_id": "2e594a3c4a6d4294a7b1c389d5d0582c",
       "version_major": 2,
       "version_minor": 0
      },
      "text/plain": [
       "Running Prediction:   0%|          | 0/1 [00:00<?, ?it/s]"
      ]
     },
     "metadata": {},
     "output_type": "display_data"
    },
    {
     "name": "stderr",
     "output_type": "stream",
     "text": [
      "2022-07-15 13:43:00,426 - 322050 - simpletransformers.question_answering.question_answering_model - INFO -  Converting to features started.\n"
     ]
    },
    {
     "name": "stdout",
     "output_type": "stream",
     "text": [
      "Rivian Stock Soars 29% in Its Nasdaq Debut, Topping Ford and GM - dot.LA Rivian Stock Soars 29% in Its Nasdaq Debut, Topping Ford and GM - dot.LA\n"
     ]
    },
    {
     "name": "stderr",
     "output_type": "stream",
     "text": [
      "convert squad examples to features: 100%|██████████| 1/1 [00:00<00:00, 249.11it/s]\n",
      "add example index and unique id: 100%|██████████| 1/1 [00:00<00:00, 20763.88it/s]\n"
     ]
    },
    {
     "data": {
      "application/vnd.jupyter.widget-view+json": {
       "model_id": "878f657b891f412386d2b960070b4bc4",
       "version_major": 2,
       "version_minor": 0
      },
      "text/plain": [
       "Running Prediction:   0%|          | 0/1 [00:00<?, ?it/s]"
      ]
     },
     "metadata": {},
     "output_type": "display_data"
    },
    {
     "name": "stderr",
     "output_type": "stream",
     "text": [
      "2022-07-15 13:43:00,984 - 322050 - simpletransformers.question_answering.question_answering_model - INFO -  Converting to features started.\n"
     ]
    },
    {
     "name": "stdout",
     "output_type": "stream",
     "text": [
      "Morgan Stanley taps Regal, three offshore managers for <b>pre</b>-<b>IPO</b> fund - AFR Morgan Stanley taps Regal, three offshore managers for <b>pre</b>-<b>IPO</b> fund - AFR\n"
     ]
    },
    {
     "name": "stderr",
     "output_type": "stream",
     "text": [
      "convert squad examples to features: 100%|██████████| 1/1 [00:00<00:00, 1830.77it/s]\n",
      "add example index and unique id: 100%|██████████| 1/1 [00:00<00:00, 3666.35it/s]\n"
     ]
    },
    {
     "data": {
      "application/vnd.jupyter.widget-view+json": {
       "model_id": "d2c802f9e6b1471094538987acc60ee7",
       "version_major": 2,
       "version_minor": 0
      },
      "text/plain": [
       "Running Prediction:   0%|          | 0/1 [00:00<?, ?it/s]"
      ]
     },
     "metadata": {},
     "output_type": "display_data"
    },
    {
     "name": "stderr",
     "output_type": "stream",
     "text": [
      "2022-07-15 13:43:01,711 - 322050 - simpletransformers.question_answering.question_answering_model - INFO -  Converting to features started.\n"
     ]
    },
    {
     "name": "stdout",
     "output_type": "stream",
     "text": [
      "Origo Partners (LON:OPP) Stock Price Passes Below 200-Day Moving Average of $0.27 Origo Partners (LON:OPP) Stock Price Passes Below 200-Day Moving Average of $0.27\n"
     ]
    },
    {
     "name": "stderr",
     "output_type": "stream",
     "text": [
      "convert squad examples to features: 100%|██████████| 1/1 [00:00<00:00, 190.34it/s]\n",
      "add example index and unique id: 100%|██████████| 1/1 [00:00<00:00, 8388.61it/s]\n"
     ]
    },
    {
     "data": {
      "application/vnd.jupyter.widget-view+json": {
       "model_id": "342794b69b8d4892a9890477a2aaec07",
       "version_major": 2,
       "version_minor": 0
      },
      "text/plain": [
       "Running Prediction:   0%|          | 0/1 [00:00<?, ?it/s]"
      ]
     },
     "metadata": {},
     "output_type": "display_data"
    },
    {
     "name": "stderr",
     "output_type": "stream",
     "text": [
      "2022-07-15 13:43:02,284 - 322050 - simpletransformers.question_answering.question_answering_model - INFO -  Converting to features started.\n"
     ]
    },
    {
     "name": "stdout",
     "output_type": "stream",
     "text": [
      "First Republic Bank Adds 5% In <b>Pre</b>-market On Upbeat Quarterly Results | Nasdaq First Republic Bank Adds 5% In <b>Pre</b>-market On Upbeat Quarterly Results | Nasdaq\n"
     ]
    },
    {
     "name": "stderr",
     "output_type": "stream",
     "text": [
      "convert squad examples to features: 100%|██████████| 1/1 [00:00<00:00, 364.53it/s]\n",
      "add example index and unique id: 100%|██████████| 1/1 [00:00<00:00, 14513.16it/s]\n"
     ]
    },
    {
     "data": {
      "application/vnd.jupyter.widget-view+json": {
       "model_id": "2e80bc42771d482c904e259fb8d7b6f2",
       "version_major": 2,
       "version_minor": 0
      },
      "text/plain": [
       "Running Prediction:   0%|          | 0/1 [00:00<?, ?it/s]"
      ]
     },
     "metadata": {},
     "output_type": "display_data"
    },
    {
     "name": "stderr",
     "output_type": "stream",
     "text": [
      "2022-07-15 13:43:02,799 - 322050 - simpletransformers.question_answering.question_answering_model - INFO -  Converting to features started.\n"
     ]
    },
    {
     "name": "stdout",
     "output_type": "stream",
     "text": [
      "Genius Group Welcomes Dr. David Vierra as Interim President of the University of Antelope Valley Genius Group Welcomes Dr. David Vierra as Interim President of the University of Antelope Valley\n"
     ]
    },
    {
     "name": "stderr",
     "output_type": "stream",
     "text": [
      "convert squad examples to features: 100%|██████████| 1/1 [00:00<00:00, 201.69it/s]\n",
      "add example index and unique id: 100%|██████████| 1/1 [00:00<00:00, 20460.02it/s]\n"
     ]
    },
    {
     "data": {
      "application/vnd.jupyter.widget-view+json": {
       "model_id": "04599cea7d9d4c57a60c546514775d88",
       "version_major": 2,
       "version_minor": 0
      },
      "text/plain": [
       "Running Prediction:   0%|          | 0/1 [00:00<?, ?it/s]"
      ]
     },
     "metadata": {},
     "output_type": "display_data"
    },
    {
     "name": "stderr",
     "output_type": "stream",
     "text": [
      "2022-07-15 13:43:03,324 - 322050 - simpletransformers.question_answering.question_answering_model - INFO -  Converting to features started.\n"
     ]
    },
    {
     "name": "stdout",
     "output_type": "stream",
     "text": [
      "PE investments in proptech companies went up by 35% to $741 mn: Report PE investments in proptech companies went up by 35% to $741 mn: Report\n"
     ]
    },
    {
     "name": "stderr",
     "output_type": "stream",
     "text": [
      "convert squad examples to features: 100%|██████████| 1/1 [00:00<00:00, 285.29it/s]\n",
      "add example index and unique id: 100%|██████████| 1/1 [00:00<00:00, 17403.75it/s]\n"
     ]
    },
    {
     "data": {
      "application/vnd.jupyter.widget-view+json": {
       "model_id": "e942c3ca751d4c75b79a23d2b27252e3",
       "version_major": 2,
       "version_minor": 0
      },
      "text/plain": [
       "Running Prediction:   0%|          | 0/1 [00:00<?, ?it/s]"
      ]
     },
     "metadata": {},
     "output_type": "display_data"
    },
    {
     "name": "stderr",
     "output_type": "stream",
     "text": [
      "2022-07-15 13:43:03,839 - 322050 - simpletransformers.question_answering.question_answering_model - INFO -  Converting to features started.\n"
     ]
    },
    {
     "name": "stdout",
     "output_type": "stream",
     "text": [
      "<b>Pre</b>-market Movers: ARQQ, RAD, TBPH, ULCC, EGY… - Nasdaq <b>Pre</b>-market Movers: ARQQ, RAD, TBPH, ULCC, EGY… - Nasdaq\n"
     ]
    },
    {
     "name": "stderr",
     "output_type": "stream",
     "text": [
      "convert squad examples to features: 100%|██████████| 1/1 [00:00<00:00, 153.68it/s]\n",
      "add example index and unique id: 100%|██████████| 1/1 [00:00<00:00, 18157.16it/s]\n"
     ]
    },
    {
     "data": {
      "application/vnd.jupyter.widget-view+json": {
       "model_id": "a3a7fab07969434fb530f0208244f643",
       "version_major": 2,
       "version_minor": 0
      },
      "text/plain": [
       "Running Prediction:   0%|          | 0/1 [00:00<?, ?it/s]"
      ]
     },
     "metadata": {},
     "output_type": "display_data"
    },
    {
     "name": "stderr",
     "output_type": "stream",
     "text": [
      "2022-07-15 13:43:04,353 - 322050 - simpletransformers.question_answering.question_answering_model - INFO -  Converting to features started.\n"
     ]
    },
    {
     "name": "stdout",
     "output_type": "stream",
     "text": [
      "PE Inflows Into Proptech Firms Rose To $741 Mn In 2021: Report - BW Businessworld PE Inflows Into Proptech Firms Rose To $741 Mn In 2021: Report - BW Businessworld\n"
     ]
    },
    {
     "name": "stderr",
     "output_type": "stream",
     "text": [
      "convert squad examples to features: 100%|██████████| 1/1 [00:00<00:00, 631.77it/s]\n",
      "add example index and unique id: 100%|██████████| 1/1 [00:00<00:00, 13400.33it/s]\n"
     ]
    },
    {
     "data": {
      "application/vnd.jupyter.widget-view+json": {
       "model_id": "b5cd4cf4160f45ccb9fe5701201eaebd",
       "version_major": 2,
       "version_minor": 0
      },
      "text/plain": [
       "Running Prediction:   0%|          | 0/1 [00:00<?, ?it/s]"
      ]
     },
     "metadata": {},
     "output_type": "display_data"
    },
    {
     "name": "stderr",
     "output_type": "stream",
     "text": [
      "2022-07-15 13:43:04,935 - 322050 - simpletransformers.question_answering.question_answering_model - INFO -  Converting to features started.\n"
     ]
    },
    {
     "name": "stdout",
     "output_type": "stream",
     "text": [
      "PE inflows into proptech firms rise to $741 million in 2021: Report | Business Standard News PE inflows into proptech firms rise to $741 million in 2021: Report | Business Standard News\n"
     ]
    },
    {
     "name": "stderr",
     "output_type": "stream",
     "text": [
      "convert squad examples to features: 100%|██████████| 1/1 [00:00<00:00, 113.82it/s]\n",
      "add example index and unique id: 100%|██████████| 1/1 [00:00<00:00, 11037.64it/s]\n"
     ]
    },
    {
     "data": {
      "application/vnd.jupyter.widget-view+json": {
       "model_id": "043991a229db4b91954d126d985dce59",
       "version_major": 2,
       "version_minor": 0
      },
      "text/plain": [
       "Running Prediction:   0%|          | 0/1 [00:00<?, ?it/s]"
      ]
     },
     "metadata": {},
     "output_type": "display_data"
    },
    {
     "name": "stderr",
     "output_type": "stream",
     "text": [
      "2022-07-15 13:43:05,487 - 322050 - simpletransformers.question_answering.question_answering_model - INFO -  Converting to features started.\n"
     ]
    },
    {
     "name": "stdout",
     "output_type": "stream",
     "text": [
      "'Halo' effect of <b>IPO</b> helps drive revenues at DSW Capital | TheBusinessDesk.com 'Halo' effect of <b>IPO</b> helps drive revenues at DSW Capital | TheBusinessDesk.com\n"
     ]
    },
    {
     "name": "stderr",
     "output_type": "stream",
     "text": [
      "convert squad examples to features: 100%|██████████| 1/1 [00:00<00:00, 307.57it/s]\n",
      "add example index and unique id: 100%|██████████| 1/1 [00:00<00:00, 20971.52it/s]\n"
     ]
    },
    {
     "data": {
      "application/vnd.jupyter.widget-view+json": {
       "model_id": "b2cbb2666b214feda156d13fe67f0d51",
       "version_major": 2,
       "version_minor": 0
      },
      "text/plain": [
       "Running Prediction:   0%|          | 0/1 [00:00<?, ?it/s]"
      ]
     },
     "metadata": {},
     "output_type": "display_data"
    },
    {
     "name": "stderr",
     "output_type": "stream",
     "text": [
      "2022-07-15 13:43:05,993 - 322050 - simpletransformers.question_answering.question_answering_model - INFO -  Converting to features started.\n"
     ]
    },
    {
     "name": "stdout",
     "output_type": "stream",
     "text": [
      "PE investments in PropTech rise 35% annually to $741 mn in 2021 | The Financial Express PE investments in PropTech rise 35% annually to $741 mn in 2021 | The Financial Express\n"
     ]
    },
    {
     "name": "stderr",
     "output_type": "stream",
     "text": [
      "convert squad examples to features: 100%|██████████| 1/1 [00:00<00:00, 225.43it/s]\n",
      "add example index and unique id: 100%|██████████| 1/1 [00:00<00:00, 20560.31it/s]\n"
     ]
    },
    {
     "data": {
      "application/vnd.jupyter.widget-view+json": {
       "model_id": "c437878076744e06a38d071d33992a31",
       "version_major": 2,
       "version_minor": 0
      },
      "text/plain": [
       "Running Prediction:   0%|          | 0/1 [00:00<?, ?it/s]"
      ]
     },
     "metadata": {},
     "output_type": "display_data"
    },
    {
     "name": "stderr",
     "output_type": "stream",
     "text": [
      "2022-07-15 13:43:06,527 - 322050 - simpletransformers.question_answering.question_answering_model - INFO -  Converting to features started.\n"
     ]
    },
    {
     "name": "stdout",
     "output_type": "stream",
     "text": [
      "AFRO Dollar Money, Mobile \"Digital Currency\" $75 Million <b>IPO</b>, files with SEC ... - Headlines of Today AFRO Dollar Money, Mobile \"Digital Currency\" $75 Million <b>IPO</b>, files with SEC ... - Headlines of Today\n"
     ]
    },
    {
     "name": "stderr",
     "output_type": "stream",
     "text": [
      "convert squad examples to features: 100%|██████████| 1/1 [00:00<00:00, 401.10it/s]\n",
      "add example index and unique id: 100%|██████████| 1/1 [00:00<00:00, 14820.86it/s]\n"
     ]
    },
    {
     "data": {
      "application/vnd.jupyter.widget-view+json": {
       "model_id": "61ad09464d5c47288bc0a543369eddae",
       "version_major": 2,
       "version_minor": 0
      },
      "text/plain": [
       "Running Prediction:   0%|          | 0/1 [00:00<?, ?it/s]"
      ]
     },
     "metadata": {},
     "output_type": "display_data"
    },
    {
     "name": "stderr",
     "output_type": "stream",
     "text": [
      "2022-07-15 13:43:07,069 - 322050 - simpletransformers.question_answering.question_answering_model - INFO -  Converting to features started.\n"
     ]
    },
    {
     "name": "stdout",
     "output_type": "stream",
     "text": [
      "Cancer biotech MAIA Biotechnology sets terms for $10 million <b>IPO</b> - Renaissance Capital Cancer biotech MAIA Biotechnology sets terms for $10 million <b>IPO</b> - Renaissance Capital\n"
     ]
    },
    {
     "name": "stderr",
     "output_type": "stream",
     "text": [
      "convert squad examples to features: 100%|██████████| 1/1 [00:00<00:00, 321.70it/s]\n",
      "add example index and unique id: 100%|██████████| 1/1 [00:00<00:00, 16131.94it/s]\n"
     ]
    },
    {
     "data": {
      "application/vnd.jupyter.widget-view+json": {
       "model_id": "0ea4aed1b22c4ae6b68f119d9c7e71a5",
       "version_major": 2,
       "version_minor": 0
      },
      "text/plain": [
       "Running Prediction:   0%|          | 0/1 [00:00<?, ?it/s]"
      ]
     },
     "metadata": {},
     "output_type": "display_data"
    },
    {
     "name": "stderr",
     "output_type": "stream",
     "text": [
      "2022-07-15 13:43:07,613 - 322050 - simpletransformers.question_answering.question_answering_model - INFO -  Converting to features started.\n"
     ]
    },
    {
     "name": "stdout",
     "output_type": "stream",
     "text": [
      "Tera Data Indonusa (AXIO) Posts IPO Price of IDR 140 Reporter: Akhmad Suryahadi | Editor: Tendi Mahadi KONTAN.CO.ID - JAKARTA. The process of the initial public offering (IPO) of PT Tera Data Indonusa Tbk (AXIO) continues. The company which is engaged in the wholesale trading of computers and computer equipment has an offering price of Rp. 140. Citing the e-IPO page, Thursday (14/7), AXIO released 1.04 billion shares representing 17.81% of the issued capital. and fully paid after the IPO. So, overall, AXIO received fresh funds of Rp 145.61 billion in this corporate action. The offering period starts today (14/7) until Monday (18/7). Acting as guarantor for implementing securities in this IPO are PT BNI Sekuritas and PT CIMB Niaga Sekuritas. AXIO will use the proceeds from the IPO for two purposes. Around 90% will be used for working capital to support increased sales in the form of purchasing raw materials for components and product spare parts which include LCD, motherboard, SSD, RAM, and others. Also Read: Moratelindo IPO, Consider Prospects of Several Tower Issuers In addition, AXIO will also use it for financing accounts receivable, improving the quality of human resources through internal and external training as well as developing distribution channels through marketing personnel and expanding service center coverage in the marketing area. The remainder will be used for capital expenditure, among others, for the expansion of the warehouse and production areas located at AXIO's current factory. The IPO funds will also be used to purchase production support equipment in the form of conveyor lines, forklifts, racking management, as well as machines in the form of surface mounting technology (SMT) for motherboard production and development support tools in the form of quality control kits. The following is the schedule for Tera Data Indonusa's IPO: Initial Public Offering Period : 14 – 18 July 2022 Allotment Date : 18 July 2022 Electronic Share Distribution Date : 19 July 2022 Subscription Refund Date : 19 July 2022 Share Listing Date on the Indonesia Stock Exchange : 20 July 2022. Check other News and Articles on Google News DONATE, Get Free Vouchers! Your support will increase our enthusiasm to provide quality and useful articles. As an expression of gratitude for your attention, there is a free voucher worth a donation that can be used for shopping at the KONTAN Store. SUPPORT CONTENT NEWS INDEX Tag IPO IPO plan IPO PT Tera Data Indonusa Tbk (AXIO) Reporter: Akhmad Suryahadi Editor: Tendi Mahadi\n"
     ]
    },
    {
     "name": "stderr",
     "output_type": "stream",
     "text": [
      "convert squad examples to features: 100%|██████████| 1/1 [00:00<00:00, 51.98it/s]\n",
      "add example index and unique id: 100%|██████████| 1/1 [00:00<00:00, 9576.04it/s]\n"
     ]
    },
    {
     "data": {
      "application/vnd.jupyter.widget-view+json": {
       "model_id": "1bab312fa1824fdf985a26a9b0ee2944",
       "version_major": 2,
       "version_minor": 0
      },
      "text/plain": [
       "Running Prediction:   0%|          | 0/1 [00:00<?, ?it/s]"
      ]
     },
     "metadata": {},
     "output_type": "display_data"
    },
    {
     "name": "stderr",
     "output_type": "stream",
     "text": [
      "2022-07-15 13:43:08,360 - 322050 - simpletransformers.question_answering.question_answering_model - INFO -  Converting to features started.\n"
     ]
    },
    {
     "name": "stdout",
     "output_type": "stream",
     "text": [
      "Taylor Collison launches Heavy Rare Earths IPO; cornerstones locked WA explorer Heavy Rare Earths has launched an initial public offering, which will see mining luminaries Martin Holland and David Hannon top up their existing shareholdings. Rare earth concentrate ready for processing.  Trevor Collens Street Talk can reveal Heavy Rare Earths, which is poised to start drilling in the abundant Norseman region, was looking to raise $6 million via Taylor Collison Securities, and would list with a $13 million market capitalisation. Over $3 million of the IPO was already spoken for by cornerstone investors, with sources expecting top-ups from existing investors, which include Holland, the former founder and chief executive of ASX-listed Lithium Power International (LPI) and Hannon, founding director of Atlas Iron and LPI chair, Numbers put to fund managers said Heavy Rare Earths had a maiden inferred JORC resource of 28 million tonnes at 625 parts per million, with four rare earths (praseodymium, neodymium, terbium and dysprosium) making up a quarter of the mix. It said it was the first company in the region to be able to hit a resource. \n"
     ]
    },
    {
     "name": "stderr",
     "output_type": "stream",
     "text": [
      "convert squad examples to features: 100%|██████████| 1/1 [00:00<00:00, 79.99it/s]\n",
      "add example index and unique id: 100%|██████████| 1/1 [00:00<00:00, 11491.24it/s]\n"
     ]
    },
    {
     "data": {
      "application/vnd.jupyter.widget-view+json": {
       "model_id": "1a72b70402124aba883348ee1a8134aa",
       "version_major": 2,
       "version_minor": 0
      },
      "text/plain": [
       "Running Prediction:   0%|          | 0/1 [00:00<?, ?it/s]"
      ]
     },
     "metadata": {},
     "output_type": "display_data"
    },
    {
     "name": "stderr",
     "output_type": "stream",
     "text": [
      "2022-07-15 13:43:08,902 - 322050 - simpletransformers.question_answering.question_answering_model - INFO -  Converting to features started.\n"
     ]
    },
    {
     "name": "stdout",
     "output_type": "stream",
     "text": [
      "Chinese fast-fashion company Shein seeks U.S. IPO as soon as 2024, report says <![CDATA[Shein, the Chinese fast-fashion giant, has faced criticism over how workers are treated at plants that manufacture apparel for the company.]]>\n"
     ]
    },
    {
     "name": "stderr",
     "output_type": "stream",
     "text": [
      "convert squad examples to features: 100%|██████████| 1/1 [00:00<00:00, 291.98it/s]\n",
      "add example index and unique id: 100%|██████████| 1/1 [00:00<00:00, 11366.68it/s]\n"
     ]
    },
    {
     "data": {
      "application/vnd.jupyter.widget-view+json": {
       "model_id": "f1f3c9ba59d64d73aadc10744ca29c99",
       "version_major": 2,
       "version_minor": 0
      },
      "text/plain": [
       "Running Prediction:   0%|          | 0/1 [00:00<?, ?it/s]"
      ]
     },
     "metadata": {},
     "output_type": "display_data"
    },
    {
     "name": "stderr",
     "output_type": "stream",
     "text": [
      "2022-07-15 13:43:09,421 - 322050 - simpletransformers.question_answering.question_answering_model - INFO -  Converting to features started.\n"
     ]
    },
    {
     "name": "stdout",
     "output_type": "stream",
     "text": [
      "Vistas Acquisition II Files for $200M <b>IPO</b> | DealFlow's SPAC News The new SPAC plans to target companies engaged in consumer technology, media and entertainment. CEO Jacob Cherian is the Co-CEO and a director of ...\n"
     ]
    },
    {
     "name": "stderr",
     "output_type": "stream",
     "text": [
      "convert squad examples to features: 100%|██████████| 1/1 [00:00<00:00, 196.17it/s]\n",
      "add example index and unique id: 100%|██████████| 1/1 [00:00<00:00, 18978.75it/s]\n"
     ]
    },
    {
     "data": {
      "application/vnd.jupyter.widget-view+json": {
       "model_id": "89b927de9da640768cea7b860cc346de",
       "version_major": 2,
       "version_minor": 0
      },
      "text/plain": [
       "Running Prediction:   0%|          | 0/1 [00:00<?, ?it/s]"
      ]
     },
     "metadata": {},
     "output_type": "display_data"
    },
    {
     "name": "stderr",
     "output_type": "stream",
     "text": [
      "2022-07-15 13:43:10,023 - 322050 - simpletransformers.question_answering.question_answering_model - INFO -  Converting to features started.\n"
     ]
    },
    {
     "name": "stdout",
     "output_type": "stream",
     "text": [
      "Lunit to be Listed on KOSDAQ next week - Yahoo Finance Lunit, a global provider of AI-based cancer solutions, announced that it priced its <b>initial public offering</b> (IPO) of 1215800 shares of its common ...\n"
     ]
    },
    {
     "name": "stderr",
     "output_type": "stream",
     "text": [
      "convert squad examples to features: 100%|██████████| 1/1 [00:00<00:00, 433.97it/s]\n",
      "add example index and unique id: 100%|██████████| 1/1 [00:00<00:00, 18724.57it/s]\n"
     ]
    },
    {
     "data": {
      "application/vnd.jupyter.widget-view+json": {
       "model_id": "189cb5d729d3459c816063197a813fc7",
       "version_major": 2,
       "version_minor": 0
      },
      "text/plain": [
       "Running Prediction:   0%|          | 0/1 [00:00<?, ?it/s]"
      ]
     },
     "metadata": {},
     "output_type": "display_data"
    },
    {
     "name": "stderr",
     "output_type": "stream",
     "text": [
      "2022-07-15 13:43:10,549 - 322050 - simpletransformers.question_answering.question_answering_model - INFO -  Converting to features started.\n"
     ]
    },
    {
     "name": "stdout",
     "output_type": "stream",
     "text": [
      "Firm Advises Nano Labs on IPO and <b>Listing</b> on the NASDAQ | Wilson Sonsini On July 12, 2022, Nano Labs Ltd. announced the pricing of its initial public offering of 1770000 American depositary shares (ADSs) at a price to ...\n"
     ]
    },
    {
     "name": "stderr",
     "output_type": "stream",
     "text": [
      "convert squad examples to features: 100%|██████████| 1/1 [00:00<00:00, 209.11it/s]\n",
      "add example index and unique id: 100%|██████████| 1/1 [00:00<00:00, 13107.20it/s]\n"
     ]
    },
    {
     "data": {
      "application/vnd.jupyter.widget-view+json": {
       "model_id": "bd9ad273fe544ad3af92390a7b7d50a4",
       "version_major": 2,
       "version_minor": 0
      },
      "text/plain": [
       "Running Prediction:   0%|          | 0/1 [00:00<?, ?it/s]"
      ]
     },
     "metadata": {},
     "output_type": "display_data"
    },
    {
     "name": "stderr",
     "output_type": "stream",
     "text": [
      "2022-07-15 13:43:11,075 - 322050 - simpletransformers.question_answering.question_answering_model - INFO -  Converting to features started.\n"
     ]
    },
    {
     "name": "stdout",
     "output_type": "stream",
     "text": [
      "A beginner's guide to <b>trading</b> futures contracts - Business Insider Futures contracts allow <b>traders</b> to speculate on the direction of price movements on asset classes such as livestock, oil, and soybeans.\n"
     ]
    },
    {
     "name": "stderr",
     "output_type": "stream",
     "text": [
      "convert squad examples to features: 100%|██████████| 1/1 [00:00<00:00, 237.30it/s]\n",
      "add example index and unique id: 100%|██████████| 1/1 [00:00<00:00, 2803.68it/s]\n"
     ]
    },
    {
     "data": {
      "application/vnd.jupyter.widget-view+json": {
       "model_id": "a35bdf3005254678b46d10dee7fb0982",
       "version_major": 2,
       "version_minor": 0
      },
      "text/plain": [
       "Running Prediction:   0%|          | 0/1 [00:00<?, ?it/s]"
      ]
     },
     "metadata": {},
     "output_type": "display_data"
    },
    {
     "name": "stderr",
     "output_type": "stream",
     "text": [
      "2022-07-15 13:43:11,608 - 322050 - simpletransformers.question_answering.question_answering_model - INFO -  Converting to features started.\n"
     ]
    },
    {
     "name": "stdout",
     "output_type": "stream",
     "text": [
      "Fed Watchdog Clears Powell, Clarida in <b>Trading</b> Scandal Probe - Bloomberg The Federal Reserve's Inspector General said Chair Jerome Powell and former Vice Chair Richard Clarida's <b>trading</b> activity had not broken any laws ...\n"
     ]
    },
    {
     "name": "stderr",
     "output_type": "stream",
     "text": [
      "convert squad examples to features: 100%|██████████| 1/1 [00:00<00:00, 154.49it/s]\n",
      "add example index and unique id: 100%|██████████| 1/1 [00:00<00:00, 19599.55it/s]\n"
     ]
    },
    {
     "data": {
      "application/vnd.jupyter.widget-view+json": {
       "model_id": "a973c5013cc64698a77d68be5698cced",
       "version_major": 2,
       "version_minor": 0
      },
      "text/plain": [
       "Running Prediction:   0%|          | 0/1 [00:00<?, ?it/s]"
      ]
     },
     "metadata": {},
     "output_type": "display_data"
    },
    {
     "name": "stderr",
     "output_type": "stream",
     "text": [
      "2022-07-15 13:43:12,129 - 322050 - simpletransformers.question_answering.question_answering_model - INFO -  Converting to features started.\n"
     ]
    },
    {
     "name": "stdout",
     "output_type": "stream",
     "text": [
      "Relative Strength Index (RSI) - Investopedia The RSI, used in conjunction with other technical indicators, can help <b>traders</b> make better-informed <b>trading</b> decisions. Calculating RSI. The RSI uses a ...\n"
     ]
    },
    {
     "name": "stderr",
     "output_type": "stream",
     "text": [
      "convert squad examples to features: 100%|██████████| 1/1 [00:00<00:00, 656.69it/s]\n",
      "add example index and unique id: 100%|██████████| 1/1 [00:00<00:00, 16384.00it/s]\n"
     ]
    },
    {
     "data": {
      "application/vnd.jupyter.widget-view+json": {
       "model_id": "9b676deca1aa4616a613df7524cf8004",
       "version_major": 2,
       "version_minor": 0
      },
      "text/plain": [
       "Running Prediction:   0%|          | 0/1 [00:00<?, ?it/s]"
      ]
     },
     "metadata": {},
     "output_type": "display_data"
    },
    {
     "name": "stderr",
     "output_type": "stream",
     "text": [
      "2022-07-15 13:43:12,673 - 322050 - simpletransformers.question_answering.question_answering_model - INFO -  Converting to features started.\n"
     ]
    },
    {
     "name": "stdout",
     "output_type": "stream",
     "text": [
      "Report: Blue Jays Still Interested in <b>Trading</b> For Unvaccinated Benintendi - Sports Illustrated Despite his unvaccinated status, Royals outfielder Andrew Benintendi is a <b>trade</b> target for the Blue Jays, reports Jon Heyman.\n"
     ]
    },
    {
     "name": "stderr",
     "output_type": "stream",
     "text": [
      "convert squad examples to features: 100%|██████████| 1/1 [00:00<00:00, 70.80it/s]\n",
      "add example index and unique id: 100%|██████████| 1/1 [00:00<00:00, 11650.84it/s]\n"
     ]
    },
    {
     "data": {
      "application/vnd.jupyter.widget-view+json": {
       "model_id": "7a78d327964f4c54abf098f29d22320b",
       "version_major": 2,
       "version_minor": 0
      },
      "text/plain": [
       "Running Prediction:   0%|          | 0/1 [00:00<?, ?it/s]"
      ]
     },
     "metadata": {},
     "output_type": "display_data"
    },
    {
     "name": "stderr",
     "output_type": "stream",
     "text": [
      "2022-07-15 13:43:13,245 - 322050 - simpletransformers.question_answering.question_answering_model - INFO -  Converting to features started.\n"
     ]
    },
    {
     "name": "stdout",
     "output_type": "stream",
     "text": [
      "Jay Bilas: Warriors <b>trade</b> for Kevin Durant would sacrifice promising future - NBC Sports Jay Bilas joined \"Dubs Talk\" to chat about the possibility of the Warriors <b>trading</b> for superstar Kevin Durant.\n"
     ]
    },
    {
     "name": "stderr",
     "output_type": "stream",
     "text": [
      "convert squad examples to features: 100%|██████████| 1/1 [00:00<00:00, 370.55it/s]\n",
      "add example index and unique id: 100%|██████████| 1/1 [00:00<00:00, 16008.79it/s]\n"
     ]
    },
    {
     "data": {
      "application/vnd.jupyter.widget-view+json": {
       "model_id": "023f4644dd51416fa531f3ab9523669a",
       "version_major": 2,
       "version_minor": 0
      },
      "text/plain": [
       "Running Prediction:   0%|          | 0/1 [00:00<?, ?it/s]"
      ]
     },
     "metadata": {},
     "output_type": "display_data"
    },
    {
     "name": "stderr",
     "output_type": "stream",
     "text": [
      "2022-07-15 13:43:13,794 - 322050 - simpletransformers.question_answering.question_answering_model - INFO -  Converting to features started.\n"
     ]
    },
    {
     "name": "stdout",
     "output_type": "stream",
     "text": [
      "How much leverage does Kevin Durant have to force a <b>trade</b> from the Nets? | First Take How much leverage does Kevin Durant have to force a <b>trade</b> from the Nets? | First TakeThe First Take crew discusses the leverage Kevin Durant has ...\n"
     ]
    },
    {
     "name": "stderr",
     "output_type": "stream",
     "text": [
      "convert squad examples to features: 100%|██████████| 1/1 [00:00<00:00, 237.27it/s]\n",
      "add example index and unique id: 100%|██████████| 1/1 [00:00<00:00, 8981.38it/s]\n"
     ]
    },
    {
     "data": {
      "application/vnd.jupyter.widget-view+json": {
       "model_id": "75419a9f159d4a048099573c4346bbce",
       "version_major": 2,
       "version_minor": 0
      },
      "text/plain": [
       "Running Prediction:   0%|          | 0/1 [00:00<?, ?it/s]"
      ]
     },
     "metadata": {},
     "output_type": "display_data"
    },
    {
     "name": "stderr",
     "output_type": "stream",
     "text": [
      "2022-07-15 13:43:14,331 - 322050 - simpletransformers.question_answering.question_answering_model - INFO -  Converting to features started.\n"
     ]
    },
    {
     "name": "stdout",
     "output_type": "stream",
     "text": [
      "Three Hypothetical Jazz, Knicks Donovan Mitchell <b>Trades</b> - KSL Sports Three potential <b>trade</b> options for the Utah Jazz and New York Knicks centered around Donovan Mitchell and future draft picks.\n"
     ]
    },
    {
     "name": "stderr",
     "output_type": "stream",
     "text": [
      "convert squad examples to features: 100%|██████████| 1/1 [00:00<00:00, 181.92it/s]\n",
      "add example index and unique id: 100%|██████████| 1/1 [00:00<00:00, 20763.88it/s]\n"
     ]
    },
    {
     "data": {
      "application/vnd.jupyter.widget-view+json": {
       "model_id": "4befd0c8fa1c45c8be5e771df8923e16",
       "version_major": 2,
       "version_minor": 0
      },
      "text/plain": [
       "Running Prediction:   0%|          | 0/1 [00:00<?, ?it/s]"
      ]
     },
     "metadata": {},
     "output_type": "display_data"
    },
    {
     "name": "stderr",
     "output_type": "stream",
     "text": [
      "2022-07-15 13:43:14,854 - 322050 - simpletransformers.question_answering.question_answering_model - INFO -  Converting to features started.\n"
     ]
    },
    {
     "name": "stdout",
     "output_type": "stream",
     "text": [
      "Deandre Ayton <b>trade</b>, free agency live updates: What Pacers' offer sheet means for Suns Phoenix Suns center Deandre Ayton's name continues to swirl in NBA <b>trade</b> speculation and NBA free agency speculation. Could the Suns deal him the ...\n"
     ]
    },
    {
     "name": "stderr",
     "output_type": "stream",
     "text": [
      "convert squad examples to features: 100%|██████████| 1/1 [00:00<00:00, 261.34it/s]\n",
      "add example index and unique id: 100%|██████████| 1/1 [00:00<00:00, 15420.24it/s]\n"
     ]
    },
    {
     "data": {
      "application/vnd.jupyter.widget-view+json": {
       "model_id": "1ad0f48ca8d743f0b3fa6cfcb81eb2cf",
       "version_major": 2,
       "version_minor": 0
      },
      "text/plain": [
       "Running Prediction:   0%|          | 0/1 [00:00<?, ?it/s]"
      ]
     },
     "metadata": {},
     "output_type": "display_data"
    },
    {
     "name": "stderr",
     "output_type": "stream",
     "text": [
      "2022-07-15 13:43:15,399 - 322050 - simpletransformers.question_answering.question_answering_model - INFO -  Converting to features started.\n"
     ]
    },
    {
     "name": "stdout",
     "output_type": "stream",
     "text": [
      "Fed watchdog clears top officials in <b>trading</b> investigation | Financial Times An independent investigation into the <b>trading</b> activities of senior officials at the Federal Reserve has concluded transactions made by Richard ...\n"
     ]
    },
    {
     "name": "stderr",
     "output_type": "stream",
     "text": [
      "convert squad examples to features: 100%|██████████| 1/1 [00:00<00:00, 276.96it/s]\n",
      "add example index and unique id: 100%|██████████| 1/1 [00:00<00:00, 20661.60it/s]\n"
     ]
    },
    {
     "data": {
      "application/vnd.jupyter.widget-view+json": {
       "model_id": "45558abe084842f7bfb8769a3da3b080",
       "version_major": 2,
       "version_minor": 0
      },
      "text/plain": [
       "Running Prediction:   0%|          | 0/1 [00:00<?, ?it/s]"
      ]
     },
     "metadata": {},
     "output_type": "display_data"
    },
    {
     "name": "stderr",
     "output_type": "stream",
     "text": [
      "2022-07-15 13:43:15,910 - 322050 - simpletransformers.question_answering.question_answering_model - INFO -  Converting to features started.\n"
     ]
    },
    {
     "name": "stdout",
     "output_type": "stream",
     "text": [
      "Forex Signal System Definition - Investopedia A forex signal system is a set of analyses that forex <b>traders</b> use to generate <b>trading</b> signals to determine whether to buy or sell a currency pair at a ...\n"
     ]
    },
    {
     "name": "stderr",
     "output_type": "stream",
     "text": [
      "convert squad examples to features: 100%|██████████| 1/1 [00:00<00:00, 251.13it/s]\n",
      "add example index and unique id: 100%|██████████| 1/1 [00:00<00:00, 19878.22it/s]\n"
     ]
    },
    {
     "data": {
      "application/vnd.jupyter.widget-view+json": {
       "model_id": "ad3ee0c0cfac44049d8f49a20c9a0e23",
       "version_major": 2,
       "version_minor": 0
      },
      "text/plain": [
       "Running Prediction:   0%|          | 0/1 [00:00<?, ?it/s]"
      ]
     },
     "metadata": {},
     "output_type": "display_data"
    },
    {
     "name": "stderr",
     "output_type": "stream",
     "text": [
      "2022-07-15 13:43:16,412 - 322050 - simpletransformers.question_answering.question_answering_model - INFO -  Converting to features started.\n"
     ]
    },
    {
     "name": "stdout",
     "output_type": "stream",
     "text": [
      "Global IPO activity falls 46 pct, proceeds shrink 58 pct ytd 2022: EY kuala lumpur: global initial public offering (ipo) saw its year-to-date ( …  postponement of many ipos. in a statement today, ey initial public offering services said …  the top ipo fundraiser, whereby among the top 10 largest ipos by …\n"
     ]
    },
    {
     "name": "stderr",
     "output_type": "stream",
     "text": [
      "convert squad examples to features: 100%|██████████| 1/1 [00:00<00:00, 265.63it/s]\n",
      "add example index and unique id: 100%|██████████| 1/1 [00:00<00:00, 15141.89it/s]\n"
     ]
    },
    {
     "data": {
      "application/vnd.jupyter.widget-view+json": {
       "model_id": "4cf233445d454ee4988f4678dd3a1389",
       "version_major": 2,
       "version_minor": 0
      },
      "text/plain": [
       "Running Prediction:   0%|          | 0/1 [00:00<?, ?it/s]"
      ]
     },
     "metadata": {},
     "output_type": "display_data"
    },
    {
     "name": "stderr",
     "output_type": "stream",
     "text": [
      "2022-07-15 13:43:16,926 - 322050 - simpletransformers.question_answering.question_answering_model - INFO -  Converting to features started.\n"
     ]
    },
    {
     "name": "stdout",
     "output_type": "stream",
     "text": [
      "Why we are in a season of IPO drought  …  : there is a lull of initial public offerings (ipos) after a storm last year …  has been a dearth of ipos for more than a month …  month in last year’s ipo boom when no public issue …\n"
     ]
    },
    {
     "name": "stderr",
     "output_type": "stream",
     "text": [
      "convert squad examples to features: 100%|██████████| 1/1 [00:00<00:00, 157.76it/s]\n",
      "add example index and unique id: 100%|██████████| 1/1 [00:00<00:00, 10810.06it/s]\n"
     ]
    },
    {
     "data": {
      "application/vnd.jupyter.widget-view+json": {
       "model_id": "20bcb446e86f474c9c86a41036f36fcc",
       "version_major": 2,
       "version_minor": 0
      },
      "text/plain": [
       "Running Prediction:   0%|          | 0/1 [00:00<?, ?it/s]"
      ]
     },
     "metadata": {},
     "output_type": "display_data"
    },
    {
     "name": "stderr",
     "output_type": "stream",
     "text": [
      "2022-07-15 13:43:17,490 - 322050 - simpletransformers.question_answering.question_answering_model - INFO -  Converting to features started.\n"
     ]
    },
    {
     "name": "stdout",
     "output_type": "stream",
     "text": [
      "Chinese fast-fashion company Shein seeks U.S. IPO as soon as 2024, report says TopologyPro One News Aggregator and Search Portal  …  shein hopes to do an initial public offering in the united states as …  be an obstacle to an ipo, according to the report. previously … , shein had sought a 2022 ipo in the u.s., according …\n"
     ]
    },
    {
     "name": "stderr",
     "output_type": "stream",
     "text": [
      "convert squad examples to features: 100%|██████████| 1/1 [00:00<00:00, 213.24it/s]\n",
      "add example index and unique id: 100%|██████████| 1/1 [00:00<00:00, 9218.25it/s]\n"
     ]
    },
    {
     "data": {
      "application/vnd.jupyter.widget-view+json": {
       "model_id": "e1c2e5e4b92d438199a60c001979bf81",
       "version_major": 2,
       "version_minor": 0
      },
      "text/plain": [
       "Running Prediction:   0%|          | 0/1 [00:00<?, ?it/s]"
      ]
     },
     "metadata": {},
     "output_type": "display_data"
    },
    {
     "name": "stderr",
     "output_type": "stream",
     "text": [
      "2022-07-15 13:43:18,013 - 322050 - simpletransformers.question_answering.question_answering_model - INFO -  Converting to features started.\n"
     ]
    },
    {
     "name": "stdout",
     "output_type": "stream",
     "text": [
      "Taiwan edge AI company Gorilla Technology IPO surges 123% on first day of Nasdaq trading     …  the first day of the initial public offering (ipo), the share of gorilla went …  solutions and services after the ipo.   gorilla's edge ai … \n"
     ]
    },
    {
     "name": "stderr",
     "output_type": "stream",
     "text": [
      "convert squad examples to features: 100%|██████████| 1/1 [00:00<00:00, 219.40it/s]\n",
      "add example index and unique id: 100%|██████████| 1/1 [00:00<00:00, 14364.05it/s]\n"
     ]
    },
    {
     "data": {
      "application/vnd.jupyter.widget-view+json": {
       "model_id": "4a68bdb5485b46668ece9b2477e04cea",
       "version_major": 2,
       "version_minor": 0
      },
      "text/plain": [
       "Running Prediction:   0%|          | 0/1 [00:00<?, ?it/s]"
      ]
     },
     "metadata": {},
     "output_type": "display_data"
    },
    {
     "name": "stderr",
     "output_type": "stream",
     "text": [
      "2022-07-15 13:43:18,534 - 322050 - simpletransformers.question_answering.question_answering_model - INFO -  Converting to features started.\n"
     ]
    },
    {
     "name": "stdout",
     "output_type": "stream",
     "text": [
      "Chinese fast-fashion company Shein seeks U.S. IPO as soon as 2024, report says Two people hold two Shein bags after entering SHEIN's first physical store in Madrid, Spain, June 2, 2022. Cezaro De Luca | Europa Press | Getty Images Chinese fast-fashion giant Shein hopes to do an initial public offering in the United States as soon as 2024, according to a report from Bloomberg , which cited people familiar with the matter. Yet it faces environmental, social and governance, or ESG, concerns that could be an obstacle to an IPO, according to the report. Previously, Shein had sought a 2022 IPO in the U.S., according to Reuters . Shein, which has a...\n"
     ]
    },
    {
     "name": "stderr",
     "output_type": "stream",
     "text": [
      "convert squad examples to features: 100%|██████████| 1/1 [00:00<00:00, 140.82it/s]\n",
      "add example index and unique id: 100%|██████████| 1/1 [00:00<00:00, 18001.30it/s]\n"
     ]
    },
    {
     "data": {
      "application/vnd.jupyter.widget-view+json": {
       "model_id": "d682019120b940858361765e7ad7c949",
       "version_major": 2,
       "version_minor": 0
      },
      "text/plain": [
       "Running Prediction:   0%|          | 0/1 [00:00<?, ?it/s]"
      ]
     },
     "metadata": {},
     "output_type": "display_data"
    },
    {
     "name": "stderr",
     "output_type": "stream",
     "text": [
      "2022-07-15 13:43:19,058 - 322050 - simpletransformers.question_answering.question_answering_model - INFO -  Converting to features started.\n"
     ]
    },
    {
     "name": "stdout",
     "output_type": "stream",
     "text": [
      "Chinese fast fashion company Shein aims for US IPO as early as 2024: report Chinese fast fashion company Shein aims for US IPO as early as 2024: report Markets By Sydney Barrett Last updated Jul 14, 2022 Share Two people hold two Shein bags after entering SHEIN’s first retail store in Madrid, Spain, June 2, 2022. Cesaro de Luca | European Press | Getty Images Chinese fast-fashion giant Shein hopes to go public in the United States as early as 2024, according to a report by Bloomberg citing people familiar with the matter. However, according to the report, it faces environmental, social and governance or ESG concerns that could pose a barrier to an...\n"
     ]
    },
    {
     "name": "stderr",
     "output_type": "stream",
     "text": [
      "convert squad examples to features: 100%|██████████| 1/1 [00:00<00:00, 123.29it/s]\n",
      "add example index and unique id: 100%|██████████| 1/1 [00:00<00:00, 22075.28it/s]\n"
     ]
    },
    {
     "data": {
      "application/vnd.jupyter.widget-view+json": {
       "model_id": "0a72444035434928b0f6e18c02b139eb",
       "version_major": 2,
       "version_minor": 0
      },
      "text/plain": [
       "Running Prediction:   0%|          | 0/1 [00:00<?, ?it/s]"
      ]
     },
     "metadata": {},
     "output_type": "display_data"
    },
    {
     "name": "stderr",
     "output_type": "stream",
     "text": [
      "2022-07-15 13:43:19,581 - 322050 - simpletransformers.question_answering.question_answering_model - INFO -  Converting to features started.\n"
     ]
    },
    {
     "name": "stdout",
     "output_type": "stream",
     "text": [
      "NEWSMAKER Saudi Arabia's powerful prince unbowed by Western uproar SummaryCompaniesFour years after Khashoggi killing, prince's power undiminishedBiden follows European leaders returning to Saudi ArabiaPrince crushed dissent at home, pushed assertive policy abroadHas taken tough line with Iran, but resumed indirect talksJuly 15 (Reuters) - Saudi Arabia's powerful crown prince Mohammed bin Salman has emerged unbowed from the international outrage over the killing of journalist Jamal Khashoggi four years ago, as Western leaders who once tried to isolate him now seek his support.U.S. President Joe Biden, who has accused the prince of ordering Khashoggi's murder and said Saudi Arabia should be made a pariah, will visit the oil-producing kingdom on Friday hoping for a respite from soaring global petroleum prices.He follows in the footsteps of European leaders who condemned the 2018 killing of Khashoggi by a Saudi hit squad in Istanbul but accept they cannot ignore the global energy giant and its de facto ruler.Register now for FREE unlimited access to Reuters.comRegisterOnly 36 years old and nominally still waiting to inherit power from his elderly father King Salman, the prince has already stamped his mark on the kingdom and the Middle East.He has crushed dissent and sidelined rivals in an unrelenting push for control at home while pursuing a more forceful foreign policy in the region, taking steps which have delighted admirers, unsettled Riyadh's traditional allies and shocked human rights advocates.The killing of Khashoggi, an insider-turned-critic, was a particularly heavy blow to the prestige of the prince, known by his initials MbS. He has denied ordering the operation although he accepted ultimate responsibility \"as a leader\".The murder deterred some investors and dramatically undercut MbS's promotion of himself as a reformer pursuing new freedoms in the conservative kingdom and home of Islam's holiest sites.But faced with the reality of an assertive leader who could be running the Middle East's largest economy for several decades to come, his critics abroad appear to have backed down.\"The whole attempt by the West post-Khashoggi to try to limit interaction with MbS was incrementally eroded, and Biden's visit will really put a bullet into that idea,\" said Ayham Kamel of consultancy Eurasia Group.\"He is there to revive the Saudi-U.S. relationship which in the current geopolitical environment - because of the Ukraine war, because of China competition, because of energy issues and Saudi Arabia's regional influence - needs to be fixed.\"Under the Crown Prince's watch far-reaching reforms, including the listing of state oil giant Saudi Aramco(2222.SE), have been accompanied by a crackdown on dissent and activism, detention of women's rights activists and a secretive purge of top royals and businessmen on corruption charges.At the same time, he pledged a tougher stance against the regional influence of sworn foe Iran and took the kingdom into a costly and unpopular war in Yemen.He won vocal support from former U.S. President Donald Trump, but after Biden pledged to take a harder line on Saudi Arabia the prince made overtures seen by diplomats as showing he was a valuable partner for regional stability.The moves included a deal to end a bitter row with Qatar that saw Riyadh and its allies boycott Doha, launching direct talks with Iran to contain tensions, and a truce in Yemen.But U.S. ties remain strained by Washington's restrictions on arms sales to the kingdom and indirect U.S.-Iran talks to revive the 2015 nuclear deal, without Gulf participation. Biden has also refused to deal directly with MbS as de facto ruler.\"Simply, I do not care,” the crown prince said in a March 2022 interview with The Atlantic, when asked whether Biden misunderstood things about him.RESENTMENT WITHIN FAMILYMbS rose from near obscurity after his father ascended the throne in 2015. He marginalized senior members of the royal family after ousting an older cousin as crown prince in a 2017 palace coup, and consolidated control over Saudi security and intelligence agencies, stirring resentment within the family.Later that year, he arrested several royals and other prominent Saudis, holding them for months at Riyadh's Ritz-Carlton hotel in an anti-corruption campaign that caused shockwaves at home and abroad.On the economy, MbS announced sweeping changes aimed at developing new industries to create jobs for Saudis and introducing fiscal reforms.High profile social reforms included allowing cinemas and public entertainment and ending a ban on women driving.While he is popular among young Saudis and has supporters among many royals, some ruling family members resent Mohammed's grip on power and questioned his leadership after unprecedented attacks on Saudi oil plants in 2019, according to sources with ties to the royals and business elite.In March 2020, authorities detained his cousin, former crown prince Mohammed bin Nayef and the king's brother Prince Ahmed in a move sources with royal connections said aimed at ensuring a smooth succession.MbS has admirers in the region, with one Gulf source saying his \"bulldozer\" approach was needed to change Saudi Arabia.The cornerstone of the economic transformation was selling shares in Aramco(2222.SE). A listing on the domestic bourse went ahead in 2019 after several false starts, briefly hitting a $2 trillion valuation, but there was not enough investor appetite for a foreign offering.The prince has also reshaped Saudi foreign policy.The kingdom's assertiveness under MbS followed what some hawkish Saudi officials regarded as a decade of growing Iranian influence across the region and concerns that Washington under former President Barack Obama turned a blind eye to what they saw as pernicious expansion of Iranian activity in Arab nations.However, while Riyadh and Tehran cut diplomatic ties in 2016, they launched direct talks in 2021 aimed at reducing tensions at a time Gulf states voice doubt about the U.S. commitment to the region.Register now for FREE unlimited access to Reuters.comRegisterEditing by William MacleanOur Standards: The Thomson Reuters Trust Principles.\n"
     ]
    },
    {
     "name": "stderr",
     "output_type": "stream",
     "text": [
      "convert squad examples to features: 100%|██████████| 1/1 [00:00<00:00, 18.84it/s]\n",
      "add example index and unique id: 100%|██████████| 1/1 [00:00<00:00, 15196.75it/s]\n"
     ]
    },
    {
     "data": {
      "application/vnd.jupyter.widget-view+json": {
       "model_id": "71ce6b9dd2aa45ca81a6eb04965cc6c5",
       "version_major": 2,
       "version_minor": 0
      },
      "text/plain": [
       "Running Prediction:   0%|          | 0/1 [00:00<?, ?it/s]"
      ]
     },
     "metadata": {},
     "output_type": "display_data"
    },
    {
     "name": "stderr",
     "output_type": "stream",
     "text": [
      "2022-07-15 13:43:20,588 - 322050 - simpletransformers.question_answering.question_answering_model - INFO -  Converting to features started.\n"
     ]
    },
    {
     "name": "stdout",
     "output_type": "stream",
     "text": [
      "Factbox: Who might succeed Boris Johnson as Britain's prime minister LONDON, July 14 (Reuters) - Five candidates are left in the contest to replace Boris Johnson as British prime minister.  read more Below are some details on the contenders, who are listed in alphabetical order.KEMI BADENOCHBadenoch was elected to parliament for the first time in 2017. She has held junior ministerial jobs, including most recently minister for equalities, but has never served in Cabinet.Register now for FREE unlimited access to Reuters.comRegisterA former Conservative member of the London Assembly, she has also served as vice-chair of the Conservative Party. Badenoch, 42, supported leaving the European Union in the 2016 referendum.She says she believes in limited government \"focused on doing some things well, not lots of things badly\".She has said she wants tax cuts, but only if government spending also comes down, and has criticised net-zero emissions targets and restrictions on free speech.PENNY MORDAUNTThe former defence secretary was sacked by Johnson after she endorsed his rival, Jeremy Hunt, during the 2019 leadership contest.Mordaunt, 49, was a passionate supporter of leaving the EU and has said she will aim to deliver the benefits of Brexit and help Britain recover from economic shocks such as the pandemic.Currently a junior trade minister, Mordaunt called the COVID lockdown-breaking parties in government \"shameful\" and has said that if she is prime minister, leadership has to change to be less about the leader.RISHI SUNAKIn his campaign launch video, Sunak promised to confront the difficult economic backdrop with \"honesty, seriousness and determination\", rather than piling the burden onto future generations.  read more The 42-year-old became finance minister in early 2020 and was praised for a COVID economic rescue package, including a costly jobs retention programme that averted mass unemployment.But he later faced criticism for not giving enough cost-of-living support to households. Revelations this year about his wealthy wife's non-domiciled tax status, and a fine he received for breaking COVID lockdown rules, have damaged his standing.His tax-and-spend budget last year put Britain on course for its biggest tax burden since the 1950s, undermining his claims to favour lower taxes.Sunak voted to leave the EU in the 2016 referendum.LIZ TRUSSThe foreign secretary has been the darling of the Conservative Party's grassroots and has regularly topped polls of party members carried out by the website Conservative Home.Truss has a carefully cultivated public image and was photographed in a tank last year, echoing a famous 1986 photo of Thatcher.She spent the first two years of Johnson's premiership as international trade secretary and is now in charge of dealing with the EU over post-Brexit trade rules for Northern Ireland, where she has taken an increasingly tough line in negotiations.Truss, 46, initially campaigned against Brexit but after the 2016 referendum said she had changed her mind.TOM TUGENDHATThe chair of parliament's foreign affairs committee, and a former soldier who fought in Iraq and Afghanistan. However, he is relatively untested because he has never served in Cabinet.Tugendhat, 49, has been a regular critic of Johnson and would offer his party a clean break with previous governments.He says he is a low-tax Conservative who did not support the rise in National Insurance, and has said fuel tax is \"crippling\" for many people.He voted to remain in the EU.($1 = 0.7971 pound)Register now for FREE unlimited access to Reuters.comRegisterAdditional reporting by Alistair Smout\n",
      "Editing by Angus MacSwan, David Evans, Jonathan Oatis and Andrew HeavensOur Standards: The Thomson Reuters Trust Principles.\n"
     ]
    },
    {
     "name": "stderr",
     "output_type": "stream",
     "text": [
      "convert squad examples to features: 100%|██████████| 1/1 [00:00<00:00, 31.70it/s]\n",
      "add example index and unique id: 100%|██████████| 1/1 [00:00<00:00, 10356.31it/s]\n"
     ]
    },
    {
     "data": {
      "application/vnd.jupyter.widget-view+json": {
       "model_id": "e430d6790a044e5086c44eb206076c3f",
       "version_major": 2,
       "version_minor": 0
      },
      "text/plain": [
       "Running Prediction:   0%|          | 0/1 [00:00<?, ?it/s]"
      ]
     },
     "metadata": {},
     "output_type": "display_data"
    },
    {
     "name": "stderr",
     "output_type": "stream",
     "text": [
      "2022-07-15 13:43:21,396 - 322050 - simpletransformers.question_answering.question_answering_model - INFO -  Converting to features started.\n"
     ]
    },
    {
     "name": "stdout",
     "output_type": "stream",
     "text": [
      "\n",
      "            Global IPO activity falls 46%, proceeds shrink 58% YTD\n",
      "         \n",
      "\n",
      "KUALA LUMPUR: Global initial public offering (IPO) saw its year-to-date (YTD) volumes fall 46 per cent year-on-year (y-o-y) to 630 IPOs, with proceeds shrinking 58 per cent y-o-y to US$95.4 billion (US$1=RM4.44), as heightened volatility caused by geopolitical tensions and macroeconomic factors, declining valuation and poor post-IPO share price performance led to the postponement of many IPOs. In a statement today, EY Initial Public Offering Services said for the second quarter of 2022 (Q2 2022), the global IPO market recorded 305 deals raising US$40.6 billion in proceeds, down 54 per cent and 65 per cent y-o-y, respectively. It said during the period under review, the energy sector had replaced the technology sector as the top IPO fundraiser, whereby among the top 10 largest IPOs by proceeds which raised US$40 billion, energy dominated three of the top four deals, replacing the technology sector.  \"The technology sector continued to lead by number, but the average IPO deal size came down to US$137 million from US$293 million, whereas energy has overtaken to lead by proceeds with average deal size increasing to US$680 million from US$191 million,\" it said. Regionally, EY said the IPO activity in the Americas region saw the sharpest decline (among all regions) in Q2 2022 versus Q2 2021, with deals decreasing 73 per cent y-o-y to 41 IPOs, and proceeds falling 95 per cent y-o-y to US$2.5 billion. However, it said compared with Q1 2022, the number of deals and proceeds in the region were up 14 per cent y-o-y and six per cent y-o-y, respectively. For the ASEAN region, it said YTD, the grouping registered a total of 54 IPOs raising US$2.4 billion, down two per cent y-o-y in the number of deals and 55 per cent y-o-y in proceeds. \"The notable decline in proceeds was due to a lack of mega IPOs (IPOs with proceeds equal to or greater than US$1 billion) YTD 2022, compared to three mega IPOs in YTD 2021 that raised US$3.9 billion,\" it said. It unveiled that the most active ASEAN exchanges were Indonesia (22 IPOs raising US$1.3 billion), Thailand (13 IPOs; US$300 million), and Philippines (seven IPOs; US$300 million), followed by Malaysia (six IPOs; US$500 million) and Singapore (six IPOs raising US$33 million). For Asia-Pacific, EY said the region finished the quarter with a 42 per cent y-o-y decline in proceeds and 37 per cent y-o-y decline in deals. \"The region saw 181 IPOs raising US$ 23.3 billion in proceeds during Q2 and 367 IPOs raising US$66.0 billion in proceeds YTD 2022. However, Asia-Pacific markets performed relatively better benefitting from the two largest global IPOs YTD,\" it said. On outlook for Q3 2022, EY believes that uncertainties and volatility are likely to remain, including geopolitical strains, macroeconomic factors, weak capital market performance, and the impact from the lingering pandemic on global travel and related sectors. Nonetheless, it noted that there were many mega IPOs postponed in the first half of 2022, which represents a healthy pipeline of deals that are likely to come to the market when the current uncertainties and volatility subside. It said the technology sector is also likely to continue as the leading sector in terms of the number of deals coming to the market.  \"However, with a greater focus on renewable sources of energy in the face of increasing oil prices, the energy sector is expected to continue to lead by proceeds from bigger deals,\" it said, adding that environmental, social, and governance (ESG)  will continue to be a sector-agnostic key theme for investors and IPO candidates. - Bernama\n",
      "\n"
     ]
    },
    {
     "name": "stderr",
     "output_type": "stream",
     "text": [
      "convert squad examples to features: 100%|██████████| 1/1 [00:00<00:00, 31.42it/s]\n",
      "add example index and unique id: 100%|██████████| 1/1 [00:00<00:00, 15827.56it/s]\n"
     ]
    },
    {
     "data": {
      "application/vnd.jupyter.widget-view+json": {
       "model_id": "354a05bc49cc487e82011449eaa07904",
       "version_major": 2,
       "version_minor": 0
      },
      "text/plain": [
       "Running Prediction:   0%|          | 0/1 [00:00<?, ?it/s]"
      ]
     },
     "metadata": {},
     "output_type": "display_data"
    },
    {
     "name": "stderr",
     "output_type": "stream",
     "text": [
      "2022-07-15 13:43:22,279 - 322050 - simpletransformers.question_answering.question_answering_model - INFO -  Converting to features started.\n"
     ]
    },
    {
     "name": "stdout",
     "output_type": "stream",
     "text": [
      "MOLECULAR PARTNERS ALERT: Bragar Eagel & Squire, P.C. Announces that a Class Action Lawsuit Has Been Filed Against Molecular Partners AG and Encourages Investors to Contact the Firm  NEW YORK, July 15, 2022 (BUSINESS WIRE) --\n",
      " Bragar Eagel & Squire, P.C., a nationally recognized stockholder rights law firm, announces that a class action lawsuit has been filed against Molecular Partners AG (\"Molecular Partners\" or the \"Company\") (NASDAQ: MOLN) in the United States District Court for the Southern District of New York on behalf of all persons and entities who purchased or otherwise acquired Molecular Partners securities between June 16, 2021 and April 26, 2022, both dates inclusive, or pursuant to the Company's June 16, 2021 IPO (the \"Class Period\"). Investors have until September 12, 2022 to apply to the Court to be appointed as lead plaintiff in the lawsuit.\n",
      " Click here to participate in the action.\n",
      " Molecular Partners operates as a clinical-stage biopharmaceutical company that focuses on the discovery, development, and commercialization of therapeutic proteins. Leading up to and following the IPO, the Company repeatedly touted the clinical and commercial prospects of certain of its product candidates under development in collaboration with other companies.\n",
      " Among other product candidates, Molecular Partners is developing ensovibep as a treatment for COVID-19 in collaboration with Novartis AG (\"Novartis\"). One of the Company's most important development strategies for ensovibep includes securing Emergency Use Authorization (\"EUA\") for ensovibep from the U.S. Food and Drug Administration (\"FDA\").\n",
      " In addition, Molecular Partners is developing MP0310 (AMG 506) for the treatment of certain types of cancer in collaboration with Amgen Inc. (\"Amgen\"). The Company granted Amgen, among other licenses, the right to progress MP0310's development program into later stage development, including into combination trials, following Phase 1 data.\n",
      " On April 22, 2021, Molecular Partners filed a registration statement on Form F-1 with the U.S. Securities and Exchange Commission (\"SEC\") in connection with the IPO, which, after several amendments, was declared effective by the SEC on June 15, 2021 (the \"Registration Statement\").\n",
      " On June 16, 2021, Molecular Partners filed a prospectus on Form 424B4 with the SEC in connection with the IPO, which incorporated and formed part of the Registration Statement (collectively, the \"Offering Documents\").\n",
      " Pursuant to the Offering Documents, Molecular Partners conducted the IPO, issuing 3 million of its ADSs to the public at the IPO price $21.25 per ADS, for proceeds to the Company of over $59 million, after underwriting discounts and commissions, and before expenses.\n",
      " On November 16, 2021, Molecular Partners disclosed that \"a planned futility analysis of ensovibep in [an] ongoing [Phase 3] clinical study . . . has not met the thresholds required to continue enrollment of adults with COVID-19 in the hospitalized setting.\"\n",
      " On this news, Molecular Partners' ADS price fell $4.64 per ADS, or 31.37%, to close at $10.15 per ADS on November 16, 2021.\n",
      " On April 26, 2022, months after applying for EUA from the FDA for ensovibep, Novartis' Chief Executive Officer, Vas Narasimhan, disclosed that \"given the latest feedback . . . in our discussions with the [FDA], we would expect the agency to require a Phase 3 study before granting an EUA approval or a general approval\" for ensovibep, and that \"we need to make a kind of sober evaluation as to is it a doable study in light of the waning rates of COVID around the world[.]\"\n",
      " On this news, Molecular Partners' ADS price fell $2.68 per ADS, or 16.17%, to close at $13.89 per ADS on April 26, 2022.\n",
      " Then, also on April 26, 2022, during after-market hours, Molecular Partners \"announced that Amgen . . . has informed the Company of their decision to return global rights of MP0310 to Molecular Partners following a strategic pipeline review.\"\n",
      " On this news, Molecular Partners' ADS price fell $5.19 per ADS, or 37.37%, to close at $8.70 per ADS on April 27, 2022--a total decline of $7.87 per ADS, or 47.5%, over two consecutive trading days, and 59.06% below the $21.25 per ADS IPO price.\n",
      " As of the time the complaint was filed, the price of Molecular Partners' ADSs continued to trade below the $21.25 per ADS IPO price, damaging investors.\n",
      " The complaint alleges that the Offering Documents were negligently prepared and, as a result, contained untrue statements of material fact or omitted to state other facts necessary to make the statements made not misleading and were not prepared in accordance with the rules and regulations governing their preparation. Additionally, the complaint alleges that, throughout the Class Period, Defendants made materially false and misleading statements regarding the Company's business, operations, and prospects. Specifically, the Offering Documents and Defendants made false and/or misleading statements and/or failed to disclose that: (i) ensovibep was less effective at treating COVID-19 than Defendants had led investors to believe; (ii) accordingly, the FDA was reasonably likely to require an additional Phase 3 study of ensovibep before granting the drug EUA; (iii) waning global rates of COVID-19 significantly reduced the Company's chances of securing EUA for ensovibep; (iv) as a product candidate, MP0310 was less attractive to Amgen than Defendants had led investors to believe; (v) accordingly, there was a significant likelihood that Amgen would return global rights of MP0310 to Molecular Partners; (vi) as a result of all the foregoing, the clinical and commercial prospects of ensovibep and MP0310 were overstated; and (vii) as a result, the Offering Documents and Defendants' public statements throughout the Class Period were materially false and/or misleading and failed to state information required to be stated therein.\n",
      " If you purchased or otherwise acquired Molecular Partners shares and suffered a loss, are a long-term stockholder, have information, would like to learn more about these claims, or have any questions concerning this announcement or your rights or interests with respect to these matters, please contact Brandon Walker or Melissa Fortunato by email at investigations@bespc.com, telephone at (212) 355-4648, or by filling out this contact form. There is no cost or obligation to you.\n",
      " About Bragar Eagel & Squire, P.C.:\n",
      " Bragar Eagel & Squire, P.C. is a nationally recognized law firm with offices in New York, California, and South Carolina. The firm represents individual and institutional investors in commercial, securities, derivative, and other complex litigation in state and federal courts across the country. For more information about the firm, please visit www.bespc.com. Attorney advertising. Prior results do not guarantee similar outcomes.\n",
      " View source version on businesswire.com: https://www.businesswire.com/news/home/20220714005893/en/\n",
      " SOURCE: Bragar Eagel & Squire, P.C.\n",
      " <img alt=\"\" src=\"https://cts.businesswire.com/ct/CT?id=bwnews&sty=20220714005893r1&sid=cmtx6&distro=nx&lang=en\" style=\"width:0;height:0\" />\n",
      " COMTEX_410204941/1006/2022-07-14T21:00:00  Copyright Business Wire 2022\n",
      " \n"
     ]
    },
    {
     "name": "stderr",
     "output_type": "stream",
     "text": [
      "convert squad examples to features: 100%|██████████| 1/1 [00:00<00:00, 15.46it/s]\n",
      "add example index and unique id: 100%|██████████| 1/1 [00:00<00:00, 14513.16it/s]\n"
     ]
    },
    {
     "data": {
      "application/vnd.jupyter.widget-view+json": {
       "model_id": "0eb91b589d624b959d477deecdc587b7",
       "version_major": 2,
       "version_minor": 0
      },
      "text/plain": [
       "Running Prediction:   0%|          | 0/1 [00:00<?, ?it/s]"
      ]
     },
     "metadata": {},
     "output_type": "display_data"
    },
    {
     "name": "stderr",
     "output_type": "stream",
     "text": [
      "2022-07-15 13:43:23,428 - 322050 - simpletransformers.question_answering.question_answering_model - INFO -  Converting to features started.\n"
     ]
    },
    {
     "name": "stdout",
     "output_type": "stream",
     "text": [
      "Sungeel HiTech <b>IPO</b> – The Highest Ever Bookbuilding Demand Ratio for a Korean <b>IPO</b> Sungeel HiTech <b>IPO</b> – The Highest Ever Bookbuilding Demand Ratio for a Korean <b>IPO</b>\n"
     ]
    },
    {
     "name": "stderr",
     "output_type": "stream",
     "text": [
      "convert squad examples to features: 100%|██████████| 1/1 [00:00<00:00, 686.13it/s]\n",
      "add example index and unique id: 100%|██████████| 1/1 [00:00<00:00, 14315.03it/s]\n"
     ]
    },
    {
     "data": {
      "application/vnd.jupyter.widget-view+json": {
       "model_id": "0a4bcad1809e41e7a0d98152b0f67596",
       "version_major": 2,
       "version_minor": 0
      },
      "text/plain": [
       "Running Prediction:   0%|          | 0/1 [00:00<?, ?it/s]"
      ]
     },
     "metadata": {},
     "output_type": "display_data"
    },
    {
     "name": "stderr",
     "output_type": "stream",
     "text": [
      "2022-07-15 13:43:23,945 - 322050 - simpletransformers.question_answering.question_answering_model - INFO -  Converting to features started.\n"
     ]
    },
    {
     "name": "stdout",
     "output_type": "stream",
     "text": [
      "SEC is investigating Better as Barclays, Citigroup resign as deal advisers - Inman News Mortgage upstart Better's plan to <b>go public</b> via a SPAC merger faces new challenges as banks that were advising the companies resign their roles.\n"
     ]
    },
    {
     "name": "stderr",
     "output_type": "stream",
     "text": [
      "convert squad examples to features: 100%|██████████| 1/1 [00:00<00:00, 161.08it/s]\n",
      "add example index and unique id: 100%|██████████| 1/1 [00:00<00:00, 12748.64it/s]\n"
     ]
    },
    {
     "data": {
      "application/vnd.jupyter.widget-view+json": {
       "model_id": "1d617ad293064c128f67a02fe2e3d7dd",
       "version_major": 2,
       "version_minor": 0
      },
      "text/plain": [
       "Running Prediction:   0%|          | 0/1 [00:00<?, ?it/s]"
      ]
     },
     "metadata": {},
     "output_type": "display_data"
    },
    {
     "name": "stderr",
     "output_type": "stream",
     "text": [
      "2022-07-15 13:43:24,469 - 322050 - simpletransformers.question_answering.question_answering_model - INFO -  Converting to features started.\n"
     ]
    },
    {
     "name": "stdout",
     "output_type": "stream",
     "text": [
      "Day <b>trading</b> guide for Friday: 4 stocks to buy or sell today — 15th July | Mint Day <b>trading</b> guide for Friday: The short term trend of Nifty continues to be negative, say stock market experts.\n"
     ]
    },
    {
     "name": "stderr",
     "output_type": "stream",
     "text": [
      "convert squad examples to features: 100%|██████████| 1/1 [00:00<00:00, 503.34it/s]\n",
      "add example index and unique id: 100%|██████████| 1/1 [00:00<00:00, 13486.51it/s]\n"
     ]
    },
    {
     "data": {
      "application/vnd.jupyter.widget-view+json": {
       "model_id": "e695d2c1731e4966a756f11887c1bd18",
       "version_major": 2,
       "version_minor": 0
      },
      "text/plain": [
       "Running Prediction:   0%|          | 0/1 [00:00<?, ?it/s]"
      ]
     },
     "metadata": {},
     "output_type": "display_data"
    },
    {
     "name": "stderr",
     "output_type": "stream",
     "text": [
      "2022-07-15 13:43:24,989 - 322050 - simpletransformers.question_answering.question_answering_model - INFO -  Converting to features started.\n"
     ]
    },
    {
     "name": "stdout",
     "output_type": "stream",
     "text": [
      "Bitcoin price more likely to hit $10k than $30k: <b>trading</b> firm partner | Fortune Crypto may not care as much about the Fed, but the stock market does, and where equities go, Bitcoin follows,” Michael Safai, Dexterity Capital ...\n"
     ]
    },
    {
     "name": "stderr",
     "output_type": "stream",
     "text": [
      "convert squad examples to features: 100%|██████████| 1/1 [00:00<00:00, 290.95it/s]\n",
      "add example index and unique id: 100%|██████████| 1/1 [00:00<00:00, 12520.31it/s]\n"
     ]
    },
    {
     "data": {
      "application/vnd.jupyter.widget-view+json": {
       "model_id": "acce02b33a314bb994c7813b5f9cbf94",
       "version_major": 2,
       "version_minor": 0
      },
      "text/plain": [
       "Running Prediction:   0%|          | 0/1 [00:00<?, ?it/s]"
      ]
     },
     "metadata": {},
     "output_type": "display_data"
    },
    {
     "name": "stderr",
     "output_type": "stream",
     "text": [
      "2022-07-15 13:43:25,537 - 322050 - simpletransformers.question_answering.question_answering_model - INFO -  Converting to features started.\n"
     ]
    },
    {
     "name": "stdout",
     "output_type": "stream",
     "text": [
      "Yankees reacquire Tyler Wade in <b>trade</b> with Angels to pad infield depth - CBSSports.com Wade had spent his entire career with the Yankees prior to being <b>traded</b> to the Angels last November.\n"
     ]
    },
    {
     "name": "stderr",
     "output_type": "stream",
     "text": [
      "convert squad examples to features: 100%|██████████| 1/1 [00:00<00:00, 208.85it/s]\n",
      "add example index and unique id: 100%|██████████| 1/1 [00:00<00:00, 16256.99it/s]\n"
     ]
    },
    {
     "data": {
      "application/vnd.jupyter.widget-view+json": {
       "model_id": "6ca5c42b8955451a8556c8a915fa73c6",
       "version_major": 2,
       "version_minor": 0
      },
      "text/plain": [
       "Running Prediction:   0%|          | 0/1 [00:00<?, ?it/s]"
      ]
     },
     "metadata": {},
     "output_type": "display_data"
    },
    {
     "name": "stderr",
     "output_type": "stream",
     "text": [
      "2022-07-15 13:43:26,041 - 322050 - simpletransformers.question_answering.question_answering_model - INFO -  Converting to features started.\n"
     ]
    },
    {
     "name": "stdout",
     "output_type": "stream",
     "text": [
      "Powell, Clarida cleared by Fed watchdog of wrongdoing in <b>trading</b> activity - POLITICO Former Vice Chair Richard Clarida came under investigation after <b>trades</b> he made in February 2020 drew scrutiny.\n"
     ]
    },
    {
     "name": "stderr",
     "output_type": "stream",
     "text": [
      "convert squad examples to features: 100%|██████████| 1/1 [00:00<00:00, 155.05it/s]\n",
      "add example index and unique id: 100%|██████████| 1/1 [00:00<00:00, 13400.33it/s]\n"
     ]
    },
    {
     "data": {
      "application/vnd.jupyter.widget-view+json": {
       "model_id": "c5f8eb6129e74217b97b6341502a2192",
       "version_major": 2,
       "version_minor": 0
      },
      "text/plain": [
       "Running Prediction:   0%|          | 0/1 [00:00<?, ?it/s]"
      ]
     },
     "metadata": {},
     "output_type": "display_data"
    },
    {
     "name": "stderr",
     "output_type": "stream",
     "text": [
      "2022-07-15 13:43:26,567 - 322050 - simpletransformers.question_answering.question_answering_model - INFO -  Converting to features started.\n"
     ]
    },
    {
     "name": "stdout",
     "output_type": "stream",
     "text": [
      "Deandre Ayton's offer sheet foils Kevin Durant to Suns <b>trade</b> talk - NY Daily News A Kevin Durant <b>trade</b> to the Phoenix Suns just became much more difficult, if not impossible. Suns restricted free agent center Deandre Ayton is ...\n"
     ]
    },
    {
     "name": "stderr",
     "output_type": "stream",
     "text": [
      "convert squad examples to features: 100%|██████████| 1/1 [00:00<00:00, 335.09it/s]\n",
      "add example index and unique id: 100%|██████████| 1/1 [00:00<00:00, 8793.09it/s]\n"
     ]
    },
    {
     "data": {
      "application/vnd.jupyter.widget-view+json": {
       "model_id": "05b403081d414a45bd1c2e5a7b4684c6",
       "version_major": 2,
       "version_minor": 0
      },
      "text/plain": [
       "Running Prediction:   0%|          | 0/1 [00:00<?, ?it/s]"
      ]
     },
     "metadata": {},
     "output_type": "display_data"
    },
    {
     "name": "stderr",
     "output_type": "stream",
     "text": [
      "2022-07-15 13:43:27,112 - 322050 - simpletransformers.question_answering.question_answering_model - INFO -  Converting to features started.\n"
     ]
    },
    {
     "name": "stdout",
     "output_type": "stream",
     "text": [
      "Mariners' Dipoto looking for pitching help, open to <b>trading</b> for 'impact' - Seattle Sports Mariners general manager Jerry Dipoto shed some light into what the MLB <b>trade</b> deadline markets looks like and what he's looking for.\n"
     ]
    },
    {
     "name": "stderr",
     "output_type": "stream",
     "text": [
      "convert squad examples to features: 100%|██████████| 1/1 [00:00<00:00, 164.70it/s]\n",
      "add example index and unique id: 100%|██████████| 1/1 [00:00<00:00, 15650.39it/s]\n"
     ]
    },
    {
     "data": {
      "application/vnd.jupyter.widget-view+json": {
       "model_id": "03a874e286b64b78a6857a8e1e682c80",
       "version_major": 2,
       "version_minor": 0
      },
      "text/plain": [
       "Running Prediction:   0%|          | 0/1 [00:00<?, ?it/s]"
      ]
     },
     "metadata": {},
     "output_type": "display_data"
    },
    {
     "name": "stderr",
     "output_type": "stream",
     "text": [
      "2022-07-15 13:43:27,670 - 322050 - simpletransformers.question_answering.question_answering_model - INFO -  Converting to features started.\n"
     ]
    },
    {
     "name": "stdout",
     "output_type": "stream",
     "text": [
      "Fed Chair Jerome Powell cleared of wrongdoing over his investment <b>trading</b> - Fortune The Federal Reserve's inspector general concluded Thursday that financial <b>trades</b> made several years ago by Chair Jerome Powell and Richard Clarida ...\n"
     ]
    },
    {
     "name": "stderr",
     "output_type": "stream",
     "text": [
      "convert squad examples to features: 100%|██████████| 1/1 [00:00<00:00, 442.62it/s]\n",
      "add example index and unique id: 100%|██████████| 1/1 [00:00<00:00, 10155.70it/s]\n"
     ]
    },
    {
     "data": {
      "application/vnd.jupyter.widget-view+json": {
       "model_id": "e595b59c6ab546599a5c58ec3f11c28a",
       "version_major": 2,
       "version_minor": 0
      },
      "text/plain": [
       "Running Prediction:   0%|          | 0/1 [00:00<?, ?it/s]"
      ]
     },
     "metadata": {},
     "output_type": "display_data"
    },
    {
     "name": "stderr",
     "output_type": "stream",
     "text": [
      "2022-07-15 13:43:28,190 - 322050 - simpletransformers.question_answering.question_answering_model - INFO -  Converting to features started.\n"
     ]
    },
    {
     "name": "stdout",
     "output_type": "stream",
     "text": [
      "Basic Importing and Exporting | U.S. Customs and Border Protection Through the Customs-<b>Trade</b> Partnership Against Terrorism, @CBP works with the <b>trade</b> community to strengthen supply chains and improve border ...\n"
     ]
    },
    {
     "name": "stderr",
     "output_type": "stream",
     "text": [
      "convert squad examples to features: 100%|██████████| 1/1 [00:00<00:00, 180.57it/s]\n",
      "add example index and unique id: 100%|██████████| 1/1 [00:00<00:00, 9510.89it/s]\n"
     ]
    },
    {
     "data": {
      "application/vnd.jupyter.widget-view+json": {
       "model_id": "5a17162187ff4a08ab6496bd0de50cfc",
       "version_major": 2,
       "version_minor": 0
      },
      "text/plain": [
       "Running Prediction:   0%|          | 0/1 [00:00<?, ?it/s]"
      ]
     },
     "metadata": {},
     "output_type": "display_data"
    },
    {
     "name": "stderr",
     "output_type": "stream",
     "text": [
      "2022-07-15 13:43:28,725 - 322050 - simpletransformers.question_answering.question_answering_model - INFO -  Converting to features started.\n"
     ]
    },
    {
     "name": "stdout",
     "output_type": "stream",
     "text": [
      "Donovan Mitchell <b>Trade</b> Rumors: Knicks, Jazz Discuss Framework for Potential Deal The Utah Jazz and New York Knicks have reportedly discussed the framework of a <b>trade</b> that would send All-Star guard Donoiv.\n"
     ]
    },
    {
     "name": "stderr",
     "output_type": "stream",
     "text": [
      "convert squad examples to features: 100%|██████████| 1/1 [00:00<00:00, 198.89it/s]\n",
      "add example index and unique id: 100%|██████████| 1/1 [00:00<00:00, 15768.06it/s]\n"
     ]
    },
    {
     "data": {
      "application/vnd.jupyter.widget-view+json": {
       "model_id": "44b4229a931c4579b4dce4eccf490af0",
       "version_major": 2,
       "version_minor": 0
      },
      "text/plain": [
       "Running Prediction:   0%|          | 0/1 [00:00<?, ?it/s]"
      ]
     },
     "metadata": {},
     "output_type": "display_data"
    },
    {
     "name": "stderr",
     "output_type": "stream",
     "text": [
      "2022-07-15 13:43:29,241 - 322050 - simpletransformers.question_answering.question_answering_model - INFO -  Converting to features started.\n"
     ]
    },
    {
     "name": "stdout",
     "output_type": "stream",
     "text": [
      "Trust, but Verify: The Recipe for A Global Carbon Credit <b>Trading</b> System - JD Supra The creation of carbon or credits, is of interest to GHG emitters and financial <b>traders</b> alike. In a simplistic example, carbon credits arising from ...\n"
     ]
    },
    {
     "name": "stderr",
     "output_type": "stream",
     "text": [
      "convert squad examples to features: 100%|██████████| 1/1 [00:00<00:00, 186.21it/s]\n",
      "add example index and unique id: 100%|██████████| 1/1 [00:00<00:00, 4315.13it/s]\n"
     ]
    },
    {
     "data": {
      "application/vnd.jupyter.widget-view+json": {
       "model_id": "c888621382104c0b99c152e4d552a753",
       "version_major": 2,
       "version_minor": 0
      },
      "text/plain": [
       "Running Prediction:   0%|          | 0/1 [00:00<?, ?it/s]"
      ]
     },
     "metadata": {},
     "output_type": "display_data"
    },
    {
     "name": "stderr",
     "output_type": "stream",
     "text": [
      "2022-07-15 13:43:29,770 - 322050 - simpletransformers.question_answering.question_answering_model - INFO -  Converting to features started.\n"
     ]
    },
    {
     "name": "stdout",
     "output_type": "stream",
     "text": [
      "Tera Data Indonusa (AXIO) Posts IPO Price of IDR 140 Reporter: Akhmad Suryahadi | Editor: Tendi Mahadi KONTAN.CO.ID - JAKARTA. The process of the initial public offering (IPO) of PT Tera Data Indonusa Tbk (AXIO) continues. The company which is engaged in the wholesale trading of computers and computer equipment has an offering price of Rp. 140. Citing the e-IPO page, Thursday (14/7), AXIO released 1.04 billion shares representing 17.81% of the issued capital. and fully paid after the IPO. So, overall, AXIO received fresh funds of Rp 145.61 billion in this corporate action. The offering period starts today (14/7) until Monday (18/7). Acting as guarantor for implementing securities in this IPO are PT BNI Sekuritas and PT CIMB Niaga Sekuritas. AXIO will use the proceeds from the IPO for two purposes. Around 90% will be used for working capital to support increased sales in the form of purchasing raw materials for components and product spare parts which include LCD, motherboard, SSD, RAM, and others. Also Read: Moratelindo IPO, Consider Prospects of Several Tower Issuers In addition, AXIO will also use it for financing accounts receivable, improving the quality of human resources through internal and external training as well as developing distribution channels through marketing personnel and expanding service center coverage in the marketing area. The remainder will be used for capital expenditure, among others, for the expansion of the warehouse and production areas located at AXIO's current factory. The IPO funds will also be used to purchase production support equipment in the form of conveyor lines, forklifts, racking management, as well as machines in the form of surface mounting technology (SMT) for motherboard production and development support tools in the form of quality control kits. The following is the schedule for Tera Data Indonusa's IPO: Initial Public Offering Period : 14 – 18 July 2022 Allotment Date : 18 July 2022 Electronic Share Distribution Date : 19 July 2022 Subscription Refund Date : 19 July 2022 Share Listing Date on the Indonesia Stock Exchange : 20 July 2022. Check other News and Articles on Google News\n"
     ]
    },
    {
     "name": "stderr",
     "output_type": "stream",
     "text": [
      "convert squad examples to features: 100%|██████████| 1/1 [00:00<00:00, 56.14it/s]\n",
      "add example index and unique id: 100%|██████████| 1/1 [00:00<00:00, 11683.30it/s]\n"
     ]
    },
    {
     "data": {
      "application/vnd.jupyter.widget-view+json": {
       "model_id": "295862645290415ca3bb15a2060bb007",
       "version_major": 2,
       "version_minor": 0
      },
      "text/plain": [
       "Running Prediction:   0%|          | 0/1 [00:00<?, ?it/s]"
      ]
     },
     "metadata": {},
     "output_type": "display_data"
    },
    {
     "name": "stderr",
     "output_type": "stream",
     "text": [
      "2022-07-15 13:43:30,476 - 322050 - simpletransformers.question_answering.question_answering_model - INFO -  Converting to features started.\n"
     ]
    },
    {
     "name": "stdout",
     "output_type": "stream",
     "text": [
      "National Shipping Ekalya Purnamasari Posts IPO Price of IDR 190-Rp 240 Reporter: Akhmad Suryahadi | Editor: Wahyu T. Rahmawati KONTAN.CO.ID - JAKARTA. Another prospective issuer that will enliven the Indonesia Stock Exchange (IDX) to become a public company. It is PT Pelayaran Nasional Ekalya Purnamasari Tbk (ELPI) which plans to release its shares to the public. Launching the e-IPO page, Wednesday (13/7), the prospective issuer that will use the ELPI stock code will release 1.11 billion shares or 15% of the paid-up and placed capital after the IPO. The company, which operates in the oil and gas distribution sector, has an offering price of Rp 190 per share-Rp 240 per share. Thus, Ekalya has the opportunity to pocket fresh funds of Rp. 211.28 billion to Rp. 266.88 billion from the IPO. So far, ELPI has not included a copy of the use of the proceeds from the IPO. Also Read: Targeting IPO of IDR 1.3 Trillion, Moratelindo Aims for Double Digit Revenues Acting as Underwriter is PT Trimegah Sekuritas Indonesia Tbk (TRIM). The bookbuilding period will take place from July 14, 2022 to July 21, 2022. ELPI is a company engaged in the oil and gas distribution sector. As of the end of 2021, ELPI owns and operates more than 100 (one hundred) units of various fleets consisting of crewboats, anchor handling tug supply vessels (AHTS), platform support vessels (PSV), utility vessels & specialized vessels. With the support of this fleet, ELPI is able to provide services in the field of ship chartering, offshore work, logistics, engineering procurement construction, and training & development. ELPI is headquartered in Surabaya, East Java, and has five regional & maintenance offices, training centers and shipyard affiliates. Also Read: Unicorn Issuers Boost Take Rate Check News and Other Articles on Google News\n"
     ]
    },
    {
     "name": "stderr",
     "output_type": "stream",
     "text": [
      "convert squad examples to features: 100%|██████████| 1/1 [00:00<00:00, 45.27it/s]\n",
      "add example index and unique id: 100%|██████████| 1/1 [00:00<00:00, 16777.22it/s]\n"
     ]
    },
    {
     "data": {
      "application/vnd.jupyter.widget-view+json": {
       "model_id": "8ee025f25fbb46abada9860bdfb915d5",
       "version_major": 2,
       "version_minor": 0
      },
      "text/plain": [
       "Running Prediction:   0%|          | 0/1 [00:00<?, ?it/s]"
      ]
     },
     "metadata": {},
     "output_type": "display_data"
    },
    {
     "name": "stderr",
     "output_type": "stream",
     "text": [
      "2022-07-15 13:43:31,171 - 322050 - simpletransformers.question_answering.question_answering_model - INFO -  Converting to features started.\n"
     ]
    },
    {
     "name": "stdout",
     "output_type": "stream",
     "text": [
      "IPO Dharma Polimetal (DRMA) Funds Have Been Absorbed 53%, for What? Reporter: Venny Suryanto | Editor: Handoyo . KONTAN.CO.ID - JAKARTA. The issuer of automotive component manufacturing, PT Dharma Polimetal Tbk (DRMA) will be more expansive throughout 2022. After realizing the plan to use the proceeds from the initial public offering (IPO), the company has used the fresh funds as much as 53% or Rp 180.2 billion from a total of IDR 341.7 billion. Meanwhile, for capital expenditure or capex, the company has used Rp 78.2 billion. \"We are grateful, because so far the Company has succeeded in carrying out the plan as expected,\" said President Director of Dharma Polimetal, Irianto Santoso in his official statement, Tuesday (12/7). Read also: Dharma Polimetal (DRMA) Has Used 53% of IPO Proceeds The details of the use of IPO proceeds until the end of June 2022 amounting to Rp. 78.2 billion have been injected into subsidiaries PT Dharma Precision Part and PT Dharma Controlcable Indonesia in the amount of Rp. 54 1.1 billion, to increase the portion of share ownership in subsidiary PT Dharma Poliplast by Rp. 30.8 billion, and for working capital of Rp. 17.1 billion. For information, until the first quarter of this year, the company posted a net profit for the year of Rp 116.9 billion. This number has more than doubled from the previous Rp 53.4 billion in the same period in 2021. DRMA Chart by TradingView . As for net sales, the Company posted Rp 915.8 billion, where the revenue grew 36% from Rp 675, 6 billion in the same period the previous year. Check other News and Articles on Google News\n"
     ]
    },
    {
     "name": "stderr",
     "output_type": "stream",
     "text": [
      "convert squad examples to features: 100%|██████████| 1/1 [00:00<00:00, 69.14it/s]\n",
      "add example index and unique id: 100%|██████████| 1/1 [00:00<00:00, 8322.03it/s]\n"
     ]
    },
    {
     "data": {
      "application/vnd.jupyter.widget-view+json": {
       "model_id": "14818cc30fa143168c0f1302ce495035",
       "version_major": 2,
       "version_minor": 0
      },
      "text/plain": [
       "Running Prediction:   0%|          | 0/1 [00:00<?, ?it/s]"
      ]
     },
     "metadata": {},
     "output_type": "display_data"
    },
    {
     "name": "stderr",
     "output_type": "stream",
     "text": [
      "2022-07-15 13:43:31,886 - 322050 - simpletransformers.question_answering.question_answering_model - INFO -  Converting to features started.\n"
     ]
    },
    {
     "name": "stdout",
     "output_type": "stream",
     "text": [
      "About to IPO, Peek at the Profile of Mora Telematics Indonesia (MORA) Reporter: Ika Puspitasari | Editor: Wahyu T. Rahmawati KONTAN.CO.ID - JAKARTA. PT Mora Telematika Indonesia Tbk (MORA), a company engaged in the telecommunications industry, will conduct an initial public offering (IPO) of a maximum of 2.61 billion common shares in the name of new shares issued from the Mora Telematics portfolio. This value is equivalent to 11% of the total issued and fully paid capital of Mora Telematika after the initial public offering of shares with a nominal value of Rp 100 per share. The company, also known as Moratelindo, has set an offering price range of Rp. 368 to Rp. 396 per share. Thus, MORA has the potential to obtain fresh funds from the IPO as much as Rp. 1.03 trillion. Read also: Mora Telematika (MORA) will IPO, Targets Double Digit Growth Performance Established in 2000, Moratelindo started its business as a provider of internet and telephone card services. Then, in 2007, Moratelindo transformed into a telecommunications infrastructure service provider by building a 7.5 km fiber optic cable network in Java. In 2008 Moratelindo established a subsidiary company in Singapore and built the Moratelindo International Cable-System One (MIC1) submarine cable connecting Jakarta with Singapore. In 2009, Moratelindo actively developed an international network by building a submarine fiber optic cable network Batam-Dumai-Malaka (BDM). In 2010, in line with growing trust in the Company, the Government of Singapore granted a Facilities-Based Operations (FBO) license as a gateway for international leased line services. Also Read: Behind the Owners of Moratelindo (MORA), There is Sinarmas and IBST Controller Farida Bau In the same year, Moratelindo strengthened its network by building the Sumatra Backbone, which is the construction of a backbone network for both Submarine Cable and Inland Cable that runs along Sumatra Island. The Indonesian government also entrusts Moratelindo to support the development of national local infrastructure by providing telecommunications business permits and licenses such as closed fixed network (JARTUP), network access point (NAP), internet service provider (ISP), and local fixed network (JARTAPLOK). MORA is also trusted to build and operate a national data center, namely Nusantara Internet Exchange (NIX). To support business activities, in 2012 Moratelindo established 6 Nusantara Data Centers (NDC) with Tier 2 design standards, which are integrated with each other in Medan, Batam, Palembang, Jakarta, Surabaya, Bali. All Moratelindo NDCs are connected to hundreds of PoPs and High Rise Buildings as well as the entire Moratelindo network. In the same year, Moratelindo also developed an international network of undersea fiber optic cable B3JS (Jakarta-Bangka-Bintan-Batam-Singapore) as the third project (sea cable) for an international scope, so that the fiber optic cable network that has been successfully built until 2012 reaching a length of 7,620 km. In 2014, Moratelindo strengthened its network through Metro-E infrastructure which was built in 21 cities, bringing the total network owned in 2014 to 9,681 km. In 2015 Moratelindo decided to expand on Fiber To The X (FTTX) for the corporate market. A year later, Moratelindo entered the FTTX retail market through the oxygen.id brand. In addition, the Government of Indonesia entrusted Moratelindo to carry out the national strategic priority infrastructure project of the Central Government by appointing the Company as the winner of the tender for the West Palapa Ring and East Palapa Ring Projects in 2016. Also Read: Looking at Financial Performance and Valuation of Moratelindo IPO Share Price (MORA) Palapa Project Ring is a project between the Central Government and Moratelindo's subsidiaries, namely PT Palapa Ring Barat and PT Palapa Timur Telematika which was launched by the Ministry of Communication and Information (Kemenkominfo) of the Republic of Indonesia which aims to build telecommunications infrastructure in the form of fiber optic development throughout Indonesia. The Palapa Ring project integrates the existing network with the new network. The network will be the foundation of all telecommunications operators and users of telecommunications services in Indonesia and integrated with the network already owned by telecommunications operators. The West Package Palapa Ring project has been operating since March 2018, while the East Package Palapa Ring has been operating since August 2019. Moratelindo through the KSO BPS-MORATELINDO which is a joint operation was formed on December 6, 2019 between Moratelindo and PT Bhumi Pandanaran Sejahtera (Perseroda) (BPS) Based on the results of the selection of partners for the Operational Cooperation Project for the Provision of Passive Telecommunication Infrastructure Public Services organized by BPS, it has succeeded in regaining the trust of the Semarang City Government to cooperate in the construction, operation, exploitation and provision of passive telecommunications infrastructure services in the Semarang City area. Read also: IPO, Moratelindo Opens Offer Price of IDR 368 - IDR 396 Per Share The cooperation in providing public services for passive telecommunications infrastructure in the city of Semarang is a construction project for the operation, exploitation and provision of U-ditch (a channel made of reinforced concrete with a cross section of the letter \"U\") and/or a shared Makroduct (High-Density Polyethylene/HDPE pipeline) used for the placement of fiber optic cables by telecommunications operators. So that there are no more aerial fiber optic cables through cellular telecommunications poles and towers to be used by telecommunications operators, as well as their supporting facilities and equipment. Through this project, KSO BPSMORATELINDO will carry out the construction of joint ducting works and cellular telecommunications towers with an estimated length of 506,064-meter U-ditch and/or Makroduct on roads owned by the Semarang City Government starting with priority roads in the city of Semarang, namely Jalan MT Haryono, Ahmad Yani Street, Pahlawan Street, Pandanaran Street, Simpang Lima Roundabout Street, Gajah Mada Street, Imam Bonjol Street, and Pemuda Street. Also Read: Corporate Bond Issues Will Be Lively, More Attractive for Investment The pattern of cooperation between the Semarang City Government and BPS-MORATELINDO KSO is based on Regional Cooperation with Third Parties (KSDPK) in terms of providing public services, with a cooperation period of 20 years commencing from the date of commercial operation. As a form of return on investment, KSO BPS-MORATELINDO will lease the Project Assets to telecommunication operators for 20 years after the Commercial Operation Date. In 2021 Moratelindo will continue to expand by developing Fiber To The Home (FTTH) to new cities such as Jambi, Bandung, Semarang and continuing the development of FTTX to the cities of Kupang and Labuan Bajo. Moratelindo continues to expand the Oxygen Home area or home internet, where FTTH and by the end of 2021 have reached 413,025 home passes and 111,968 total subscribers. As of December 31, 2021, the Company's FTTX solution provides connections to approximately 216 buildings and 6,700 connections to private and government entities (which are not telecommunications providers). Check other News and Articles on Google News\n"
     ]
    },
    {
     "name": "stderr",
     "output_type": "stream",
     "text": [
      "convert squad examples to features: 100%|██████████| 1/1 [00:00<00:00, 13.22it/s]\n",
      "add example index and unique id: 100%|██████████| 1/1 [00:00<00:00, 16844.59it/s]\n"
     ]
    },
    {
     "data": {
      "application/vnd.jupyter.widget-view+json": {
       "model_id": "0833cfe8a3394eeea869c807c9b29ace",
       "version_major": 2,
       "version_minor": 0
      },
      "text/plain": [
       "Running Prediction:   0%|          | 0/1 [00:00<?, ?it/s]"
      ]
     },
     "metadata": {},
     "output_type": "display_data"
    },
    {
     "name": "stderr",
     "output_type": "stream",
     "text": [
      "2022-07-15 13:43:33,007 - 322050 - simpletransformers.question_answering.question_answering_model - INFO -  Converting to features started.\n"
     ]
    },
    {
     "name": "stdout",
     "output_type": "stream",
     "text": [
      "Dharma Polimetal (DRMA) Has Used 53% of IPO Funds to Boost Expansion Reporter: Venny Suryanto | Editor: Handoyo . KONTAN.CO.ID - JAKARTA. The issuer of automotive component manufacturing, PT Dharma Polimetal Tbk (DRMA) will be more expansive throughout 2022. After realizing the plan to use the proceeds from the initial public offering (IPO), the company has used the fresh funds as much as 53% or Rp 180.2 billion from a total of IDR 341.7 billion. Meanwhile, for capital expenditure or capex, the company has used Rp 78.2 billion. \"We are grateful, because so far the Company has succeeded in carrying out the plan as expected,\" said President Director of Dharma Polimetal, Irianto Santoso in his official statement, Tuesday (12/7). Read also: Dharma Polimetal (DRMA) Has Used 53% of IPO Proceeds The details of the use of IPO proceeds until the end of June 2022 amounting to Rp. 78.2 billion have been injected into subsidiaries PT Dharma Precision Part and PT Dharma Controlcable Indonesia in the amount of Rp. 54 1.1 billion, to increase the portion of share ownership in subsidiary PT Dharma Poliplast by Rp. 30.8 billion, and for working capital of Rp. 17.1 billion. For information, until the first quarter of this year, the company posted a net profit for the year of Rp 116.9 billion. This number has more than doubled from the previous Rp 53.4 billion in the same period in 2021. DRMA Chart by TradingView . As for net sales, the Company posted Rp 915.8 billion, where the revenue grew 36% from Rp 675, 6 billion in the same period the previous year. Check other News and Articles on Google News\n"
     ]
    },
    {
     "name": "stderr",
     "output_type": "stream",
     "text": [
      "convert squad examples to features: 100%|██████████| 1/1 [00:00<00:00, 50.42it/s]\n",
      "add example index and unique id: 100%|██████████| 1/1 [00:00<00:00, 16256.99it/s]\n"
     ]
    },
    {
     "data": {
      "application/vnd.jupyter.widget-view+json": {
       "model_id": "f42ab9285ef844a5b6bc9ba513164ff3",
       "version_major": 2,
       "version_minor": 0
      },
      "text/plain": [
       "Running Prediction:   0%|          | 0/1 [00:00<?, ?it/s]"
      ]
     },
     "metadata": {},
     "output_type": "display_data"
    },
    {
     "name": "stderr",
     "output_type": "stream",
     "text": [
      "2022-07-15 13:43:33,667 - 322050 - simpletransformers.question_answering.question_answering_model - INFO -  Converting to features started.\n"
     ]
    },
    {
     "name": "stdout",
     "output_type": "stream",
     "text": [
      "Dharma Polimetal (DRMA) Has Used 53% of IPO Proceeds Reporter: Ika Puspitasari | Editor: Wahyu T. Rahmawati KONTAN.CO.ID - JAKARTA. PT Dharma Polimetal Tbk (DRMA), an automotive component manufacturing issuer, in the first semester of 2022, has realized a plan to use the proceeds from the initial public offering (IPO) of 53% or Rp 180.2 billion, out of a total of Rp 341.7 billion in fresh funds raised through IPOs. According to Dharma Polimetal's plan, the proceeds from the IPO will be used for expansion purposes, capital injections to subsidiaries, increasing the portion of shares in subsidiaries, as well as for working capital. \"We are grateful, because so far DRMA has succeeded in carrying out the plan as expected,\" said President Director of Dharma Polimetal, Irianto Santoso in an official statement, Tuesday (12/7). Read also: Check out Dharma Polimetal Stock Recommendations (DRMA) The details of the use of the proceeds from the IPO until the end of June 2022 are, for capital expenditures of Rp. 78.2 billion, to be injected into subsidiaries PT Dharma Precision Part and PT Dharma Controlcable Indonesia in the amount of Rp. 54 1.1 billion, to increase the portion of share ownership in subsidiary PT Dharma Poliplast by Rp. 30.8 billion, and for working capital of Rp. 17.1 billion. In the IPO which took place in December last year, the automotive component manufacturing company owned by the Triputra Group managed to raise funds of Rp 352.9 billion from the sale of 705.88 million shares or 15% of the total issued and fully paid capital. Read also: Prospects of Automotive Issuers' Shares Rely on Economic Improvement From the proceeds from the IPO, which after deducting costs to a total of Rp 341.7 billion, around 70% is budgeted for capital expenditures for business expansion, around 16% is budgeted for capital injections to subsidiaries, around 9% is budgeted for the addition of the Company's ownership in PT Dharma Poliplast, and the remaining 5% is budgeted for working capital. In the first quarter of this year, DRMA managed to book a net profit for the year of IDR 116.9 billion, more than doubled from IDR 53.4 billion in the same period in 2021. As for net sales, the Company posted IDR 915.8 billion, grew 36% from Rp 675.6 billion in the same period the previous year. Check other News and Articles on Google News\n"
     ]
    },
    {
     "name": "stderr",
     "output_type": "stream",
     "text": [
      "convert squad examples to features: 100%|██████████| 1/1 [00:00<00:00, 43.83it/s]\n",
      "add example index and unique id: 100%|██████████| 1/1 [00:00<00:00, 12671.61it/s]\n"
     ]
    },
    {
     "data": {
      "application/vnd.jupyter.widget-view+json": {
       "model_id": "e20ea56105204c7ebb9611216decd3d8",
       "version_major": 2,
       "version_minor": 0
      },
      "text/plain": [
       "Running Prediction:   0%|          | 0/1 [00:00<?, ?it/s]"
      ]
     },
     "metadata": {},
     "output_type": "display_data"
    },
    {
     "name": "stderr",
     "output_type": "stream",
     "text": [
      "2022-07-15 13:43:34,297 - 322050 - simpletransformers.question_answering.question_answering_model - INFO -  Converting to features started.\n"
     ]
    },
    {
     "name": "stdout",
     "output_type": "stream",
     "text": [
      "Mora Telematics (MORA) will IPO, Targets Double-Digit Growth in Performance Reporter: Ika Puspitasari | Editor: Herlina Kartika Dewi KONTAN.CO.ID - JAKARTA. PT Mora Telematika Indonesia Tbk (MORA) is optimistic about the prospects for the telecommunications business in the future. President Director of PT Mora Telematika Indonesia Tbk Galumbang Menak said the prospect of the telecommunications business is very attractive considering the telecommunications industry is the backbone of the digital economy. This year, MORA hopes to continue its performance growth. \"In these three years we have grown in double digits, above the industry growth which grew single digits. We hope that with this corporate action (IPO), we can make this growth continue in the future,\" said Galumbang at a public expose, Tuesday (12/12/2020). 7). Also Read: Behind the Owners of Moratelindo (MORA), Sinarmas and IBST Controller Farida Bau As is known, Mora Telematika conducts an initial public offering of shares of a maximum of 2.61 billion shares or 11% of the total issued and fully paid capital in the company . The offering price ranges from Rp. 368 to Rp. 396 per share. Thus, MORA has the potential to obtain fresh funds from the IPO as much as Rp. 1.03 trillion. Mora Telematika will focus on expanding coverage, fiber access to the home and building, the three ducting, and increasing the capacity of the MORA data center. He said that currently MORA has six data centers whose capacity has reached 70%. \"We will immediately upgrade or increase its capacity,\" added Galumbang. Galumbang added that the big clients for the telecommunications sector currently include Telkomsel, XL, Indosat, to Smartfren. \"All of these are our customers. For the enterprise, we currently have around 6,000 corporate customers, and around 120,000 retail customers,\" he said. In 2021, MORA managed to record operating revenues of Rp. 4.18 trillion, an increase of 11% compared to the performance achieved in 2020 of Rp. 3.76 trillion. In 2021, the company also posted EBITDA of Rp 2.08 trillion, an increase of around 8% compared to the previous year of Rp. 1.93 trillion. Read also: Looking at the Financial Performance and Valuation of Moratelindo's IPO Share Price (MORA) In line with that, MORA posted a profit for the year of Rp 671 billion, while in 2020 it was Rp 679 billion. As for March 2022, MORA recorded operating revenues of Rp 1.02 trillion, or grew by around 5% compared to the same period in 2021 of Rp 981 billion. Meanwhile, as of March 2022, EBITDA was recorded at IDR 570 billion, an increase of more than 9% compared to the same period the previous year of IDR 522 billion. In the March 2022 period, profit for the year was recorded at Rp183 billion, an increase of around 0.9% in the same period in 2021 amounting to Rp182 billion. In the March 2022 period, the company's total assets amounted to Rp 14.41 trillion. In the same period, total liabilities were recorded at Rp 9.67 trillion. Check other News and Articles on Google News\n"
     ]
    },
    {
     "name": "stderr",
     "output_type": "stream",
     "text": [
      "convert squad examples to features: 100%|██████████| 1/1 [00:00<00:00, 36.41it/s]\n",
      "add example index and unique id: 100%|██████████| 1/1 [00:00<00:00, 9962.72it/s]\n"
     ]
    },
    {
     "data": {
      "application/vnd.jupyter.widget-view+json": {
       "model_id": "4e412629fb3b41d083903e5174ac2a4f",
       "version_major": 2,
       "version_minor": 0
      },
      "text/plain": [
       "Running Prediction:   0%|          | 0/1 [00:00<?, ?it/s]"
      ]
     },
     "metadata": {},
     "output_type": "display_data"
    },
    {
     "name": "stderr",
     "output_type": "stream",
     "text": [
      "2022-07-15 13:43:35,053 - 322050 - simpletransformers.question_answering.question_answering_model - INFO -  Converting to features started.\n"
     ]
    },
    {
     "name": "stdout",
     "output_type": "stream",
     "text": [
      "Immediate IPO, Mora Telematika Indonesia Eyes Fresh Funds of Up to IDR 1.03 Trillion Reporter: Ika Puspitasari | Editor: Anna Suci Perwitasari KONTAN.CO.ID - JAKARTA. PT Mora Telematika Indonesia Tbk (MORA), a company engaged in the telecommunications industry, conducted an initial public offering of a maximum of 2.61 billion common shares on behalf of which are new shares issued from the Company's portfolio. This value is equivalent to 11% of the total issued and fully paid capital in the company after the initial public offering of shares with a nominal value of Rp 100 per share. For this IPO, Mora Telematika set the offering price in the range of Rp 368 - Rp 396 per share. Thus, MORA has the potential to receive fresh funds from this corporate action of up to Rp. 1.03 trillion. MORA President Director Galumbang Menak revealed that around 85 percent of the proceeds from the IPO will be used for investment, backbone and access investments, including passive and active devices and infrastructure as well as data center development. This investment includes the construction of inland cable, ducting and supporting equipment, both active and passive infrastructure. Also Read: IPO Offer Price for Moratelindo Shares Rp 368 - Rp 396 Per Share \"Backbone is the construction of a backbone network for both submarine cable and inland cable. Currently, the Company has a backbone network from Jakarta-Singapore, which consists of Submarine Cable and Inland Cable crossing along the island of Sumatra, which is called the Sumatra Backbone,\" he said in a public presentation, Tuesday (12/7). MORA also has a backbone along the island of Java, as well as a backbone from Bali to Nusa Tenggara consisting of submarine cable and inland cable. Galumbang added that the funds obtained from this IPO will be used for plans for the construction of submarine cable and inland cable along with supporting devices, both active and passive infrastructure on several islands in Indonesia, including but not limited to the islands of Sumatra, Java, Bali, Nusa Tenggara, Kalimantan and Sulawesi. In addition, the funds obtained from the go public action will be used to increase the capacity of the existing network and add new network capacity. \"The company has not been able to reveal in more detail the percentage of investment in backbone, access, ducting, data center and supporting devices, both active and passive infrastructure because it is currently still in the initial planning stage, where the length of the cable or ducting can still change depending on the results of the desktop study, inland. , marine surveys,\" he explained. Also Read: Ceiling Remaining Still Rp 833.5 Billion, Moratelindo Stops Offering Sustainable Sukuk Meanwhile, around 15% will be used for working capital needs and general business activities of the company, namely operational costs and network maintenance and supporting equipment, installation costs of equipment to customers and for branding and promotional activities. PT BNI Sekuritas and PT Sucor Sekuritas have been appointed as underwriters for the issuance of securities in the company's initial public offering. The Temporary Public Offering Schedule is : Initial Offering Period : 12 - 18 July 2022 Estimated Effective Date : 27 July 2022 Estimated Public Offering Period : 29 July 2022 – 2 August 2022 Estimated Allotment Date : 2 August 2022 Estimated Electronic Share Distribution Date : 3 August 2022 Estimated Listing Date on PT Bursa Efek Indonesia : August 4, 2022 Previously, this company successfully issued bonds in 2017 and issued sukuk through continuous public offerings in 2019, 2020 and 2021. . Check other News and Articles on Google News\n"
     ]
    },
    {
     "name": "stderr",
     "output_type": "stream",
     "text": [
      "convert squad examples to features: 100%|██████████| 1/1 [00:00<00:00, 29.54it/s]\n",
      "add example index and unique id: 100%|██████████| 1/1 [00:00<00:00, 16320.25it/s]\n"
     ]
    },
    {
     "data": {
      "application/vnd.jupyter.widget-view+json": {
       "model_id": "9794128c46094d4597c186ab9061182b",
       "version_major": 2,
       "version_minor": 0
      },
      "text/plain": [
       "Running Prediction:   0%|          | 0/1 [00:00<?, ?it/s]"
      ]
     },
     "metadata": {},
     "output_type": "display_data"
    },
    {
     "name": "stderr",
     "output_type": "stream",
     "text": [
      "2022-07-15 13:43:35,921 - 322050 - simpletransformers.question_answering.question_answering_model - INFO -  Converting to features started.\n"
     ]
    },
    {
     "name": "stdout",
     "output_type": "stream",
     "text": [
      "With BPKH's blessing, Bank Muamalat targets an IPO at the end of 2023 Reporter: Maizal Walfajri | Editor: Anna Suci Perwitasari KONTAN.CO.ID - JAKARTA. PT Bank Muamalat Indonesia Tbk's move to go public is getting closer to reality. Bank Muamalat, which already has the status of a public company, intends to hold an initial public offering (IPO) in 2023. This can be done because this bank has received the blessing of the Hajj Financial Management Agency (BPKH), which is the controlling shareholder. Bank Muamalat, for listing on the Indonesia Stock Exchange (IDX). “We have received a request from the shareholders (BPKH) to conduct an IPO. We will do that at the end of 2023,\" said Bank Muamalat President Director Achmad K. Permana in Jakarta on Monday (11/7). He explained that this corporate plan has also been submitted to the Financial Services Authority (OJK). Because as part of the process of strengthening capital and the entry of BPKH as a shareholder. \"The IPO must be done after the corporate action (the entry of BPKH) that we did,\" added Permana. Also Read: Cooperating with Paper.id, Bank Muamalat Accelerates Digital Transformation for MSME Funding Just so you know, BPKH has officially become the controlling shareholder of Bank Muamalat since late 2021. At that time, BPKH received the transfer of shares through a grant from the previous controlling shareholders (PSP), namely the Islamic Development Bank (IsDB), Boubyan Bank, Atwill Holdings Limited, National Bank of Kuwait, IDF Investment Foundation, and BMF Holdings Limited. After that, Bank Muamalat continued to beautify itself by taking various strategic steps. Start with restructuring troubled assets by cooperating with PT Perusahaan Pengelola Asset (Persero) or PT PPA. Thus, PT PPA manages Bank Muamalat's low-quality assets of Rp 10 trillion. This made Bank Muamalat's gross non-performing financing (NPF) decrease to around 0.49% as of March 2022, down from 4.93% in March 2021. In line with that, BPKH also injected Rp 3 trillion of capital into Bank Muamalat. The details are Rp 1 trillion from the rights issue and Rp 2 trillion from the absorption of subordinated sukuk issued by the first Islamic bank in the country. This makes the core capital adequacy ratio (CAR) of Bank Muamalat soar 33.39% as of March 2022. Far from the position in March 2021 at the level of 15.06%. Check other News and Articles on Google News\n"
     ]
    },
    {
     "name": "stderr",
     "output_type": "stream",
     "text": [
      "convert squad examples to features: 100%|██████████| 1/1 [00:00<00:00, 53.84it/s]\n",
      "add example index and unique id: 100%|██████████| 1/1 [00:00<00:00, 10155.70it/s]\n"
     ]
    },
    {
     "data": {
      "application/vnd.jupyter.widget-view+json": {
       "model_id": "a83cbce357c74691bdb8cea03372b695",
       "version_major": 2,
       "version_minor": 0
      },
      "text/plain": [
       "Running Prediction:   0%|          | 0/1 [00:00<?, ?it/s]"
      ]
     },
     "metadata": {},
     "output_type": "display_data"
    },
    {
     "name": "stderr",
     "output_type": "stream",
     "text": [
      "2022-07-15 13:43:36,631 - 322050 - simpletransformers.question_answering.question_answering_model - INFO -  Converting to features started.\n"
     ]
    },
    {
     "name": "stdout",
     "output_type": "stream",
     "text": [
      "IPO, Moratelindo Open Offer Price Rp 368 - Rp 396 Per Share Reporter: Sugeng Adji Soenarso | Editor: Khomarul Hidayat KONTAN.CO.ID - JAKARTA. PT Mora Telematika Indonesia Tbk or Moratelindo plans to hold an initial public offering (IPO) of shares. Moratelindo is a company engaged in telecommunications activities with cables, internet service providers, and internet interconnection services (NAP). In its prospectus, in this IPO, Moratelindo offers a maximum of 2,610,486,000 new shares or a maximum of 11% of the total issued and paid-up capital with a nominal value of Rp 100 per share. Moratelindo, which will use the stock code MORA, opens the IPO offering price in the range of Rp 368 - Rp 396 per share. In this way, the value of the initial public offering of shares is targeted to be as much as Rp 1.03 trillion. Read also: Entering Bookbuilding, Jhonlin Agro Raya Offers Share Price in the Range of Rp 250-Rp 300 Moratelindo also held a share allocation program to employees of a maximum of 0.25% of the shares offered in the IPO or 6,526,200 shares. All funds obtained by Moratelindo from the IPO after deducting issuance costs, will be used around 85% for investment needs including but not limited to network expansion. Including backbone, lastmile, capacity upgrades, and passive infrastructure. Furthermore, around 15% will be used for working capital and general business activities of Moratelindo. In the IPO process, Moratelindo appointed BNI Sekuritas and Sucor Sekurits to act as underwriters. Moratelindo's IPO schedule: Initial offering period: 12-18 July 2022 Estimated effective date: 27 July 2022 Estimated public offering period: 29 July 2022 - 2 August 2022 Estimated allotment date: 2 August 2022 Estimated date of electronic distribution of shares: 3 August 2022 Estimated listing date on the Indonesia Stock Exchange: August 4, 2022 Also Read: IPO Events Are Still Crowded, Check Out Analyst's Advice For Investors Check News and Other Articles on Google News\n"
     ]
    },
    {
     "name": "stderr",
     "output_type": "stream",
     "text": [
      "convert squad examples to features: 100%|██████████| 1/1 [00:00<00:00, 60.73it/s]\n",
      "add example index and unique id: 100%|██████████| 1/1 [00:00<00:00, 18978.75it/s]\n"
     ]
    },
    {
     "data": {
      "application/vnd.jupyter.widget-view+json": {
       "model_id": "9cf6412ba37e4825b68cc39cb06f2cf2",
       "version_major": 2,
       "version_minor": 0
      },
      "text/plain": [
       "Running Prediction:   0%|          | 0/1 [00:00<?, ?it/s]"
      ]
     },
     "metadata": {},
     "output_type": "display_data"
    },
    {
     "name": "stderr",
     "output_type": "stream",
     "text": [
      "2022-07-15 13:43:37,350 - 322050 - simpletransformers.question_answering.question_answering_model - INFO -  Converting to features started.\n"
     ]
    },
    {
     "name": "stdout",
     "output_type": "stream",
     "text": [
      "The IPO is Still Crowded, Hear Analyst's Advice For Investors Reporter: Akhmad Suryahadi | Editor: Wahyu T. Rahmawati KONTAN.CO.ID - JAKARTA. The initial public offering (IPO) is still lively. As of July 8, 2022, there have been 25 companies listed on the Indonesia Stock Exchange. IDX noted that there are still 37 companies in the share listing pipeline. The Director of Assessment of the Indonesia Stock Exchange I Gede Nyoman Yetna detailed that the list of companies in the IPO pipeline is dominated by medium-scale asset companies, namely 15 companies. Meanwhile, as many as nine companies are classified as small-scale assets and 13 companies are classified as large-scale assets. Based on sector, companies classified in the primary consumer goods sector consist of nine companies. Followed by seven companies from the non-primary consumer goods sector, five companies from the transportation and logistics sector, and four companies from the infrastructure sector. Then, three companies came from the technology sector and one company from the property & real estate sector. Then, two companies including the raw goods sector, two health companies, two energy companies, and two companies from the industrial sector. Also Read: FREN's Private Placement, Franky Widjaja Sinarmas Called a Strategic Buyer MNC Sekuritas analyst Herditya Wicakasana assesses that the IPO celebration is expected to still be lively. Although global market conditions are still not conducive due to the protracted Russia-Ukraine conflict, Indonesia's economic growth is likely to be better than the previous year. Plus, people's mobility can be said to be normal, it is hoped that purchasing power will also slowly improve so that the economy grows. \"On the other hand, the IPO can also aim to get prospective issuers to get cheap funds to expand,\" explained Herditya, Monday (11/7). Lucky Bayu Purnomo, Economist & Capital Market Practitioner, assessed that the market sentiment that drives the IPO in 2022 is still likely to be limited. Apart from the index which tends to be corrected, the market assesses that the economic condition of the country still needs to be given a stimulus. Later, this stimulus will have an impact on economic growth and the stock market. Read also: Two Prospective Central Bookbuilding Issuers, Utama Radar (RCCC) and Agung Menjangan (AMMS) Because it has been half a year, investors are also looking forward to the performance of companies that have IPOs in the last six months, especially those that conduct IPOs in early 2022. From the movement of a number of shares that have IPOs, investors gain experience to see how the potential of companies that IPO for this year are. “That's what makes IPO sentiments tend to be limited, not negative. Investors will tend to be selective,” explained Lucky when contacted by Kontan.co.id, Monday (11/7). So, when the market is volatile, Lucky advises investors to pay attention to blue chip stocks. The fundamental performance of blue chip issuers will be solid, especially issuers of commodities with derivatives of gold, coal and oil. Also Read: Bank Muamalat Will Hold IPO at the End of 2023 Lucky has a fairly bullish attitude towards commodity prices. For example, for coal, he projects the price of this energy commodity to reach the level of US$ 500 per metric ton (MT) by the end of the year. Apart from the rainy season which hampered production, the market is also considering the inflation rate in the United States (US). \"So that market participants see commodities as an option,\" continued Lucky. For crude oil, he targets the price to reach US$ 125 per barrel and gold price to be at US$ 1,900 per ounce troy by the end of the year. Even if investors want to buy shares with an IPO, Lucky said there are three sectors that are quite sexy to observe, namely commodities, banking/finance, and basic industries. Meanwhile, according to Herditya, because big cap stocks currently tend to be depressed, investors can choose issuers that benefit seasonally. \"As currently stocks are based on mining and energy,\" concluded Herditya. Check other News and Articles on Google News\n"
     ]
    },
    {
     "name": "stderr",
     "output_type": "stream",
     "text": [
      "convert squad examples to features: 100%|██████████| 1/1 [00:00<00:00, 28.95it/s]\n",
      "add example index and unique id: 100%|██████████| 1/1 [00:00<00:00, 9320.68it/s]\n"
     ]
    },
    {
     "data": {
      "application/vnd.jupyter.widget-view+json": {
       "model_id": "ef5687ef1b0946b693763f89b523d4bb",
       "version_major": 2,
       "version_minor": 0
      },
      "text/plain": [
       "Running Prediction:   0%|          | 0/1 [00:00<?, ?it/s]"
      ]
     },
     "metadata": {},
     "output_type": "display_data"
    },
    {
     "name": "stderr",
     "output_type": "stream",
     "text": [
      "2022-07-15 13:43:38,223 - 322050 - simpletransformers.question_answering.question_answering_model - INFO -  Converting to features started.\n"
     ]
    },
    {
     "name": "stdout",
     "output_type": "stream",
     "text": [
      "Bank Muamalat Will Hold IPO at the End of 2023 Reporter: Maizal Walfajri | Editor: Anna Suci Perwitasari KONTAN.CO.ID - JAKARTA. Despite having a public company status, PT Bank Muamalat Indonesia Tbk has not yet been listed on the Indonesia Stock Exchange (IDX). However, with the entry of the Hajj Financial Management Agency (BPKH) as the controlling shareholder, Bank Muamalat plans to hold an initial public offering (IPO) in 2023. “We have received requests from shareholders (BPKH) to conduct an IPO. We will do that at the end of 2023,\" said Bank Muamalat President Director Achmad K. Permana in Jakarta on Monday (11/7). He explained that this corporate plan has also been submitted to the Financial Services Authority (OJK). Because as part of the process of strengthening capital and the entry of BPKH as a shareholder. \"The IPO must be done after the corporate action (the entry of BPKH) that we did,\" added Permana. Also Read: Cooperating with Paper.id, Bank Muamalat Accelerates Digital Transformation for MSME Funding Just so you know, BPKH has officially become the controlling shareholder of Bank Muamalat since late 2021. At that time, BPKH received the transfer of shares through a grant from the previous controlling shareholders (PSP), namely the Islamic Development Bank (IsDB), Boubyan Bank, Atwill Holdings Limited, National Bank of Kuwait, IDF Investment Foundation, and BMF Holdings Limited. After that, Bank Muamalat continued to beautify itself by taking various strategic steps. Start with restructuring troubled assets by cooperating with PT Perusahaan Pengelola Asset (Persero) or PT PPA. Thus, PT PPA manages Bank Muamalat's low-quality assets of Rp 10 trillion. This made Bank Muamalat's gross non-performing financing (NPF) decrease to around 0.49% as of March 2022, down from 4.93% in March 2021. In line with that, BPKH also injected Rp 3 trillion of capital into Bank Muamalat. The details are Rp 1 trillion from the rights issue and Rp 2 trillion from the absorption of subordinated sukuk issued by the first Islamic bank in the country. This makes the core capital adequacy ratio (CAR) of Bank Muamalat soar 33.39% as of March 2022. Far from the position in March 2021 at the level of 15.06%. Check other News and Articles on Google News\n"
     ]
    },
    {
     "name": "stderr",
     "output_type": "stream",
     "text": [
      "convert squad examples to features: 100%|██████████| 1/1 [00:00<00:00, 35.88it/s]\n",
      "add example index and unique id: 100%|██████████| 1/1 [00:00<00:00, 13486.51it/s]\n"
     ]
    },
    {
     "data": {
      "application/vnd.jupyter.widget-view+json": {
       "model_id": "46f60cef6cfe44a9bbb48690ee0a5723",
       "version_major": 2,
       "version_minor": 0
      },
      "text/plain": [
       "Running Prediction:   0%|          | 0/1 [00:00<?, ?it/s]"
      ]
     },
     "metadata": {},
     "output_type": "display_data"
    },
    {
     "name": "stderr",
     "output_type": "stream",
     "text": [
      "2022-07-15 13:43:38,927 - 322050 - simpletransformers.question_answering.question_answering_model - INFO -  Converting to features started.\n"
     ]
    },
    {
     "name": "stdout",
     "output_type": "stream",
     "text": [
      "IDX Still Has 37 Prospective Issuers in IPO Pipeline Reporter: Nur Qolbi | Editor: Wahyu T. Rahmawati KONTAN.CO.ID - JAKARTA. The Indonesia Stock Exchange (IDX) has listed 25 new issuers from the beginning of this year until July 8, 2022. As of the same date, there are still 37 companies in the IDX stock listing pipeline. According to the official e-IPO website, there are eight companies currently in the bookbuilding period. For example, PT Utama Radar Cahaya Tbk (RCCC), PT Utama Radar Cahaya Tbk (RCCC), PT Aman Agrindo Tbk (GULA), PT Bangun Karya Perkasa Jaya Tbk (KRYA), PT Habco Trans Maritima Tbk (HATM), PT Tera Data Indonusa Tbk (AXIO), PT Dewi Shri Farmindo Tbk (DEWI), and PT Hillcon Tbk (HILL). IDX Valuation Director I Gede Nyoman Yetna said the list of companies in the IPO pipeline was dominated by medium-scale asset companies, namely 15 companies. \"Meanwhile, as many as nine companies including small-scale assets and 13 companies belonging to large-scale assets,\" said Nyoman, Friday (8/7). Also Read: LQ45 Shares On Sale, Check Out Prospective Stock Recommendations Based on POJK 53/POJK.04/2017 dated 19 July 2017, small-scale companies are those with assets of not more than Rp. 50 billion, while medium-scale companies have assets of more than Rp. 50 billion to Rp 250 billion, and large-scale asset companies have assets above Rp 250 billion. Furthermore, by sector, there are nine companies classified in the primary consumer goods sector. Followed by seven companies from the non-primary consumer goods sector, five companies from the transportation and logistics sector, and four companies from the infrastructure sector. Then, three companies came from the technology sector and one company from the property and real estate sector. Then, two companies including the raw goods sector, two health companies, two energy companies, and two companies from the industrial sector. Also Read: Medco Energi (MEDC) Will Issue IDR 3 Trillion Bonds, Check Coupons In the debt securities and sukuk pipeline, IDX still has 23 companies in the pipeline. \"There are 23 issuers who will list 29 emissions in the bond and sukuk listing pipeline,\" said Nyoman. From the beginning of the year until July 8, 2022, there were 59 new issuances of debt securities and sukuk which were listed on the IDX and issued by 45 companies. The total funds raised reached Rp 72.85 trillion. Check other News and Articles on Google News\n"
     ]
    },
    {
     "name": "stderr",
     "output_type": "stream",
     "text": [
      "convert squad examples to features: 100%|██████████| 1/1 [00:00<00:00, 37.03it/s]\n",
      "add example index and unique id: 100%|██████████| 1/1 [00:00<00:00, 15477.14it/s]\n"
     ]
    },
    {
     "data": {
      "application/vnd.jupyter.widget-view+json": {
       "model_id": "e7afe31720614328b69f9c991021c0c8",
       "version_major": 2,
       "version_minor": 0
      },
      "text/plain": [
       "Running Prediction:   0%|          | 0/1 [00:00<?, ?it/s]"
      ]
     },
     "metadata": {},
     "output_type": "display_data"
    },
    {
     "name": "stderr",
     "output_type": "stream",
     "text": [
      "2022-07-15 13:43:39,597 - 322050 - simpletransformers.question_answering.question_answering_model - INFO -  Converting to features started.\n"
     ]
    },
    {
     "name": "stdout",
     "output_type": "stream",
     "text": [
      "Mideast Stocks: Most Gulf bourses gain, tracking oil, global shares Most stock markets in the Gulf ended higher on Tuesday, tracking oil prices and global shares as China eased some quarantine requirements for international arrivals which raised hopes for stronger growth and a revival in demand for commodities. China slashed the quarantine time for inbound travellers by half in a major easing of one of the world's strictest COVID-19 curbs, which have deterred cross-border travel and resulted in international flights running at just 2% of pre-pandemic levels. Saudi Arabia's benchmark index leapt 2.1%, buoyed by a 3.3% rise in oil behemoth Saudi Aramco and a 3.4% increase in the country's biggest lender Saudi National Bank. Oil prices, a key factor for the Gulf's financial markets, swung higher after China eased quarantine rules, with focus already on tight supply as G7 leaders agreed to study placing price caps on imports of Russian oil and gas. The energy index in the kingdom advanced 3.2%. Dubai's main share index added 1.1%, led by a 1.9% gain in Emirates NBD Bank and a 1.6% rise in sharia-compliant lender Dubai Islamic Bank. Dubai business park operator TECOM Group said on Monday it had raised 1.7 billion dirhams ($462.87 million) from investors via its initial public offering. Over the short term, the market remains supported by the success of Tecom's IPO, according to Fadi Reyad, market analyst at CAPEX.com. In Abu Dhabi, the equities finished 1.9% higher, with conglomerate International Holding climbing 2%, after its unit Alpha Dhabi Holding increased the stake in Aldar Properties and became the single-largest shareholder. Shares of Alpha Dhabi were 2.4% higher, while Aldar advanced 3.7%. The Qatari index closed 1.1% higher, driven by a 2.4% increase in the Gulf's biggest lender Qatar National Bank. Outside the Gulf, Egypt's blue-chip index slipped 0.8%, reaching its lowest since April 2020. The Egyptian bourse continued its slide as international investors' selling trend is still active said Reyad. \"The market could see some support when new IPOs are launched, attracting liquidity.\" (Reporting by Ateeq Shariff in Bengaluru; Editing by Krishna Chandra Eluri) \n"
     ]
    },
    {
     "name": "stderr",
     "output_type": "stream",
     "text": [
      "convert squad examples to features: 100%|██████████| 1/1 [00:00<00:00, 52.09it/s]\n",
      "add example index and unique id: 100%|██████████| 1/1 [00:00<00:00, 12018.06it/s]\n"
     ]
    },
    {
     "data": {
      "application/vnd.jupyter.widget-view+json": {
       "model_id": "5d92a4325db04e6ebc98f32a377cef6b",
       "version_major": 2,
       "version_minor": 0
      },
      "text/plain": [
       "Running Prediction:   0%|          | 0/1 [00:00<?, ?it/s]"
      ]
     },
     "metadata": {},
     "output_type": "display_data"
    },
    {
     "name": "stderr",
     "output_type": "stream",
     "text": [
      "2022-07-15 13:43:40,263 - 322050 - simpletransformers.question_answering.question_answering_model - INFO -  Converting to features started.\n"
     ]
    },
    {
     "name": "stdout",
     "output_type": "stream",
     "text": [
      "Investcorp appoints MD for Private Wealth in Saudi Arabia Investcorp, a leading global alternative investment firm, has appointed Mashaal AlJomaih as Managing Director of Investcorp’s Private Wealth for the Saudi Arabia (KSA) market. He will be based in Riyadh. Yasser Bajsair, CEO of Investcorp KSA, commented: “We are delighted to welcome Mashaal, who brings with him over 20 years of experience in investment banking. His deep knowledge and understanding of Saudi Arabia’s market, which is a key market for Investcorp, as well as his experience in wealth management, make him ideal for this role. \"We believe the economic transformation of the Kingdom and the evolution of the family business model have created opportunities to establish higher value and larger scale businesses that require complex and sophisticated processes and enhanced management capabilities. As Managing Director for Private Wealth, Mashaal will also support the expansion of our client base in Saudi Arabia.” Since 2008, Investcorp has been one of the most active private equity players in Saudi Arabia, deploying about $1.4 billion across 16 investments in diverse sectors. The group has supported a number of leading family businesses in their journey towards going public on the Saudi Stock Exchange (Tadawul). AlJomaih said: “I am excited to be joining Investcorp at this time in its growth journey and I look forward to helping lead the expansion of the firm’s footprint in Saudi Arabia. The Kingdom is an incredibly exciting and dynamic market with a wealth of opportunities emerging as its economy diversifies. Investcorp has an excellent opportunity to capitalize on this transformation and I am focused on implementing a strategy that delivers growth and value for our shareholders, stakeholders and the communities within which we operate.” Investcorp recently launched a dedicated $500 million pre-IPO vehicle to primarily partner with Saudi family businesses aspiring to go public with a focus on four industry verticals: consumer, healthcare, transport and logistics, and business services. The firm also entered into a joint venture with abrdn plc, Aberdeen Standard Investcorp Infrastructure Partners, aimed at participating in the economic transformation in the GCC and the wider MENA region by investing in sustainable core infrastructure projects. Prior to joining Investcorp, AlJomaih held senior positions at BNP Paribas Investment Company and JP Morgan Chase. He also co-founded a UK-based real estate consulting company. He holds a BSc in Business Administration from King Saud University, KSA. He also holds an MBA, Finance and MIS concentration from Clark University, Worcester, Massachusetts. He also attended the Young Managers Program at INSEAD, France.  Copyright 2022 Al Hilal Publishing and Marketing Group Provided by SyndiGate Media Inc. (Syndigate.info). \n"
     ]
    },
    {
     "name": "stderr",
     "output_type": "stream",
     "text": [
      "convert squad examples to features: 100%|██████████| 1/1 [00:00<00:00, 36.69it/s]\n",
      "add example index and unique id: 100%|██████████| 1/1 [00:00<00:00, 11244.78it/s]\n"
     ]
    },
    {
     "data": {
      "application/vnd.jupyter.widget-view+json": {
       "model_id": "e36aaab5f73d44f6b0b0e179e401da63",
       "version_major": 2,
       "version_minor": 0
      },
      "text/plain": [
       "Running Prediction:   0%|          | 0/1 [00:00<?, ?it/s]"
      ]
     },
     "metadata": {},
     "output_type": "display_data"
    },
    {
     "name": "stderr",
     "output_type": "stream",
     "text": [
      "2022-07-15 13:43:40,936 - 322050 - simpletransformers.question_answering.question_answering_model - INFO -  Converting to features started.\n"
     ]
    },
    {
     "name": "stdout",
     "output_type": "stream",
     "text": [
      "Beijing gives initial nod to revive Ant IPO after crackdown cools - sources HONG KONG - China's central leadership has given billionaire Jack Ma's Ant Group a tentative green light to revive its initial public offering (IPO), two sources with knowledge of the matter said, in the clearest sign yet Beijing is easing its crackdown on the tech sector. Ant, an affiliate of Chinese e-commerce behemoth Alibaba Group Holding Ltd, aims to file a preliminary prospectus for the share offering in Shanghai and Hong Kong as early as next month, the sources said, declining to be named due to the sensitivity of the matter. The fintech giant will need to wait for guidance from the China Securities Regulatory Commission (CSRC) on the specific timing of the prospectus filing, said one of the sources. In a publicly released statement, Ant said there was no plan to relaunch its IPO, without elaborating. It did not respond to Reuters request for comment on whether it had received a green light from Beijing. The company's stock market listing was hastily shelved at the behest of Beijing in November 2020. At the time, it was slated to be valued at around $315 billion and planned to raise $37 billion, which would have been a world record. \"Under the guidance of regulators, we are focused on steadily moving forward with our rectification work and do not have any plan to initiate an IPO,\" Ant said on its WeChat account late on Thursday. Neither the CSRC nor China's State Council Information Office, which handles media queries for central leaders, responded to Reuters' request for comment. Ant wants to keep the IPO revival plans low profile pending a formal announcement, after having attracted regulatory glare in its first attempt back in 2020 with the waves the offering created as the world's largest ever equity float, a separate source with direct knowledge of the matter said. Chinese authorities pulled the plug on the IPO and cracked down on Ma's business empire after he gave a speech in Shanghai in October 2020 accusing financial watchdogs of stifling innovation. The IPO's derailment marked the start of a regulatory crackdown to rein in China's huge homegrown technology sector, which spread to other industries, including property and private education, wiping billions off market capitalisations and triggering layoffs at some firms. With its economy slowing in a politically sensitive year when Xi Jinping is expected to secure an unprecedented third term as party leader, Beijing is looking to loosen it grip on private businesses including tech giants to help it meet a growth target of 5.5%, something economists have said will be hard to reach given COVID-19 lockdowns. \"They are rolling back on their crackdown to counterbalance the lockdown they've had. Any data out of China lately has been dreadful because of lockdowns and the last thing they want to do is compound that issue. In the next three to six months we are likely to see China's crackdown unwound,\" said David Madden, market analyst at Equiti Capital in London. A revival of the IPO may also mark a rehabilitation of sorts for Ma, who has been maintaining a low public profile since Beijing swooped. EASING EFFORTS Chinese Vice-Premier Liu He last month told tech executives the government supported the development of the sector and will back firms pursuing listings at home and abroad. In another sign of Beijing's softer stance, China's ride-hailer Didi Global, which has been under a cybersecurity probe since last year, is in advanced talks to buy a third of a state-backed electric-vehicle maker, Reuters reported on Wednesday. News of the talks comes after the Wall Street Journal reported on Monday that Chinese regulators are set to conclude their investigations into Didi, which could offer more hope to investors about its recovery. Bloomberg reported earlier on Thursday that Chinese financial regulators had started early stage talks on a potential revival of Ant's stock market debut, without mentioning a timeline. The top securities regulator had established a team to reassess the share sale plans, Bloomberg reported. The regulator later said in a statement it had not conducted any assessment or research work regarding an Ant IPO. The U.S. listed shares of Alibaba, which owns nearly one-third of Ant, were down 7% after earlier rising as much as 7% in pre-market trading on the Bloomberg report. U.S. private equity firm Warburg Pincus, a big investor in Ant's 2018 private fundraising, lowered its valuation of Ant to about $180 billion at end-March from $221 billion one year earlier, a separate source said. The regulators have directed Ant to restructure as a financial rather than tech firm, and sources and analysts have said the financial sector typically carries lower valuations. Warburg Pincus declined to comment on Thursday. \"The size of Ant and the IPO will have to be smaller than what was planned in 2020 because the market conditions have changed and cannot be compared to now,\" said Dickie Wong, executive director of Kingston Securities in Hong Kong. U.S.-listed shares of Chinese tech and e-commerce firms including Didi and Alibaba have gained this week on hints Beijing's one-and-a-half year long crackdown may be easing. (Reporting by Julie Zhu; Additional reporting by Medha Singh, Abinaya Vijayaraghavan, Scott Murdoch, Kane Wu and Vidya Ranganathan; Editing by Sumeet Chatterjee, Carmel Crimmins, Elaine Hardcastle and David Evans) \n"
     ]
    },
    {
     "name": "stderr",
     "output_type": "stream",
     "text": [
      "convert squad examples to features: 100%|██████████| 1/1 [00:00<00:00, 21.89it/s]\n",
      "add example index and unique id: 100%|██████████| 1/1 [00:00<00:00, 8160.12it/s]\n"
     ]
    },
    {
     "data": {
      "application/vnd.jupyter.widget-view+json": {
       "model_id": "5515c8f7fcf44f269871f5b8271546df",
       "version_major": 2,
       "version_minor": 0
      },
      "text/plain": [
       "Running Prediction:   0%|          | 0/1 [00:00<?, ?it/s]"
      ]
     },
     "metadata": {},
     "output_type": "display_data"
    },
    {
     "name": "stderr",
     "output_type": "stream",
     "text": [
      "2022-07-15 13:43:41,918 - 322050 - simpletransformers.question_answering.question_answering_model - INFO -  Converting to features started.\n"
     ]
    },
    {
     "name": "stdout",
     "output_type": "stream",
     "text": [
      "How Wall Street banks made a killing on SPAC craze NEW YORK - Investment banks have raked in billions of dollars by feeding the frenzy for blank-check companies, and they have done so largely without risking any of their own money on hundreds of deals that have left many investors with punishing losses. A look at one of these deals shows how. In late 2020, Acies Acquisition Corp tapped into investor demand for blank-check companies – formally known as special purpose acquisition companies, or SPACs – with an initial public offering that raised $215 million. Among the investment banks Acies signed up to underwrite the IPO were JPMorgan Chase & Co, Morgan Stanley and Oppenheimer & Co. When the offering closed, Acies, essentially a shell company, followed the SPAC template. With the cash it had raised, it had two years to find and merge with a private company seeking a stock market listing, or return the money to investors. Acies’ management team announced it was on the hunt for a business in the “experiential entertainment industry.” The team didn’t have to look for very long. Hours after the IPO closed, bankers advising Playstudios Inc contacted Acies managers to tell them the Las Vegas-based maker of mobile casino games was for sale, regulatory filings show. Those bankers were also with JPMorgan. In early 2021, the two companies announced plans for a merger that valued Playstudios at $1.1 billion. In the run-up to the merger and the listing of the combined company’s shares, Playstudios touted a rosy future. It forecast that surging ad sales, a new role-playing game and cross-marketing offerings to game players would bring a 20% rise in revenue in 2021 and a 33% jump this year. Since then, the company has scrapped the new game, and revenue fell far short of predictions. Retail investors suffered the consequences. The stock is down more than 50% since shareholders approved the merger last June. “Playstudios is one that looks like crap right now,” Dan Ushman, a 37-year-old Chicago-area entrepreneur, said earlier this year. He put about $26,000 into Acies after it announced its deal with Playstudios and soon saw his investment drop more than 35%. Investment banks involved in the deal fared much better, having risked none of their own money, based on a Reuters review of regulatory filings. JPMorgan, in particular, pocketed hefty fees for its dual role as an underwriter for the Acies IPO and as an adviser to Playstudios – perfectly legal, despite the apparent conflict of interest, if the bank discloses its role, as JPMorgan did. The bank has not disclosed its fees, but financial data provider Refinitiv estimates that JPMorgan earned $4.7 million in underwriting fees and $14.2 million as a sell-side adviser. It also received $1.6 million for helping Acies raise additional capital through a maneuver known as private investment in public equity, or PIPE, according to financial research firm Morningstar Inc and a Reuters analysis. PIPEs, which tap big institutional investors, are often necessary to close a SPAC merger. Morgan Stanley earned about $5.9 million and Oppenheimer about $1.2 million in underwriting fees, according to Refinitiv estimates. Each bank also got about $1.6 million in PIPE-related fees, according to Morningstar and a Reuters analysis. LionTree Advisors, another Playstudios adviser, earned $6.2 million on the deal, according to Refinitiv estimates, plus $1.6 million in PIPE fees, according to Morningstar and a Reuters analysis. JP Morgan, Morgan Stanley and LionTree declined to comment. An Oppenheimer spokesman said the bank had a minor role in the Acies IPO. Playstudios noted that the JPMorgan teams it and Acies worked with came from separate divisions of the bank. The company said it has “a robust framework for evaluating, approving, executing and optimizing its game initiatives,” and that it is continually “revisiting the conditions and decision to either advance or suspend an initiative.” A CURIOUS PATTERN The disparate outcomes of the Acies-Playstudios deal – big bucks for the investment banks that sold it and big losses for retail investors who bought into it – are typical of many SPAC deals. For this article, Reuters analyzed hundreds of SPACs spanning roughly two years, reviewed banks’ internal documents and regulatory filings, and interviewed more than two dozen bankers, investors, SPAC managers, lawyers and corporate executives. The examination found that investment banks turbocharged to their benefit what turned out to be a speculative bubble in companies that have often failed to live up to their pre-listing hype. The SPAC market has sagged since the collapse of some high-profile blank-check listings amid overall grim market conditions. And in March, the U.S. Securities and Exchange Commission (SEC) proposed new rules that would increase disclosure requirements and potential legal liability for SPACs and their banks. Facing these market and regulatory challenges, some banks have been pulling back from the business. Whatever happens to the SPAC market, the Reuters examination reveals in detail for the first time how, over the past couple of years, Wall Street banks have enriched themselves by aggressively promoting the deals in the absence of the legal guardrails and financial risks associated with traditional IPOs. Credit Suisse summed it up last year in a confidential client presentation reviewed by Reuters: SPACs “bend the rules” of the IPO market. The Swiss bank has had a role in 136 blank-check deals since the beginning of 2020 through the end of March, according to a Reuters analysis of SPAC Research data. A Credit Suisse spokesperson said the language in the presentation pertains to SPAC “market conventions” that give companies and investors more flexibility than in traditional IPOs. The bank is committed to “recommending strategies that conform to all applicable rules,” the spokesperson said. In a traditional IPO, underwriters can be held responsible under securities law for any misleading forecasts, projections or other statements made to investors. To protect themselves against liability, banks perform rigorous due diligence on companies whose IPOs they underwrite, and those companies generally do not issue public forecasts about their performance. Banks also buy big chunks of an issuing company’s new shares, risking losses if they can’t resell the stock for more than they paid. With a SPAC, a bank's role as underwriter ends once the blank-check company completes its IPO, but the bank receives a portion of its fee only after the SPAC makes an acquisition. By the time the SPAC announces a merger, SPAC underwriters aren’t responsible for forecasts and other claims about the performance of the company to be acquired and publicly listed. And because blank-check IPOs are typically priced at a nominal $10, banks don't run the risk of having to sell new shares that fall in value. For investment banks, blank-check deals create “moral hazard” – an incentive to take on risk because of little exposure to it – according to Usha Rodrigues, a law professor at the University of Georgia who studies SPACs. That’s because they “don’t have the same liability with a SPAC that they have with a traditional IPO, but banks do get to collect fees if they can get a deal done,” she said. The “companies that merged with SPACs … don’t have the same level of vetting,” which most retail investors do not realize. Shares of companies that obtained a stock market listing in a SPAC merger from 2019 through the beginning of March were down roughly 36% on average from when their deals closed, according to data provided by Jay Ritter, a professor of finance at the University of Florida. That’s even worse than the 14% decline in shares of companies that went public through traditional IPOs during the same period, according to Nasdaq Inc. All told, according to Vanda Research, retail investors lost $4.8 billion, or 23%, of the aggregate $21.3 billion they plowed into SPACs from the beginning of 2020 to the first week of April 2022. Yet the deals that brought those shares to market have yielded a bonanza for investment banks. Industry tracker Coalition Greenwich estimates that banks booked about $8 billion in SPAC-related fees in 2020 and 2021. That represents roughly 6.5% of total U.S. investment banking fees that major banks collected in that period, according to Coalition Greenwich. “The bank has an incentive to push the deal to get closed, at any price, because they want their 3.5% of the SPAC IPO proceeds,” said Mike Stegemoller, a professor of banking and finance at Baylor University, referring to the fees underwriters receive only after a SPAC merger closes. “I think the conflict is with retail investors who are buying common shares of stock … Do you really think banks care about these retail investors? I think there are good incentives not to.” Many banks amped up their take by working for both sides of deals, as JPMorgan did with Acies and Playstudios. Reuters identified roughly 50 such cases from early 2020 to November 2021. SOURED SENTIMENT As the SPAC bubble has deflated, debate over responsibility for investor losses has focused on the executives of blank-check companies. These founding investors – referred to as sponsors – risk losing all of their investment if they can’t find a company to take public through a merger within the two-year window. However, founders acquire their shares at deep discounts to the typical $10 offering price, thanks to preferential treatment and fees that can dilute retail investors’ holdings. Likewise, the hedge funds and other institutional investors that account for a lot of the money behind SPACs often obtain their shares in an IPO or subsequent PIPE under favorable terms that put them at an advantage relative to retail investors. The SEC put SPACs on notice last year with several enforcement actions against specific companies and their sponsors for allegedly misleading investors about their prospects. Then, in late March, the regulator announced its proposed rules, which would, among other things, establish that investment banks that underwrite SPACs could be held legally liable for false or misleading forecasts or statements about blank-check deals. The SEC will vote on the rules after the public-comment period ends later this spring. The SEC declined to comment. In a March 30 statement on the proposed rules, SEC Chair Gary Gensler said “gatekeepers” such as underwriters “should have to stand behind and be responsible for basic aspects of their work” and “provide an essential function to police fraud and ensure the accuracy of disclosure to investors.” In its proposed rules, the SEC said that the fees underwriting banks receive when a SPAC closes a deal could indicate participation in the merger, and that banks also have a “strong financial interest” in making sure a SPAC inks a deal. For these reasons, the regulator said, it is proposing increasing banks’ liability. To date, investors have not sought to hold major Wall Street banks responsible for false or misleading information alleged in any of the 47 SPAC-related class action shareholder lawsuits filed since 2021, according to a Reuters analysis of a public database maintained by Stanford Law School and attorney Kevin LaCroix, who follows the cases. None of those cases have yet succeeded in court. One aspect of SPACs that has already drawn regulatory scrutiny is undisclosed dealings between blank-check companies and their targets before a merger is announced. That’s because investors could be misled if a SPAC privately shakes hands with an acquisition target while publicly stating it is still seeking the best possible merger partner. Communications between a SPAC and its acquisition target are part of an SEC investigation of former U.S. President Donald Trump's $1.25 billion deal, announced last October, to list his new social media venture on the stock market. In a December filing, Digital World Acquisition Corp, the SPAC that is merging with the former president’s Trump Media & Technology Group, disclosed that the SEC had asked for documents relating to communications between Digital World and Trump Media and meetings of Digital World's board, among other things. The SEC stated in its request that its investigation did not mean the agency had concluded that anyone violated the law, Digital World said. Trump Media has since launched the Truth Social platform to lackluster effect. Trump Media and Digital World Acquisition Corp did not respond to requests for comment. The SEC declined to comment. In the Acies-Playstudios deal, pre-existing relationships raise the question of whether the two companies already had a merger in mind, potentially precluding better deals for investors. Acies told investors when it launched its IPO that it had not identified a company to merge with and that it would pursue the best opportunity it could find. However, Andrew Pascal, chief executive officer of Playstudios, co-founded Acies with Jim Murren, who was chief executive officer of MGM Resorts Inc when that casino operator invested in Playstudios, as was disclosed in a securities filing. Playstudios said it “considered all viable SPAC proposals and eventually made the decision it believed was the best of the available options for the company.” Responding to Reuters inquiries on behalf of Murren and Pascal, Playstudios noted that MGM Resorts, not Murren personally, invested in the company, and that Pascal recused himself from \"all Acies deliberations concerning Playstudios\" once talks began and \"forfeited his economic interest in Acies to avoid even the appearance of having conflicting interests.\" BACKWATER TO BONANZA For decades, SPACs were a backwater of Wall Street, connecting speculators with companies that had no other means of going public. That changed in late 2019 and early 2020, when shares of Richard Branson’s spaceflight provider Virgin Galactic Holdings Inc and sports betting operator DraftKings Inc surged more than 600% after going public through SPAC mergers. Investors stuck at home during the COVID-19 pandemic and flush with cash from government stimulus payments helped drive those gains, and they clamored for more. Wall Street banks were happy to oblige and began aggressively promoting the business. In client presentations and other documents reviewed by Reuters, they repeatedly acknowledged the tainted reputation of SPACs and boasted of their ability to bring quality companies to market through blank-check deals. In a 2020 presentation, Morgan Stanley said there was a “historical perception of lower quality companies picking (the) SPAC route, although views have improved somewhat.” For its part, Morgan Stanley said it associated “only with the highest quality partners.” Some of its past partners include Acies, the SPAC that brought Playstudios to market. Shares of the 51 companies that Morgan Stanley has helped take public through SPACs either as an adviser or by raising money to close the deal since the beginning of 2020 were down 28% on average through late March, according to a Reuters analysis. Morgan Stanley declined to comment on the presentation and the performance of shares in companies that went public through its SPACs. Citigroup, in a 2019 presentation, said that while SPACs historically had been considered a “four-letter” word, synonymous with poor outcomes, that perception was changing as investors’ appetite for new alternatives grew. Companies that Citi helped bring to market through SPACs since 2020, either as an adviser or by raising money to close the deal, were down 38% on average at the beginning of May, according to a Reuters analysis of SPAC Research data. Among its many deals, Citi was an underwriter for the IPO of a SPAC called Spartan Acquisition Corp II and an adviser to the company Spartan subsequently acquired, Sunlight Financial Holdings Inc, a financier of solar energy systems. The bank helped Spartan determine its valuation of Sunlight at $1.3 billion, based on Sunlight’s own profit estimates, securities filings show. Sunlight later slashed its profit estimates. The shares, after peaking at about $14.33 in early 2021, are now trading at less than $5. Citi and Sunlight declined to comment. Credit Suisse, in a fourth-quarter 2020 presentation to corporate clients, pointed out that the latitude companies enjoy when issuing business forecasts in SPAC deals can “help improve investor perception of the company.” That would be particularly helpful, it said, for companies that “may have struggled to go public via a traditional IPO.” In the same presentation, Credit Suisse highlighted the “creative marketing tactics” it used in the Virgin Galactic deal. These included flying investors and analysts to tour Virgin Galactic’s factory and Spaceport America complex, which the bank said added “a ‘wow’ factor that a regular-way IPO process could not have provided.” When Virgin Galactic went public, it wasn’t generating any revenue. Its shares soared in the months after the listing, peaking at $62.80. They subsequently tumbled amid delays in some product testing and are now trading below $10. In a 2021 presentation, Credit Suisse asserted that the surge in blank-check deals was being driven by “high quality sponsors” that “seek to partner with blue-chip assets.” Quality aside, share prices of the 56 companies Credit Suisse helped bring to market through SPACs in the past two years were down on average about 32% at the end of March, according to a Reuters analysis of data from SPAC Research. A Credit Suisse spokesperson said the bank is “very selective when it comes to choosing SPAC clients,” and that it treats SPAC mergers “much the same way as regular IPOs” in terms of the bank’s internal approval process. When working for a company that could merge with a SPAC, the bank evaluates alternatives and helps identify the “most suitable course of action,” regardless of whether Credit Suisse underwrote the blank-check firm’s IPO, the spokesperson said. Virgin Galactic declined to comment. Another company Credit Suisse helped bring to market is Paysafe Ltd. The online payments platform was valued at $9 billion in a March 2021 merger with a SPAC. Credit Suisse had underwritten the SPAC’s IPO and acted as an adviser to Paysafe on the subsequent merger. The $9 billion valuation was based in part on Paysafe’s forecast that its digital wallets business would see double-digit growth from 2020 to 2023. Securities filings show that banks were involved in discussions on establishing the valuation. After Paysafe went public, it had to write down its digital wallets business and make technological improvements to it. The shares are down more than 80% from their January 2021 peak. Paysafe decided to go public through a SPAC because it was the “best route to take to public markets,” and hired Credit Suisse because it had worked with the bank on prior deals, according to a company spokesperson. Paysafe has put in place a turnaround plan for its digital wallets business that is “well underway” to “deliver on a new growth trajectory,” the spokesperson said. A representative for Foley Trasimene Acquisition Corp II, the SPAC that acquired Paysafe, declined to comment. WAITING IN THE WINGS The deal that took car retailer CarLotz Inc public underscores the aggressive tactics banks adopted in their pursuit of SPACs. The Richmond, Virginia-based company, which sells used cars on consignment online and through retail outlets, began looking for a buyer through a conventional sale in late 2019 but failed to find one at the $1 billion price it wanted, a source familiar with the matter said. Several months later, Deutsche Bank pitched itself as a sell-side adviser to CarLotz, pledging to find a SPAC buyer, according to a person familiar with the situation. The bank sought SPAC buyers that would value CarLotz at a minimum of $750 million, based on the $730 million paid for rival Shift Technologies Inc in a recent SPAC merger, and possibly as much as $2 billion, a source familiar with the matter said. And Deutsche Bank already had a bidder waiting in the wings, a SPAC called Acamar Partners Acquisition Corp. Deutsche Bank had advised Acamar as an underwriter on its launch more than a year earlier, and the blank-check company was running out of time to secure a merger. Less than a month after CarLotz hired Deutsche Bank, the bank suggested to Acamar that it make an offer for CarLotz, according to regulatory filings. Acamar made a winning offer of $827 million, less than CarLotz had hoped for, but beating out two other bidders, the filings show. In anticipation of its stock market listing, CarLotz started wooing investors with glowing forecasts. It projected it would have almost $1 billion in sales in 2022, nearly nine times its estimated 2020 revenue. It could meet demand, it said, from a diverse supplier base of used cars from corporate fleets. About seven months later, a supplier representing more than 60% of CarLotz’s cars sold in the prior quarter paused its relationship with the company. Sales dried up. Revenue for 2021 came to only $259 million. CarLotz shares are down more than 90% since they were listed, giving the company a market value of less than $100 million. Deutsche Bank did far better. It received fees of approximately $6.7 million as an underwriter and $14.1 million as an adviser, according to Refinitiv estimates. CarLotz and Acamar did not respond to requests for comment. In an interview, Eric Hackel, head of equity origination solutions at Deutsche Bank, declined to comment on the CarLotz deal specifically. In general, he said, the bank’s due diligence for a traditional IPO is “a little bit more thorough” than for a SPAC, but it does “a tremendous amount of diligence on companies we underwrite.” On deals for which the bank is advising the private company and has also underwritten the SPAC acquiring it, “there’s usually another bank advising,” Hackel said. Ultimately, he said, “it’s up to the company” if they hire the same bank that underwrote the SPAC to advise them on a deal. He noted that retail investors enjoy some of the protections institutional investors have – such as the right to redeem shares for $10 before a deal closes. However, once a deal is done, Hackel said, retail investors “have to make their own decisions. They have to do their own diligence.” Kyle Brown, a 30-year-old accountant in Groton, Connecticut, invested in CarLotz. “We lost the totality of our investment with the exception of $35,” he said. “It was about $11,000, $12,000.” Brown had hoped his investment would help pay for a new house, but he ended up having to find other ways to fund a down payment. (Additional reporting by Lawrence Delevingne in Boston; Kane Wu in Hong Kong; Pamela Barbaglia in London; Krystal Hu in New York; Chris Prentice in Washington; Echo Wang in New York; and Anirban Sen in Bengaluru. Editing by Greg Roumeliotis and John Blanton.) \n"
     ]
    },
    {
     "name": "stderr",
     "output_type": "stream",
     "text": [
      "convert squad examples to features: 100%|██████████| 1/1 [00:00<00:00,  4.04it/s]\n",
      "add example index and unique id: 100%|██████████| 1/1 [00:00<00:00, 11748.75it/s]\n"
     ]
    },
    {
     "data": {
      "application/vnd.jupyter.widget-view+json": {
       "model_id": "2b14b90a5e8849b29b2823f0a2267bf9",
       "version_major": 2,
       "version_minor": 0
      },
      "text/plain": [
       "Running Prediction:   0%|          | 0/1 [00:00<?, ?it/s]"
      ]
     },
     "metadata": {},
     "output_type": "display_data"
    },
    {
     "name": "stderr",
     "output_type": "stream",
     "text": [
      "2022-07-15 13:43:44,444 - 322050 - simpletransformers.question_answering.question_answering_model - INFO -  Converting to features started.\n"
     ]
    },
    {
     "name": "stdout",
     "output_type": "stream",
     "text": [
      "Retal plans IPO and listing shares on Saudi Stock Exchange Saudi Arabia - Retal Urban Development Company, a next generation real estate development company, intends to proceed with an Initial Public Offering (IPO) and list its shares on the Main Market of the Saudi Stock Exchange. The Capital Market Authority (CMA) has approved the company’s application for the IPO of 12,000,000 ordinary shares, representing 30% of its share capital. The final offer price will be determined at the end of the book-building period. The company has developed a number of Saudi Arabia’s most prestigious and exciting communities, including Nesaj Town Dammam 1 and 2, Nesaj Town AlKhobar and Retal Residence. It has also developed a number of residential communities under the ‘Ewan’ brand, including Ewan Al Nahda, Ewan Al Nawras and Ewan Al Maali, and launched the high-end villa project, Ayala, with its new concept and digital pre-customisation, which allows customers to choose and add the details to their liking and make modifications to designs and spaces prior to purchase. Hospitality projects These projects are complemented by lifestyle-oriented recreational amenities such as parks, water features, and other outdoor spaces. Additionally, Retal has projects in the hospitality sector, such Nobo which is part of Retal Rise luxury residential tower, and other sectors such as Retal Business Center – Riyadh, which offers modern and luxury office spaces that cater to the new workplace environment. The company is also developing Ewan Sidra, the first residential project to be developed with ROSHN (a PIF owned company). As of September 30, 2021G, Retal’s portfolio comprises over 30 completed and ongoing projects with a total of over 7,000 units, of which about 2,957 units were completed by 30 June 2021 in Riyadh, Jeddah and the Eastern Province in Saudi Arabia. Between 2018G and 2020G, the company’s annual revenue grew by 181% from SR209 million ($56 million) in 2018G to SR587 million in 2020G and net income jumped from SR3 million to SR99 million from 2018G to 2020G. Net income for the nine-month period ended September 30, 2021G was up to SR120 million. Key milestone Abdullah bin Abdullatif bin Ahmed Al-Fozan, Chairman of the Board of Directors, Retal, said: \"The IPO marks a significant milestone in the growth trajectory of our business and a key step towards further solidifying our leading position in the Saudi real estate sector. Our potential listing comes at an exceptionally exciting time as we continue to make remarkable strides towards opening up to the world, creating new opportunities, and elevating the lifestyle of every Saudi family as part of the Vision 2030.” Eng Abdullah bin Faisal bin Abdulaziz Al-Braikan, Chief Executive Officer of Retal, said: \"Retal has grown to become one of the most trusted developers of iconic master-planned communities that shape the urban fabric of Saudi. Opening the business to public investors will consummate the process of growth we have undertaken in the last ten years.\" “We are already witnessing a huge demand for high quality developments in desirable destinations across the country. We anticipate this demand to continue, driven by strong economic trends, favorable long-term demographics, and Saudi’s commitment to transform the real estate landscape and improve the standard of living in the country through the development of real estate laws and regulations. With Retal’s robust strategy, expertise, and financial strength, we are poised to capture these exciting opportunities while delivering excellent value to our shareholders.” Highlights of the offer With respect to the Offering, the company has appointed SNB Capital as the Sole Financial Advisor, Lead Manager, Bookrunner and Underwriter. The Saudi National Bank (SNB), Riyad Bank and Albilad Bank have been appointed as receiving entities For the individual investors tranche. The CMA and Saudi Exchange approvals have been obtained for the offering and listing outlined below: The Offering will be restricted to the following two groups of investors: Tranche (A): Participating Parties: this tranche comprises the parties entitled to participate in the book building process as specified under the Instructions for Book Building Process and Allocation Method in Initial Public Offerings issued by the Capital Market Authority Board pursuant to Resolution No. 2.94-2016 dated 15/10/1437H (corresponding to 20/07/2016G), as amended by CMA Board Resolution No. 3-102-2019 dated 18/01/1441H (corresponding to 17/09/2019G). The number of Offer Shares to be provisionally allocated to Participating Parties is twelve million (12,000,000) Offer Shares, representing 100% of the total Offer Shares. Final allocation of the Offer Shares will be made after the end of the subscription period for Individual Investors. In the event that Individual Investors (as defined in Tranche B below) subscribe for the Offer Shares allocated thereto, the Lead Manager shall have the right to reduce the number of shares allocated to Participating Parties to a minimum of ten million, eight hundred thousand (10,800,000) Offer Shares, representing 90% of the total Offer Shares. Tranche (B): Individual Investors: this tranche comprises Saudi Arabian natural persons, including any Saudi female divorcee or widow with minor children from a marriage to a non-Saudi, who can subscribe under their names for her own benefit, on the condition that she proves that she is a divorcee or widow and the mother of her minor children, in addition to any non-Saudi natural person who is resident in the Kingdom or any GCC natural persons, provided they have a bank account with one of the Receiving Entities and are allowed to open an investment account. Subscription of a person in the name of his divorcee shall be deemed invalid, and if a transaction of this nature is proved to have occurred, the law shall be enforced against such person. If a duplicate subscription is made, the second subscription will be considered void and only the first subscription will be accepted. A maximum of one million, two hundred thousand (1,200,000) Offer Shares, representing 10% of the total Offer Shares, will be allocated to Individual Investors, provided that Participating Parties subscribe to all the Offer Shares allocated thereto. In the event that Individual Investors subscribe for all the Offer Shares allocated thereto, the Lead Manager shall have the right to reduce the number of shares allocated to Individual Investors in proportion to the number of Offer Shares subscribed for thereby. Copyright 2022 Al Hilal Publishing and Marketing Group Provided by SyndiGate Media Inc. (Syndigate.info). \n"
     ]
    },
    {
     "name": "stderr",
     "output_type": "stream",
     "text": [
      "convert squad examples to features: 100%|██████████| 1/1 [00:00<00:00, 18.06it/s]\n",
      "add example index and unique id: 100%|██████████| 1/1 [00:00<00:00, 16980.99it/s]\n"
     ]
    },
    {
     "data": {
      "application/vnd.jupyter.widget-view+json": {
       "model_id": "df024c6ee2ce455f90687340c5a17d54",
       "version_major": 2,
       "version_minor": 0
      },
      "text/plain": [
       "Running Prediction:   0%|          | 0/1 [00:00<?, ?it/s]"
      ]
     },
     "metadata": {},
     "output_type": "display_data"
    },
    {
     "name": "stderr",
     "output_type": "stream",
     "text": [
      "2022-07-15 13:43:45,307 - 322050 - simpletransformers.question_answering.question_answering_model - INFO -  Converting to features started.\n"
     ]
    },
    {
     "name": "stdout",
     "output_type": "stream",
     "text": [
      "Retal Urban Development Company announcement of intention to float on the Saudi Stock Exchange Khobar, KSA: Retal Urban Development Company (“Retal” or “the Company”), a next generation real estate development company announces its intention to proceed with an Initial Public Offering (“IPO” or “Offering”) and list its shares on the Main Market of the Saudi Stock Exchange (“Saudi Exchange”). The Capital Market Authority (“CMA”) on 16 May 2022G approved the Company’s application for the Initial Public Offering of 12,000,000 ordinary shares, representing 30% of the Company’s share capital. The final price at which all subscribers in the Offering will purchase will be determined at the end of the book-building period. BUSINESS HIGHLIGHTS TOTAL NUMBER OF PROJECTS 30+ TOTAL # OF UNITS EXECUTED AND UNDER CONSTRUCTION 7,000+ TOTAL BUILT-UP AREA (SQM) OF COMPLETED, ONGOING AND UPCOMING PROJECTS 2.6 Mn+ TOTAL PROJECTS VALUE OF COMPLETED, ONGOING AND UPCOMING PROJECTS SAR 9.5 Bn+ TOTAL # OF UNITS TO BE COMPLETED OVER THE NEXT TWO YEARS 6,000 +       Abdullah bin Abdullatif bin Ahmed Al-Fozan, Chairman of the Board of Directors, Retal Development Co.: \"I am delighted to announce our intention to list on the Saudi Exchange through an IPO. This marks a significant milestone in the growth trajectory of our business and a key step towards further solidifying our leading position in the Saudi real estate sector. Our potential listing comes at an exceptionally exciting time as we continue to make remarkable strides towards opening up to the world, creating new opportunities, and elevating the lifestyle of every Saudi family as part of the Vision 2030.” Eng. Abdullah bin Faisal bin Abdulaziz Al-Braikan, Chief Executive Officer of Retal Development Co.: \"Retal has grown to become one of the most trusted developers of iconic master-planned communities that shape the urban fabric of Saudi. Opening the business to public investors will consummate the process of growth we have undertaken in the last ten years.\" “We are already witnessing a huge demand for high quality developments in desirable destinations across the country. We anticipate this demand to continue, driven by strong economic trends, favorable long-term demographics, and Saudi’s commitment to transform the real estate landscape and improve the standard of living in the country through the development of real estate laws and regulations. With Retal’s robust strategy, expertise, and financial strength, we are poised to capture these exciting opportunities while delivering excellent value to our shareholders.” Where we are: Key Investment Highlights Provide customers, partners, and people with a full-service integrated platform. We deliver solutions beyond construction Next generation real estate developer with a scalable business model configured to enable transformative growth and flexibility.  Proven track record of delivering quality and desirable communities in Saudi Arabia  Highly attractive financial profile with robust earnings, industry-leading margins, and strong balance sheet   SAR 587 million ▲68% CAGR (2018G-2020G) FY 2020G Revenue     SAR 90 million ▲313% CAGR (2018G-2020G) FY 2020G Operating Profit     SAR 99 million ▲500% CAGR (2018G-2020G) FY 2020G Net Profit     SAR 613million ▲91% 9M 2021G Revenue       SAR 105 million ▲244% 9M 2021G Operating Profit     SAR 120 million ▲179% 9M 2021G Net Profit   7,000+ Total # of units executed and under construction 23%  Return on Equity  FY 2020G 17%  Net Profit Margin FY 2020G   Source: Audited financial statements for the year ended 31 December 2020G  Strategic partnerships to support market outreach and long-term growth prospects Highly qualified leadership with a strong track record in real estate development and management. WHERE WE’RE GOING: Retal’s Strategic Direction HOW DO WE GET THERE: Retal’s Strategic Priorities HIGHLIGHTS OF THE OFFER The CMA and Saudi Exchange approvals have been obtained for the offering and listing outlined below: The Offering will be restricted to the following two groups of investors: -Ends- ENQUIRIES Sole Financial Advisor, Lead Manager, Bookrunner, and Underwriter Zaid Ghoul Managing Director, Head of Investment Banking SNBC.CM@alahlicapital.com Media Enquiry Brunswick Group Jade Mamarbachi / Joudi Issa retal@brunswickgroup.com Retal Abdullah AlShuwayer a.alshuwayer@retal.com.sa Disclaimer The information contained in this announcement is for background purposes only and does not purport to be full or complete. No reliance may be placed by any person for any purpose on the information contained in this announcement or its accuracy, fairness or completeness. The information in this announcement is subject to change. Neither the Company nor the Bookrunner or their respective affiliates undertake to provide the recipient of this announcement with any additional information, or to update this announcement or to correct any inaccuracies, and the distribution of this announcement shall not be deemed to be any form of commitment on the part of the Company or the Bookrunner to proceed with the Offering or any transaction or arrangement referred to therein. The contents of this announcement are not to be construed as legal, financial or tax advice.  The distribution of this announcement may be restricted by law in certain jurisdictions and persons into whose possession any document or other information referred to herein comes should inform themselves about and observe any such restriction. Any failure to comply with these restrictions may constitute a violation of the securities laws of any such jurisdiction. This announcement is not an offer for sale of securities of the Company, directly or indirectly, in or into the United States. The Offer Shares may not be offered or sold in the United States unless registered under the US Securities Act of 1933, as amended (the “Securities Act”), or offered in a transaction exempt from, or not subject to, the registration requirements of the Securities Act. The Company has not registered and does not intend to register any portion of the Offer Shares under the Securities Act or the laws of any state in the United States or to conduct a public offering of any securities in the United States. Copies of this announcement are not being, and may not be, distributed, forwarded or otherwise sent, directly or indirectly, in or into the United States.  This announcement does not contain or constitute an offer of, or the solicitation of an offer to buy, the Offer Shares to any person in the United States, Australia, Canada, South Africa or Japan or in any jurisdiction to whom or in which such offer or solicitation is unlawful. The offer and sale of the Offer Shares has not been and will not be registered under the applicable securities laws of Australia, Canada, South Africa or Japan. Subject to certain exceptions, the Offer Shares may not be offered or sold in Australia, Canada, South Africa or Japan or to, or for the account or benefit of, any national, resident or citizen of Australia, Canada, South Africa or Japan. There will be no public offer of the Offer Shares in the United States, Australia, Canada, South Africa or Japan.  This announcement is being distributed in accordance with the Rules on the Offer of Securities and Continuing Obligations (“OSCO Rules”) issued by the CMA for the purposes of ascertaining the extent to which potential investors are willing to participate in the potential initial public offering of the Company, and should not result in any binding undertakings to acquire shares or subscribe in the Offering. This announcement is for information purposes only and under no circumstances shall constitute an offer or invitation, of form the basis for a decision, to invest in any securities of the Company. Neither this announcement nor anything contained herein shall form the basis of, or be relied upon in connection with, any offer or commitment whatsoever in any jurisdiction. Investors may only subscribe in the Offer Shares on the basis of the CMA approved Arabic language prospectus to be issued and published in due course (the “Prospectus”). The information in this announcement is subject to change. In accordance with Article 33(d) of the OSCO Rules, copies of the Prospectus will, following publication, be available on the websites of the Company at www.retal.com.sa, the Saudi Exchange at www.saudiexchange.sa, the CMA at www.cma.org.sa and of the Financial Advisor.  This announcement is not an offer document for the purposes of the OSCO Rules and should not be construed as such. The CMA and the Saudi Exchange do not take any responsibility for the contents of this announcement, do not make any representations as to its accuracy or completeness, and expressly disclaim any liability whatsoever for any loss arising from, or incurred in reliance upon, any part of this announcement.  This announcement may include statements that are, or may be deemed to be, “forward-looking statements”. These forward-looking statements may be identified by the use of forward-looking terminology, including the terms “aim”, “anticipate”, “believe”, “can”, “consider”, “could”, “estimate”, “expect”, “forecast”, “intend”, “may”, “ought to”, “potential”, “plan”, “projection”, “seek”, “should”, “will”, “would”, or, in each case, their negative or other variations or comparable terminology, or by discussions of strategy, plans, objectives, goals, future events or intentions. Any forward-looking statements reflect the Company’s current view with respect to future events and are subject to risks relating to future events and other risks, uncertainties and assumptions relating to the Company’s business, results of operations, financial position, liquidity, prospects, growth or strategies. Many factors could cause the actual results to differ materially from those expressed or implied by any such forward-looking statements, including, among other things, risks specifically related to the Company and its operations, the development of global economic and industry conditions, and the impact of economic, political and social developments in Saudi Arabia. These factors will be described in more detail in the Prospectus. Forward-looking statements speak only as of the date they are made. Each of the Company, the Bookrunner and their respective affiliates expressly disclaims any obligation or undertaking to update, review or revise any forward-looking statement contained in this announcement whether as a result of new information, future developments or otherwise.  There is no guarantee that the Offering will occur and you should not base your financial decisions on the Company’s intentions in relation to the Offering at this stage. This announcement does not constitute a recommendation concerning the Offering. Acquiring Offer Shares to which this announcement relates may expose an investor to a significant risk of losing the entire amount invested. Persons considering investment should consult an investment advisor or an authorized person specializing in advising on such investments.  The Bookrunner is acting exclusively for the Company and no-one else in connection with the Offering. It will not regard any other person as their respective clients in relation to the Offering and will not be responsible to anyone other than the Company for providing the protections afforded to their clients, nor for providing advice in relation to the Offering, the contents of this announcement or any transaction, arrangement or other matter referred to herein.  The contents of this announcement have been prepared by and are the sole responsibility of the Company. None of the Bookrunner or any of its affiliates or respective directors, officers, employees, advisers or agents accepts any responsibility or liability whatsoever for or makes any representation or warranty, express or implied, as to the truth, accuracy or completeness of the information in this announcement (or whether any information has been omitted from the announcement) or any other information relating to the Company or its associated companies, whether written, oral or in a visual or electronic form, and howsoever transmitted or made available or for any loss howsoever arising from any use of this announcement or its contents or otherwise arising in connection therewith.  In connection with the Offering, the Bookrunner and any of its affiliates, may take up a portion of the Offer Shares in connection with the Offering as a principal position and in that capacity may retain, purchase, sell, offer to sell for their own accounts such Offer Shares and other securities of the Company or related investments in connection with the Offering or otherwise. Accordingly, references in the Prospectus, to the Company’s shares being issued, offered, subscribed, acquired, placed or otherwise dealt in should be read as including any issue or offer to, or subscription, acquisition, placing or dealing by, the Bookrunner and any of its affiliates acting in such capacity. In addition, the Bookrunner and any of its affiliates may enter into financing arrangements (including swaps or contracts for difference) with investors in connection with which the Bookrunner and any of their affiliates may from time to time acquire, hold or dispose of securities. The Bookrunner intends to disclose the extent of any such investment or transactions otherwise than in accordance with any legal or regulatory obligations to do so. \n"
     ]
    },
    {
     "name": "stderr",
     "output_type": "stream",
     "text": [
      "convert squad examples to features: 100%|██████████| 1/1 [00:00<00:00,  8.40it/s]\n",
      "add example index and unique id: 100%|██████████| 1/1 [00:00<00:00, 6114.15it/s]\n"
     ]
    },
    {
     "data": {
      "application/vnd.jupyter.widget-view+json": {
       "model_id": "480a1dce8ab247d29fa7ea2b76881833",
       "version_major": 2,
       "version_minor": 0
      },
      "text/plain": [
       "Running Prediction:   0%|          | 0/1 [00:00<?, ?it/s]"
      ]
     },
     "metadata": {},
     "output_type": "display_data"
    },
    {
     "name": "stderr",
     "output_type": "stream",
     "text": [
      "2022-07-15 13:43:47,034 - 322050 - simpletransformers.question_answering.question_answering_model - INFO -  Converting to features started.\n"
     ]
    },
    {
     "name": "stdout",
     "output_type": "stream",
     "text": [
      "How Covid propelled trillion-dollar valuations “A billion here, a billion there, and pretty soon you’re talking real money,” the late US Senator Everett Dirksen once said, mainly with reference to out-of-control federal spending in America. It was a snarky understatement to emphasise not just wasteful government spending, but also the value of a billion dollars, which, expressed numerically, is 1 followed by nine zeroes — as in, US $1,000,000,000. Although the world’s first billion-dollar company (US Steel) announced itself in 1901, and the world’s first billionaire (John Rockefeller of Standard Oil) was minted in 1916, even in the 1950s, when Dirksen was said to have made the comment, a billion was big, big bucks. Today, a billion dollars — or even a million dollars for that matter — is still a lot of money for an individual. There are approximately 2,800 known billionaires — and many unknown — in the world, a list currently led by Tesla’s Elon Musk, with an estimated wealth of $280bln. But in corporate terms, it is becoming chump change. Companies founded on a whim and prayer, or an app and hope, acquire valuation of a billion dollars in quick time, often based on speculative hope and hype. In an era of easy come-easy go, some endure, many do not. Dubbed Unicorns, a term first popularised by venture capitalist Aileen Lee after the mythical animal to represent the statistical rarity of such successful ventures, they have become a fairly common measure of entrepreneurial fizz. In 2013, when the term was first used to describe startups that scaled up quickly to a billion dollars, there were less than 40 unicorns, mainly in the US. Today, there are an estimated 1,000 unicorns across the world, including 300 in China and 100 in India. Some 30 unicorns, including already-famous names such as SpaceX, Instacart, Stripe, and ByteDance, each valued between $10bln and $100bln, have been given the name Decacorn. Scaling further up, Decacorns become Hectocorns when they are valued at over $100bln. Up until this stage, Unicorns, Decacorns, and Hectocorns are startup companies that are private, venture-backed entities, recognised and evaluated for their potential for growth, and not on their financial performance. Riding on “get big fast” (GBF) strategies, also known as Blitzscaling, these startups try to expand at a high rate through large funding rounds and price cutting to gain an advantage on market share and overrun competitors as quickly as possible. In pursuit of this foothold or market share, many of them don’t make a dime in profit; instead, they burn money to get ahead. Facebook was the first Decacorn and Hectocorn in history, crossing a $100bln valuation before it went public (once they go public with an IPO, they no longer qualify for the informal -corn suffix). It was followed by China’s Alibaba. ByteDance, owners of the app TikTok, which is backed by investors such as Sequoia Capital China and Softbank Group among others, is a current Decacorn, valued at over $140bln — more than the current market cap of storied companies such as AT&T and American Express. Since Facebook became the first privately-held Decacorn-turned-Hectocorn, a $100bln-plus privately-held company, an additional 84 Decacorns have been created. Not all have survived, with 33 of them losing their status for various reasons. This leaves 51 companies still straining at the leash to go public, whereupon they enter new terrain. They include names such as India’s Byju’s, currently valued at $21bln, making it the world’s most valuable education technology startup, and China’s Yuanfudao, also an edtech startup valued at $15.5bln. While Unicorns and Decacorns grow through large funding rounds from private venture capital firms and investors to get an early foothold in the marketplace, sitting on top of the pyramid are companies that do go public and scale a stratospheric height of a trillion dollars — companies for which there is still no agreed upon term as yet. The name Pegasus has been suggested for such companies which reach the new valuation pinnacle of $1trln (like the unicorn, the pegasus is also a mythical horse, but with wind beneath its wings). Collectively, they are simply known as Big Tech. They are the T company. The market cap of $1trln A trillion is no trifling sum. For starters, it is 1 followed by 12 zeroes — as in $1,000,000,000,000. A trillion dollars is greater than the Gross Domestic Product (GDP) of all but a score of countries. It is greater than the GDP of Switzerland, Sweden and Argentina, each with GDP below one trillion dollars in nominal terms. For that matter, the valuation of Apple, which recently crossed $3trln (it has since dropped to about $2.65trln at the time of writing), nudged the GDP of Great Britain and India, two of the larger economies of the world. Today, there are around half-a-dozen companies in the world that have a market cap of over $1trln. All but Saudi Aramco are US-born and US-based, and each has a tech orientation. As of March 31, 2022, they are led by Apple ($2.85trln), followed by Microsoft ($2.31trln), Alphabet/ Google ($1.84trln), Amazon ($1.65trln), and, the most recent addition to the list, Tesla ($1.1trln). Couple others have crossed the 1-T mark or nibbled at it and receded — notably PetroChina and Meta/Facebook. The rise, rise, and rise of US tech companies has also led to growing concerns about ‘Big Tech’ — an analogous recall of market dominance by a few companies in other market sectors such as Big Oil and Big Pharma. For instance, the big five tech stocks, originally dubbed FAAMG (Facebook, Apple, Amazon, Microsoft, and Google) and now TAAMG (with Tesla replacing Facebook, which has lost nearly 30 per cent of its valuation), account for about a quarter of the market capitalisation of the entire 500 companies in Standard&Poor’s 500. This effectively means 1% of the companies in the index account for about 25% of the total market value. Such market concentration isn’t unusual. In fact, some companies in the past represented an even bigger share of the market. Back in 1932, AT&T accounted for 13% of total US stock market value, more than twice Apple’s approximately 6% share of the current S&P value (about $ 40 trillion). Even further back, in 1928, General Motors represented 8% of the market, and, in 1970, IBM 7%. But there is a big difference in the time and pace of how the modern Big Tech became bellwethers. While four of the five American companies hit the $1trln market cap before the pandemic, what is remarkable is that the onset of Covid-19 — which lowered the boom on many traditional legacy companies — powered Big Tech to even greater heights. For instance, Apple, which hit $1trln market cap on August 2, 2018, doubled that in just two years, going up to $2trln on August 19, 2020, in the middle of the pandemic. It took even less time to breach $3trln (on January 3, 2022) before receding slightly. Similarly, Microsoft went from breaching $1 trillion in June 2019 to surpassing $2trln in June 2021, and Google went from scaling 1-T in January 2020 to topping 2-T in November 2021. So, what gives? How and why did this happen, particularly during a pandemic? The pandemic and the online giants To begin with, even in the pre-pandemic economy, four members of the Trillion Dollar Club (Tesla came late to the party) dominated their respective market: Apple in smartphones, Microsoft in cloud computing, Alphabet/Google in Internet advertising, and Amazon in online retail. When the pandemic kicked in, the stay- work- and buy-from-home economy brought rich rewards to these companies. While the already besieged brick-and-mortar companies collapsed, the online giants boomed, helped in addition by stimulus payments that put money in people’s pockets on top of low interest rates. Apple and Microsoft sales of IT products and cloud services soared, as did Amazon retailing and Google services, as people spent more and more time indoors and online. In many ways, the pandemic helped clarify a trend that was already becoming apparent before Covid-19 struck. Rewind or flashback 25 years, and you will see that the top 10 companies in terms of market cap were a mix of oil, food, pharma, and technology, all valued between $100 million and $220 million. In 1997, the list of most valued companies in the world read General Electric, Royal Dutch, Microsoft, Exxon Mobil, Coca Cola, Intel, Nippon, Merck Toyota, and Novartis. Up until even a decade ago, five of the top ten publicly listed companies in terms of market cap were oil companies, with Exxon Mobil and PetroChina leading the way. There were only two tech companies in the list — Apple at #3 and Microsoft at #10. In fact, PetroChina, a Chinese oil and gas company, an arm of state-owned China National Petroleum Corporation, became the first company to roar past the $1 trillion mark in 2007, a decade before Apple rang up its first trillion in market cap. In January 2007, just as PetroChina was nearing the $1 trillion valuation, Apple introduced its first iPhone, when the company was still shy of being $100 billion (it was worth $73.4 billion at that point). Introducing the iPhone, Apple founder Steve Jobs promised a “leapfrog product” that would be “way smarter than any mobile device has ever been, super easy to use”. As it turned out, not only did Apple reinvent the phone, it reinvented the market. In the years to come, the iPhone would become one of history’s best-selling products, racking up (most recently) sales of more $200 billion annually within a decade. The device has now become so ubiquitous that television presenter Jason Silva, paraphrasing the philosopher Descartes, joked “iPhone, therefore I am”. Signs that the iPhone would power Apple to the top spot became clear as early as 2012, when it displaced ExxonMobil as the world’s most valuable company, with PetroChina slipping to third place. The new-age ‘pinnacle’ In the decade since, Apple has never lost that pole position — except in 2019, when Microsoft briefly toppled it. Founded in 1974, just a few months before Apple by Jobs’ contemporary Bill Gates, Microsoft is another money-spinning behemoth, often ranked with Apple as one of the most profitable companies in the world. Just as Apple reinvented the phone, and itself, with the iPhone, Microsoft relaunched itself with cloud computing, the biggest revenue source for a company that was a byword for software. Relative to Apple and Microsoft, which are of mid-1970s vintage, Amazon and Facebook were founded in the 1990s; Tesla is even newer, founded only in 2003. But each has carved a niche in the market in its area, with rivals at a distant second. By early this year, Big Tech had completely trumped traditional companies, with eight of the ten most valued companies in the world all belonging to the tech stable: Apple, Microsoft, Google /Alphabet, Amazon, and Tesla occupying top five positions, with Nvidia, Meta/Facebook, and TSMC in the 5-10 slot. The only exceptions were Berkshire Hathaway at #6 and United Health at #10. So, are the T-companies really worth all that much, how much further can they — and will they — grow? What propelled them to such dizzy heights and will they survive? These are questions that haunt every market maven as the world teeters on the brink of the twin crisis of war and pestilence. The recent tumult over the hostile bid for Twitter, and the meltdown of Netflix stock, has raised new questions on valuation. But one thing looks certain, at least in our lifetime: the trillion-dollar pinnacle is the new summit large companies will aspire to climb. Copyright © 2022 Khaleej Times. All Rights Reserved. Provided by SyndiGate Media Inc. (Syndigate.info). \n"
     ]
    },
    {
     "name": "stderr",
     "output_type": "stream",
     "text": [
      "convert squad examples to features: 100%|██████████| 1/1 [00:00<00:00,  9.53it/s]\n",
      "add example index and unique id: 100%|██████████| 1/1 [00:00<00:00, 12300.01it/s]\n"
     ]
    },
    {
     "data": {
      "application/vnd.jupyter.widget-view+json": {
       "model_id": "1389cd7bca0c43cfa7094be5a33cfabd",
       "version_major": 2,
       "version_minor": 0
      },
      "text/plain": [
       "Running Prediction:   0%|          | 0/1 [00:00<?, ?it/s]"
      ]
     },
     "metadata": {},
     "output_type": "display_data"
    },
    {
     "name": "stderr",
     "output_type": "stream",
     "text": [
      "2022-07-15 13:43:48,755 - 322050 - simpletransformers.question_answering.question_answering_model - INFO -  Converting to features started.\n"
     ]
    },
    {
     "name": "stdout",
     "output_type": "stream",
     "text": [
      "Iridium study finds that less than 1/3 of IPOs in the GCC succeed Dubai: With 38 GCC market debuts, 2021 was the best year for new listings since 2007. Yet, the high volume of listings disguises the reality that only one-third are successful. Specifically, just 38% of IPOs were priced adequately - the majority of companies leave too much money on the table. Only 32% of companies traded within the typically desired share price range of 20% within the first 30 days of going public. And merely 31% of new listings outperform companies that are already listed in the longer term. These are among the findings of a new report published by Iridium Advisors, entitled “The Renaissance of IPOs in the GCC,” that examines the success rate of company listing and demystifies some common misconceptions about IPO winners and losers. Iridium’s analysis of 457 initial public offerings in the GCC region between 2005 and 2021, benchmarked companies against three objective criteria of success: 1. Underpricing: the difference between the IPO offer price and the first-day closing price 2. Stabilization period: the 30-day period of price stabilization post-listing 3. Excess return: the relative company share price versus a country index over time “It is very encouraging to see government-owned and private companies embracing public equity markets in the GCC,” says Oliver Schutzmann, CEO of Iridium Advisors and a co-author of the report. “With a well-thought-out program of new public listings, which is already underway, the region has the opportunity to re-energize its capital markets and attract foreign capital to diversify economic growth. Nevertheless, there is still a big mountain to climb to unlock the true capital markets potential of listed companies for both issuers and investors.” Companies planning a public listing need to be aware of the high probability of disappointment and ask why this should be the case. Iridium’s analysis has identified three key areas that are commonly overlooked by company owners, directors and senior management that can play a part in improving the odds of success: 1. There are different dynamics at play in the primary and secondary market: Successful issuers recognize that investors trade among themselves in the secondary market without any direct involvement from the company, and that their company is only worth as much as the last share price. 2.  There is a difference between pre-IPO and post-IPO investors: Companies whose share price outperforms its benchmark after the listing understand that there are different types of investors with varying motivations and interests. 3. The assumption that Public Relations and Investor Relations are synonymous could lead to failure: While both PR and IR have an important role to play, PR features more prominently before and after an IPO, while IR often tends to remain an afterthought. Schutzmann concludes by adding: “The risk of value destruction is real for private and public sector companies in the GCC preparing for an IPO, SPAC, or a direct listing in 2022. It is, however, not inevitable. Key areas of focus to improve the chances of success are taking a long-term view in pre-IPO preparation, identifying the right type of investor, and developing the capability to create organic relationships with the professional investment community. These three steps can guard against major share price gyrations after a listing and will go a long way to ensure that the region’s companies – and their owners - are rewarded with the right valuation by the market.” A copy of the report can be downloaded here. About Iridium Advisors Iridium Advisors is a management consulting firm and the Middle East's leading advisor on investor relations. The company was founded in 2015 in the UAE on the belief that first-hand capital markets and in-house senior management experience are central to the process of converting business value into value for shareholders. Our results-oriented teams design, build and operate transformational investor relations programs that help organizations and leaders engage, transact, and grow - whether they are healthy, challenged or distressed. For more information visit www.iridiumadvisors.com. \n"
     ]
    },
    {
     "name": "stderr",
     "output_type": "stream",
     "text": [
      "convert squad examples to features: 100%|██████████| 1/1 [00:00<00:00, 30.20it/s]\n",
      "add example index and unique id: 100%|██████████| 1/1 [00:00<00:00, 20661.60it/s]\n"
     ]
    },
    {
     "data": {
      "application/vnd.jupyter.widget-view+json": {
       "model_id": "d2af7f512bcc475fb47d721565770de3",
       "version_major": 2,
       "version_minor": 0
      },
      "text/plain": [
       "Running Prediction:   0%|          | 0/1 [00:00<?, ?it/s]"
      ]
     },
     "metadata": {},
     "output_type": "display_data"
    },
    {
     "name": "stderr",
     "output_type": "stream",
     "text": [
      "2022-07-15 13:43:49,568 - 322050 - simpletransformers.question_answering.question_answering_model - INFO -  Converting to features started.\n"
     ]
    },
    {
     "name": "stdout",
     "output_type": "stream",
     "text": [
      "Iridium study finds that less than 1/3 of IPOs in the GCC succeed Dubai:  With 38 GCC market debuts, 2021 was the best year for new listings since 2007. Yet, the high volume of listings disguises the reality that only one-third are successful. Specifically, just 38% of IPOs were priced adequately - the majority of companies leave too much money on the table. Only 32% of companies traded within the typically desired share price range of 20% within the first 30 days of going public. And merely 31% of new listings outperform companies that are already listed in the longer term. These are among the findings of a new report published by Iridium Advisors, entitled “The Renaissance of IPOs in the GCC,” that examines the success rate of company listing and demystifies some common misconceptions about IPO winners and losers. Iridium’s analysis of 457 initial public offerings in the GCC region between 2005 and 2021, benchmarked companies against three objective criteria of success: “It is very encouraging to see government-owned and private companies embracing public equity markets in the GCC,” says Oliver Schutzmann, CEO of Iridium Advisors and a co-author of the report. “With a well-thought-out program of new public listings, which is already underway, the region has the opportunity to re-energize its capital markets and attract foreign capital to diversify economic growth. Nevertheless, there is still a big mountain to climb to unlock the true capital markets potential of listed companies for both issuers and investors.” Companies planning a public listing need to be aware of the high probability of disappointment and ask why this should be the case. Iridium’s analysis has identified three key areas that are commonly overlooked by company owners, directors and senior management that can play a part in improving the odds of success: 1. There are different dynamics at play in the primary and secondary market: Successful issuers recognize that investors trade among themselves in the secondary market without any direct involvement from the company, and that their company is only worth as much as the last share price. 2.  There is a difference between pre-IPO and post-IPO investors: Companies whose share price outperforms its benchmark after the listing understand that there are different types of investors with varying motivations and interests. 3. The assumption that Public Relations and Investor Relations are synonymous could lead to failure: While both PR and IR have an important role to play, PR features more prominently before and after an IPO, while IR often tends to remain an afterthought. Schutzmann concludes by adding: “The risk of value destruction is real for private and public sector companies in the GCC preparing for an IPO, SPAC, or a direct listing in 2022. It is, however, not inevitable. Key areas of focus to improve the chances of success are taking a long-term view in pre-IPO preparation, identifying the right type of investor, and developing the capability to create organic relationships with the professional investment community. These three steps can guard against major share price gyrations after a listing and will go a long way to ensure that the region’s companies – and their owners - are rewarded with the right valuation by the market.” A copy of the report can be downloaded here. -Ends- About Iridium Advisors Iridium Advisors is a management consulting firm and the Middle East's leading advisor on investor relations. The company was founded in 2015 in the UAE on the belief that first-hand capital markets and in-house senior management experience are central to the process of converting business value into value for shareholders. Our results-oriented teams design, build and operate transformational investor relations programs that help organizations and leaders engage, transact, and grow - whether they are healthy, challenged or distressed.  For more information visit www.iridiumadvisors.com. Media Contact Ms. Pamela Chahine Iridium Advisors DMCC ir@iridium.ae \n"
     ]
    },
    {
     "name": "stderr",
     "output_type": "stream",
     "text": [
      "convert squad examples to features: 100%|██████████| 1/1 [00:00<00:00, 26.91it/s]\n",
      "add example index and unique id: 100%|██████████| 1/1 [00:00<00:00, 14364.05it/s]\n"
     ]
    },
    {
     "data": {
      "application/vnd.jupyter.widget-view+json": {
       "model_id": "3d5e32b55d6846a9a02c69d359c36fbd",
       "version_major": 2,
       "version_minor": 0
      },
      "text/plain": [
       "Running Prediction:   0%|          | 0/1 [00:00<?, ?it/s]"
      ]
     },
     "metadata": {},
     "output_type": "display_data"
    },
    {
     "name": "stderr",
     "output_type": "stream",
     "text": [
      "2022-07-15 13:43:50,420 - 322050 - simpletransformers.question_answering.question_answering_model - INFO -  Converting to features started.\n"
     ]
    },
    {
     "name": "stdout",
     "output_type": "stream",
     "text": [
      "Oman-India fund to invest nearly $10mln in Senco Gold Muscat – Oman-India Joint Investment Fund II (OIJIF II) has invested Rs750mn (approximately US$9.9mn) in Kolkata-based jewellery retailer Senco Gold Ltd, according to Indian media reports. OIJIF is a joint private equity investment fund between Oman Investment Authority and State Bank of India, India’s largest public sector bank. The investment by Oman India Joint Investment Fund II in Senco Gold will be through equity for a minority stake, according to a statement quoted by media. The funds raised will be utilised to make Senco Gold an omni-channel jewellery brand of national level. This is part of Senco Gold’s pre-IPO plans, and the company is planning to file its initial public offering documents soon, a PTI report said. Senco Gold, which operates 127 showrooms across the country, is one of the largest organised jewellery retailer in eastern India. In a report published by TheHindu, Srinath S, CEO of OIJIF MC, said, “Senco Gold has a brand presence in its home markets and growing in the rest of the country. It figures amongst the few jewellery chains to have successfully established a franchisee showroom network. It is also leveraging e-commerce to build a strong direct-to-consumer retail presence for its lightweight and modern jewellery range – Everlite.” Suvankar Sen, managing director and CEO of Senco Gold, said, “With the pandemic now receding, the company is well positioned for an expansion of its showroom network as well as building its digital presence.” © Apex Press and Publishing Provided by SyndiGate Media Inc. (Syndigate.info).   \n"
     ]
    },
    {
     "name": "stderr",
     "output_type": "stream",
     "text": [
      "convert squad examples to features: 100%|██████████| 1/1 [00:00<00:00, 72.09it/s]\n",
      "add example index and unique id: 100%|██████████| 1/1 [00:00<00:00, 13751.82it/s]\n"
     ]
    },
    {
     "data": {
      "application/vnd.jupyter.widget-view+json": {
       "model_id": "80bbdc2cf47049d699bf7fee91c15661",
       "version_major": 2,
       "version_minor": 0
      },
      "text/plain": [
       "Running Prediction:   0%|          | 0/1 [00:00<?, ?it/s]"
      ]
     },
     "metadata": {},
     "output_type": "display_data"
    },
    {
     "name": "stderr",
     "output_type": "stream",
     "text": [
      "2022-07-15 13:43:51,039 - 322050 - simpletransformers.question_answering.question_answering_model - INFO -  Converting to features started.\n"
     ]
    },
    {
     "name": "stdout",
     "output_type": "stream",
     "text": [
      "Markaz: Oil crosses $120/b and propels GCC markets even higher Kuwait: Kuwait Financial Centre “Markaz” recently released its Monthly Market Review report for the month of March 2022. In line with its GCC peers, Kuwait’s all share index gained 6.7% in the month of March, supported by a rise in oil prices. Oil prices, which were a major driving factor for the GCC stock market performance, crossed USD 120 per barrel mark in the month of March. Among sectors, Boursa Kuwait’s Banking sector was the top gainer, rising 9.9% followed by financial services sector at 5.3%. Healthcare sector had the biggest decline in the month and Energy sector index declined, falling 5.3%. Among Premier Market stocks, National Investments Company and Boursa Kuwait were the top gainers during the month, rising 23.7% and 14.3% respectively. Inflation in Kuwait rose to 4.37% YoY driven by rising prices of food and housing services, in the month of February 2022. Kuwait's government is taking cautious measures to keep critical commodity prices in check and has halted all grain exports for the next three months. Central Bank of Kuwait has raised its main interest rates by 25 bps in March, subsequent to the interest rate hike by the U.S. Federal Reserve and Kuwaiti banks are expected to be benefitted by this interest rate hike. Saudi Arabia, UAE and Bahrain have also increased their policy rates by 25 bps. Kuwait’s M2 money supply expanded 1.9% YoY in January, and bank lending to the private sector grew by 6.8% YoY in the same month. Kuwaiti bank revenues grew 7.1% in 2021 with profits almost doubling to $2.9 billion driven by increase in revenues as well as decline in loan loss provisions. According to Moody’s, Kuwaiti Islamic Banks have recorded the fourth best growth rate in financing operations, globally, during the period 2019-Q3 2021.  Ali Alghanim & Sons whose businesses include car dealerships, construction and electronics has filed to list on Boursa Kuwait and the company is expected to sell a 45% stake in the listing, as per Bloomberg. Regionally, S&P GCC composite index rose by 4.8% for the month, driven by upward oil price momentum. All GCC markets gained for the month. Abu Dhabi and Bahrain equity indices were the biggest gainers among GCC, rising 6.8% and 5.6% respectively over the month. Qatar, Saudi Arabia and Oman equity indices also marked a gain of 4.5%, 4.0% and 3.7% respectively over the month. Among the GCC blue chip companies, the best performer was First Abu Dhabi Bank, which gained 14.6% during the month. Due to a sharp increase in oil prices and robust domestic demand, Saudi Arabia's real GDP increased by 6.7 percent year on year in Q4 2021. S&P upgraded Saudi Arabia's outlook from stable to positive, as it expects improved GDP growth and fiscal dynamics in the medium term, improved oil sector prospects and the Government’s reform programs. The IPO of Dubai Electricity and Water Authority (DEWA) opened for subscription on March 24, intends to float 17% and could raise as much as USD 5.7billion. Developed markets ended positive for the month with MSCI world gaining 2.5%, S&P 500 gaining 3.6%, Japan’s topix gaining 3.2% and UK’s FTSE gaining 0.8%. US inflation increased 7.9% y/y in Feb 2022, recording a fresh 40-year high mainly driven by rising food and fuel costs. U.S. Treasury yields jumped during the month, with the benchmark 10-year note surging from 1.82% (February end) to 2.35%. In February 2022, the unemployment rate in the US fell to a two-year low of 3.8% as job growth soared. The Bank of England has hiked interest rates three times in a row, returning Bank Rate to its pre-pandemic level of 0.75%. Oil prices were up 6.9% for March 2022 due to supply tightness and United States is considering the release of up to 180 million barrels from its strategic petroleum reserve over several months to calm soaring crude prices. The United States has stated that it will work to supply 15 billion cubic meters of liquefied natural gas (LNG) to the European Union this year to help reduce their reliance on Russian energy supplies. -Ends- About Kuwait Financial Centre “Markaz” Established in 1974, Kuwait Financial Centre K.P.S.C “Markaz” is one of the leading asset management and investment banking institutions in the MENA region with total assets under management of over KD 1.04 billion as of 31 December 2021. Over the years, Markaz has pioneered innovation through developing new concepts resulting in creation of new investment channels. These channels enjoy unique characteristics, and helped Markaz widen investors’ horizons. Examples include Mumtaz (the first domestic mutual fund), Idikhar (the first money market fund in Kuwait), MREF (the first real estate investment fund) and Forsa Financial Fund (the first and only options market maker in the GCC since 2005), all conceptualized, established and managed by Markaz. Markaz was listed on the Boursa Kuwait in 1997. For further information, please contact: Sondos S. Saad Media & Communications Department Kuwait Financial Centre K.P.S.C. \"Markaz\" Email: ssaad@markaz.com \n"
     ]
    },
    {
     "name": "stderr",
     "output_type": "stream",
     "text": [
      "convert squad examples to features: 100%|██████████| 1/1 [00:00<00:00, 21.00it/s]\n",
      "add example index and unique id: 100%|██████████| 1/1 [00:00<00:00, 8456.26it/s]\n"
     ]
    },
    {
     "data": {
      "application/vnd.jupyter.widget-view+json": {
       "model_id": "bd7d1223e36d4a9c8387a527ad23528c",
       "version_major": 2,
       "version_minor": 0
      },
      "text/plain": [
       "Running Prediction:   0%|          | 0/1 [00:00<?, ?it/s]"
      ]
     },
     "metadata": {},
     "output_type": "display_data"
    },
    {
     "name": "stderr",
     "output_type": "stream",
     "text": [
      "2022-07-15 13:43:52,028 - 322050 - simpletransformers.question_answering.question_answering_model - INFO -  Converting to features started.\n"
     ]
    },
    {
     "name": "stdout",
     "output_type": "stream",
     "text": [
      "“Markaz”: 2021 marks a year of achievements despite challenges; driven by expertise, innovation, and ongoing progress Kuwait: Kuwait Financial Centre “Markaz” held its ordinary and extraordinary General Assembly meetings on Sunday, 27 March 2022, with a 75.9% attendance. The assembly approved all items of the agendas, including the Board of Directors’ recommendation to distribute cash dividends of 10% per nominal value of the share or 10 fils per share, and bonus shares of 5% per paid capital, in addition to increasing the authorized and issued capital. Markaz recorded an extraordinary financial performance for 2021, with total revenues soaring from KD 13.16 million over the previous year to KD 30.6 million. The shareholders’ net profit reached KD 14.9 million compared to the shareholders’ net loss of KD 1.72 million in the previous year. The profit per share increased to 31 fils for 2021, where Total Assets under Management recorded an increase for the fifth subsequent quarter, to reach of KD 1.04 billion on December 31, 2021. Commenting on the results, Markaz’s Chairman, Mr. Diraar Yusuf Alghanim said: “The positive financial results recorded for the year ended 31 December, 2021 are testament to the management’s technical ability to identify local and international investment opportunities that generated these outstanding results, in line with the policies established by the Board of Directors and its committees. The results also reflect the executive management’s dedication, in the midst of a competitive environment. “Despite the challenges resulting from the COVID-19 pandemic, Markaz continued its trading operations with absolute flexibility, focusing on fulfilling the company’s long-term goals. This was supported by a diverse business model and our extended geographical investments, financial discipline and solid capital structure, to maintain a prominent position that qualifies us to proceed with our development plans in the forthcoming years. Our performance throughout 2021 emphasized our capabilities to provide our clientele with tangible values and further develop our operations, despite the challenging operational conditions.” Alghanim added. Business Strategy Alghanim added: “The progressive and rapid development of the market’s dynamics are reshaping the market scene. There is no doubt that companies adjusting to the varying demands and reassessing their strategies accordingly, are bound to benefit from emerging opportunities. That said; strategic planning within Markaz follows a dynamic and organized approach to guarantee a sustainable position within the markets we operate. Moreover; at Markaz, we believe that digital transformation will play a major role in the financial services sector, hence we are working diligently on improving our capacities to be up to the competition in this field. Our utmost goal is to reinforce our current record in order to create shareholder value.” Outlook “The recent market changes following the geopolitical fluctuations involving Russia and Ukraine will have a direct and progressive impact on European countries, leading to an increase in inflation levels and the sequential rise of oil prices. That said; it is anticipated that the GCC economies will benefit from these opportunities in 2022, in addition to the restorative initiatives of the GCC governments to promote economic growth and address inflation. Investors also benefited in 2021 from the easing of fiscal and monetary policies. Unlike 2021, its expected that performance in 2022 will be reliant on profit growth. Although the COVID-19 mutations continue to pose a threat, and geopolitical tensions continue to rise, we remain cautiously optimistic at Markaz, and reliant on our sustainable and solid business model. We will continue to explore ideal investment opportunities with the aim of delivering added value to our clients.” Alghanim stated. Investment Climate “The support provided by regulatory and supervisory authorities was essential to the recovery and progress of the financial sector, since the procedures imposed in April 2020 by the Central Bank of Kuwait contributed to the stability of the financial system and supported the financial services’ sector, allowing it to overcome the challenges caused by the COVID-19 pandemic. Throughout 2021, the Central Bank of Kuwait launched a series of campaigns, including the ‘Diraya’ campaign, an awareness campaign aimed at educating customers about their banking rights, in addition to the ‘Kafa’a’ initiative, which aims at building highly qualified national cadres and equipping them with the knowledge and skills necessary to develop the banking sector. These initiatives will have a positive impact in the future, as awareness campaigns in the financial sector play an important role in the development of the nation as a whole and the its financial services. The Capital Markets Authority efforts also played a crucial role throughout the years to develop the Kuwaiti Capital Market in line with international standards. Moreover, Boursa Kuwait has developed an Environmental, Social and Governance (ESG) Reporting Guide that aims to support listed companies in determining and adopting best ESG practices and reporting on (ESG) issues, to meet the growing interest in adopting and applying corporate sustainability and sustainable investments in the recent years.” Alghanim concluded. Mr. Ali Hassan. Khalil, Markaz CEO also commented saying: “2021 was a phenomenal year for global stock markets, which witnessed to date the highest levels of mergers and acquisitions, and IPOs worldwide. This was fueled by the trust and vision of institutions that contributed to these record-breaking results. To that end, Markaz was able to see further growth and an increase in profitability. This performance is a direct result of Markaz’s research-based culture, which leads its decision making and prediction of new trends and the launch of suitable investment products that cater to the various client demands and needs.” Strategic Campaigns Khalil added: “In spite of the uncertainties seen over the past year across the markets, Markaz continued to focus on growth, and the review and update of its strategy. Our teams also continued to develop high quality investment products and offer advisory services in the investment banking sector, further supporting it by funding specific deals with the company’s capital, in addition to reinforcing our capabilities in wealth management and raising efficiency levels through digital transformation.” “We aim at increasing revenues in coming years and increasing assets under management, by offering attractive investment opportunities, setting an innovative operational framework and granting access to client in Kuwait and across the region. Accordingly, Markaz established solid relationships and alliances since inception, in the United States of America, Europe, and the GCC. In turn, Markaz’s client database organically developed, creating the need for innovation and dynamism when catering to the everchanging needs and expectations of these clients, with a focus on risk management. Accordingly, our processes and systems were driven by resilience; the key factor that contributed to Markaz’s competitive ability to manage various asset classes across different countries.” Khalil concluded. Markaz Continues to Gain the Trust of Financial Experts In 2021, Markaz received five new prestigious awards in the financial services sector, in the field of asset management and investment banking services, as presented to its clients across the MENA region. These awards recognize Markaz’s innovative practices, sustained growth and positive performance, despite the ramifications brought about by the pandemic, in addition to its geographic presence across 13 countries and last but not least, the trust of its clients. Among the prominent awards received by Markaz in the previous year, were ‘Best Investment Bank in Kuwait” Kuwait’, “Best Asset Manager in Kuwait” for the ninth consecutive year and the winner of the “MENA Sustainability Award”; as presented by EMEA Finance. Markaz also took home Global Investor’s 2021 “MENA Real Estate Asset Manager of the Year” award, and “Best Investment Bank” for the tenth consecutive year from Global Finance. A Solid Presence across Markets… Fortified by Experience and Creativity From an operational perspective, Markaz provided various services in the field of Asset Management and Investment Banking, while ensuring effective communications with all stakeholders through interactive digital solutions.   Equities In 2021, Markaz managed to execute its investment policy in risk management and encountering variable trends in the regional and global markets, while taking advantage of the post-pandemic recovery phase through asset management strategies. Markaz MIDAF Fund, Forsa Financial Fund, and Markaz Mumtaz Fund each recorded return of 28.3%, 27.6%, and 26.2% respectively. Markaz Islamic Fund, in accordance with provisions of Islamic Sharia, recorded returns of 24.8%. Reaffirming its leading position in the Capital Markets as a whole, and the Kuwaiti Capital Market in specific, Markaz proceeded to offer its specialized services in market making with the aim of increasing the volume of trading, hence boosting the trading of its clients’ shares in Boursa Kuwait. Throughout 2021, Markaz was Market Maker on the shares of five leading companies within their fields. International Real Estate Markaz executed several deals that contributed to the growth of its real estate portfolio. These investments mainly focused on the logistics sector in the USA and Europe, in addition to the residential sector in the USA. Moreover; Markaz succeeded in identifying the ideal time to exit specific deals which contributed to enriching its track record in these markets. One of the key exit deals was the sale of a logistics project to Amazon in Germany. MENA Real Estate Occupancy levels in Markaz’s real estate projects in the Kingdom of Saudi Arabia and the United Arab Emirates have exceeded the pre-pandemic levels, which resulted in growth in income from rental deals during the year. Sales efforts across the main residential properties within the company’s portfolio in the UAE continued with solid and growing momentum in 2021. Markaz’s Real Estate Fund maintained high occupancy and collection levels, by adopting a pragmatic integrated approach to the day-to-day management of assets, despite the effects of the pandemic on some sectors, such as the residential, office and retail sector. Investment Banking Services Markaz managed to conclude four deals in the Capital Markets field, including two issuances of second tier bonds of two banks, and two deals for subscription in rights issues. In addition, Markaz executed a range of consultancy deals in the food and beverage, construction, insurance, and technology sectors. Interactive and Innovative Digital Communications One of the prominent achievements for Markaz in 2021 was the launch of the new website, as part of its efforts to leverage digital technology to offer best-in-class investment information and opportunities to its clients looking to embark on an investment journey. The new website provides many interactive features, a richer and more dynamic experience for its visitors, through an easy-to-use interface, and advanced technologies that respond to the needs and aspirations of customers and investors in particular, and visitors in general, in accordance with the latest international trends and standards in website design and development. Human Capacity… One of Markaz’s Key Assets In the midst of all the challenges witnessed throughout 2021, Markaz’s key priority was the safety of its employees by keeping them informed regarding safety and security measures. The Company was also keen to apply the highest levels of care to protect its people, and no cases of transmission of the Covid-19 virus was recorded inside the offices. Markaz has always placed special emphasis on its employees, as the cornerstone of the company. In turn, the company seeks to create a work environment centered around their professional and personal growth. The company is characterized by a collaborative environment among teams, recruitment and retention of talent in an environment that ensures the participation of every individual, and provides an equal opportunity for career advancement. Markaz constantly focuses on development and education programs that help develop both its employees and the business. With that said; Markaz led several initiatives as part of its endeavor to enhance its business, improve the work environment and the culture of innovation among its employees. Markaz is committed to equipping its people with the skills and knowledge that enable them to innovate and develop the best investment opportunities for its clients. Various programs and initiatives that contributed to building human capacity within Markaz were launched in 2021. The most prominent of which was the launch of training programs in the field of negotiation, promoting a culture of innovation and effective communication with international experts and consultants. Community Service  Markaz continuously strives to play a positive role within the communities it operates in. It remains committed to deploying its capabilities to empower the various segments of society, especially with regard to the development and rehabilitation of youth, empowering women, and enhancing human capacities in general, stemming from its CSR strategy built around three main pillars: building human capacity, aligning the business environment with the principles of sustainable development, and promoting good governance in the business environment. Markaz continued to roll out one of its prominent initiatives; the Markaz Graduate Development Program (MGDP) for 2022, where 10 Kuwaiti graduates were accepted into the program, in an effort to hone their skills, develop their knowledge and support their career paths. Emerging Trends The year 2022 began with fluctuations in the performance of the markets as a result of high levels of inflation and interest rates, which contributed to putting some pressure on the future outlook of the markets. However, Markaz is fully qualified to benefit from emerging trends, especially with the high levels of liquidity and the resilience of its financial position. Markaz's business plan is built around three pillars: growth, efficiency, and digital transformation, and it will continue to maintain and enhance internal controls as one of its priorities, along with financial discipline to achieve sustainable growth and build wealth for its shareholders over the long term. It is also likely that some of the major trends in the investment sector, such as environment, social and governance (ESG) practices, digital transformation, and relatively new asset classes, will continue to influence investment decisions positively in 2022. With the changing demographics of the investment community, more and more millennial clients and the generation to follow (Generation Z) will place greater priority on important factors such as (ESG), and innovative products that best suit them. It is critical that asset managers have a high degree of flexibility, in order to meet the changing needs of the market. Markaz is committed to providing innovative investment solutions, in line with its vision to be the ideal partner in wealth creation. -Ends- About Kuwait Financial Centre “Markaz” Established in 1974, Kuwait Financial Centre K.P.S.C “Markaz” is one of the leading asset management and investment banking institutions in the MENA region with total assets under management of over KD 1.04 billion as of 31 December 2021. Over the years, Markaz has pioneered innovation through developing new concepts resulting in creation of new investment channels. These channels enjoy unique characteristics, and helped Markaz widen investors’ horizons. Examples include Mumtaz (the first domestic mutual fund), Idikhar (the first money market fund in Kuwait), MREF (the first real estate investment fund) and Forsa Financial Fund (the first and only options market maker in the GCC since 2005), all conceptualized, established and managed by Markaz. Markaz was listed on the Boursa Kuwait in 1997. For further information, please contact: Sondos S. Saad Media & Communications Department Kuwait Financial Centre K.P.S.C. \"Markaz\" Email: ssaad@markaz.com \n"
     ]
    },
    {
     "name": "stderr",
     "output_type": "stream",
     "text": [
      "convert squad examples to features: 100%|██████████| 1/1 [00:00<00:00,  7.79it/s]\n",
      "add example index and unique id: 100%|██████████| 1/1 [00:00<00:00, 8943.08it/s]\n"
     ]
    },
    {
     "data": {
      "application/vnd.jupyter.widget-view+json": {
       "model_id": "b0b2e600fdbe485f90cefb5e9ba86470",
       "version_major": 2,
       "version_minor": 0
      },
      "text/plain": [
       "Running Prediction:   0%|          | 0/1 [00:00<?, ?it/s]"
      ]
     },
     "metadata": {},
     "output_type": "display_data"
    },
    {
     "name": "stderr",
     "output_type": "stream",
     "text": [
      "2022-07-15 13:43:53,845 - 322050 - simpletransformers.question_answering.question_answering_model - INFO -  Converting to features started.\n"
     ]
    },
    {
     "name": "stdout",
     "output_type": "stream",
     "text": [
      "ROSEN, THE FIRST FILING FIRM, Encourages Missfresh Limited Investors with Losses in Excess of $100K to Secure Counsel Before Important Deadline in Securities Class Action Commenced by the Firm – MF NEW YORK, July  13, 2022  (GLOBE NEWSWIRE) --   WHY: Rosen Law Firm, a global investor rights law firm, announces it has filed a class action lawsuit on behalf of purchasers of the securities of Missfresh Limited (NASDAQ: MF) pursuant and/or traceable to the registration statement and prospectus (collectively, the “Registration Statement”) issued in connection with the Company’s June 2021 initial public offering (“IPO” or the “Offering”). A class action lawsuit has already been filed. If you wish to serve as lead plaintiff, you must move the Court no later than September 12, 2022.  SO WHAT: If you purchased Missfresh securities during the Class Period you may be entitled to compensation without payment of any out of pocket fees or costs through a contingency fee arrangement.  WHAT TO DO NEXT: To join the Missfresh class action, go to https://rosenlegal.com/submit-form/?case_id=7370 or call Phillip Kim, Esq. toll-free at 866-767-3653 or email pkim@rosenlegal.com or cases@rosenlegal.com for information on the class action. A class action lawsuit has already been filed. If you wish to serve as lead plaintiff, you must move the Court no later than September 12, 2022. A lead plaintiff is a representative party acting on behalf of other class members in directing the litigation.  WHY ROSEN LAW: We encourage investors to select qualified counsel with a track record of success in leadership roles. Often, firms issuing notices do not have comparable experience, resources or any meaningful peer recognition. Be wise in selecting counsel. The Rosen Law Firm represents investors throughout the globe, concentrating its practice in securities class actions and shareholder derivative litigation. Rosen Law Firm has achieved the largest ever securities class action settlement against a Chinese Company. Rosen Law Firm was Ranked No. 1 by ISS Securities Class Action Services for number of securities class action settlements in 2017. The firm has been ranked in the top 4 each year since 2013 and has recovered hundreds of millions of dollars for investors. In 2019 alone the firm secured over $438 million for investors. In 2020, founding partner Laurence Rosen was named by law360 as a Titan of Plaintiffs’ Bar. Many of the firm’s attorneys have been recognized by Lawdragon and Super Lawyers.  DETAILS OF THE CASE: According to the lawsuit, the IPO Registration Statement featured false and/or misleading statements and/or failed to disclose that: (1) Missfresh provided false financial figures in its Registration Statement; (2) Missfresh would need to amend its financial figures; (3) Missfresh, among other things, had lesser net revenues for the quarter ended March 31, 2021; and (4) as a result, defendants’ public statements were materially false and misleading at all relevant times and negligently prepared. When the true details entered the market, the lawsuit claims that investors suffered damages.  To join the Missfresh class action, go to https://rosenlegal.com/submit-form/?case_id=7370 or call Phillip Kim, Esq. toll-free at 866-767-3653 or email pkim@rosenlegal.com or cases@rosenlegal.com for information on the class action.  No Class Has Been Certified. Until a class is certified, you are not represented by counsel unless you retain one. You may select counsel of your choice. You may also remain an absent class member and do nothing at this point. An investor’s ability to share in any potential future recovery is not dependent upon serving as lead plaintiff.  Follow us for updates on LinkedIn: https://www.linkedin.com/company/the-rosen-law-firm, on Twitter: https://twitter.com/rosen_firm or on Facebook: https://www.facebook.com/rosenlawfirm/.  Attorney Advertising. Prior results do not guarantee a similar outcome.  -------------------------------  Contact Information:          Laurence Rosen, Esq.        Phillip Kim, Esq.        The Rosen Law Firm, P.A.        275 Madison Avenue, 40th Floor        New York, NY 10016        Tel: (212) 686-1060        Toll Free: (866) 767-3653        Fax: (212) 202-3827        lrosen@rosenlegal.com        pkim@rosenlegal.com        cases@rosenlegal.com        www.rosenlegal.com\n"
     ]
    },
    {
     "name": "stderr",
     "output_type": "stream",
     "text": [
      "convert squad examples to features: 100%|██████████| 1/1 [00:00<00:00, 22.76it/s]\n",
      "add example index and unique id: 100%|██████████| 1/1 [00:00<00:00, 12595.51it/s]\n"
     ]
    },
    {
     "data": {
      "application/vnd.jupyter.widget-view+json": {
       "model_id": "58191338140f4c7cbf2d1bdfe6a7bbc2",
       "version_major": 2,
       "version_minor": 0
      },
      "text/plain": [
       "Running Prediction:   0%|          | 0/1 [00:00<?, ?it/s]"
      ]
     },
     "metadata": {},
     "output_type": "display_data"
    },
    {
     "name": "stderr",
     "output_type": "stream",
     "text": [
      "2022-07-15 13:43:54,676 - 322050 - simpletransformers.question_answering.question_answering_model - INFO -  Converting to features started.\n"
     ]
    },
    {
     "name": "stdout",
     "output_type": "stream",
     "text": [
      "SurgePays to Ring Nasdaq Opening Bell BARTLETT, Tenn., July  13, 2022  (GLOBE NEWSWIRE) -- SurgePays, Inc. (Nasdaq: SURG) (“SurgePays” or the “Company”), a technology and telecommunications company focused on the underbanked and underserved, today announced that management will participate in an Opening Bell Ceremony at the Nasdaq Stock Market on Friday, July 15, 2022. The Opening Bell Ceremony celebrates Surgepays’ IPO on Nasdaq last fall.  Brian Cox, SurgePays CEO, will lead the ceremony alongside members of the Company’s management and advisors. “This is an extremely exciting moment for the SurgePays team. Ringing the opening bell at Nasdaq is indicative of our team’s hard work and celebration of our continued growth since being listed on Nasdaq, with our stock currently up over 100% in 2022 and business thriving in these market conditions,” said CEO, Brian Cox. “I am confident and excited for SurgePay’s future growth and journey ahead.”  The ceremony will begin at approximately 9:20 a.m., Eastern Time and can be viewed live or via replay here.  For more information on SurgePays, please visit the Company’s investor relations website at ir.surgepays.com.  About SurgePays, Inc.  SurgePays, Inc. is a technology and telecommunications company focused on the underbanked and underserved communities. SurgePhone Wireless provides mobile broadband to low-income consumers nationwide. SurgePays blockchain fintech platform utilizes a suite of financial and prepaid products to convert corner stores and bodegas into tech-hubs for underbanked neighborhoods. Please visit SurgePays.com for more information.  Investor Relations Contact  Brian M. Prenoveau, CFAMZ Group – MZ North Americabrian.prenoveau@mzgroup.us+561 489 5315  Media ContactsHenry Feintuch / Doug WrightFeintuch Communicationssurgepays@feintuchpr.com646-753-5710 / 646-753-5711  Cautionary Note Regarding Forward-Looking Statement  This press release includes express or implied statements that are not historical facts and are considered forward-looking within the meaning of Section 27A of the Securities Act and Section 21E of the Securities Exchange Act. Forward-looking statements involve substantial risks and uncertainties. Forward-looking statements generally relate to future events or our future financial or operating performance and may contain projections of our future results of operations or of our financial information or state other forward-looking information. In some cases, you can identify forward-looking statements by the following words: “may,” “will,” “could,” “would,” “should,” “expect,” “intend,” “plan,” “anticipate,” “believe,” “estimate,” “predict,” “project,” “potential,” “continue,” “ongoing,” or the negative of these terms or other comparable terminology, although not all forward-looking statements contain these words. Although we believe that the expectations reflected in these forward-looking statements are reasonable, these statements relate to future events or our future operational or financial performance and involve known and unknown risks, uncertainties and other factors that may cause our actual results, performance or achievements to be materially different from any future results, performance or achievements expressed or implied by these forward-looking statements. Furthermore, actual results may differ materially from those described in the forward-looking statements and will be affected by a variety of risks and factors that are beyond our control, including, without limitation, statements about our future financial performance, including our revenue, cash flows, costs of revenue and operating expenses; our anticipated growth; our predictions about our industry; the impact of the COVID-19 pandemic on our business and our ability to attract, retain and cross-sell to clients. The forward-looking statements contained in this release are also subject to other risks and uncertainties, including those more fully described in our filings with the Securities and Exchange Commission (“SEC”), including in our Annual Report on Form 10-K for the fiscal year ended December 31, 2021. The forward-looking statements in this press release speak only as of the date on which the statements are made. We undertake no obligation to update, and expressly disclaim the obligation to update, any forward-looking statements made in this press release to reflect events or circumstances after the date of this press release or to reflect new information or the occurrence of unanticipated events, except as required by law.   \n"
     ]
    },
    {
     "name": "stderr",
     "output_type": "stream",
     "text": [
      "convert squad examples to features: 100%|██████████| 1/1 [00:00<00:00, 27.32it/s]\n",
      "add example index and unique id: 100%|██████████| 1/1 [00:00<00:00, 8738.13it/s]\n"
     ]
    },
    {
     "data": {
      "application/vnd.jupyter.widget-view+json": {
       "model_id": "5cec019ee3d94897a076df3c913493d4",
       "version_major": 2,
       "version_minor": 0
      },
      "text/plain": [
       "Running Prediction:   0%|          | 0/1 [00:00<?, ?it/s]"
      ]
     },
     "metadata": {},
     "output_type": "display_data"
    },
    {
     "name": "stderr",
     "output_type": "stream",
     "text": [
      "2022-07-15 13:43:55,518 - 322050 - simpletransformers.question_answering.question_answering_model - INFO -  Converting to features started.\n"
     ]
    },
    {
     "name": "stdout",
     "output_type": "stream",
     "text": [
      "SHAREHOLDER ALERT: Pomerantz Law Firm Investigates Claims on Behalf of Investors Missfresh Limited - MF NEW YORK, July  13, 2022  (GLOBE NEWSWIRE) -- Pomerantz LLP is investigating claims on behalf of investors of Missfresh Limited (“Missfresh” or the “Company”) (NASDAQ: MF).   Such investors are advised to contact Robert S. Willoughby at newaction@pomlaw.com or 888-476-6529, ext. 7980.  The investigation concerns whether Missfresh and certain of its officers and/or directors have engaged in securities fraud or other unlawful business practices.   [Click here for information about joining the class action]  On or around June 25, 2021, Missfresh conducted its initial public offering (“IPO”), selling approximately 21 million American depositary shares (“ADSs”) priced at $13.00 per share.   On April 29, 2022, Missfresh filed with the U.S. Securities and Exchange Commission a Notification of Late Filing on Form 12b-25 which announced that Missfresh would not be able to timely file its Annual Report on Form 20-F for 2021, due to an ongoing “internal review of certain matters, including those relating to transactions between the Company and certain third-party enterprises.”  On this news, Missfresh’s ADSs fell $0.068 per ADS, or 13.2%, to close at $0.448 per ADS.   Then, on May 24, 2022, Missfresh disclosed that the Company was unable to file its 2021 Annual Report by the extended deadline, “primarily because the Company is unable to complete the audit of the financial statements of the Company for the fiscal year ended December 31, 2021”.  On this news, Missfresh’s ADSs fell $0.018 per share, or 9.7%, over the following two trading days, to close at $0.167 per ADS on May 26, 2022.   Finally, on July 1, 2022, Missfresh issued a press release entitled “Missfresh Announces the Substantial Completion of the Audit Committee-Led Independent Internal Review” which disclosed, among other things, that the Company’s review “identified certain transactions . . . that exhibit characteristics of questionable transactions, such as undisclosed relationships between suppliers and customers, different customers or suppliers sharing the same contact information, and/or lack of supporting logistics information” and that consequently, “certain revenue associated with those reporting periods in 2021 may have been inaccurately recorded in the Company’s financial statements.”   The Pomerantz Firm, with offices in New York, Chicago, Los Angeles, and Paris is acknowledged as one of the premier firms in the areas of corporate, securities, and antitrust class litigation. Founded by the late Abraham L. Pomerantz, known as the dean of the class action bar, the Pomerantz Firm pioneered the field of securities class actions. Today, more than 80 years later, the Pomerantz Firm continues in the tradition he established, fighting for the rights of the victims of securities fraud, breaches of fiduciary duty, and corporate misconduct. The Firm has recovered numerous multimillion-dollar damages awards on behalf of class members. See www.pomerantzlaw.com  CONTACT:Robert S. WilloughbyPomerantz LLPrswilloughby@pomlaw.com888-476-6529 ext. 7980  \n"
     ]
    },
    {
     "name": "stderr",
     "output_type": "stream",
     "text": [
      "convert squad examples to features: 100%|██████████| 1/1 [00:00<00:00, 28.45it/s]\n",
      "add example index and unique id: 100%|██████████| 1/1 [00:00<00:00, 6944.21it/s]\n"
     ]
    },
    {
     "data": {
      "application/vnd.jupyter.widget-view+json": {
       "model_id": "e90c9dda70f04c708245c4fa9e69e022",
       "version_major": 2,
       "version_minor": 0
      },
      "text/plain": [
       "Running Prediction:   0%|          | 0/1 [00:00<?, ?it/s]"
      ]
     },
     "metadata": {},
     "output_type": "display_data"
    },
    {
     "name": "stderr",
     "output_type": "stream",
     "text": [
      "2022-07-15 13:43:56,309 - 322050 - simpletransformers.question_answering.question_answering_model - INFO -  Converting to features started.\n"
     ]
    },
    {
     "name": "stdout",
     "output_type": "stream",
     "text": [
      "\n",
      "Signature Global files for ₹1,000-crore IPO\n",
      " Gurugram-based affordable housing developer, Signature Global (India) Ltd — backed by KKR and HDFC Capital — has filed draft papers with SEBI for a ₹1,000-crore IPO. The IPO consists of a fresh share issue of ₹750 crore and an offer for sale (OFS) of up to ₹250 crore by shareholders and promoters.The OFS comprises up to ₹125-crore share sale each by Sarvpriya Securities Pvt Ltd and International Finance Corporation.A part of the proceeds and aggregate outstanding borrowings, will go towards repayment of debt, which includes some of its subsidiaries. The company’s aggregate outstanding borrowings, including that of its subsidiaries, stood at ₹1,622 crore as on May 31.\n",
      "Focus on the Delhi-NCR\n",
      "Signature Global (India) said it was the largest affordable and mid-segment (homes priced below ₹80 lakh) housing-focused real estate development company in the Delhi-NCR with a market share of 19 per cent. Till March 31, it had sold over 23,400 units (both residential and commercial put together) all within the Delhi-NCR. It has 27 ongoing projects of 16.10 million sq ft saleable area.In FY22, revenues stood at over ₹901 crore, while net loss was around ₹116 crore. “We have incurred net loss in the past, and we may not be able to achieve or maintain profitability in the future,” it said in the DRHP adding that in FY20, FY21 and FY22, the company had net cash inflow from operating activities of ₹72.5 crore, ₹36.4 crore and ₹205.2 crore, respectively. “However, due to factors such as our accounting policy on revenue recognition, the company made net losses (during these years)”. ICICI Securities, Kotak Mahindra Capital and Axis capital are the lead managers for the issue. \n",
      "Published on\n",
      "\n",
      "July 13, 2022\n",
      "KKRSEBIstocks and sharesshareholderscredit and debtreal estate\n",
      "SHARE\n",
      "COMMENTS\n",
      "Comments will be moderated by The Hindu editorial team.\n",
      "\n",
      "Comments that are abusive, personal, incendiary or irrelevant cannot be published.\n",
      "\n",
      "Please write complete sentences. Do not type comments in all capital letters, or in all lower case letters,\n",
      "or using abbreviated text. (example: u cannot substitute for you, d is not 'the', n is not 'and').\n",
      "\n",
      "We may remove hyperlinks within comments.\n",
      "\n",
      "Please use a genuine email ID and provide your name, to avoid rejection.\n",
      "\n"
     ]
    },
    {
     "name": "stderr",
     "output_type": "stream",
     "text": [
      "convert squad examples to features: 100%|██████████| 1/1 [00:00<00:00, 51.15it/s]\n",
      "add example index and unique id: 100%|██████████| 1/1 [00:00<00:00, 9177.91it/s]\n"
     ]
    },
    {
     "data": {
      "application/vnd.jupyter.widget-view+json": {
       "model_id": "468c8af3437d40aaa2b296a0a2095576",
       "version_major": 2,
       "version_minor": 0
      },
      "text/plain": [
       "Running Prediction:   0%|          | 0/1 [00:00<?, ?it/s]"
      ]
     },
     "metadata": {},
     "output_type": "display_data"
    },
    {
     "name": "stderr",
     "output_type": "stream",
     "text": [
      "2022-07-15 13:43:56,909 - 322050 - simpletransformers.question_answering.question_answering_model - INFO -  Converting to features started.\n"
     ]
    },
    {
     "name": "stdout",
     "output_type": "stream",
     "text": [
      "Apollo-backed supermarket Fresh Market Holdings withdraws initial public offering  …  it's withdrawing its initial public offering. the greensboro, n.c.-based …  not intend to pursue the ipo at this time. the company …\n"
     ]
    },
    {
     "name": "stderr",
     "output_type": "stream",
     "text": [
      "convert squad examples to features: 100%|██████████| 1/1 [00:00<00:00, 313.80it/s]\n",
      "add example index and unique id: 100%|██████████| 1/1 [00:00<00:00, 17476.27it/s]\n"
     ]
    },
    {
     "data": {
      "application/vnd.jupyter.widget-view+json": {
       "model_id": "10d8aebb64df49f6a65bd68f7cf1b1a1",
       "version_major": 2,
       "version_minor": 0
      },
      "text/plain": [
       "Running Prediction:   0%|          | 0/1 [00:00<?, ?it/s]"
      ]
     },
     "metadata": {},
     "output_type": "display_data"
    },
    {
     "name": "stderr",
     "output_type": "stream",
     "text": [
      "2022-07-15 13:43:57,484 - 322050 - simpletransformers.question_answering.question_answering_model - INFO -  Converting to features started.\n"
     ]
    },
    {
     "name": "stdout",
     "output_type": "stream",
     "text": [
      "IPO market stays dormant as Justworks and Fresh Market withdraw their filings     … | afp | getty images   the ipo market has been frozen for … market withdrew their filings for initial public offerings. both companies initially disclosed  …  tech sector. the renaissance ipo etf, which says it  … , newly listed u.s. ipos,\" has plummeted 46%.    … \n"
     ]
    },
    {
     "name": "stderr",
     "output_type": "stream",
     "text": [
      "convert squad examples to features: 100%|██████████| 1/1 [00:00<00:00, 202.38it/s]\n",
      "add example index and unique id: 100%|██████████| 1/1 [00:00<00:00, 8525.01it/s]\n"
     ]
    },
    {
     "data": {
      "application/vnd.jupyter.widget-view+json": {
       "model_id": "0dc13d8bc6924c4fa1d9449693ca20c9",
       "version_major": 2,
       "version_minor": 0
      },
      "text/plain": [
       "Running Prediction:   0%|          | 0/1 [00:00<?, ?it/s]"
      ]
     },
     "metadata": {},
     "output_type": "display_data"
    },
    {
     "name": "stderr",
     "output_type": "stream",
     "text": [
      "2022-07-15 13:43:58,020 - 322050 - simpletransformers.question_answering.question_answering_model - INFO -  Converting to features started.\n"
     ]
    },
    {
     "name": "stdout",
     "output_type": "stream",
     "text": [
      "RE company Alternergy files for P2.18-B IPO     … filed an application for an initial public offering (ipo) with the securities and exchange … for the entire 2021.   five ipos were listed on the main … terms of the number of ipos in a year,” pse  …  and secondary shares in eight ipos, one stock rights offering,  … \n"
     ]
    },
    {
     "name": "stderr",
     "output_type": "stream",
     "text": [
      "convert squad examples to features: 100%|██████████| 1/1 [00:00<00:00, 252.29it/s]\n",
      "add example index and unique id: 100%|██████████| 1/1 [00:00<00:00, 7598.38it/s]\n"
     ]
    },
    {
     "data": {
      "application/vnd.jupyter.widget-view+json": {
       "model_id": "a2fdbb5d134f4f8ebeccb34d068b0afc",
       "version_major": 2,
       "version_minor": 0
      },
      "text/plain": [
       "Running Prediction:   0%|          | 0/1 [00:00<?, ?it/s]"
      ]
     },
     "metadata": {},
     "output_type": "display_data"
    },
    {
     "name": "stderr",
     "output_type": "stream",
     "text": [
      "2022-07-15 13:43:58,549 - 322050 - simpletransformers.question_answering.question_answering_model - INFO -  Converting to features started.\n"
     ]
    },
    {
     "name": "stdout",
     "output_type": "stream",
     "text": [
      "AirAsia IPO still on hold     …  said a revival of its initial public offering (ipo) is not yet in the …  works.   “no ipo plans yet,” isla told the …  through with the long-delayed ipo within the third quarter of …  the airline’s ipo aspirations.   but while an ipo remains not a … \n"
     ]
    },
    {
     "name": "stderr",
     "output_type": "stream",
     "text": [
      "convert squad examples to features: 100%|██████████| 1/1 [00:00<00:00, 252.62it/s]\n",
      "add example index and unique id: 100%|██████████| 1/1 [00:00<00:00, 13315.25it/s]\n"
     ]
    },
    {
     "data": {
      "application/vnd.jupyter.widget-view+json": {
       "model_id": "1a0a796029a34d2283a174c575a8038d",
       "version_major": 2,
       "version_minor": 0
      },
      "text/plain": [
       "Running Prediction:   0%|          | 0/1 [00:00<?, ?it/s]"
      ]
     },
     "metadata": {},
     "output_type": "display_data"
    },
    {
     "name": "stderr",
     "output_type": "stream",
     "text": [
      "2022-07-15 13:43:59,073 - 322050 - simpletransformers.question_answering.question_answering_model - INFO -  Converting to features started.\n"
     ]
    },
    {
     "name": "stdout",
     "output_type": "stream",
     "text": [
      "Alternergy eyes P2.1 billion from IPO  …  perez, is embarking on an initial public offering worth up  to p2.1 …\n"
     ]
    },
    {
     "name": "stderr",
     "output_type": "stream",
     "text": [
      "convert squad examples to features: 100%|██████████| 1/1 [00:00<00:00, 310.16it/s]\n",
      "add example index and unique id: 100%|██████████| 1/1 [00:00<00:00, 11491.24it/s]\n"
     ]
    },
    {
     "data": {
      "application/vnd.jupyter.widget-view+json": {
       "model_id": "e73be5df72c9419a936a3f1503cfc8f0",
       "version_major": 2,
       "version_minor": 0
      },
      "text/plain": [
       "Running Prediction:   0%|          | 0/1 [00:00<?, ?it/s]"
      ]
     },
     "metadata": {},
     "output_type": "display_data"
    },
    {
     "name": "stderr",
     "output_type": "stream",
     "text": [
      "2022-07-15 13:43:59,626 - 322050 - simpletransformers.question_answering.question_answering_model - INFO -  Converting to features started.\n"
     ]
    },
    {
     "name": "stdout",
     "output_type": "stream",
     "text": [
      "Signature Global Seeks SEBI Approval For Rs 1,000-Crore IPO Signature Global (India) Ltd., a Gurugram-based real estate firm, has filed draft papers with Securities and Exchange Board of India to raise Rs 1,000 crore via an initial public offering.The IPO will comprise fresh stock worth up to Rs 750 crore, as well as an offer for sale of up to Rs 250 crore, according to the draft red-herring prospectus. Promoter Sarvpriya Securities and investor International Finance Corp. will offload stock ... Signature Global (India) Ltd., a Gurugram-based real estate firm, has filed draft papers with Securities and Exchange Board of India to raise Rs 1,000 crore via an initial public offering.The IPO will comprise fresh stock worth up to Rs 750 crore, as well as an offer for sale of up to Rs 250 crore, according to the draft red-herring prospectus. Promoter Sarvpriya Securities and investor International Finance Corp. will offload stock worth up to Rs 125 crore each.The proposes to use the IPO proceeds for debt repayments inorganic growth through land acquisition and general corporate purposes.Signature Global is focused on affordable and mid-housing segments with a market share of 19%. As of March 2022, it had sold 23,453 residential and commercial units in Delhi-NCR, out of which 21,478 are residential units with an average selling price of Rs 28.1 lakh.The company's sales have grown at a compounded annual growth rate of 142.47% to 2,590.22 crore in FY22 from Rs 440.57 crore in FY21.Kotak Mahindra Capital, ICICI Securities and Axis Capital are the book-running lead managers to the issue.\n"
     ]
    },
    {
     "name": "stderr",
     "output_type": "stream",
     "text": [
      "convert squad examples to features: 100%|██████████| 1/1 [00:00<00:00, 68.56it/s]\n",
      "add example index and unique id: 100%|██████████| 1/1 [00:00<00:00, 20262.34it/s]\n"
     ]
    },
    {
     "data": {
      "application/vnd.jupyter.widget-view+json": {
       "model_id": "815725031271484d892de86226fae8d0",
       "version_major": 2,
       "version_minor": 0
      },
      "text/plain": [
       "Running Prediction:   0%|          | 0/1 [00:00<?, ?it/s]"
      ]
     },
     "metadata": {},
     "output_type": "display_data"
    },
    {
     "name": "stderr",
     "output_type": "stream",
     "text": [
      "2022-07-15 13:44:00,297 - 322050 - simpletransformers.question_answering.question_answering_model - INFO -  Converting to features started.\n"
     ]
    },
    {
     "name": "stdout",
     "output_type": "stream",
     "text": [
      "Justworks, The Fresh Market scrap IPO plans amid equities rout July 13 (Reuters) - Food retailer The Fresh Market Holdings Inc (TFM) and human resources software platform Justworks Inc shelved plans for their initial public offerings on Wednesday.While the companies did not give a reason for the move, the U.S. IPO market has hit a slump in recent months as recession fears and the fallout from the Ukraine crisis hammer equities.Justworks had originally filed for its IPO in December and was seeking to raise up to $224 million. But it decided to delay the listing in January amid a selloff in technology stocks.Register now for FREE unlimited access to Reuters.comRegisterThe New York-based company's cloud-based platform enables small- and medium-sized businesses to handle payroll, benefits, compliance and human resources.TFM's decision to scrap its listing plans comes nearly two months after Chilean retail group Cencosud (CENCOSUD.SN) struck a $676 million deal to buy a 67% stake in the company.The food retailer, which also sells meat, seafood, dairy products, beer and wine, was taken private by Apollo Global Management Inc (APO.N) in 2016 in a $1.36 billion deal. It had filed for its IPO in July last year.Register now for FREE unlimited access to Reuters.comRegisterReporting by Niket Nishant in Bengaluru; Editing by Shinjini Ganguli and Aditya SoniOur Standards: The Thomson Reuters Trust Principles.\n"
     ]
    },
    {
     "name": "stderr",
     "output_type": "stream",
     "text": [
      "convert squad examples to features: 100%|██████████| 1/1 [00:00<00:00, 64.81it/s]\n",
      "add example index and unique id: 100%|██████████| 1/1 [00:00<00:00, 12336.19it/s]\n"
     ]
    },
    {
     "data": {
      "application/vnd.jupyter.widget-view+json": {
       "model_id": "8e31fe180206404abaf8528fe9c73bbb",
       "version_major": 2,
       "version_minor": 0
      },
      "text/plain": [
       "Running Prediction:   0%|          | 0/1 [00:00<?, ?it/s]"
      ]
     },
     "metadata": {},
     "output_type": "display_data"
    },
    {
     "name": "stderr",
     "output_type": "stream",
     "text": [
      "2022-07-15 13:44:00,860 - 322050 - simpletransformers.question_answering.question_answering_model - INFO -  Converting to features started.\n"
     ]
    },
    {
     "name": "stdout",
     "output_type": "stream",
     "text": [
      "Justworks, The Fresh Market scrap IPO plans amid equities rout July 13 (Reuters) - Food retailer The Fresh Market Holdings Inc (TFM) and human resources software platform Justworks Inc shelved plans for their initial public offerings on Wednesday.While the companies did not give a reason for the move, the U.S. IPO market has hit a slump in recent months as recession fears and the fallout from the Ukraine crisis hammer equities.Justworks had originally filed for its IPO in December and was seeking to raise up to $224 million. But it decided to delay the listing in January amid a selloff in technology stocks.Register now for FREE unlimited access to Reuters.comRegisterThe New York-based company's cloud-based platform enables small- and medium-sized businesses to handle payroll, benefits, compliance and human resources.TFM's decision to scrap its listing plans comes nearly two months after Chilean retail group Cencosud (CENCOSUD.SN) struck a $676 million deal to buy a 67% stake in the company.The food retailer, which also sells meat, seafood, dairy products, beer and wine, was taken private by Apollo Global Management Inc (APO.N) in 2016 in a $1.36 billion deal. It had filed for its IPO in July last year.Register now for FREE unlimited access to Reuters.comRegisterReporting by Niket Nishant in Bengaluru; Editing by Shinjini Ganguli and Aditya SoniOur Standards: The Thomson Reuters Trust Principles.\n"
     ]
    },
    {
     "name": "stderr",
     "output_type": "stream",
     "text": [
      "convert squad examples to features: 100%|██████████| 1/1 [00:00<00:00, 147.66it/s]\n",
      "add example index and unique id: 100%|██████████| 1/1 [00:00<00:00, 11366.68it/s]\n"
     ]
    },
    {
     "data": {
      "application/vnd.jupyter.widget-view+json": {
       "model_id": "b017154d699c4caeb0a0640af4c42b5c",
       "version_major": 2,
       "version_minor": 0
      },
      "text/plain": [
       "Running Prediction:   0%|          | 0/1 [00:00<?, ?it/s]"
      ]
     },
     "metadata": {},
     "output_type": "display_data"
    },
    {
     "name": "stderr",
     "output_type": "stream",
     "text": [
      "2022-07-15 13:44:01,736 - 322050 - simpletransformers.question_answering.question_answering_model - INFO -  Converting to features started.\n"
     ]
    },
    {
     "name": "stdout",
     "output_type": "stream",
     "text": [
      "National Shipping Ekalya Purnamasari Posts IPO Price of IDR 190-Rp 240 Reporter: Akhmad Suryahadi | Editor: Wahyu T. Rahmawati KONTAN.CO.ID - JAKARTA. Another prospective issuer that will enliven the Indonesia Stock Exchange (IDX) to become a public company. It is PT Pelayaran Nasional Ekalya Purnamasari Tbk (ELPI) which plans to release its shares to the public. Launching the e-IPO page, Wednesday (13/7), the prospective issuer that will use the ELPI stock code will release 1.11 billion shares or 15% of the paid-up and placed capital after the IPO. The company, which operates in the oil and gas distribution sector, has an offering price of Rp 190 per share-Rp 240 per share. Thus, Ekalya has the opportunity to pocket fresh funds of Rp. 211.28 billion to Rp. 266.88 billion from the IPO. So far, ELPI has not included a copy of the use of the proceeds from the IPO. Also Read: Targeting IPO of IDR 1.3 Trillion, Moratelindo Aims for Double Digit Revenues Acting as Underwriter is PT Trimegah Sekuritas Indonesia Tbk (TRIM). The bookbuilding period will take place from July 14, 2022 to July 21, 2022. ELPI is a company engaged in the oil and gas distribution sector. As of the end of 2021, ELPI owns and operates more than 100 (one hundred) units of various fleets consisting of crewboats, anchor handling tug supply vessels (AHTS), platform support vessels (PSV), utility vessels & specialized vessels. With the support of this fleet, ELPI is able to provide services in the field of ship chartering, offshore work, logistics, engineering procurement construction, and training & development. ELPI is headquartered in Surabaya, East Java, and has five regional & maintenance offices, training centers and shipyard affiliates. Also Read: Unicorn Issuers Boost Take Rate Check News and Other Articles on Google News DONATION, Get Free Voucher! Your support will increase our enthusiasm to provide quality and useful articles. As an expression of gratitude for your attention, there is a free voucher worth a donation that can be used for shopping at the KONTAN Store. SUPPORT CONTENT NEWS INDEX Tag IPO PT Pelayaran Nasional Ekalya Purnamasari Tbk (ELPI) Reporter: Akhmad Suryahadi Editor: Wahyu T.Rahmawati\n"
     ]
    },
    {
     "name": "stderr",
     "output_type": "stream",
     "text": [
      "convert squad examples to features: 100%|██████████| 1/1 [00:00<00:00, 42.44it/s]\n",
      "add example index and unique id: 100%|██████████| 1/1 [00:00<00:00, 2683.50it/s]\n"
     ]
    },
    {
     "data": {
      "application/vnd.jupyter.widget-view+json": {
       "model_id": "91ad0097facd451ca94793c92c4abc44",
       "version_major": 2,
       "version_minor": 0
      },
      "text/plain": [
       "Running Prediction:   0%|          | 0/1 [00:00<?, ?it/s]"
      ]
     },
     "metadata": {},
     "output_type": "display_data"
    },
    {
     "name": "stderr",
     "output_type": "stream",
     "text": [
      "2022-07-15 13:44:02,513 - 322050 - simpletransformers.question_answering.question_answering_model - INFO -  Converting to features started.\n"
     ]
    },
    {
     "name": "stdout",
     "output_type": "stream",
     "text": [
      "IPO Dharma Polimetal (DRMA) Funds Have Been Absorbed 53%, for What? Reporter: Venny Suryanto | Editor: Handoyo . KONTAN.CO.ID - JAKARTA. The issuer of automotive component manufacturing, PT Dharma Polimetal Tbk (DRMA) will be more expansive throughout 2022. After realizing the plan to use the proceeds from the initial public offering (IPO), the company has used the fresh funds as much as 53% or Rp 180.2 billion from a total of IDR 341.7 billion. Meanwhile, for capital expenditure or capex, the company has used Rp 78.2 billion. \"We are grateful, because so far the Company has succeeded in carrying out the plan as expected,\" said President Director of Dharma Polimetal, Irianto Santoso in his official statement, Tuesday (12/7). Read also: Dharma Polimetal (DRMA) Has Used 53% of IPO Proceeds The details of the use of IPO proceeds until the end of June 2022 amounting to Rp. 78.2 billion have been injected into subsidiaries PT Dharma Precision Part and PT Dharma Controlcable Indonesia in the amount of Rp. 54 1.1 billion, to increase the portion of share ownership in subsidiary PT Dharma Poliplast by Rp. 30.8 billion, and for working capital of Rp. 17.1 billion. For information, until the first quarter of this year, the company posted a net profit for the year of Rp 116.9 billion. This number has more than doubled from the previous Rp 53.4 billion in the same period in 2021. DRMA Chart by TradingView . As for net sales, the Company posted Rp 915.8 billion, where the revenue grew 36% from Rp 675, 6 billion in the same period the previous year. Check other News and Articles on Google News DONATE, Get Free Vouchers! Your support will increase our enthusiasm to provide quality and useful articles. As an expression of gratitude for your attention, there is a free voucher worth a donation that can be used for shopping at the KONTAN Store. SUPPORT CONTENT NEWS INDEX Tag PT Dharma Polimetal Tbk (DRMA) IPO issuer Reporter: Venny Suryanto Editor: Handoyo .\n"
     ]
    },
    {
     "name": "stderr",
     "output_type": "stream",
     "text": [
      "convert squad examples to features: 100%|██████████| 1/1 [00:00<00:00, 55.19it/s]\n",
      "add example index and unique id: 100%|██████████| 1/1 [00:00<00:00, 11683.30it/s]\n"
     ]
    },
    {
     "data": {
      "application/vnd.jupyter.widget-view+json": {
       "model_id": "8cdde97766b14854977e49ef8cf0e937",
       "version_major": 2,
       "version_minor": 0
      },
      "text/plain": [
       "Running Prediction:   0%|          | 0/1 [00:00<?, ?it/s]"
      ]
     },
     "metadata": {},
     "output_type": "display_data"
    },
    {
     "name": "stderr",
     "output_type": "stream",
     "text": [
      "2022-07-15 13:44:03,209 - 322050 - simpletransformers.question_answering.question_answering_model - INFO -  Converting to features started.\n"
     ]
    },
    {
     "name": "stdout",
     "output_type": "stream",
     "text": [
      "Lushang Life Services Co., Ltd.’s HK$138.4 Million Hong Kong IPO \n",
      "\n",
      "\n",
      "Sidley represented Lushang Life Services Co., Ltd. on the deal while O’Melveny advised ABCI Capital Limited and  China International Capital Corporation Hong Kong Securities Limited.\n",
      "Lushang Life Services Co., Ltd. (HKEX: 2376) (Lushang Life Services) announced its initial public offering (IPO) on the Main Board of The Stock Exchange of Hong Kong (HKEX). The offering has raised net proceeds of approximately HK$138.4 million (US$17.636 million). ABCI Capital Limited acted as sole sponsor in the transaction.\n",
      "Lushang Life Services Co., Ltd. is a comprehensive property management service provider with a market leading position in Shandong Province and a proven track record of rapid growth. According to CIA, it was ranked 41st among the 2022 Top 100 Property Management Companies in China in terms of overall strength and recognized as an “Outstanding Enterprise in the Property Management Industry with Diversified Operations in 2021” and one of the “Leading Property Management Brands in Specialized Operations in 2021.\n",
      "The Sidley team was led by partners Sherlyn Lau (Picture) and Renee Xiong. Other team members included senior China advisor Linda Ruan, senior associate Kevin Chan, senior managing associate Liming Xu, senior legal manager Jacky Lei, managing associates Vicky Zheng and Sophie Gu, China advisor Jiefei Yao, associate Linfei Li, senior legal assistants Jianwen Wang, Suyang Ma, Sancy Chen and Joanna Yan, and trainee solicitor Kelly Kan.\n",
      "The O’Melveny team was led by partners Ke Zhu and Edwin Kwok, and included counsel Lillian Cheung and Qianyu Hu, associates Yuki Tsang and Wuxiao Liang, trainee solicitors Cherry Ma, Ronald Lam and Jeffrey Hang, and paralegal Cherika Chen.\n",
      "Involved fees earner: Lillian Cheung  – O’Melveny & Myers LLP; Qianyu Hu – O’Melveny & Myers LLP; Edwin Kwok  – O’Melveny & Myers LLP; Wuxiao Liang – O’Melveny & Myers LLP; Yuki Tsang  – O’Melveny & Myers LLP; Ke Zhu  – O’Melveny & Myers LLP; Kevin Chan – Sidley Austin LLP; Sophie Gu – Sidley Austin LLP; Sherlyn Lau – Sidley Austin LLP; Linda Ruan – Sidley Austin LLP; Renee Xiong – Sidley Austin LLP; Vicky Zheng – Sidley Austin LLP; \n",
      "Law Firms: O’Melveny & Myers LLP; Sidley Austin LLP; \n",
      "Clients: ABCI Capital Limited; China International Capital Corporation Hong Kong Securities Limited; Lushang Life Services Co., Ltd.; \n",
      "\n",
      "PrintFriendly\n",
      "\n"
     ]
    },
    {
     "name": "stderr",
     "output_type": "stream",
     "text": [
      "convert squad examples to features: 100%|██████████| 1/1 [00:00<00:00, 50.01it/s]\n",
      "add example index and unique id: 100%|██████████| 1/1 [00:00<00:00, 9532.51it/s]\n"
     ]
    },
    {
     "data": {
      "application/vnd.jupyter.widget-view+json": {
       "model_id": "949513505a4344aab98e30e484b504e8",
       "version_major": 2,
       "version_minor": 0
      },
      "text/plain": [
       "Running Prediction:   0%|          | 0/1 [00:00<?, ?it/s]"
      ]
     },
     "metadata": {},
     "output_type": "display_data"
    },
    {
     "name": "stderr",
     "output_type": "stream",
     "text": [
      "2022-07-15 13:44:03,916 - 322050 - simpletransformers.question_answering.question_answering_model - INFO -  Converting to features started.\n"
     ]
    },
    {
     "name": "stdout",
     "output_type": "stream",
     "text": [
      "Thailand:Thai Life raises US$1bn in IPO, trading debut set for 25 July \n",
      "\n",
      "Thai Life Insurance has raised THB37.1bn ($1bn) from an initial public offering, the largest share sale by a Thai firm in more than a year, reported Bloomberg.\n",
      "\n",
      "The Bangkok-based life insurer and two of its major shareholders sold a combined 2.32bn shares, including a green-shoe option, at THB16 each to domestic and international investors, the company said.\n",
      "Thai Life shares will start trading on the Stock Exchange of Thailand on 25 July.\n",
      "The insurer said it would spend THB13.6bn from new share sales on digital transformation, online distribution channel,s and other investments to maintain its leading position in Thailand’s insurance market.\n",
      "Thai Life allotted 467m shares to overseas cornerstone investors including GIC. and Oaktree Capital Management, according to its regulatory filing.\n",
      "\n",
      "\n",
      "Comment | \n",
      "                        Print \n",
      "| Share\n",
      "            \n",
      "\n",
      "\n",
      "\n",
      "\n",
      "\n",
      "\n"
     ]
    },
    {
     "name": "stderr",
     "output_type": "stream",
     "text": [
      "convert squad examples to features: 100%|██████████| 1/1 [00:00<00:00, 80.74it/s]\n",
      "add example index and unique id: 100%|██████████| 1/1 [00:00<00:00, 15768.06it/s]\n"
     ]
    },
    {
     "data": {
      "application/vnd.jupyter.widget-view+json": {
       "model_id": "c25f69a63e9c4248977304a0345d3330",
       "version_major": 2,
       "version_minor": 0
      },
      "text/plain": [
       "Running Prediction:   0%|          | 0/1 [00:00<?, ?it/s]"
      ]
     },
     "metadata": {},
     "output_type": "display_data"
    },
    {
     "name": "stderr",
     "output_type": "stream",
     "text": [
      "2022-07-15 13:44:04,438 - 322050 - simpletransformers.question_answering.question_answering_model - INFO -  Converting to features started.\n"
     ]
    },
    {
     "name": "stdout",
     "output_type": "stream",
     "text": [
      "Korea Exchange to review Kyobo Life’s IPO bid SEOUL-- Kyobo Life Insurance Co. on Thursday said the country's bourse operator will begin a preliminary assessment of its initial public offering (IPO).\n",
      "\n",
      "The Korea Exchange (KRX) has said it will launch a panel to review the IPO bid of South Korea's No. 2 life insurer eight months after its filing.\n",
      "\n",
      "Kyobo Life has been pushing to go public since 2018, but opposition from its shareholders has halted the process for years.\n",
      "\n",
      "Kyobo Life Chairman and the largest stakeholder Shin Chang-jae, as well as those with special interests in the company, hold a combined 36.9 percent stake.\n",
      "\n",
      "If the IPO is successful, Kyobo Life will begin preparing for the introduction of a new accounting rule for insurance products in 2023.\n",
      "\n",
      "Source: Yonhap News Agency\n"
     ]
    },
    {
     "name": "stderr",
     "output_type": "stream",
     "text": [
      "convert squad examples to features: 100%|██████████| 1/1 [00:00<00:00, 80.15it/s]\n",
      "add example index and unique id: 100%|██████████| 1/1 [00:00<00:00, 15307.68it/s]\n"
     ]
    },
    {
     "data": {
      "application/vnd.jupyter.widget-view+json": {
       "model_id": "e1547962b2d843ca885df1dae04a428a",
       "version_major": 2,
       "version_minor": 0
      },
      "text/plain": [
       "Running Prediction:   0%|          | 0/1 [00:00<?, ?it/s]"
      ]
     },
     "metadata": {},
     "output_type": "display_data"
    },
    {
     "name": "stderr",
     "output_type": "stream",
     "text": [
      "2022-07-15 13:44:04,996 - 322050 - simpletransformers.question_answering.question_answering_model - INFO -  Converting to features started.\n"
     ]
    },
    {
     "name": "stdout",
     "output_type": "stream",
     "text": [
      "ONE store scraps IPO plan due to weak investor confidence: sources SEOUL-- ONE store Co., a South Korean mobile app market platform, decided Wednesday to withdraw its plans for an initial public offering (IPO) due to lackluster investor confidence, financial industry sources said.\n",
      "\n",
      "The No. 2 mobile app market operator here, after Google Play store, received lackluster response from institutional investors during a two-day demand forecasting session until Tuesday, according to the sources. Institutional bids reportedly mostly fell below the company's desired pricing band between 34,300 won ($27) and 41,700 won.\n",
      "\n",
      "\"Just this morning, ONE store considered going public by lowering the desired price, but they apparently decided to scrap the plan after concluding the company's value may not be properly recognized by the market under the current stock market situation,\" a source said.\n",
      "\n",
      "ONE store's affiliate SK shieldus also nixed its IPO plan last week due to weak investor sentiment.\n",
      "\n",
      "Lee Jae-hwan, CEO of ONE store, said in a press conference on Monday that the company was determined to get listed on the main bourse as planned this month, undeterred by the sister company's derailed attempt.\n",
      "\n",
      "ONE store is the latest among several South Korean companies that have backpedaled on IPO plans so far this year. In late January, Hyundai Engineering Co., the construction arm of Hyundai Motor Group, withdrew its plan to get its stocks listed on the country's main bourse due to adverse market conditions.\n",
      "\n",
      "ONE store logged 214 billion won in sales last year and an operating loss of 5.8 billion won. The company racked up 1.13 trillion won worth of transactions on its platform last year.\n",
      "\n",
      "Its market share in the local mobile app market stands at some 14 percent, with Google Play's presence coming in at 71.9 percent.\n",
      "\n",
      "Source: Yonhap News Agency\n"
     ]
    },
    {
     "name": "stderr",
     "output_type": "stream",
     "text": [
      "convert squad examples to features: 100%|██████████| 1/1 [00:00<00:00, 99.82it/s]\n",
      "add example index and unique id: 100%|██████████| 1/1 [00:00<00:00, 13107.20it/s]\n"
     ]
    },
    {
     "data": {
      "application/vnd.jupyter.widget-view+json": {
       "model_id": "c8f1cfae38ff4ce68f89f77eb0b67904",
       "version_major": 2,
       "version_minor": 0
      },
      "text/plain": [
       "Running Prediction:   0%|          | 0/1 [00:00<?, ?it/s]"
      ]
     },
     "metadata": {},
     "output_type": "display_data"
    },
    {
     "name": "stderr",
     "output_type": "stream",
     "text": [
      "2022-07-15 13:44:05,673 - 322050 - simpletransformers.question_answering.question_answering_model - INFO -  Converting to features started.\n"
     ]
    },
    {
     "name": "stdout",
     "output_type": "stream",
     "text": [
      "SK shieldus eyes raising up to 3.55 tln won through IPO next month SEOUL-- SK shieldus Co., a security arm of South Korean telecom giant SK Telecom Co., is expected to raise up to 3.55 trillion won (US$2.85 billion) through a planned initial public offering (IPO) next month.\n",
      "\n",
      "The listing, set for May 19, will mark the biggest ever market debut by a security service provider, more than the value of its rival firm S-1 Corp., a security firm under Samsung Group.\n",
      "\n",
      "\"Our company integrated cybersecurity and physical security services. SK shieldus should not be compared with S-1 by one-to-one,\" CEO Park Jin-hyo said at an online conference.\n",
      "\n",
      "SK shieldus, which changed its name from ADT Caps Co. last October, currently provides security services across four main categories -- cybersecurity, convergence security, physical security, and safety and care.\n",
      "\n",
      "Last year, the company reported 1.55 trillion won in sales, trailing behind 2.31 trillion won recorded by S-1.\n",
      "\n",
      "Park said the company aims to take over other security companies with higher technical skills following the IPO, and hire more personnel with expertise in platform.\n",
      "\n",
      "SK shieldus said it set the IPO price range of 31,000-38,800 won.\n",
      "\n",
      "Credit Suisse, the lead bookrunner, Morgan Stanley, KB Securities and NH Investment and Securities began taking orders from investors.\n",
      "\n",
      "Demand forecasting for domestic institutions is slated for May 3 and May 4, with that for retail investors set to take place on May 9 and May 10.\n",
      "\n",
      "Source: Yonhap News Agency\n"
     ]
    },
    {
     "name": "stderr",
     "output_type": "stream",
     "text": [
      "convert squad examples to features: 100%|██████████| 1/1 [00:00<00:00, 88.11it/s]\n",
      "add example index and unique id: 100%|██████████| 1/1 [00:00<00:00, 19878.22it/s]\n"
     ]
    },
    {
     "data": {
      "application/vnd.jupyter.widget-view+json": {
       "model_id": "489156e6b50f44189ae5be57136c0172",
       "version_major": 2,
       "version_minor": 0
      },
      "text/plain": [
       "Running Prediction:   0%|          | 0/1 [00:00<?, ?it/s]"
      ]
     },
     "metadata": {},
     "output_type": "display_data"
    },
    {
     "name": "stderr",
     "output_type": "stream",
     "text": [
      "2022-07-15 13:44:06,226 - 322050 - simpletransformers.question_answering.question_answering_model - INFO -  Converting to features started.\n"
     ]
    },
    {
     "name": "stdout",
     "output_type": "stream",
     "text": [
      "SK On’s IPO unlikely to take place until after 2025: SK Innovation CEO SEOUL-- SK On Co. is not considering an initial public offering (IPO) for at least another two to three years but will build up its competitiveness and enhance corporate value before pushing for a market debut, head of its parent company said Thursday.\n",
      "\n",
      "The potential listing of SK On has drawn attention since the battery unit was spun off from SK Innovation in October last year, as part of SK's push to bolster the battery business amid growing demand from global automakers vying for a bigger share in the electric vehicle market.\n",
      "\n",
      "\"What's the most important for an IPO to take place is that we need to have our battery business recognized in the market,\" Kim Jun, CEO and vice chairman of SK Innovation Co., told reporters after a general shareholders meeting.\n",
      "\n",
      "\"I expect that we should be able to deliver the performance, in terms of sales, profitability and stable management of equipment, after 2025, and I believe it would be after 2025 if we were to do an IPO,\" he said.\n",
      "\n",
      "Its bigger rival, LG Energy Solution Ltd., set a record IPO in January that made the battery maker the second-largest company in South Korea by market cap, reflecting the global electrification trend.\n",
      "\n",
      "Kim said SK On is at the pre-IPO stage to raise funds from investors in advance of going public.\n",
      "\n",
      "\"We need large-scale resources as we are continuing with the facility expansion ... We plan to sign the contracts (on the investments) in the first half,\" Kim said.\n",
      "\n",
      "Industry sources predict SK On is seeking to raise between 3 and 5 trillion won (US$2.47-4.12 billion), which amounts to about a 10 percent stake in the company.\n",
      "\n",
      "Kim forecast SK On will swing to the black in the fourth quarter of this year and achieve an annual surplus from next year. SK Innovation's battery business logged an operating loss of 683.1 billion won in the fourth quarter of last year.\n",
      "\n",
      "In light of any possible advance into new businesses, Kim said he is looking at areas of \"non-carbon, or low-carbon energy sources,\" and discussing various ideas with SK Group Chairman Chey Tae-won, without elaborating further.\n",
      "\n",
      "Earlier this month, Chey hinted at \"drawing up a new business map that incorporates energy and environment\" during a visit to a SK Innovation factory in a southwestern city.\n",
      "\n",
      "Source: Yonhap News Agency\n"
     ]
    },
    {
     "name": "stderr",
     "output_type": "stream",
     "text": [
      "convert squad examples to features: 100%|██████████| 1/1 [00:00<00:00, 38.68it/s]\n",
      "add example index and unique id: 100%|██████████| 1/1 [00:00<00:00, 6853.44it/s]\n"
     ]
    },
    {
     "data": {
      "application/vnd.jupyter.widget-view+json": {
       "model_id": "ad488a6e2d2c4aa68634d2e8ededa1cc",
       "version_major": 2,
       "version_minor": 0
      },
      "text/plain": [
       "Running Prediction:   0%|          | 0/1 [00:00<?, ?it/s]"
      ]
     },
     "metadata": {},
     "output_type": "display_data"
    },
    {
     "name": "stderr",
     "output_type": "stream",
     "text": [
      "2022-07-15 13:44:06,927 - 322050 - simpletransformers.question_answering.question_answering_model - INFO -  Converting to features started.\n"
     ]
    },
    {
     "name": "stdout",
     "output_type": "stream",
     "text": [
      "Money raised through IPOs hits record high in 2021 amid ample liquidity, bullish sentiment SEOUL– The amount of money South Korean firms raised through initial public offerings (IPOs) more than quadrupled to hit a record high last year thanks to ample liquidity and the overall bullish stock market sentiment, data showed Monday.\n",
      "\n",
      "A total of 89 companies went public in 2021 by listing stocks on the benchmark KOSPI and secondary tech-heavy KOSDAQ markets and raised a combined 19.7 trillion won (US$16.4 billion), according to the data from the Financial Supervisory Service.\n",
      "\n",
      "The money raised from IPOs represented a 333.9 percent surge from 4.5 trillion won a year earlier, the data showed. The number of companies whose shares listed on the stock markets for the first time also jumped from the previous year’s 70.\n",
      "\n",
      "The IPO market was driven by the overall rise in local stock markets and ample liquidity injected into the economy bolstered by low borrowing costs in line with record low policy rates intended to boost the pandemic-hit economy.\n",
      "\n",
      "Investors got more interested in new stock listings, with the competition ratio for IPO stocks jumping to an average of 1,136 to 1 last year, up from the 956-to-1 ratio a year earlier.\n",
      "\n",
      "The prices of newly listed stocks closed 57.4 percent higher on average on their first trading day, compared with their IPO prices. The return marked the highest in five years, the data showed.\n",
      "\n",
      "Their average prices also jumped 54.8 percent at the end of last year from the IPO prices. But of the companies that went private, 28 firms, or 31.5 percent, saw their stocks fall below the IPO prices at the end of last year, the data showed.\n",
      "\n",
      "Source: Yonhap News Agency\n"
     ]
    },
    {
     "name": "stderr",
     "output_type": "stream",
     "text": [
      "convert squad examples to features: 100%|██████████| 1/1 [00:00<00:00, 67.54it/s]\n",
      "add example index and unique id: 100%|██████████| 1/1 [00:00<00:00, 14513.16it/s]\n"
     ]
    },
    {
     "data": {
      "application/vnd.jupyter.widget-view+json": {
       "model_id": "99e7e3e820ff4de6af3d52cbd0a58c32",
       "version_major": 2,
       "version_minor": 0
      },
      "text/plain": [
       "Running Prediction:   0%|          | 0/1 [00:00<?, ?it/s]"
      ]
     },
     "metadata": {},
     "output_type": "display_data"
    },
    {
     "name": "stderr",
     "output_type": "stream",
     "text": [
      "2022-07-15 13:44:07,444 - 322050 - simpletransformers.question_answering.question_answering_model - INFO -  Converting to features started.\n"
     ]
    },
    {
     "name": "stdout",
     "output_type": "stream",
     "text": [
      "Global IPO activity falls 46 pct, proceeds shrink 58 pct ytd 2022: EY KUALA LUMPUR: Global initial public offering (IPO) saw its year-to-date (YTD) volumes fall 46 per cent year-on-year (y-o-y) to 630 IPOs, with proceeds shrinking 58 per cent y-o-y to US$95.4 billion (US$1=RM4.44), as heightened volatility caused by geopolitical tensions and macroeconomic factors, declining valuation and poor post-IPO share price performance led to the postponement of many IPOs.\n",
      "\n",
      "In a statement today, EY Initial Public Offering Services said for the second quarter of 2022 (Q2 2022), the global IPO market recorded 305 deals raising US$40.6 billion in proceeds, down 54 per cent and 65 per cent y-o-y, respectively.\n",
      "\n",
      "It said during the period under review, the energy sector had replaced the technology sector as the top IPO fundraiser, whereby among the top 10 largest IPOs by proceeds which raised US$40 billion, energy dominated three of the top four deals, replacing the technology sector.\n",
      "\n",
      "“The technology sector continued to lead by number, but the average IPO deal size came down to US$137 million from US$293 million, whereas energy has overtaken to lead by proceeds with average deal size increasing to US$680 million from US$191 million,“ it said.\n",
      "\n",
      "Regionally, EY said the IPO activity in the Americas region saw the sharpest decline (among all regions) in Q2 2022 versus Q2 2021, with deals decreasing 73 per cent y-o-y to 41 IPOs, and proceeds falling 95 per cent y-o-y to US$2.5 billion.\n",
      "\n",
      "However, it said compared with Q1 2022, the number of deals and proceeds in the region were up 14 per cent y-o-y and six per cent y-o-y, respectively.\n",
      "\n",
      "For the ASEAN region, it said YTD, the grouping registered a total of 54 IPOs raising US$2.4 billion, down two per cent y-o-y in the number of deals and 55 per cent y-o-y in proceeds.\n",
      "\n",
      "“The notable decline in proceeds was due to a lack of mega IPOs (IPOs with proceeds equal to or greater than US$1 billion) YTD 2022, compared to three mega IPOs in YTD 2021 that raised US$3.9 billion,“ it said.\n",
      "\n",
      "It unveiled that the most active ASEAN exchanges were Indonesia (22 IPOs raising US$1.3 billion), Thailand (13 IPOs; US$300 million), and Philippines (seven IPOs; US$300 million), followed by Malaysia (six IPOs; US$500 million) and Singapore (six IPOs raising US$33 million).\n",
      "\n",
      "For Asia-Pacific, EY said the region finished the quarter with a 42 per cent y-o-y decline in proceeds and 37 per cent y-o-y decline in deals.\n",
      "\n",
      "“The region saw 181 IPOs raising US$ 23.3 billion in proceeds during Q2 and 367 IPOs raising US$66.0 billion in proceeds YTD 2022. However, Asia-Pacific markets performed relatively better benefitting from the two largest global IPOs YTD,“ it said.\n",
      "\n",
      "On outlook for Q3 2022, EY believes that uncertainties and volatility are likely to remain, including geopolitical strains, macroeconomic factors, weak capital market performance, and the impact from the lingering pandemic on global travel and related sectors.\n",
      "\n",
      "Nonetheless, it noted that there were many mega IPOs postponed in the first half of 2022, which represents a healthy pipeline of deals that are likely to come to the market when the current uncertainties and volatility subside.\n",
      "\n",
      "It said the technology sector is also likely to continue as the leading sector in terms of the number of deals coming to the market.\n",
      "\n",
      "“However, with a greater focus on renewable sources of energy in the face of increasing oil prices, the energy sector is expected to continue to lead by proceeds from bigger deals,“ it said, adding that environmental, social, and governance (ESG) will continue to be a sector-agnostic key theme for investors and IPO candidates. - Bernama\n"
     ]
    },
    {
     "name": "stderr",
     "output_type": "stream",
     "text": [
      "convert squad examples to features: 100%|██████████| 1/1 [00:00<00:00, 32.45it/s]\n",
      "add example index and unique id: 100%|██████████| 1/1 [00:00<00:00, 8192.00it/s]\n"
     ]
    },
    {
     "data": {
      "application/vnd.jupyter.widget-view+json": {
       "model_id": "83e300b7e9ae4d6393135738c277a2ff",
       "version_major": 2,
       "version_minor": 0
      },
      "text/plain": [
       "Running Prediction:   0%|          | 0/1 [00:00<?, ?it/s]"
      ]
     },
     "metadata": {},
     "output_type": "display_data"
    },
    {
     "name": "stderr",
     "output_type": "stream",
     "text": [
      "2022-07-15 13:44:08,321 - 322050 - simpletransformers.question_answering.question_answering_model - INFO -  Converting to features started.\n"
     ]
    },
    {
     "name": "stdout",
     "output_type": "stream",
     "text": [
      "Taiwan edge AI company Gorilla Technology IPO surges 123% on first day of Nasdaq trading Taiwan edge AI company Gorilla Technology IPO surges 123% on first day of Nasdaq trading\n",
      "\n",
      "Taiwan-based edge AI company Gorilla Technology Group has completed the business combination with Global SPAC Partners and began trading on the Nasdaq on July 14 with the ticker \"GRRR.\"\n",
      "\n",
      "On the first day of the initial public offering (IPO), the share of Gorilla went up 123.61% to close at US$33.43, reflecting the market's recognition of its global competitiveness in edge video analytic artificial intelligence, IoT technologies, and cybersecurity.\n",
      "\n",
      "Spincer Koh, founder and CEO of Gorilla, stated, \"Today marks a significant milestone for Gorilla and its employees, and we are excited to accelerate our growth with a truly disruptive technology platform used by some of the world's largest companies. Gorilla's long-term partnership with Global and other established investors will allow us to more rapidly scale our operations, introduce new technology innovations, and expand into new markets.\"\n",
      "\n",
      "The company's press release announced that the business combination will provide cash, including funds from Global SPAC Partners' trust account and $41.9 million from PIPE subscriptions. Pursuant to the amended subscription agreements of May 18, 2022, PIPE investors exercised their option to purchase $11.6 million of the subunits subscribed for via purchases in the open market, representing 8.9% of the pre-merger outstanding subunits, and which were not redeemed at the closing of the business combination. The proceeds will be used for working capital, business growth, international expansion, and other general corporate purposes.\n",
      "\n",
      "In a previous exclusive interview with DIGITIMES, Koh said he plans to invite leading technology application brand companies from Taiwan and Japan to form a \"Smart City Diverse Industry Alliance\" ecosystem, with the goal of jointly expanding the global markets for edge AI analytics solutions and services after the IPO.\n",
      "\n",
      "Gorilla's edge AI technology has been developed over the last 20 years and includes 31 patents granted or pending with solutions available across hardware platforms, and via AI models, AI appliances, and AI SaaS modules. It develops a wide range of video-centric and content management solutions including smart cities, smart retail, and enterprise security. In addition, Gorilla provides a complete security convergence platform to government institutions, telecom companies, and private enterprises with network surveillance and cybersecurity.\n",
      "\n",
      "Gorilla's strong competitive positioning is reflected in its list of technology partners that include Softbank (Japan), Intel (US), and Dell (US), among others, and leading clients across the world including Danone, ExxonMobil, AIS – Thailand's largest mobile operator, Auresys & MasterCard, Singapore, a major smart lighting company in the UK, Portland International Airport in the US, Taoyuan Airport in Taiwan, and Taipei Medical University Hospital, among others. Gorilla also has the backing of marquee investors, including SBI Group (Japan), Acer (Taiwan), Telstra Ventures (Australia), Asteria (Japan) and Dell (US).\n",
      "\n",
      "​​Following completion of the business combination, Gorilla's board of directors consists of Jayesh (Jay) Chandan, as executive chairman, Spincer Koh, CEO of Gorilla, Tomoyuki Nii, Partner of SBI Group, Yoichiro (Pina) Hirano, CEO of Asteria Corporation, Rt. honorable Ruth Kelly and Gregg Walker, partner and managing director of Muller & Monroe Asset Management.\n"
     ]
    },
    {
     "name": "stderr",
     "output_type": "stream",
     "text": [
      "convert squad examples to features: 100%|██████████| 1/1 [00:00<00:00, 33.97it/s]\n",
      "add example index and unique id: 100%|██████████| 1/1 [00:00<00:00, 12300.01it/s]\n"
     ]
    },
    {
     "data": {
      "application/vnd.jupyter.widget-view+json": {
       "model_id": "f39e6c11da4b456cb8965a8019c6592d",
       "version_major": 2,
       "version_minor": 0
      },
      "text/plain": [
       "Running Prediction:   0%|          | 0/1 [00:00<?, ?it/s]"
      ]
     },
     "metadata": {},
     "output_type": "display_data"
    },
    {
     "name": "stderr",
     "output_type": "stream",
     "text": [
      "2022-07-15 13:44:09,139 - 322050 - simpletransformers.question_answering.question_answering_model - INFO -  Converting to features started.\n"
     ]
    },
    {
     "name": "stdout",
     "output_type": "stream",
     "text": [
      "War in Ukraine threatens India's blockbuster IPO India's behemoth state-owned insurer LIC is all set to go public with an initial public offering that is billed to be the biggest ever in India. But Russia's invasion of Ukraine has raised questions about the timing.\n"
     ]
    },
    {
     "name": "stderr",
     "output_type": "stream",
     "text": [
      "convert squad examples to features: 100%|██████████| 1/1 [00:00<00:00, 352.64it/s]\n",
      "add example index and unique id: 100%|██████████| 1/1 [00:00<00:00, 14979.66it/s]\n"
     ]
    },
    {
     "data": {
      "application/vnd.jupyter.widget-view+json": {
       "model_id": "499a895cc8c545fdb91b56341e024b01",
       "version_major": 2,
       "version_minor": 0
      },
      "text/plain": [
       "Running Prediction:   0%|          | 0/1 [00:00<?, ?it/s]"
      ]
     },
     "metadata": {},
     "output_type": "display_data"
    },
    {
     "name": "stderr",
     "output_type": "stream",
     "text": [
      "2022-07-15 13:44:09,668 - 322050 - simpletransformers.question_answering.question_answering_model - INFO -  Converting to features started.\n"
     ]
    },
    {
     "name": "stdout",
     "output_type": "stream",
     "text": [
      "\n",
      "\t\t\t\t\t\t\t\t\tKakao Mobility at crossroads amid sell-off rumors\t\t\t\t\t\t\t\t \n",
      "A couple of taxis using Kakao Mobility’s ride-hailing service Kakao T wait for passengers in front of Seoul station on June 28. (Yonhap)A dispute between Kakao Corp. management and its labor union is growing over the IT giant’s rumored attempt to sell its transportation service subsidiary Kakao Mobility to private equity firm MBK Partners. Kakao’s labor union on Wednesday accused the management of giving up on its mobility business, questioning if the sell-off to the private equity fund can help the business grow.According to the union’s statement, Kakao Corp. said its mobility platform cannot grow anymore under its wing, and that the IT giant has no intention of continuing with the mobility business. It added that Kakao’s management said the sale was necessary for the business to expand. The union sees the sale of Kakao Mobility as an attempt to prevent Kakao founder Kim Beom-su from being asked to appear at the National Assembly’s state audit this year. It said it would resume collecting signatures from Kakao Corp. employees for a petition, which was launched in June when rumors of a sale first began swirling, to oppose the deal. Shortly after the union’s statement was released, Bae Jae-hyun, the company’s chief investment officer, downplayed the sale rumors. He said in an internal notice that the company has never considered an entire sell-off.“What we are considering is changing Kakao’s stake in (Kakao Mobility) to become the second-largest shareholder by selling (a 10-19 percent stake),” he said. This suggests MBK would also buy shares from other owners to become the largest shareholder. Kakao Corp. owns a 57.5 percent stake in Kakao Mobility while a consortium led by US private equity firm TPG holds a 29 percent stake and the Carlyle Group has a 6.2 percent stake.The CIO added that the company is contemplating how Kakao Mobility can grow bigger beyond Kakao Corp.’s boundaries, saying no decisions had been made. The union last month met with the IT giant’s leadership including Kim Sung-su, chairman of the board of directors, to oppose the sale.Kakao Mobility went into turmoil after June 14 when it was reported that MBK Partners -- one of the largest private equity firms in Asia -- was in talks with the IT giant to buy a 40 percent stake in Kakao Mobility, which was valued at 8.5 trillion won ($6.6 billion).   Despite Kakao Corp.’s explanation that nothing was decided at the time, the sudden news sparked outcry from employees, as the company even had picked underwriters in March to go public on the Korea Exchange this year. Kakao’s labor union then began collecting signatures of employees and staged protests to oppose the sale of Kakao Mobility. The union denounced Kakao Corp.’s leadership for reneging on its promise to undergo an initial public offering. Previous IPOs of Kakao subsidiaries have included stock options for employees.Prospects of a stock listing have faded due to weak market conditions and damage to the corporation’s image after Kakao Pay executives dumped shares in the company in December last year. The executives, including Ryu Young-joon, CEO of Kakao Corp.’s mobile payment unit, exercised their stock options to sell company shares only a month after Kakao Pay’s listing, reaping a windfall of almost 90 billion won.“Kakao pulled out the sell-off card just three months after it had vowed to carry out shareholder-friendly policies. Isn’t the company trying to retrieve its investment in a different way as the option of going public is likely blocked?” said the union. A staffer at one of Kakao Corp.’s subsidiaries told The Korea Herald that Kakao Mobility employees have been feeling “uneasy” as the direction of the company is now unclear. “We don’t know too much about what’s going on with the rumored sell-off. We just hope things become clear soon,” said the staffer who requested anonymity. Kakao Corp. is under pressure to resolve things one way or another, as an IPO this year was among the conditions of the minority shareholders’ investments in Kakao Mobility. It is almost certain that there would be penalty clauses for failing to list, such as a requirement to buy back shares at an elevated price or to engage in a joint sale to a third party.But with the stock market in freefall, MBK Partners will be in no hurry to complete the acquisition, according to an analyst at a local private equity firm. “The value of technology stocks has decreased, so I think it is unlikely (for MBK Partners) to buy (Kakao Mobility) at the value of 8.5 trillion won. MBK Partners has no reason to go for that price at the moment,” he said. The analyst noted that MBK Partners will also consider tag-along rights of TPG and the Carlyle Group during negotiations with Kakao Corp. Tag-along rights allow minority shareholders to sell their shares if a majority shareholder is negotiating a stake sale. If MBK Partners were to acquire a 40 percent stake from Kakao Corp. as well as all shares owned by TPG and the Carlyle Group, it would approximately cost 6.4 trillion won. “Such a large deal could put some burden on MBK Partners, so won’t they try to push the price further down?” the analyst said. Since the second half of last year, Kakao Mobility has been under fire for hiking ride-hailing fees and expanding into new business areas to provide designated driver services, quick delivery and parcel delivery. The mobility application operator faced heat from the public as its expanded services drove small merchants and business owners out of work.  An IT industry source told The Korea Herald that the sale of Kakao Mobility could give Kakao Corp. some breathing room. “Kakao’s public image has worsened over the past year and Kakao Mobility was one of the major reasons behind that. So I think Kakao might want to detach itself from the mobility business. If a deal is made, it would give Kakao instant cash,” the source said. After Kakao Mobility began as a spinoff subsidiary from Kakao Corp. in 2017, it quickly became the country’s largest mobility platform service provider. Kakao Mobility has 30 million cumulative users and 10 million monthly active users, as of July.The company recorded annual sales of 546 billion won last year, almost doubling from 2020, and posted operating profits of 12.5 billion won to be in the black for the first time.By Kan Hyeong-woo (hwkan@heraldcorp.com)\n",
      "\n"
     ]
    },
    {
     "name": "stderr",
     "output_type": "stream",
     "text": [
      "convert squad examples to features: 100%|██████████| 1/1 [00:00<00:00, 16.09it/s]\n",
      "add example index and unique id: 100%|██████████| 1/1 [00:00<00:00, 13842.59it/s]\n"
     ]
    },
    {
     "data": {
      "application/vnd.jupyter.widget-view+json": {
       "model_id": "519e50fd40b74d30984c32f292470884",
       "version_major": 2,
       "version_minor": 0
      },
      "text/plain": [
       "Running Prediction:   0%|          | 0/1 [00:00<?, ?it/s]"
      ]
     },
     "metadata": {},
     "output_type": "display_data"
    },
    {
     "name": "stderr",
     "output_type": "stream",
     "text": [
      "2022-07-15 13:44:10,672 - 322050 - simpletransformers.question_answering.question_answering_model - INFO -  Converting to features started.\n"
     ]
    },
    {
     "name": "stdout",
     "output_type": "stream",
     "text": [
      "\n",
      "\t\t\t\t\t\t\t\t\tKorea Exchange denies Kyobo Life's IPO application\t\t\t\t\t\t\t\t \n",
      "Kyobo Life Insurance headquarters in Seoul (Kyobo Life Insurance)The Korea Exchange (KRX) on Friday disapproved an initial public offering by Kyobo Life Insurance Co., citing discord among major shareholders.After reviewing the insurer‘s second application filed in December, the bourse operator declined to approve its IPO before its management is stabilized.Kyobo Life had been seeking to complete an IPO within the first half of this year to diversify its funding sources in preparation for the introduction of a new accounting rule for insurance products in 2023.Kyobo Life’s chairman and largest stakeholder Shin Chang-jae attributed the failure to opposition from key shareholder Affinity Equity Partners, which has been in a legal dispute with the company over Affinity‘s exercises of put option in 2018. (Yonhap) \n",
      "\n"
     ]
    },
    {
     "name": "stderr",
     "output_type": "stream",
     "text": [
      "convert squad examples to features: 100%|██████████| 1/1 [00:00<00:00, 70.75it/s]\n",
      "add example index and unique id: 100%|██████████| 1/1 [00:00<00:00, 15252.01it/s]\n"
     ]
    },
    {
     "data": {
      "application/vnd.jupyter.widget-view+json": {
       "model_id": "060a320436e64dd29405574dec55df02",
       "version_major": 2,
       "version_minor": 0
      },
      "text/plain": [
       "Running Prediction:   0%|          | 0/1 [00:00<?, ?it/s]"
      ]
     },
     "metadata": {},
     "output_type": "display_data"
    },
    {
     "name": "stderr",
     "output_type": "stream",
     "text": [
      "2022-07-15 13:44:11,243 - 322050 - simpletransformers.question_answering.question_answering_model - INFO -  Converting to features started.\n"
     ]
    },
    {
     "name": "stdout",
     "output_type": "stream",
     "text": [
      "\n",
      "\t\t\t\t\t\t\t\t\tKorea Exchange to review Kyobo Life's IPO bid\t\t\t\t\t\t\t\t \n",
      "Kyobo Life Insurance headquarters in Seoul. (Kyobo Life Insurance)Kyobo Life Insurance Co. on Thursday said the country's bourse operator will begin a preliminary assessment of its initial public offering (IPO).The Korea Exchange (KRX) has said it will launch a panel to review the IPO bid of South Korea's No. 2 life insurer eight months after its filing.Kyobo Life has been pushing to go public since 2018, but opposition from its shareholders has halted the process for years.Kyobo Life Chairman and the largest stakeholder Shin Chang-jae, as well as those with special interests in the company, hold a combined 36.9 percent stake.If the IPO is successful, Kyobo Life will begin preparing for the introduction of a new accounting rule for insurance products in 2023. (Yonhap)\n",
      "\n"
     ]
    },
    {
     "name": "stderr",
     "output_type": "stream",
     "text": [
      "convert squad examples to features: 100%|██████████| 1/1 [00:00<00:00, 57.90it/s]\n",
      "add example index and unique id: 100%|██████████| 1/1 [00:00<00:00, 15534.46it/s]\n"
     ]
    },
    {
     "data": {
      "application/vnd.jupyter.widget-view+json": {
       "model_id": "fc391425048d47619f21bb5af4876e54",
       "version_major": 2,
       "version_minor": 0
      },
      "text/plain": [
       "Running Prediction:   0%|          | 0/1 [00:00<?, ?it/s]"
      ]
     },
     "metadata": {},
     "output_type": "display_data"
    },
    {
     "name": "stderr",
     "output_type": "stream",
     "text": [
      "2022-07-15 13:44:11,808 - 322050 - simpletransformers.question_answering.question_answering_model - INFO -  Converting to features started.\n"
     ]
    },
    {
     "name": "stdout",
     "output_type": "stream",
     "text": [
      "\n",
      "\t\t\t\t\t\t\t\t\t[Newsmaker] Internet-only banks lure customers with Tamagotchi-like savings accounts, digital piggy banks\t\t\t\t\t\t\t\t \n",
      "Advertisement for Toss Bank`s savings account(Toss Bank)Saving money is never fun. But when combined with a digital pet that grows alongside the size of your savings, it can be more motivating. South Korea’s three internet-only banks -- KakaoBank, K bank and Toss Bank -- have launched unique products such as Tamagotchi-like savings accounts, mobile joint accounts and digital piggy banks to lure customers attracted to the trends. Toss Bank, launched in October last year, has registered 3.6 million users in just eight months through a slew of unique savings products and digital-friendly services. One of them is a Tamagotchi-like savings account in which a user can see a randomly selected digital pet -- turtle, octopus, colt or ghost -- grow with deposits for six months. The digital pet idea has been met with booming demand, as Toss opened 100,000 new accounts within 72 hours of its launch on June 14. Users can deposit a maximum 1 million won ($773) per month for a total of six months with a yield of 3 percent. “The act of saving money requires time and patience, and we wanted to change that time into a fun experience of raising a cute pet for our users,” Toss Bank CEO Hong Min-take told reporters at a media event in Seoul on Tuesday. Toss Bank also plans to launch a joint mobile account “soon,” Hong added, which will cater to friends and groups seeking to split the bill for their favorite activities. The nation’s No. 1 internet-only bank by users, KakaoBank -- with 19.13 million users -- has rolled out various accounts and services tied to its sister company and top mobile messenger KakaoTalk. In this sense, 11.39 million users had opened one of its joint accounts as of May. KakaoTalk currently has some 45 million monthly active users in a country of about 51 million.Its short-term 26-week savings account, a rare product here, was met with high demand upon its launch on June 21, registering 150,000 new accounts within 72 hours. The bank’s piggy bank services are also a key product, allowing users to make deposits of less than 1,000 won on its mobile account daily. The bank managed some 4.35 million piggy bank accounts as of the end of April. K bank is somewhat behind its two rivals in providing unique services, but it is the only mobile bank here providing a real-name account for cryptocurrency trading. Its partnership with local crypto exchange Upbit, signed in June 2020, has helped more than triple its users from 2.19 million in 2020 to some 7 million as of end-2021. K bank’s initial public offering plans, which have been stalled for years, have been gaining pace with the firm filing for a preliminary review for listing on the Korean market with the Korea Exchange on Thursday. Its IPO is predicted to be valued at at least 6 trillion won and the firm is forecast to debut in November, according to market watchers. Korea’s internet-only banks have been expanding quickly in recent years, backed by an increase in the use of smartphones and keeping traditional lenders on their toes with user-friendly services. KakaoBank’s earnings jumped about 80 percent on-year in 2021, with net income amounting to 204.12 billion won, according to a regulatory filing. Operating profit more than doubled over the cited period to 256.94 billion won, and sales also expanded 32.4 percent on-year to 1.06 trillion won.K bank recorded a net profit of 22.4 billion won last year, swinging into the black from a net loss of 105.4 billion won the previous year. Toss Bank, being relatively new to the market, has yet to release its earnings. Its total loans stood at some 4 trillion won as of last month, with 36 percent being taken out by low- and mid-rated customers.(mkjung@heraldcorp.com)\n",
      "\n"
     ]
    },
    {
     "name": "stderr",
     "output_type": "stream",
     "text": [
      "convert squad examples to features: 100%|██████████| 1/1 [00:00<00:00, 30.21it/s]\n",
      "add example index and unique id: 100%|██████████| 1/1 [00:00<00:00, 7463.17it/s]\n"
     ]
    },
    {
     "data": {
      "application/vnd.jupyter.widget-view+json": {
       "model_id": "d660175f38ae4d0f9b25f7d9006c128a",
       "version_major": 2,
       "version_minor": 0
      },
      "text/plain": [
       "Running Prediction:   0%|          | 0/1 [00:00<?, ?it/s]"
      ]
     },
     "metadata": {},
     "output_type": "display_data"
    },
    {
     "name": "stderr",
     "output_type": "stream",
     "text": [
      "2022-07-15 13:44:12,718 - 322050 - simpletransformers.question_answering.question_answering_model - INFO -  Converting to features started.\n"
     ]
    },
    {
     "name": "stdout",
     "output_type": "stream",
     "text": [
      "\n",
      "\t\t\t\t\t\t\t\t\tKakao Pay employees each lose W20m over stock dip\t\t\t\t\t\t\t\t \n",
      "(Kakao Pay)Kakao Pay employees who own shares in their own company each lost an average 20 million won ($15,600) due to the mobile payment firm’s stock price plunge since January, reports said Sunday. The company’s employee stock ownership association purchased a total 3.4 million shares in Kakao Pay at the price of 90,000 won per share prior to its initial public offering on Nov. 3 last year, according to a regulatory filing. Documents show that some 800 employees received an average 4,005 shares each, valued at 360.4 million won at the time of the firm’s market debut. It had set the IPO price at 90,000 won per share, opened at the price of 180,000 won and closed higher at 193,000 won on its first day.But Kakao Pay employees have each lost some 20 million won after the company’s share price plunged over a slew of risks since January, the reports said. The mobile payment operator hit a 52-week-low in terms of closing price on Friday with 85,100, closing 3.73 percent lower from the previous session.Kakao Pay shares lost its rally after it was found in January that former CEO Ryu Young-joon and seven other executives offloaded 90 billion won of company shares by exercising stock option in December, only a month after the company went public. Furthermore, the firm’s second-largest shareholder Alipay dumped 5 million shares -- about 10 percent of the total stake it holds in Kakao Pay -- in a block deal, sending the payment platform operator’s price down 15.57 percent from the previous closing to 89,500 won on Wednesday. Alipay remains the second-largest shareholder, with a 34.72 percent stake in the Korean firm. Members of Kakao Pay’s employee stock ownership association are legally obligated to keep their shares until Nov. 3 this year, a year since the firm’s IPO launch. (mkjung@heraldcorp.com)\n",
      "\n"
     ]
    },
    {
     "name": "stderr",
     "output_type": "stream",
     "text": [
      "convert squad examples to features: 100%|██████████| 1/1 [00:00<00:00, 51.25it/s]\n",
      "add example index and unique id: 100%|██████████| 1/1 [00:00<00:00, 18978.75it/s]\n"
     ]
    },
    {
     "data": {
      "application/vnd.jupyter.widget-view+json": {
       "model_id": "554167d877bf410b920b99fa497cd92a",
       "version_major": 2,
       "version_minor": 0
      },
      "text/plain": [
       "Running Prediction:   0%|          | 0/1 [00:00<?, ?it/s]"
      ]
     },
     "metadata": {},
     "output_type": "display_data"
    },
    {
     "name": "stderr",
     "output_type": "stream",
     "text": [
      "2022-07-15 13:44:13,375 - 322050 - simpletransformers.question_answering.question_answering_model - INFO -  Converting to features started.\n"
     ]
    },
    {
     "name": "stdout",
     "output_type": "stream",
     "text": [
      "\n",
      "\t\t\t\t\t\t\t\t\t[Market Eye] Kakao share prices stall as company struggles to regain public trust\t\t\t\t\t\t\t\t \n",
      "Graphs showing the change in stock price for Kakao, Kakao Pay and KakaoBank (The Korea Herald)Kakao Pay shares tumbled Wednesday morning after it was reported that its second-largest shareholder Alipay was looking to sell 5 million shares -- about 10 percent of the total stake it holds in Kakao Pay -- in a block deal. The stock price of Kakao Pay fell 15.57 percent to close at 89,500 won. Despite the sell-off, the payment arm of IT giant Kakao said Alipay will continue to be a strategic investor and remain the second-largest shareholder, with 34.72 percent of Kakao Pay shares, and the two sides will carry on with their strong partnership. Experts, however, said this could be the beginning of an ugly turn of events. An analyst at a local securities firm told The Korea Herald that the risk of overhang remains with Alipay’s block deal. “Alipay holds a lot more Kakao Pay shares, so it could sell some of the remaining amount or more. This possibility of dumping off shares has a negative impact for other shareholders as it was seen in today’s price drop,” the analyst said. Park Sang-hyun, an insight provider at independent investment research network Smartkarma, pointed out that Alipay’s return on its Kakao Pay investment is 10 times, so it may be natural to realize a profit to some extent. “But the local market believes that the strategic partnership is cracking, starting with this stake sale. It is highly likely that Alipay will go through a multiphased stake sale process,” Park added. The sharp drop in Kakao Pay’s stock price marked the latest hiccup in a series of disappointments for Kakao Group in the past nine months.In June 2021, Kakao Group became South Korea’s fifth-largest business group in terms of market capitalization at 79.3 trillion won ($65.1 billion), behind the country’s traditional conglomerates: Samsung, SK, LG and Hyundai Motor Group. About a month later, Kakao founder Kim Beom-su was ranked as the richest person in the country by the Bloomberg Billionaires Index. His net worth was estimated at $13.4 billion. The report said Kim was an exemplary case of how a self-made entrepreneur could succeed in Asia’s fourth-largest economy, which has long been dominated by its family-controlled conglomerates.The tech giant, which rose to prominence with its messenger app KakaoTalk, climbed up the ladder through aggressive expansion of businesses. At the end of the first half of 2021, Kakao had over 150 subsidiaries and affiliates in and out of the country. However, the platform behemoth’s heyday did not last long. The company -- once touted for the legendary tale of its self-made entrepreneur founder and the success of technological innovation in the 21st century -- has undergone a series of blunders and setbacks in recent months. In September, Kakao’s people-friendly image first faced criticism over the company’s rapid expansion, said to have driven small merchants out of business. That led to Kakao’s pledge to pull back some of the company’s services in industries such as snacks and flower delivery.To avert public criticism, Kakao vowed to create a fund of 300 billion won to support small firms and the self-employed, but its misfortunes continued.In the same month, the founder’s investment company K Cube Holdings -- the de facto holding company of Kakao -- was accused of having private interests as well as the illegal succession of family members in employment. More allegations piled on, as K Cube Holdings was accused of fabricating regulatory documents.Kim later apologized at a National Assembly state audit, saying the investment company would change to be committed to social responsibilities.A series of megasized initial public offering deals that further raised Kakao’s market profile, ironically, exposed the root cause for its downfall.A mass sale of Kakao Pay shares by executives including Ryu Young-joon, the then-appointee for Kakao’s next co-CEO, struck the company hard in January.Ryu, who was CEO of Kakao’s mobile payment unit Kakao Pay, was found to have exercised his stock option to sell company shares in December, only a month after the company’s listing. Through this, he and several senior executives collected a total profit of almost 90 billion won, with Ryu taking about half of the gains. Kakao saw fierce backlash from the company’s labor union, retail investors and the general public as the executives raked in massive profits at the expense of investors. Combined with the group’s hasty expansion that had hit small businesses last year, the irresponsible money-making decision raised concerns over whether the IT group could maintain accountable corporate governance. Kakao released an apology, vowing to ban CEOs and executives at its subsidiaries from selling company shares within one to two years after being listed on the market through setting up a new control tower. In March, Kim resigned from his chairman post of the board of directors, leaving behind ailing stock prices and loss of trust among investors.   Kakao’s stock price, which hit as high as 169,500 won per share at the close of June 23, 2021, has halved to a little over 80,000 won per share almost a year later. The stock prices of Kakao Pay and KakaoBank have also suffered similar or worse downfalls, losing trillions of won in the process. On top of losing confidence from the market, the IT giant has irked its own crew.Last week, Kakao unveiled its new “metaverse” working system where employees could basically work wherever they want. The seemingly future-oriented scheme, however, was met with internal resistance from employees, as the new system would require being connected online through a voice channel at all times. Kakao workers expressed concerns and discontent on an in-house online community space, saying the new policy was as an attempt to spy on employees. Kakao CEO Namkoong Whon later said in an announcement to staff that being connected to the voice channel would be decided by crew members in different groups or work areas, but did not scrap the plan. Regarding the implementation of a mandatory working time from 1 p.m. to 5 p.m., he said the company will reconsider the plan through communication with staff. Without working on mending ties with stakeholders in and out of the company, Kakao instead unveiled its new vision, “Kakao Universe,” on Tuesday, saying it wants to go beyond Korea. The CEO said they will look to reach 5 billion people across the world through open links that connect them based on their interests instead of targeting South Korea’s 50 million domestic users. But if Kakao cannot redeem itself as the people-friendly company it once was with the rise of its dominant messenger app, experts say it will be difficult for the company to win back people’s hearts and bounce back. “I think Kakao’s stock prices are not doing well due to its subsidiaries going public. Naver has only one entity in the bourse, but Kakao’s other firms have been listed and this has cemented Kakao’s image as a firm that conducts (IPOs) to sell shares to make money,” an analyst at a local private equity firm told The Korea Herald. “Kakao’s growth has been done through mergers and acquisitions, as well as some unethical moves such as taking the business of small merchants. Its corporate governance is also seemingly abominable,” he added.By Kan Hyeong-woo (hwkan@heraldcorp.com)\n",
      "\n"
     ]
    },
    {
     "name": "stderr",
     "output_type": "stream",
     "text": [
      "convert squad examples to features: 100%|██████████| 1/1 [00:00<00:00, 15.45it/s]\n",
      "add example index and unique id: 100%|██████████| 1/1 [00:00<00:00, 18078.90it/s]\n"
     ]
    },
    {
     "data": {
      "application/vnd.jupyter.widget-view+json": {
       "model_id": "93f1feb91fd24fc7bc863c9c2a0dfdab",
       "version_major": 2,
       "version_minor": 0
      },
      "text/plain": [
       "Running Prediction:   0%|          | 0/1 [00:00<?, ?it/s]"
      ]
     },
     "metadata": {},
     "output_type": "display_data"
    },
    {
     "name": "stderr",
     "output_type": "stream",
     "text": [
      "2022-07-15 13:44:14,494 - 322050 - simpletransformers.question_answering.question_answering_model - INFO -  Converting to features started.\n"
     ]
    },
    {
     "name": "stdout",
     "output_type": "stream",
     "text": [
      "\n",
      "\t\t\t\t\t\t\t\t\tE-book platform Millie’s Library to go public by end of 2022\t\t\t\t\t\t\t\t \n",
      "Corporate logo of Millie’s Library (Millie’s Library)Millie’s Library, one of South Korea’s largest e-book subscription platform, said Sunday that it is set for a market debut by the end of this year.The company filed a preliminary prospectus on Friday stating that it will offer 2 million common shares out of the total 8,234,901 shares. If the initial public offering process goes as planned, it will be the country’s first e-book platform to go public.Its shares are poised to start trading on the Korea Exchange’s secondary Kosdaq. The lead manager of the envisioned IPO is Mirae Asset Securities.The corporate value of Millie’s Library is estimated to be around 300 billion won ($239 million), according to market insiders.With funds raised from the IPO, the company plans to invest in the production of original book content as well as other content.The company’s sales revenue surged on-year by 61 percent to 28.9 billion won last year. However, it posted an operating loss of 34.8 billion won, and has still not turned a profit.Millie’s Library has been seeking to accelerate growth momentum after it was acquired by Genie Music, the music streaming platform under KT, in 2021. Genie Music currently holds 39 percent of the shares of the company.Working with the KT artificial intelligence business unit, the e-book platform plans to create synergy with an AI-based audio platform to produce more content, including audiobooks.Last year, Seo Young-taek, CEO of Millie’s Library, said if the company’s intellectual property-based business model is well received, its value will exceed the 500 billion won of Radish, the US webtoon platform acquired by Kakao Entertainment. In the long term, the company looks to achieve more than 1 trillion won in value, Seo added.But concerns loom over the e-book platform’s debut amid a lackluster IPO market and an ongoing slump in platform giants such as Naver and Kakao, industry sources said. Naver’s stock price has traded below 300,000 won since late April, while Kakao is also showing sluggish movement between 80,000 and 90,000 won in the citied period.“The company has grown exponentially to become the country’s largest online library platform in just six years. Based on our vision -- ‘become friends with an unlimited number of books’ -- we will expand the presence in the book content market,” Seo said in a statement. Launched in 2017, Millie’s Library services 110,000 e-books through 1,400 publishers as of May. The company is the first here to provide an e-book subscription service. It produces audiobooks, “chat books,” which are books re-created in a chatting format, and audio dramas.By Byun Hye-jin (hyejin2@heraldcorp.com)\n",
      "\n"
     ]
    },
    {
     "name": "stderr",
     "output_type": "stream",
     "text": [
      "convert squad examples to features: 100%|██████████| 1/1 [00:00<00:00, 35.57it/s]\n",
      "add example index and unique id: 100%|██████████| 1/1 [00:00<00:00, 9279.43it/s]\n"
     ]
    },
    {
     "data": {
      "application/vnd.jupyter.widget-view+json": {
       "model_id": "593a402fa4054c1abc33b75ccc5d40d2",
       "version_major": 2,
       "version_minor": 0
      },
      "text/plain": [
       "Running Prediction:   0%|          | 0/1 [00:00<?, ?it/s]"
      ]
     },
     "metadata": {},
     "output_type": "display_data"
    },
    {
     "name": "stderr",
     "output_type": "stream",
     "text": [
      "2022-07-15 13:44:15,166 - 322050 - simpletransformers.question_answering.question_answering_model - INFO -  Converting to features started.\n"
     ]
    },
    {
     "name": "stdout",
     "output_type": "stream",
     "text": [
      "\n",
      "\t\t\t\t\t\t\t\t\tTaiwan’s Fubon Financial becomes third-largest shareholder in Hyundai Card\t\t\t\t\t\t\t\t \n",
      "Hyundai Card headquarters in Seoul (Hyundai Card)Taiwanese banking giant Fubon Financial on Friday raised its stake in South Korea’s Hyundai Card to nearly 20 percent, expanding its clout over management of the card issuer. Fubon Financial is now the card issuer’s third-largest shareholder with 19.98 percent after Hyundai Motor with 36.96 percent and Hyundai Commercial with 28.56 percent. Kia Corp. is the fourth-largest stakeholder with 11.48 percent. The latest announcement puts a final stamp on the exit of a consortium led by Hong Kong-based private equity firm Affinity Equity Partners from the card issuer, which previously owned a 24 percent threshold. Since last year, Affinity had sold its some 20 percent stake to Fubon Financial’s commercial banking unit Fubon Bank and life insurer Fubon Life Insurance for roughly 520 billion won ($409 million). The remaining 4 percent stake was sold to Hyundai Commercial. The move comes four years after the consortium bought the same number of shares for 380 billion won. It also effectively nullifies the Affinity’s initial request made in 2017 for Hyundai Card to complete its initial public offering within four years of the stake purchase, indefinitely delaying the possible listing. “There are no immediate plans for an IPO,” Hyundai Card said in a statement in the day. Early this year, Hyundai Card’s two outside directors from Affinity left their posts to be replaced by Douglas Tsai, management associate at Fubon Financial Holding. The company is expected to fill the vacant post with another Fubon official. “Fubon Financial has highly regarded Hyundai Card’s potential to further grow as a private label credit card issuer alongside our data science and branding skills as our strategic investor,” the card issuer said in a statement. A private label credit card is a credit card that offers more benefits for use at a specific brand‘s stores. Fubon Financial was founded in 1961 with multiple subsidiaries including Fubon Life, Taipei Fubon Bank, Fubon Securities, Fubon Asset Management and more. As of the end of 2021, Fubon Financial Holdings had unaudited net assets of $10.51 trillion. At the end of 2015, Fubon Life purchased a 48 percent stake in Hyundai Life Insurance, to rebrand it as Fubon Hyundai Life.Hyundai Card’s net profit in the first three months of this year declined 4 percent on-year to 76.9 billion won, according to regulatory filing.By Jung Min-kyung (mkjung@heraldcorp.com)\n",
      "\n"
     ]
    },
    {
     "name": "stderr",
     "output_type": "stream",
     "text": [
      "convert squad examples to features: 100%|██████████| 1/1 [00:00<00:00, 38.83it/s]\n",
      "add example index and unique id: 100%|██████████| 1/1 [00:00<00:00, 14716.86it/s]\n"
     ]
    },
    {
     "data": {
      "application/vnd.jupyter.widget-view+json": {
       "model_id": "59a5706b78e8439da6ce1499a216e676",
       "version_major": 2,
       "version_minor": 0
      },
      "text/plain": [
       "Running Prediction:   0%|          | 0/1 [00:00<?, ?it/s]"
      ]
     },
     "metadata": {},
     "output_type": "display_data"
    },
    {
     "name": "stderr",
     "output_type": "stream",
     "text": [
      "2022-07-15 13:44:15,839 - 322050 - simpletransformers.question_answering.question_answering_model - INFO -  Converting to features started.\n"
     ]
    },
    {
     "name": "stdout",
     "output_type": "stream",
     "text": [
      "\n",
      "\t\t\t\t\t\t\t\t\tOne Store pulls IPO plan, SK Square pressured to change course\t\t\t\t\t\t\t\t \n",
      "A promotional image of One Store app store (One Store)South Korea’s homegrown mobile app store operator One Store has dropped its plan to go public amid poor stock market conditions, the company said Wednesday.One Store’s decision comes a day after a book building of institutional investors wrapped up, in which the offering price of a common share was below its suggested price band, at between 34,300 won ($26.9) and 41,700 won apiece. The figures have estimated One Store’s equity value at between 910 billion won and 1.1 trillion won. The decision came in contrast with the company officials’ pledge to proceed with the IPO at all costs, as expressed in a press conference Monday. Officials including Chief Executive Officer Lee Jae-hwan touted One Store as a challenger in the app store market globally dominated by Google and Apple. One Store said in a statement the decision is attributable to “heightening macroeconomic uncertainties that sapped investor sentiment in the stock market,” despite “positive feedback on the company fundamentals” by institutional investors.One Store’s announcement marks the sixth of its kind, following companies including its sister company SK Shieldus and corrugated cardboard maker Tailim Paper.One Store’s shareholders include Korean internet giant Naver, US tech giant Microsoft and Germany’s Deutsche Telekom, in addition to SK Square.Accordingly, its parent SK Square is pressured to change courses from its plan to enhance corporate value through a soft landing of its subsidiaries on the stock market. SK Shieldus, a security services subsidiary of the investment body, also withdrew its bid to go public on Friday. The decision, combined with One Store’s case, is casting a shadow on SK Square’s plan to list more subsidiaries including e-commerce arm 11st. SK Square’s share price hit yet another all-time low. Its shares fell 3.25 percent Wednesday. The market cap of SK Square nearly halved to 6.3 trillion won from the highest point in late November, as soon as the company was spun off from Korea’s largest mobile carrier SK Telecom. (consnow@heraldcorp.com)\n",
      "\n"
     ]
    },
    {
     "name": "stderr",
     "output_type": "stream",
     "text": [
      "convert squad examples to features: 100%|██████████| 1/1 [00:00<00:00, 50.04it/s]\n",
      "add example index and unique id: 100%|██████████| 1/1 [00:00<00:00, 13888.42it/s]\n"
     ]
    },
    {
     "data": {
      "application/vnd.jupyter.widget-view+json": {
       "model_id": "0285d63519ae415aaeb176c43c9813c2",
       "version_major": 2,
       "version_minor": 0
      },
      "text/plain": [
       "Running Prediction:   0%|          | 0/1 [00:00<?, ?it/s]"
      ]
     },
     "metadata": {},
     "output_type": "display_data"
    },
    {
     "name": "stderr",
     "output_type": "stream",
     "text": [
      "2022-07-15 13:44:16,520 - 322050 - simpletransformers.question_answering.question_answering_model - INFO -  Converting to features started.\n"
     ]
    },
    {
     "name": "stdout",
     "output_type": "stream",
     "text": [
      "\n",
      "\t\t\t\t\t\t\t\t\tYoon likely to expand loan support for ‘vulnerable’ groups\t\t\t\t\t\t\t\t \n",
      "President Yoon Suk-yeol at the National Assembly. (Yonhap)The Yoon Suk-yeol government is looking to make it easier for “vulnerable groups” to take out loans to follow through on his campaign promise, while offering better protection to consumers from predatory lending and unfair corporate practices.The groups refer to self-employed people, small business owners, first-time home buyers and those fresh out of college who the government says need more financial support than all the others. COVID fallout and runaway housing prices have put them in greater focus.“We have yet to receive a clear directive on details but given what’s been said so far, we expect expanding support for the financially challenged groups,” an official at the Financial Services Commission said.The official was referring to Yoon’s “Target 110,” an agenda laying out 110 goals Yoon has given priority. Yoon’s office revealed it last week ahead of Yoon’s swearing in on Tuesday.Financial authorities are preparing concrete steps, such as offering more favorable interest rates, rolling over maturing loans and reducing debts for the self-employed and small businesses to help them recoup losses caused by COVID-19.For first-time home buyers and those seeking to open and expand their savings account from their first job, the government is considering partially easing a long set of mortgage rules and allowing more favorable terms on the savings accounts.Meanwhile, the Yoon government is expected to put a greater check on banks seeking to inflate interest rates -- a complaint consumers have long filed with authorities.Financial services companies would also face a higher burden of proof for any security breaches that violate consumers’ interests, according to authorities. Banks have long been accused of shifting the burden of proof to consumers or regulators to reduce damages to pay.Authorities added that they will deal with unfair corporate practices, referring to a contentious spinoff LG Chem carried out and the stock options row at Kakao Pay, which all took place in January this year.Individual investors holding shares in LG Chem, which wholly owned LG Energy Solution before the world’s second-largest battery maker went public in what was Korea’s record listing, cried foul over the lack of regulation for what they saw as a corporate practice that unfairly diluted their share value. A similar spinoff also took place to float Kakao Pay, a payment arm of Korea’s leading chat app operator Kakao Corp., which is one of the two internet giants along with Naver.But it was a stock price fall that brought down the CEO at Kakao Pay, where the senior management including the CEO exercised stock options a month after the initial public offering, causing what investors called an “unwarranted dip” in stock prices. The bourse operator have had to roll out rules to oversee spinoff IPOs done by large-cap companies and lockup periods on executives looking to offload shares following an IPO, when shares could potentially run higher than expected on investor optimism. Such rule change is one of many to come to level the playing field for consumers, authorities said.By Choi Si-young (siyoungchoi@heraldcorp.com)\n",
      "\n"
     ]
    },
    {
     "name": "stderr",
     "output_type": "stream",
     "text": [
      "convert squad examples to features: 100%|██████████| 1/1 [00:00<00:00, 37.47it/s]\n",
      "add example index and unique id: 100%|██████████| 1/1 [00:00<00:00, 10894.30it/s]\n"
     ]
    },
    {
     "data": {
      "application/vnd.jupyter.widget-view+json": {
       "model_id": "dfb05965329a4d6fbeb6e2811225ee79",
       "version_major": 2,
       "version_minor": 0
      },
      "text/plain": [
       "Running Prediction:   0%|          | 0/1 [00:00<?, ?it/s]"
      ]
     },
     "metadata": {},
     "output_type": "display_data"
    },
    {
     "name": "stderr",
     "output_type": "stream",
     "text": [
      "2022-07-15 13:44:17,240 - 322050 - simpletransformers.question_answering.question_answering_model - INFO -  Converting to features started.\n"
     ]
    },
    {
     "name": "stdout",
     "output_type": "stream",
     "text": [
      "\n",
      "\t\t\t\t\t\t\t\t\tOne Store out to challenge Google, Apple app store monopolies with IPO\t\t\t\t\t\t\t\t \n",
      "One Store CEO Lee Jae-hwan delivers a presentation at a press conference in Seoul, Monday. (One Store)South Korea’s homegrown app marketplace One Store aims to challenge Google and Apple, two US tech giants that enjoy a near-monopoly in the whopping 300 trillion won ($235 billion) app store market globally, with its forthcoming stock market debut here. One Store, the nation’s sole operator of an app store of the same name, is a merged entity of the nation’s four app stores that was previously operated separately by SK Telecom, KT, LG Uplus and Naver. Now it is an affiliate of SK Square, SK Group’s investment unit.In its push for global expansion, it plans to secure a footing first in Southeast Asian countries and Taiwan by the end of this year, and then Europe and North America in the long run. “Korea is the only app store market in the world which made its way out of an app store monopoly,” One Store Chief Executive Officer Lee Jae-hwan told a news conference in Seoul Monday. “To the global market, One Store is close to being among the only options, given the time and cost it takes for a country to create a new app store from scratch.”Lee cited an estimate by IGAWorks Mobile Index that showed One Store beat Apple with 13.8 percent of market share in 2021 and trailed just behind Google. The company also estimated the total transactions on its marketplace at 1.13 trillion won through 2021, exceeding the 1 trillion won per year mark for the first time. Moreover, One Store will benefit from the world’s efforts to break the app store monopoly and its own localization efforts. There are bills pending designed to curtail tech giants’ monopolistic behavior, such as the Open App Markets Act in the United States and the Digital Market Act in the European Union. These bills are expected to open up a new opportunity to the Korean marketplace, dedicated to mobile gaming apps, media content like webtoons and gaming gear, Lee said.Also, One Store charges customers lower commission fees for users compared with Google and Apple at home. The same policy will be applied to the overseas market, according to Lee. Moreover, One Store will support a wider range of payment options including vouchers, bank-to-bank transfers and prepaid cards. “We are seeing a strong pressure worldwide to open the doors to new app store operators, and we expect the entry barrier to disappear by late this year or early next year,” Lee said. Part of the cost for its overseas expansion will come from its initial public offering later this month, which could fetch up to 277.7 billion won. Immediately after the IPO, its market cap is expected to stand at up to 1.1 trillion won. This comes despite the unfavorable macroeconomic conditions and investors’ resulting flight to safety that have weighed down on the stock market. Its sister company SK Shieldus, a cybersecurity service company, withdrew from its bid to offer shares to the public on Friday. The company cited “jittery” market sentiment as its book building drew lackluster attention from institutional investors, reeling from macroeconomic concerns such as Russia‘s invasion of Ukraine and the US interest rate hike to fight inflation.Both SK Shieldus and One Store are controlled by SK Square, a carveout of Korea’s largest mobile carrier SK Telecom. SK Square’s share price hit an all-time low as it fell 5.3 percent on Monday. A One Store official said the company will go on to proceed with the IPO at all costs, considering the low IPO price at nearly the purchase price set in a $15 million equity investment by Deutsche Telekom Capital Partners, a joint investment body by Microsoft and Deutsche Telekom.“We think it is the right timing to do the IPO. If we don’t we are losing the opportunity to grow our global presence,” One Store Chief Financial Officer Kim Sang-don said. One Store has never been in the black since it was founded in 2016. The company in 2021 recorded a 5.8 billion won operating loss, up over fivefold in a year. Kim anticipated a turnaround in 2022 with some 5 billion won operating profit.(consnow@heraldcorp.com)\n",
      "\n"
     ]
    },
    {
     "name": "stderr",
     "output_type": "stream",
     "text": [
      "convert squad examples to features: 100%|██████████| 1/1 [00:00<00:00, 20.80it/s]\n",
      "add example index and unique id: 100%|██████████| 1/1 [00:00<00:00, 17189.77it/s]\n"
     ]
    },
    {
     "data": {
      "application/vnd.jupyter.widget-view+json": {
       "model_id": "f66723380509442b95eca30de28c65b8",
       "version_major": 2,
       "version_minor": 0
      },
      "text/plain": [
       "Running Prediction:   0%|          | 0/1 [00:00<?, ?it/s]"
      ]
     },
     "metadata": {},
     "output_type": "display_data"
    },
    {
     "name": "stderr",
     "output_type": "stream",
     "text": [
      "2022-07-15 13:44:18,065 - 322050 - simpletransformers.question_answering.question_answering_model - INFO -  Converting to features started.\n"
     ]
    },
    {
     "name": "stdout",
     "output_type": "stream",
     "text": [
      "\n",
      "\t\t\t\t\t\t\t\t\tUS Fed’s rate hikes pose dilemma for S. Korea\t\t\t\t\t\t\t\t \n",
      "US Federal Reserve Chairman Jerome Powell speaks during a news conference in Washington on May 4. The Federal Reserve on Wednesday raised the benchmark lending rate by a half percentage point in its ongoing effort to contain the highest inflation in four decades. (AFP)The US Federal Reserve’s biggest rate hike in 22 years poses a dilemma for South Korea’s central bank in adjusting the pace of its monetary tightening and for local businesses seeking to go public, experts said Friday.The Fed’s decision to raise its base rate by half a percentage point on Wednesday (Eastern Standard Time) that set its target federal funds rate to a range between 0.75 percent and 1 percent has presented new hurdles for the Bank of Korea, which is wary of the growing risks tied to capital outflow and a strong dollar trend. In the past, a higher base interest rate in the US has led to a weakening of the Korean won and capital outflow. Recently-appointed BOK Gov. Rhee Chang-yong expressed concerns last month that the higher US base rate could result in higher inflationary pressure here due to the won’s weakening. JP Morgan said in its Wednesday note that it noted a more hawkish-than-expected tone in the BOK’s April monetary policy meeting minutes, indicating the central bank is considering adopting a faster-than-expected monetary tightening timeline. “The minutes bolstered the risk case of a higher terminal rate than our previous expectation of 2.25 percent that we highlighted in our previous note,” the note said. The global banking group now forecast the BOK’s base rate to be raised to 2.5 percent by the end of the year. However, the BOK is also trying to hit the brakes on snowballing household debt, and a higher benchmark interest rate would lead to a heavier burden on debt repayment for households. “The BOK could take a ‘big step’ in May and July under the scenario of healthy exports and consumer spending, but it’s not that easy for them at the moment,” Joo Won, a senior economist at the Hyundai Research Institute said.“The household debt, which has increased to 1.862 quadrillion won ($1.46 trillion) as of end-2021, and risks that lead to an economic recession poses as major hurdles,” he added. The BOK’s benchmark interest rate currently stands at 1.5 percent after its policy board voted to a quarter percentage point rate hike last month. It marked the central bank’s fourth pandemic-era rate hike, after it ended more than a year of a record-low interest rate in August last year. The BOK’s next monetary policy board meeting is scheduled for May 26.Alongside the BOK, the Korean stock market was hit by the Fed’s latest move. SK shieldus, the cybersecurity arm of South Korean telecom giant SK Telecom, reportedly scrapped its plans for an initial public offering amid increased market volatilities due to the Fed’s “big step” rate hike. The firm received a lukewarm response from domestic and foreign institutional investors during a two-day demand forecasting session held Tuesday and Wednesday, dampening its original plan to raise up to 3.55 trillion won through its IPO initially scheduled for May 19. While volatilities are likely to continue, some analysts say that the local market has already absorbed the risks stemming from the Fed’s monetary tightening, painting a rosier-than-expected picture. “The market has preemptively absorbed the risks stemming from the US Fed’s hawkish moves, and the assessment of our stocks have fallen to the level during the 2008 financial crisis,” Samsung Securities analyst Jeong Myung-ji said.“Excluding stocks that are more vulnerable towards interest rates, the effects of the US Fed’s rate hikes on the Korean stock market are likely to be weak,” Jeong added.Korea’s benchmark Kospi closed 1.23 percent lower from the previous session at 2,644.51 on Friday, with foreigners offloading 357.9 billion won.By Jung Min-kyung (mkjung@heraldcorp.com)\n",
      "\n"
     ]
    },
    {
     "name": "stderr",
     "output_type": "stream",
     "text": [
      "convert squad examples to features: 100%|██████████| 1/1 [00:00<00:00, 23.73it/s]\n",
      "add example index and unique id: 100%|██████████| 1/1 [00:00<00:00, 16644.06it/s]\n"
     ]
    },
    {
     "data": {
      "application/vnd.jupyter.widget-view+json": {
       "model_id": "ddf8832cd2e34c9d8a3eea8dab436edd",
       "version_major": 2,
       "version_minor": 0
      },
      "text/plain": [
       "Running Prediction:   0%|          | 0/1 [00:00<?, ?it/s]"
      ]
     },
     "metadata": {},
     "output_type": "display_data"
    },
    {
     "name": "stderr",
     "output_type": "stream",
     "text": [
      "2022-07-15 13:44:18,887 - 322050 - simpletransformers.question_answering.question_answering_model - INFO -  Converting to features started.\n"
     ]
    },
    {
     "name": "stdout",
     "output_type": "stream",
     "text": [
      "\n",
      "\t\t\t\t\t\t\t\t\tSK Shieldus withdraws IPO on jittery market sentiment\t\t\t\t\t\t\t\t \n",
      "The corporate logo of SK Shieldus (SK Shieldus)SK Shieldus, the South Korean security service subsidiary of SK Group’s ICT arm SK Square, said on Friday that it has scrapped its plans for market debut, citing dampened investor sentiment.“We have submitted a delisting notice to the Financial Supervisory Service because the recent demand forecasting, which decides initial public offering prices, showed that our corporate value may not be well received,” the company said.Stressing that market sentiment has turned sour following global economic uncertainties, the company added it will restart the IPO process when market conditions improve.But Industry insiders say the sluggish demand for SK Shieldus’ IPO comes as the company’s corporate value is said to be overrated. The company was aiming to attract up to 3.55 trillion won ($2.79 billion) through the IPO, which was slated for May 19.In the course of calculating its IPO price, the company compared average stock prices of local security service providers like S-1 Corp., Taiwan Secom Co., AhnLab and Cyberone.However, AhnLab, the IT security firm founded by Ahn Cheol-soo -- the leader of the transition committee for President-elect Yoon Suk-yeol -- had seen an unusual spike in its stock price during March. Before logging a record high of 218,500 won, the stock price has averaged around only 70,000 won. If AhnLab had been eliminated from the calculation, the IPO price of SK Shieldus couldn’t have been that high, sources said.“Although SK Shieldus lags behind S-1, a bellwether security firm, in both sales revenue and profit, the company had sought to raise even higher market cap than the rival,” said Choi Nam-gon, researcher at Yuanta Securities, in a report.Choi added that of the 27.1 million shares the company aims to float, almost half of them will go to Blue Security Investment -- a special purpose company of Macquarie Finance Korea and the second largest shareholder -- since it is selling some of the existing shares to the public in order to cash them.Sources say SK Shieldus’ sudden withdrawal of IPO may have a negative impact on the market debut of SK Square’s other affiliate, One Store. The mobile app marketplace operator plans to go public later this year.Meanwhile, SK Shieldus became the first SK Group affiliate to have failed in making mega-sized deals like those made by SK Biopharmaceuticals, SK Bioscience, SK IE Technology Co. and SK REIT.SK Shieldus, formerly known as ADT Caps, changed its name in October last year, seeking to transform into a comprehensive life care platform. The company currently provides services on cybersecurity, convergence security, physical security, and safety and care in both real world and virtual communities. Last November, the company was spun off from Korea’s largest telecom carrier SK Telecom.By Byun Hye-jin (hyejin2@heraldcorp.com)\n",
      "\n"
     ]
    },
    {
     "name": "stderr",
     "output_type": "stream",
     "text": [
      "convert squad examples to features: 100%|██████████| 1/1 [00:00<00:00, 40.88it/s]\n",
      "add example index and unique id: 100%|██████████| 1/1 [00:00<00:00, 13273.11it/s]\n"
     ]
    },
    {
     "data": {
      "application/vnd.jupyter.widget-view+json": {
       "model_id": "22bc1dbf9ae74ab9bca66ba98cc6224b",
       "version_major": 2,
       "version_minor": 0
      },
      "text/plain": [
       "Running Prediction:   0%|          | 0/1 [00:00<?, ?it/s]"
      ]
     },
     "metadata": {},
     "output_type": "display_data"
    },
    {
     "name": "stderr",
     "output_type": "stream",
     "text": [
      "2022-07-15 13:44:19,562 - 322050 - simpletransformers.question_answering.question_answering_model - INFO -  Converting to features started.\n"
     ]
    },
    {
     "name": "stdout",
     "output_type": "stream",
     "text": [
      "\n",
      "\t\t\t\t\t\t\t\t\tSK shieldus scraps IPO plans on poor market sentiment\t\t\t\t\t\t\t\t \n",
      "SK Shieldus CEO Park Jin-hyo speaks at a virtual press conference in Seoul on Tuesday. (SK Shieldus)South Korean cybersecurity service provider SK shieldus Co. withdrew its plans for an initial public offering (IPO) Friday, citing lackluster investor confidence.SK shieldus, the cybersecurity arm of South Korean telecom giant SK Telecom Co., said it had submitted a delisting notice to the Financial Supervisory Service the same day, about a month after reporting an IPO plan in late March.The decision came as the company received lackluster response from domestic and foreign institutional investors during a two-day demand forecasting session Tuesday through Wednesday amid growing uncertainty over the global economy.\"SK shieldus decided to shelve its listing, as demand forecasting for the final IPO price showed its corporate value may not be assessed in a proper way,\" the company said in a statement.After factoring in market conditions down the road, SK shieldus will again push for an IPO at an appropriate time when the company is capable of receiving proper assessment from investors, it added.SK shieldus had sought to raise up to 3.55 trillion won ($2.79 billion) through the IPO originally slated for May 19, in what could have been the biggest ever market debut by a local security service provider.SK shieldus, which changed its name from ADT Caps Co. last October, currently provides security services across four main categories -- cybersecurity, convergence security, physical security, and safety and care.Last year, the company chalked off 1.55 trillion won in sales, trailing its rival S-1 Corp. under South Korea's top conglomerate Samsung Group, whose top line came to 2.31 trillion won.SK shieldus is the fourth South Korean company that has backpedaled on IPO plans so far this year. In late January, Hyundai Engineering Co., the construction arm of Hyundai Motor Group, withdrew its plan to get its stocks listed on the country's main bourse due to adverse market conditions.In mid-March, Voronoi Inc., which manufactures kinase inhibitor and other new drugs, terminated its plan to list its shares on the country's tech-laden minor stock market amid sluggish investor interest, with renewable energy firm Daemyoung Energy Inc. recently following suit for the same reason. (Yonhap)By Kim Young-won (wone0102@heraldcorp.com)\n",
      "\n"
     ]
    },
    {
     "name": "stderr",
     "output_type": "stream",
     "text": [
      "convert squad examples to features: 100%|██████████| 1/1 [00:00<00:00, 51.21it/s]\n",
      "add example index and unique id: 100%|██████████| 1/1 [00:00<00:00, 13662.23it/s]\n"
     ]
    },
    {
     "data": {
      "application/vnd.jupyter.widget-view+json": {
       "model_id": "9a97e798fe9c421798c26fa2db7fa3c0",
       "version_major": 2,
       "version_minor": 0
      },
      "text/plain": [
       "Running Prediction:   0%|          | 0/1 [00:00<?, ?it/s]"
      ]
     },
     "metadata": {},
     "output_type": "display_data"
    },
    {
     "name": "stderr",
     "output_type": "stream",
     "text": [
      "2022-07-15 13:44:20,246 - 322050 - simpletransformers.question_answering.question_answering_model - INFO -  Converting to features started.\n"
     ]
    },
    {
     "name": "stdout",
     "output_type": "stream",
     "text": [
      "SoftBank plans additional London listing for Arm IPO SoftBank Group is planning to list some of its stake in chip designer Arm on the London Stock Exchange, switching from an earlier plan to only use the U.S. market, according to people familiar with the matter.The Japanese company is adjusting plans for an initial public offering of its chip technology division and will likely still list the majority of what it offers for trading on U.S. exchanges, according to the people, who asked not to be identified because the matter hasn’t been made public. The size and timing of the sale hasn’t been finalized and plans for the listing still may change, according to the people.This could be due to a conflict with your ad-blocking or security software.Please add japantimes.co.jp and piano.io to your list of allowed sites. If this does not resolve the issue or you are unable to add the domains to your allowlist, please see this support page. We humbly apologize for the inconvenience.\n"
     ]
    },
    {
     "name": "stderr",
     "output_type": "stream",
     "text": [
      "convert squad examples to features: 100%|██████████| 1/1 [00:00<00:00, 79.78it/s]\n",
      "add example index and unique id: 100%|██████████| 1/1 [00:00<00:00, 8004.40it/s]\n"
     ]
    },
    {
     "data": {
      "application/vnd.jupyter.widget-view+json": {
       "model_id": "0c2eaa28dac2456fbcab7e99196e0eff",
       "version_major": 2,
       "version_minor": 0
      },
      "text/plain": [
       "Running Prediction:   0%|          | 0/1 [00:00<?, ?it/s]"
      ]
     },
     "metadata": {},
     "output_type": "display_data"
    },
    {
     "name": "stderr",
     "output_type": "stream",
     "text": [
      "2022-07-15 13:44:20,769 - 322050 - simpletransformers.question_answering.question_answering_model - INFO -  Converting to features started.\n"
     ]
    },
    {
     "name": "stdout",
     "output_type": "stream",
     "text": [
      "\n",
      "\n",
      "\t\tCorporate\t\n",
      " SoftBank Group Corp. expects to retain a controlling stake in Arm Ltd. after the planned initial public offering of the chip business, selling a smaller portion than originally expected, according to people familiar with the matter.SoftBank opted for an IPO of Arm, which it acquired in 2016, after a plan to sell the business to Nvidia Corp. collapsed earlier this year. SoftBank has decided that selling a smaller portion of Arm now, given the current slump in chip stocks, provides the opportunity to get a higher valuation for the remainder later, according to one of the people, who asked not to be identified because the plan isn’t yet public.This could be due to a conflict with your ad-blocking or security software.Please add japantimes.co.jp and piano.io to your list of allowed sites. If this does not resolve the issue or you are unable to add the domains to your allowlist, please see this support page. We humbly apologize for the inconvenience.\n"
     ]
    },
    {
     "name": "stderr",
     "output_type": "stream",
     "text": [
      "convert squad examples to features: 100%|██████████| 1/1 [00:00<00:00, 109.60it/s]\n",
      "add example index and unique id: 100%|██████████| 1/1 [00:00<00:00, 10565.00it/s]\n"
     ]
    },
    {
     "data": {
      "application/vnd.jupyter.widget-view+json": {
       "model_id": "387d3a03efec4ca3a02d292a2addc8af",
       "version_major": 2,
       "version_minor": 0
      },
      "text/plain": [
       "Running Prediction:   0%|          | 0/1 [00:00<?, ?it/s]"
      ]
     },
     "metadata": {},
     "output_type": "display_data"
    },
    {
     "name": "stderr",
     "output_type": "stream",
     "text": [
      "2022-07-15 13:44:21,279 - 322050 - simpletransformers.question_answering.question_answering_model - INFO -  Converting to features started.\n"
     ]
    },
    {
     "name": "stdout",
     "output_type": "stream",
     "text": [
      "Sky's the limit: Tokyo startup to sell flying bike overseas SoftBank Group Corp. expects to retain a controlling stake in Arm Ltd. after the planned initial public offering of the chip business, selling a smaller portion than originally expected, according to people familiar with the matter.SoftBank opted for an IPO of Arm, which it acquired in 2016, after a plan to sell the business to Nvidia Corp. collapsed earlier this year. SoftBank has decided that selling a smaller portion of Arm now, given the current slump in chip stocks, provides the opportunity to get a higher valuation for the remainder later, according to one of the people, who asked not to be identified because the plan isn’t yet public.This could be due to a conflict with your ad-blocking or security software.Please add japantimes.co.jp and piano.io to your list of allowed sites. If this does not resolve the issue or you are unable to add the domains to your allowlist, please see this support page. We humbly apologize for the inconvenience.\n"
     ]
    },
    {
     "name": "stderr",
     "output_type": "stream",
     "text": [
      "convert squad examples to features: 100%|██████████| 1/1 [00:00<00:00, 165.68it/s]\n",
      "add example index and unique id: 100%|██████████| 1/1 [00:00<00:00, 5133.79it/s]\n"
     ]
    },
    {
     "data": {
      "application/vnd.jupyter.widget-view+json": {
       "model_id": "0da34ed59cda474ea3b787dfde8c9487",
       "version_major": 2,
       "version_minor": 0
      },
      "text/plain": [
       "Running Prediction:   0%|          | 0/1 [00:00<?, ?it/s]"
      ]
     },
     "metadata": {},
     "output_type": "display_data"
    },
    {
     "name": "stderr",
     "output_type": "stream",
     "text": [
      "2022-07-15 13:44:21,846 - 322050 - simpletransformers.question_answering.question_answering_model - INFO -  Converting to features started.\n"
     ]
    },
    {
     "name": "stdout",
     "output_type": "stream",
     "text": [
      "Sky's the limit: Tokyo startup to sell flying bike overseas SoftBank Group Corp. expects to retain a controlling stake in Arm Ltd. after the planned initial public offering of the chip business, selling a smaller portion than originally expected, according to people familiar with the matter.SoftBank opted for an IPO of Arm, which it acquired in 2016, after a plan to sell the business to Nvidia Corp. collapsed earlier this year. SoftBank has decided that selling a smaller portion of Arm now, given the current slump in chip stocks, provides the opportunity to get a higher valuation for the remainder later, according to one of the people, who asked not to be identified because the plan isn’t yet public.This could be due to a conflict with your ad-blocking or security software.Please add japantimes.co.jp and piano.io to your list of allowed sites. If this does not resolve the issue or you are unable to add the domains to your allowlist, please see this support page. We humbly apologize for the inconvenience.\n"
     ]
    },
    {
     "name": "stderr",
     "output_type": "stream",
     "text": [
      "convert squad examples to features: 100%|██████████| 1/1 [00:00<00:00, 97.61it/s]\n",
      "add example index and unique id: 100%|██████████| 1/1 [00:00<00:00, 13842.59it/s]\n"
     ]
    },
    {
     "data": {
      "application/vnd.jupyter.widget-view+json": {
       "model_id": "f7fad67f4d33457e9889fbe091a00f4b",
       "version_major": 2,
       "version_minor": 0
      },
      "text/plain": [
       "Running Prediction:   0%|          | 0/1 [00:00<?, ?it/s]"
      ]
     },
     "metadata": {},
     "output_type": "display_data"
    },
    {
     "name": "stderr",
     "output_type": "stream",
     "text": [
      "2022-07-15 13:44:22,365 - 322050 - simpletransformers.question_answering.question_answering_model - INFO -  Converting to features started.\n"
     ]
    },
    {
     "name": "stdout",
     "output_type": "stream",
     "text": [
      "Rakuten prepares to list its securities unit SoftBank Group Corp. is seeking a valuation of at least $60 billion (¥7.3 trillion) for Arm Ltd. when the business goes public, according to people familiar with the matter, aiming for a higher amount than it would have gotten from its failed sale of the chip designer to Nvidia Corp.SoftBank is poised to appoint Goldman Sachs Group Inc., JPMorgan Chase & Co. and Mizuho Financial Group Inc. to lead a loan transaction for Arm ahead of the planned initial public offering, according to the people, who asked not to be identified because the situation is private. The firms handling the loan are likely to also have lead roles on the IPO, but the lineup isn’t final and more banks could be added, the people said.This could be due to a conflict with your ad-blocking or security software.Please add japantimes.co.jp and piano.io to your list of allowed sites. If this does not resolve the issue or you are unable to add the domains to your allowlist, please see this support page. We humbly apologize for the inconvenience.\n"
     ]
    },
    {
     "name": "stderr",
     "output_type": "stream",
     "text": [
      "convert squad examples to features: 100%|██████████| 1/1 [00:00<00:00, 91.95it/s]\n",
      "add example index and unique id: 100%|██████████| 1/1 [00:00<00:00, 10082.46it/s]\n"
     ]
    },
    {
     "data": {
      "application/vnd.jupyter.widget-view+json": {
       "model_id": "876fcde192fb44cb89ea10c5c57b1966",
       "version_major": 2,
       "version_minor": 0
      },
      "text/plain": [
       "Running Prediction:   0%|          | 0/1 [00:00<?, ?it/s]"
      ]
     },
     "metadata": {},
     "output_type": "display_data"
    },
    {
     "name": "stderr",
     "output_type": "stream",
     "text": [
      "2022-07-15 13:44:22,899 - 322050 - simpletransformers.question_answering.question_answering_model - INFO -  Converting to features started.\n"
     ]
    },
    {
     "name": "stdout",
     "output_type": "stream",
     "text": [
      "Rakuten prepares to list its securities unit SoftBank Group Corp. is seeking a valuation of at least $60 billion (¥7.3 trillion) for Arm Ltd. when the business goes public, according to people familiar with the matter, aiming for a higher amount than it would have gotten from its failed sale of the chip designer to Nvidia Corp.SoftBank is poised to appoint Goldman Sachs Group Inc., JPMorgan Chase & Co. and Mizuho Financial Group Inc. to lead a loan transaction for Arm ahead of the planned initial public offering, according to the people, who asked not to be identified because the situation is private. The firms handling the loan are likely to also have lead roles on the IPO, but the lineup isn’t final and more banks could be added, the people said.This could be due to a conflict with your ad-blocking or security software.Please add japantimes.co.jp and piano.io to your list of allowed sites. If this does not resolve the issue or you are unable to add the domains to your allowlist, please see this support page. We humbly apologize for the inconvenience.\n"
     ]
    },
    {
     "name": "stderr",
     "output_type": "stream",
     "text": [
      "convert squad examples to features: 100%|██████████| 1/1 [00:00<00:00, 100.83it/s]\n",
      "add example index and unique id: 100%|██████████| 1/1 [00:00<00:00, 20560.31it/s]\n"
     ]
    },
    {
     "data": {
      "application/vnd.jupyter.widget-view+json": {
       "model_id": "29f5767ba3184fd28085214e5b915589",
       "version_major": 2,
       "version_minor": 0
      },
      "text/plain": [
       "Running Prediction:   0%|          | 0/1 [00:00<?, ?it/s]"
      ]
     },
     "metadata": {},
     "output_type": "display_data"
    },
    {
     "name": "stderr",
     "output_type": "stream",
     "text": [
      "2022-07-15 13:44:23,418 - 322050 - simpletransformers.question_answering.question_answering_model - INFO -  Converting to features started.\n"
     ]
    },
    {
     "name": "stdout",
     "output_type": "stream",
     "text": [
      "SoftBank plans to retain controlling stake in Arm after IPO SoftBank Group Corp. is seeking a valuation of at least $60 billion (¥7.3 trillion) for Arm Ltd. when the business goes public, according to people familiar with the matter, aiming for a higher amount than it would have gotten from its failed sale of the chip designer to Nvidia Corp.SoftBank is poised to appoint Goldman Sachs Group Inc., JPMorgan Chase & Co. and Mizuho Financial Group Inc. to lead a loan transaction for Arm ahead of the planned initial public offering, according to the people, who asked not to be identified because the situation is private. The firms handling the loan are likely to also have lead roles on the IPO, but the lineup isn’t final and more banks could be added, the people said.This could be due to a conflict with your ad-blocking or security software.Please add japantimes.co.jp and piano.io to your list of allowed sites. If this does not resolve the issue or you are unable to add the domains to your allowlist, please see this support page. We humbly apologize for the inconvenience.\n"
     ]
    },
    {
     "name": "stderr",
     "output_type": "stream",
     "text": [
      "convert squad examples to features: 100%|██████████| 1/1 [00:00<00:00, 71.48it/s]\n",
      "add example index and unique id: 100%|██████████| 1/1 [00:00<00:00, 10106.76it/s]\n"
     ]
    },
    {
     "data": {
      "application/vnd.jupyter.widget-view+json": {
       "model_id": "917550aa84bb459fa0fd318df0828a27",
       "version_major": 2,
       "version_minor": 0
      },
      "text/plain": [
       "Running Prediction:   0%|          | 0/1 [00:00<?, ?it/s]"
      ]
     },
     "metadata": {},
     "output_type": "display_data"
    },
    {
     "name": "stderr",
     "output_type": "stream",
     "text": [
      "2022-07-15 13:44:23,923 - 322050 - simpletransformers.question_answering.question_answering_model - INFO -  Converting to features started.\n"
     ]
    },
    {
     "name": "stdout",
     "output_type": "stream",
     "text": [
      "\n",
      "\n",
      "\t\tBusiness\t\n",
      " Japan's SBI Sumishin Net Bank Ltd. said on Monday that it will postpone a planned $1.2 billion initial public offering (IPO) scheduled for this month due to the market downturn triggered by the war in Ukraine.SBI Sumishin Net Bank, equally owned by SBI Holdings Inc and Sumitomo Mitsui Trust Bank, would have been the first online bank to go public in Japan.This could be due to a conflict with your ad-blocking or security software.Please add japantimes.co.jp and piano.io to your list of allowed sites. If this does not resolve the issue or you are unable to add the domains to your allowlist, please see this support page. We humbly apologize for the inconvenience.\n"
     ]
    },
    {
     "name": "stderr",
     "output_type": "stream",
     "text": [
      "convert squad examples to features: 100%|██████████| 1/1 [00:00<00:00, 144.88it/s]\n",
      "add example index and unique id: 100%|██████████| 1/1 [00:00<00:00, 13842.59it/s]\n"
     ]
    },
    {
     "data": {
      "application/vnd.jupyter.widget-view+json": {
       "model_id": "798736db455e4d02b6fe7c73aa51018b",
       "version_major": 2,
       "version_minor": 0
      },
      "text/plain": [
       "Running Prediction:   0%|          | 0/1 [00:00<?, ?it/s]"
      ]
     },
     "metadata": {},
     "output_type": "display_data"
    },
    {
     "name": "stderr",
     "output_type": "stream",
     "text": [
      "2022-07-15 13:44:24,453 - 322050 - simpletransformers.question_answering.question_answering_model - INFO -  Converting to features started.\n"
     ]
    },
    {
     "name": "stdout",
     "output_type": "stream",
     "text": [
      "\n",
      "\n",
      "\t\tCorporate\t\n",
      " Japan's SBI Sumishin Net Bank Ltd. said on Monday that it will postpone a planned $1.2 billion initial public offering (IPO) scheduled for this month due to the market downturn triggered by the war in Ukraine.SBI Sumishin Net Bank, equally owned by SBI Holdings Inc and Sumitomo Mitsui Trust Bank, would have been the first online bank to go public in Japan.This could be due to a conflict with your ad-blocking or security software.Please add japantimes.co.jp and piano.io to your list of allowed sites. If this does not resolve the issue or you are unable to add the domains to your allowlist, please see this support page. We humbly apologize for the inconvenience.\n"
     ]
    },
    {
     "name": "stderr",
     "output_type": "stream",
     "text": [
      "convert squad examples to features: 100%|██████████| 1/1 [00:00<00:00, 112.99it/s]\n",
      "add example index and unique id: 100%|██████████| 1/1 [00:00<00:00, 10356.31it/s]\n"
     ]
    },
    {
     "data": {
      "application/vnd.jupyter.widget-view+json": {
       "model_id": "4aea503846124d55ae1861ebd9194318",
       "version_major": 2,
       "version_minor": 0
      },
      "text/plain": [
       "Running Prediction:   0%|          | 0/1 [00:00<?, ?it/s]"
      ]
     },
     "metadata": {},
     "output_type": "display_data"
    },
    {
     "name": "stderr",
     "output_type": "stream",
     "text": [
      "2022-07-15 13:44:24,975 - 322050 - simpletransformers.question_answering.question_answering_model - INFO -  Converting to features started.\n"
     ]
    },
    {
     "name": "stdout",
     "output_type": "stream",
     "text": [
      "SoftBank plans to retain controlling stake in Arm after IPO Japan's SBI Sumishin Net Bank Ltd. said on Monday that it will postpone a planned $1.2 billion initial public offering (IPO) scheduled for this month due to the market downturn triggered by the war in Ukraine.SBI Sumishin Net Bank, equally owned by SBI Holdings Inc and Sumitomo Mitsui Trust Bank, would have been the first online bank to go public in Japan.This could be due to a conflict with your ad-blocking or security software.Please add japantimes.co.jp and piano.io to your list of allowed sites. If this does not resolve the issue or you are unable to add the domains to your allowlist, please see this support page. We humbly apologize for the inconvenience.\n"
     ]
    },
    {
     "name": "stderr",
     "output_type": "stream",
     "text": [
      "convert squad examples to features: 100%|██████████| 1/1 [00:00<00:00, 148.23it/s]\n",
      "add example index and unique id: 100%|██████████| 1/1 [00:00<00:00, 12372.58it/s]\n"
     ]
    },
    {
     "data": {
      "application/vnd.jupyter.widget-view+json": {
       "model_id": "9448d6a29e0340f1b696770d3fb326e6",
       "version_major": 2,
       "version_minor": 0
      },
      "text/plain": [
       "Running Prediction:   0%|          | 0/1 [00:00<?, ?it/s]"
      ]
     },
     "metadata": {},
     "output_type": "display_data"
    },
    {
     "name": "stderr",
     "output_type": "stream",
     "text": [
      "2022-07-15 13:44:25,493 - 322050 - simpletransformers.question_answering.question_answering_model - INFO -  Converting to features started.\n"
     ]
    },
    {
     "name": "stdout",
     "output_type": "stream",
     "text": [
      "\n",
      "\n",
      "\t\tBusiness\t\n",
      " The Fair Trade Commission will warn brokerage firms that underpricing initial public offerings on the stock exchange may violate the antimonopoly law, sources familiar with the matter said Wednesday.The FTC is expected to warn against the practice in a report to be released soon in a bid to help newly listed companies access sufficient funding through the market. In Japan, share prices on the first day of trading often greatly exceed IPO prices, with the arbitrage larger than that seen in Europe and the United States.This could be due to a conflict with your ad-blocking or security software.Please add japantimes.co.jp and piano.io to your list of allowed sites. If this does not resolve the issue or you are unable to add the domains to your allowlist, please see this support page. We humbly apologize for the inconvenience.\n"
     ]
    },
    {
     "name": "stderr",
     "output_type": "stream",
     "text": [
      "convert squad examples to features: 100%|██████████| 1/1 [00:00<00:00, 116.23it/s]\n",
      "add example index and unique id: 100%|██████████| 1/1 [00:00<00:00, 19508.39it/s]\n"
     ]
    },
    {
     "data": {
      "application/vnd.jupyter.widget-view+json": {
       "model_id": "c4bd06406c23481d96e386f6c22fdacb",
       "version_major": 2,
       "version_minor": 0
      },
      "text/plain": [
       "Running Prediction:   0%|          | 0/1 [00:00<?, ?it/s]"
      ]
     },
     "metadata": {},
     "output_type": "display_data"
    },
    {
     "name": "stderr",
     "output_type": "stream",
     "text": [
      "2022-07-15 13:44:26,004 - 322050 - simpletransformers.question_answering.question_answering_model - INFO -  Converting to features started.\n"
     ]
    },
    {
     "name": "stdout",
     "output_type": "stream",
     "text": [
      "\n",
      "\n",
      "\t\tCorporate\t\n",
      " The Fair Trade Commission will warn brokerage firms that underpricing initial public offerings on the stock exchange may violate the antimonopoly law, sources familiar with the matter said Wednesday.The FTC is expected to warn against the practice in a report to be released soon in a bid to help newly listed companies access sufficient funding through the market. In Japan, share prices on the first day of trading often greatly exceed IPO prices, with the arbitrage larger than that seen in Europe and the United States.This could be due to a conflict with your ad-blocking or security software.Please add japantimes.co.jp and piano.io to your list of allowed sites. If this does not resolve the issue or you are unable to add the domains to your allowlist, please see this support page. We humbly apologize for the inconvenience.\n"
     ]
    },
    {
     "name": "stderr",
     "output_type": "stream",
     "text": [
      "convert squad examples to features: 100%|██████████| 1/1 [00:00<00:00, 130.27it/s]\n",
      "add example index and unique id: 100%|██████████| 1/1 [00:00<00:00, 15141.89it/s]\n"
     ]
    },
    {
     "data": {
      "application/vnd.jupyter.widget-view+json": {
       "model_id": "49a0dfd60aa64bf295da417396033835",
       "version_major": 2,
       "version_minor": 0
      },
      "text/plain": [
       "Running Prediction:   0%|          | 0/1 [00:00<?, ?it/s]"
      ]
     },
     "metadata": {},
     "output_type": "display_data"
    },
    {
     "name": "stderr",
     "output_type": "stream",
     "text": [
      "2022-07-15 13:44:26,539 - 322050 - simpletransformers.question_answering.question_answering_model - INFO -  Converting to features started.\n"
     ]
    },
    {
     "name": "stdout",
     "output_type": "stream",
     "text": [
      "Maker of ¥77.7 million flying motorbike prepares for Japan IPO The Fair Trade Commission will warn brokerage firms that underpricing initial public offerings on the stock exchange may violate the antimonopoly law, sources familiar with the matter said Wednesday.The FTC is expected to warn against the practice in a report to be released soon in a bid to help newly listed companies access sufficient funding through the market. In Japan, share prices on the first day of trading often greatly exceed IPO prices, with the arbitrage larger than that seen in Europe and the United States.This could be due to a conflict with your ad-blocking or security software.Please add japantimes.co.jp and piano.io to your list of allowed sites. If this does not resolve the issue or you are unable to add the domains to your allowlist, please see this support page. We humbly apologize for the inconvenience.\n"
     ]
    },
    {
     "name": "stderr",
     "output_type": "stream",
     "text": [
      "convert squad examples to features: 100%|██████████| 1/1 [00:00<00:00, 46.66it/s]\n",
      "add example index and unique id: 100%|██████████| 1/1 [00:00<00:00, 12052.60it/s]\n"
     ]
    },
    {
     "data": {
      "application/vnd.jupyter.widget-view+json": {
       "model_id": "cfdc965cfb104eddaeca406bb9a77e2b",
       "version_major": 2,
       "version_minor": 0
      },
      "text/plain": [
       "Running Prediction:   0%|          | 0/1 [00:00<?, ?it/s]"
      ]
     },
     "metadata": {},
     "output_type": "display_data"
    },
    {
     "name": "stderr",
     "output_type": "stream",
     "text": [
      "2022-07-15 13:44:27,051 - 322050 - simpletransformers.question_answering.question_answering_model - INFO -  Converting to features started.\n"
     ]
    },
    {
     "name": "stdout",
     "output_type": "stream",
     "text": [
      "SoftBank is seeking at least $60 billion in Arm IPO China has unveiled sweeping regulations governing overseas share sales by the country’s firms, taking one of its biggest steps to tighten scrutiny on international debuts in the wake of Didi Global Inc.’s controversial listing.The regulations, issued by the country’s securities watchdog, commerce ministry and top economic planning agency over the past week, cast more uncertainty over the prospects for overseas initial public offerings that had proceeded virtually unchecked for two decades. The Nasdaq Golden Dragon China Index dropped 1.1% overnight despite another all-time high for U.S. shares, while the Hang Seng Tech Index slipped as much as 1% in early trading Tuesday.This could be due to a conflict with your ad-blocking or security software.Please add japantimes.co.jp and piano.io to your list of allowed sites. If this does not resolve the issue or you are unable to add the domains to your allowlist, please see this support page. We humbly apologize for the inconvenience.\n"
     ]
    },
    {
     "name": "stderr",
     "output_type": "stream",
     "text": [
      "convert squad examples to features: 100%|██████████| 1/1 [00:00<00:00, 79.27it/s]\n",
      "add example index and unique id: 100%|██████████| 1/1 [00:00<00:00, 15477.14it/s]\n"
     ]
    },
    {
     "data": {
      "application/vnd.jupyter.widget-view+json": {
       "model_id": "2328f0892e9b495e8aaeac3e67e6ac3f",
       "version_major": 2,
       "version_minor": 0
      },
      "text/plain": [
       "Running Prediction:   0%|          | 0/1 [00:00<?, ?it/s]"
      ]
     },
     "metadata": {},
     "output_type": "display_data"
    },
    {
     "name": "stderr",
     "output_type": "stream",
     "text": [
      "2022-07-15 13:44:27,568 - 322050 - simpletransformers.question_answering.question_answering_model - INFO -  Converting to features started.\n"
     ]
    },
    {
     "name": "stdout",
     "output_type": "stream",
     "text": [
      "\n",
      "\n",
      "\t\tBusiness\t\n",
      " China has unveiled sweeping regulations governing overseas share sales by the country’s firms, taking one of its biggest steps to tighten scrutiny on international debuts in the wake of Didi Global Inc.’s controversial listing.The regulations, issued by the country’s securities watchdog, commerce ministry and top economic planning agency over the past week, cast more uncertainty over the prospects for overseas initial public offerings that had proceeded virtually unchecked for two decades. The Nasdaq Golden Dragon China Index dropped 1.1% overnight despite another all-time high for U.S. shares, while the Hang Seng Tech Index slipped as much as 1% in early trading Tuesday.This could be due to a conflict with your ad-blocking or security software.Please add japantimes.co.jp and piano.io to your list of allowed sites. If this does not resolve the issue or you are unable to add the domains to your allowlist, please see this support page. We humbly apologize for the inconvenience.\n"
     ]
    },
    {
     "name": "stderr",
     "output_type": "stream",
     "text": [
      "convert squad examples to features: 100%|██████████| 1/1 [00:00<00:00,  2.32it/s]\n",
      "add example index and unique id: 100%|██████████| 1/1 [00:00<00:00, 11491.24it/s]\n"
     ]
    },
    {
     "data": {
      "application/vnd.jupyter.widget-view+json": {
       "model_id": "53750d61b4ca4ee293584390940d031f",
       "version_major": 2,
       "version_minor": 0
      },
      "text/plain": [
       "Running Prediction:   0%|          | 0/1 [00:00<?, ?it/s]"
      ]
     },
     "metadata": {},
     "output_type": "display_data"
    },
    {
     "name": "stderr",
     "output_type": "stream",
     "text": [
      "2022-07-15 13:44:29,914 - 322050 - simpletransformers.question_answering.question_answering_model - INFO -  Converting to features started.\n"
     ]
    },
    {
     "name": "stdout",
     "output_type": "stream",
     "text": [
      "\n",
      "\n",
      "\t\tCorporate\t\n",
      " China has unveiled sweeping regulations governing overseas share sales by the country’s firms, taking one of its biggest steps to tighten scrutiny on international debuts in the wake of Didi Global Inc.’s controversial listing.The regulations, issued by the country’s securities watchdog, commerce ministry and top economic planning agency over the past week, cast more uncertainty over the prospects for overseas initial public offerings that had proceeded virtually unchecked for two decades. The Nasdaq Golden Dragon China Index dropped 1.1% overnight despite another all-time high for U.S. shares, while the Hang Seng Tech Index slipped as much as 1% in early trading Tuesday.This could be due to a conflict with your ad-blocking or security software.Please add japantimes.co.jp and piano.io to your list of allowed sites. If this does not resolve the issue or you are unable to add the domains to your allowlist, please see this support page. We humbly apologize for the inconvenience.\n"
     ]
    },
    {
     "name": "stderr",
     "output_type": "stream",
     "text": [
      "convert squad examples to features: 100%|██████████| 1/1 [00:00<00:00, 61.56it/s]\n",
      "add example index and unique id: 100%|██████████| 1/1 [00:00<00:00, 11683.30it/s]\n"
     ]
    },
    {
     "data": {
      "application/vnd.jupyter.widget-view+json": {
       "model_id": "12d43ab53fd94593a854616422739fef",
       "version_major": 2,
       "version_minor": 0
      },
      "text/plain": [
       "Running Prediction:   0%|          | 0/1 [00:00<?, ?it/s]"
      ]
     },
     "metadata": {},
     "output_type": "display_data"
    },
    {
     "name": "stderr",
     "output_type": "stream",
     "text": [
      "2022-07-15 13:44:30,435 - 322050 - simpletransformers.question_answering.question_answering_model - INFO -  Converting to features started.\n"
     ]
    },
    {
     "name": "stdout",
     "output_type": "stream",
     "text": [
      "SoftBank is seeking at least $60 billion in Arm IPO Mitsubishi UFJ Financial Group Inc. is preparing to launch a fund that provides debt financing to Asian startups in an effort to win investment-banking business through subsequent initial public offerings.Japan’s largest lender will start a $300 million (¥34 billion) fund early next year after upsizing its first joint-venture fund earlier this year, Chief Executive Officer Hironori Kamezawa said in an interview. It will specifically target so-called unicorns, companies with a valuation of at least $1 billion, or those nearing that stage, he said.This could be due to a conflict with your ad-blocking or security software.Please add japantimes.co.jp and piano.io to your list of allowed sites. If this does not resolve the issue or you are unable to add the domains to your allowlist, please see this support page. We humbly apologize for the inconvenience.\n"
     ]
    },
    {
     "name": "stderr",
     "output_type": "stream",
     "text": [
      "convert squad examples to features: 100%|██████████| 1/1 [00:00<00:00, 85.01it/s]\n",
      "add example index and unique id: 100%|██████████| 1/1 [00:00<00:00, 8962.19it/s]\n"
     ]
    },
    {
     "data": {
      "application/vnd.jupyter.widget-view+json": {
       "model_id": "667a978891634c4aa62f4c900290a2ac",
       "version_major": 2,
       "version_minor": 0
      },
      "text/plain": [
       "Running Prediction:   0%|          | 0/1 [00:00<?, ?it/s]"
      ]
     },
     "metadata": {},
     "output_type": "display_data"
    },
    {
     "name": "stderr",
     "output_type": "stream",
     "text": [
      "2022-07-15 13:44:31,015 - 322050 - simpletransformers.question_answering.question_answering_model - INFO -  Converting to features started.\n"
     ]
    },
    {
     "name": "stdout",
     "output_type": "stream",
     "text": [
      "Even harder than it looks AT FIRST glance, Vodafone has nothing to complain about. On September 8th it sold for $6.6 billion the 3.2% stake in China Mobile that it had bought for $3.3 billion between 2000 and 2002. Such a handsome profit ought to be a cue to crack open the champagne and roast some Beijing duck. Yet the British mobile-phone giant did not get what it really wanted: a way into China. In other countries, Vodafone has had a knack of turning a small investment into a controlling stake, but not in the Middle Kingdom. And it is not alone.\n",
      "\n",
      "Since the late 1990s, several large state-owned Chinese companies have listed their shares. These initial public offerings typically included “cornerstone” investments by big Western firms. For example, BP, Exxon and Shell (three oil firms) and ABB (a Swiss-Swedish conglomerate) took strategic stakes in PetroChina and Sinopec (two big Chinese oil companies). Alcoa, an American aluminium company, invested in Chalco, a Chinese one. And Western banks bought chunks of the leading Chinese state banks when they were listed.\n",
      "\n",
      "Foreign firms brought several things to the table: capital, technology, management skills and the prospect of better corporate governance. The Chinese press often referred to them as “elder brothers”. In return, these Western firms wanted access to China's huge domestic market.\n",
      "\n",
      "It did not work out that way. The Chinese state-owned firms did not need capital so badly that they were prepared to cede control to foreigners. Some also found that the Westerners had less to teach them than they had hoped. “Fly-in” expat managers were often unfamiliar with China, says David Michael, a partner at the Boston Consulting Group. Chinese firms tended to learn more from multinationals that had taken the trouble to build their own large sales forces in China, he says.\n",
      "\n",
      "Chinese firms no longer feel like little brothers. China Mobile now has a market value half as large again as Vodafone's. PetroChina is much bigger than BP. Both Chinese firms are now rich enough to buy whatever expertise they want.\n",
      "\n",
      "Western energy companies were quick to notice this shift. BP, Shell, ABB and Exxon all sold their holdings in state-owned Chinese firms by 2005. Alcoa got out in 2007. Financial firms followed, in whole or part, during the financial crisis. When China's state-owned Agricultural Bank was recently listed, no big Western bank bought a significant stake.\n",
      "\n",
      "Western firms grumble about their failure to turn their stakes in China Inc into a foothold in the Chinese market, but not too loudly, so that they do not annoy the government. Besides, thanks to a rising stockmarket, most made sacks of money from their investments.\n",
      "\n",
      "A few have not yet cashed out. Telefónica, a Spanish telecoms firm, owns 8.8% of China Unicom and politely rebuffs bankers who advise it to sell. AT&T has 25% of a telecoms business in the Pudong district of Shanghai. Despite regulatory problems, it provides a nationwide service from Pudong, largely to multinational clients. It is a nice business, but a far cry from the dreams some Westerners once had about China.\n"
     ]
    },
    {
     "name": "stderr",
     "output_type": "stream",
     "text": [
      "convert squad examples to features: 100%|██████████| 1/1 [00:00<00:00, 37.57it/s]\n",
      "add example index and unique id: 100%|██████████| 1/1 [00:00<00:00, 10058.28it/s]\n"
     ]
    },
    {
     "data": {
      "application/vnd.jupyter.widget-view+json": {
       "model_id": "f90d57f5924146b9ae665f1147286f82",
       "version_major": 2,
       "version_minor": 0
      },
      "text/plain": [
       "Running Prediction:   0%|          | 0/1 [00:00<?, ?it/s]"
      ]
     },
     "metadata": {},
     "output_type": "display_data"
    },
    {
     "name": "stderr",
     "output_type": "stream",
     "text": [
      "2022-07-15 13:44:31,717 - 322050 - simpletransformers.question_answering.question_answering_model - INFO -  Converting to features started.\n"
     ]
    },
    {
     "name": "stdout",
     "output_type": "stream",
     "text": [
      "Kakao's move to sell Kakao mobility shares draws protest    By Lee Kyung-min IT giant Kakao is coming under intense criticism over its plan to sell off over 10 percent of its stake in its mobility affiliate to a private equity fund (PEF), according to industry and firm officials, Monday. Kakao owns a majority stake in Kakao Mobility, the operator of the ride-hailing service app Kakao T, which has an estimated total value of about 8.5 trillion won ($6.5 billion).Kakao characterizes the move as a business strategy to reorganize its corporate portfolio and financials, a much-needed breakthrough to navigate a bout of risks involving a sharp fall in the share prices of the firm and its key affiliates, amid allegations of business overreach at the expense of smaller market players.However, employees of the mobility affiliate call it an irresponsible tactic to altogether dodge accountability for the recent failures in corporate performances and rapidly souring public sentiment. Whether the escalating conflict will dial down remains to be seen, as it will be managed by the Corporate Alignment Center (CAC), a body of Kakao overseeing its subsidiaries. The CAC will hold a meeting with mobility employees soon, according to an industry watcher close to the matter, in an attempt to address concerns about the firm essentially making a hefty short-term profit at the expense of workers left vulnerable to pay cuts and layoffs. Kakao Executive Vice President Bae Jae-hyun said in a July 6 message on the firm's intranet that it \"is considering selling off about 10 percent of Kakao Mobility shares, thereby becoming the second-largest shareholder of its mobility affiliate.\"  Up in armsUnionized workers of Kakao Mobility held a press conference in Seoul, blasting Kakao's plan to sell part of its 57.5 percent stake in the mobility affiliate to MBK Partners, a local PEF.\"Behind the rapid growth of Kakao, Korea's leading platform operator, were the blood and sweat of numerous workers,\" the workers said. Little progress has been made since Kakao was criticized for lacking social responsibility blinded by a profit-driven business model, they added, a lingering mismanagement issue exceeded only by the firm being desperate to find a \"quick way out\" with total disregard for the job security of hard-working employees.\"The private equity fund will have no interest in fulfilling its social responsibilities. Kakao Mobility workers will have to bear the full brunt of the risks certain to entail the selling of the shares.\" Other financial investors of the mobility affiliate are TPG consortium and Carlyle, with stakes of 29 percent and 6.2 percent, respectively. Industry watchers say Kakao's sell-off move followed the delayed listing of the mobility affiliate due to the recent tightening of the initial public offering (IPO) market, compounded by the mobility affiliate's management risks. Kakao acknowledged that the sales plan is under discussion. \"Some media outlets speculated that we would sell a significant number of shares, but it will be in the 10 percent range,\" a Kakao spokesperson said.    By Lee Kyung-min  IT giant Kakao is coming under intense criticism over its plan to sell off over 10 percent of its stake in its mobility affiliate to a private equity fund (PEF), according to industry and firm officials, Monday. Kakao owns a majority stake in Kakao Mobility, the operator of the ride-hailing service app Kakao T, which has an estimated total value of about 8.5 trillion won ($6.5 billion).  Kakao characterizes the move as a business strategy to reorganize its corporate portfolio and financials, a much-needed breakthrough to navigate a bout of risks involving a sharp fall in the share prices of the firm and its key affiliates, amid allegations of business overreach at the expense of smaller market players.  However, employees of the mobility affiliate call it an irresponsible tactic to altogether dodge accountability for the recent failures in corporate performances and rapidly souring public sentiment.   Whether the escalating conflict will dial down remains to be seen, as it will be managed by the Corporate Alignment Center (CAC), a body of Kakao overseeing its subsidiaries.   The CAC will hold a meeting with mobility employees soon, according to an industry watcher close to the matter, in an attempt to address concerns about the firm essentially making a hefty short-term profit at the expense of workers left vulnerable to pay cuts and layoffs.   Kakao Executive Vice President Bae Jae-hyun said in a July 6 message on the firm's intranet that it \"is considering selling off about 10 percent of Kakao Mobility shares, thereby becoming the second-largest shareholder of its mobility affiliate.\"     Unionized workers of Kakao Mobility held a press conference in Seoul, blasting Kakao's plan to sell part of its 57.5 percent stake in the mobility affiliate to MBK Partners, a local PEF.  \"Behind the rapid growth of Kakao, Korea's leading platform operator, were the blood and sweat of numerous workers,\" the workers said.   Little progress has been made since Kakao was criticized for lacking social responsibility blinded by a profit-driven business model, they added, a lingering mismanagement issue exceeded only by the firm being desperate to find a \"quick way out\" with total disregard for the job security of hard-working employees.  \"The private equity fund will have no interest in fulfilling its social responsibilities. Kakao Mobility workers will have to bear the full brunt of the risks certain to entail the selling of the shares.\"   Other financial investors of the mobility affiliate are TPG consortium and Carlyle, with stakes of 29 percent and 6.2 percent, respectively.   Industry watchers say Kakao's sell-off move followed the delayed listing of the mobility affiliate due to the recent tightening of the initial public offering (IPO) market, compounded by the mobility affiliate's management risks.   Kakao acknowledged that the sales plan is under discussion. \"Some media outlets speculated that we would sell a significant number of shares, but it will be in the 10 percent range,\" a Kakao spokesperson said.    \n"
     ]
    },
    {
     "name": "stderr",
     "output_type": "stream",
     "text": [
      "convert squad examples to features: 100%|██████████| 1/1 [00:00<00:00, 16.48it/s]\n",
      "add example index and unique id: 100%|██████████| 1/1 [00:00<00:00, 7667.83it/s]\n"
     ]
    },
    {
     "data": {
      "application/vnd.jupyter.widget-view+json": {
       "model_id": "66ab064d3e9d4241ae7ce93c8398c5e5",
       "version_major": 2,
       "version_minor": 0
      },
      "text/plain": [
       "Running Prediction:   0%|          | 0/1 [00:00<?, ?it/s]"
      ]
     },
     "metadata": {},
     "output_type": "display_data"
    },
    {
     "name": "stderr",
     "output_type": "stream",
     "text": [
      "2022-07-15 13:44:32,658 - 322050 - simpletransformers.question_answering.question_answering_model - INFO -  Converting to features started.\n"
     ]
    },
    {
     "name": "stdout",
     "output_type": "stream",
     "text": [
      "Kyobo gears up for IPO once again  By Lee Min-hyung  Kyobo Life Insurance has pledged to try again for a long-awaited initial public offering (IPO), after the move was blocked last Friday when the Korea Exchange didn't grant its approval during a preliminary examination.   The exchange operator did not share additional reasons behind the decision, but the ongoing legal dispute between Kyobo and its financial investor ― led by Affinity Equity Partners ― is considered to be the core reason behind the exchange operator's lack of approval.  \"Kyobo makes it clear that we will push ahead with the IPO again after ending the dispute with our shareholders as soon as possible,\" a spokesman at Kyobo said.  Kyobo Chairman Shin Chang-jae Friday attended a meeting of the exchange's listing committee to underscore the need for its timely IPO.  \"About two-thirds of our shareholders are in favor of our listing, and Kyobo is in dire need of the IPO for the firm's sustainable growth and development,\" he told reporters after the meeting.  The Affinity consortium is the Korean insurer's second-largest shareholder, acquiring a 24 percent stake in 2012 for 1.2 trillion won ($921.7 billion). The consortium demanded that the Kyobo chief buy back its shares at 409,000 won apiece by exercising its put option, but the insurer declined to do so, citing excessive pricing.  A put option is a derivative instrument that gives the holder the right to sell an asset, at a specified price, by a specified date to the writer of the put.  Under the put option agreement, Affinity was given the right to withdraw its investment unless Kyobo went public by 2015. After Kyobo delayed its IPO timeline, Affinity ended up exercising the right. Both sides have yet to reach any clear consensus over the valuation of the insurer's pre-IPO stock price.   The case was then brought to the International Chamber of Commerce (ICC) for arbitration. The authority said that Shin did not have the duty to buy back the shares at the price offered by Affinity, nor did he have to offer any interest payments or compensation to the investor, during the first round of arbitration last September.  The Affinity consortium appealed to the ICC and called for a second arbitration.  Kyobo urged Affinity to stop taking legal measures that block its planned IPO.  \"Affinity should drop any idea of disturbing our IPO plan by engaging in a useless legal battle, and cooperate with Kyobo as its second-largest shareholder,\" the Kyobo spokesperson said.  The Affinity consortium, however, stepped up its criticism of Kyobo, urging Shin to fulfill his responsibility first before carrying on with the IPO. \n"
     ]
    },
    {
     "name": "stderr",
     "output_type": "stream",
     "text": [
      "convert squad examples to features: 100%|██████████| 1/1 [00:00<00:00, 35.59it/s]\n",
      "add example index and unique id: 100%|██████████| 1/1 [00:00<00:00, 11275.01it/s]\n"
     ]
    },
    {
     "data": {
      "application/vnd.jupyter.widget-view+json": {
       "model_id": "675b59739be44a6bb5f0ca6c29e9d5f0",
       "version_major": 2,
       "version_minor": 0
      },
      "text/plain": [
       "Running Prediction:   0%|          | 0/1 [00:00<?, ?it/s]"
      ]
     },
     "metadata": {},
     "output_type": "display_data"
    },
    {
     "name": "stderr",
     "output_type": "stream",
     "text": [
      "2022-07-15 13:44:33,355 - 322050 - simpletransformers.question_answering.question_answering_model - INFO -  Converting to features started.\n"
     ]
    },
    {
     "name": "stdout",
     "output_type": "stream",
     "text": [
      "Fintech firms' corporate value plunges amid rate hikes, recession woes  By Lee Min-hyungMajor fintech firms are grappling with their falling corporate value amid rising interest rates and fears of a recession. According to data from Stockplus Unlisted, a Seoul-based unlisted stock trading platform, K bank's shares were traded at around 14,400 won as of Wednesday, a drop of more than 30 percent from early this year when its value hovered over 22,000 won per share.K bank is a first-generation internet-only bank here that made its market debut in April 2017. The lender achieved sizable growth last year through its partnership with Upbit, the nation's leading crypto trading platform.The bank accomplished a long-awaited turnaround last year and plans to go public sometime as early as this November.However, it remains unclear as to whether the company will be able to attract success in its initial public offering (IPO) due to its nosediving pre-IPO corporate value. This fall was sparked by the overall market downturn at a time when recession woes and rapid rate hikes are putting pressure on the asset soundness of major lenders.The recent stock fall of mobile banking industry leader KakaoBank also comes as a growing burden to K bank. KakaoBank also made its debut around the same time as K bank and has been ahead in its rivalry for the past five years.Shares of the Kakao subsidiary reached a historic high of 94,400 won last August but were being traded at around 31,500 won on Thursday. This is a decline of more than 65 percent in less than a year.Major brokerage houses here estimate the corporate value of K bank to be around 6 to 10 trillion won. But it appears tough for the lender to attain its target market capitalization after the IPO due to its falling stock price.Viva Republica, the operator of the nation's most successful fintech app, Toss, is also suffering from unfavorable market conditions. According to another unlisted stock trading platform, Seoul Exchange, Viva Republica shares were valued at 129,000 won as of Jan. 9, but the price almost halved during the first half of this year, with shares being traded at 65,700 won on Wednesday.\"Internet-only lenders face similar banking regulations just like other commercial lenders, even if they look somewhat different due to their platform power,\" an industry analyst said. \"The pessimistic outlook across the overall banking industry will keep coming as a pressure to fintech firms operating banking businesses.\"  By Lee Min-hyung  Major fintech firms are grappling with their falling corporate value amid rising interest rates and fears of a recession.   According to data from Stockplus Unlisted, a Seoul-based unlisted stock trading platform, K bank's shares were traded at around 14,400 won as of Wednesday, a drop of more than 30 percent from early this year when its value hovered over 22,000 won per share.  K bank is a first-generation internet-only bank here that made its market debut in April 2017. The lender achieved sizable growth last year through its partnership with Upbit, the nation's leading crypto trading platform.  The bank accomplished a long-awaited turnaround last year and plans to go public sometime as early as this November.  However, it remains unclear as to whether the company will be able to attract success in its initial public offering (IPO) due to its nosediving pre-IPO corporate value. This fall was sparked by the overall market downturn at a time when recession woes and rapid rate hikes are putting pressure on the asset soundness of major lenders.  The recent stock fall of mobile banking industry leader KakaoBank also comes as a growing burden to K bank. KakaoBank also made its debut around the same time as K bank and has been ahead in its rivalry for the past five years.  Shares of the Kakao subsidiary reached a historic high of 94,400 won last August but were being traded at around 31,500 won on Thursday. This is a decline of more than 65 percent in less than a year.  Major brokerage houses here estimate the corporate value of K bank to be around 6 to 10 trillion won. But it appears tough for the lender to attain its target market capitalization after the IPO due to its falling stock price.  Viva Republica, the operator of the nation's most successful fintech app, Toss, is also suffering from unfavorable market conditions. According to another unlisted stock trading platform, Seoul Exchange, Viva Republica shares were valued at 129,000 won as of Jan. 9, but the price almost halved during the first half of this year, with shares being traded at 65,700 won on Wednesday.  \"Internet-only lenders face similar banking regulations just like other commercial lenders, even if they look somewhat different due to their platform power,\" an industry analyst said. \"The pessimistic outlook across the overall banking industry will keep coming as a pressure to fintech firms operating banking businesses.\" \n"
     ]
    },
    {
     "name": "stderr",
     "output_type": "stream",
     "text": [
      "convert squad examples to features: 100%|██████████| 1/1 [00:00<00:00, 18.28it/s]\n",
      "add example index and unique id: 100%|██████████| 1/1 [00:00<00:00, 7943.76it/s]\n"
     ]
    },
    {
     "data": {
      "application/vnd.jupyter.widget-view+json": {
       "model_id": "724648ac31e448599cde95c888cd6680",
       "version_major": 2,
       "version_minor": 0
      },
      "text/plain": [
       "Running Prediction:   0%|          | 0/1 [00:00<?, ?it/s]"
      ]
     },
     "metadata": {},
     "output_type": "display_data"
    },
    {
     "name": "stderr",
     "output_type": "stream",
     "text": [
      "2022-07-15 13:44:34,183 - 322050 - simpletransformers.question_answering.question_answering_model - INFO -  Converting to features started.\n"
     ]
    },
    {
     "name": "stdout",
     "output_type": "stream",
     "text": [
      "[INTERVIEW] Digitalization key to recovery of travel industry: Yanolja chief  Korea's top travel tech unicorn in no rush for IPO, pursues go-to-market strategy via M&As  By Kim Yoo-chulSteady enhancements in technology are accelerating growth and some degree of innovation in the leisure industry. During the ongoing COVID-19 pandemic, a robust digitalization strategy is what is needed by the industry, with the adoption of platform-oriented business models defining the shape of the travel and tourism industry's recovery.In today's digital era, where bookings and reservations are easily and simply confirmed in a few seconds and an entire trip schedule can also be checked just with a few taps of the finger, it's just impossible to imagine life back in the old days. Because of technology, travelling is more accessible and affordable. That also means that digitalization has left no segment of the travel ecosystem untouched.The chief executive at Yanolja, the country's top travel technology startup and unicorn, the value of which is estimated at more than $1 billion, believes technology is pervading every area of tourism as the travel industry has been at the forefront of digital innovation and continues to be transformed at an exponential rate, globally. As the travel industry is one of huge demand and constant changes, the CEO's focus is on how better to digitalize and automate \"spaces,\" which include restaurants, hotels, commercial buildings, residential homes and even golf courses using cloud computing technology.\"As industries are recovering, cloud computing is just a powerful technology available at their disposal to accelerate transformation plans. As a way to tackle COVID-19's challenges, industries created customer-oriented technological solutions, and that also illustrates the renewed relationships with customers. Within that context, cloud technology is the right and necessary tool in terms of offering personalized experiences to travelers,\" Yanolja CEO Kim Jong-yoon told The Korea Times in a recent interview at its head office in Samseong-dong, southern Seoul.In the hotel-booking segment, for example, because hotels have data flowing and stored across multiple clouds, it can personalize the customer experience across multiple spaces. Yanolja, which means, \"Hey, let's play,\" in Korean, is specifically focusing on constructing a demand-side platform, as doing that allows its corporate clients programmatically to purchase online ads to reach both existing and new customers.    By Kim Yoo-chul  Steady enhancements in technology are accelerating growth and some degree of innovation in the leisure industry. During the ongoing COVID-19 pandemic, a robust digitalization strategy is what is needed by the industry, with the adoption of platform-oriented business models defining the shape of the travel and tourism industry's recovery.  In today's digital era, where bookings and reservations are easily and simply confirmed in a few seconds and an entire trip schedule can also be checked just with a few taps of the finger, it's just impossible to imagine life back in the old days. Because of technology, travelling is more accessible and affordable. That also means that digitalization has left no segment of the travel ecosystem untouched.  The chief executive at Yanolja, the country's top travel technology startup and unicorn, the value of which is estimated at more than $1 billion, believes technology is pervading every area of tourism as the travel industry has been at the forefront of digital innovation and continues to be transformed at an exponential rate, globally. As the travel industry is one of huge demand and constant changes, the CEO's focus is on how better to digitalize and automate \"spaces,\" which include restaurants, hotels, commercial buildings, residential homes and even golf courses using cloud computing technology.  \"As industries are recovering, cloud computing is just a powerful technology available at their disposal to accelerate transformation plans. As a way to tackle COVID-19's challenges, industries created customer-oriented technological solutions, and that also illustrates the renewed relationships with customers.   Within that context, cloud technology is the right and necessary tool in terms of offering personalized experiences to travelers,\" Yanolja CEO Kim Jong-yoon told The Korea Times in a recent interview at its head office in Samseong-dong, southern Seoul.  In the hotel-booking segment, for example, because hotels have data flowing and stored across multiple clouds, it can personalize the customer experience across multiple spaces. Yanolja, which means, \"Hey, let's play,\" in Korean, is specifically focusing on constructing a demand-side platform, as doing that allows its corporate clients programmatically to purchase online ads to reach both existing and new customers.  Its cloud service is available for numerous hotels across the globe. The top executive said that because it is seeing both steady and increased requests for its cloud service focusing on Southeast Asia, India, Africa and Japan ― the countries and regions which the company identified as strategic markets ― it is aiming to ink strategic partnerships with major hotel chain operators in the United States, considered a mature market.\"In the tourism industry, major decisions come via online. This is why a provision of digitized data regarding the patterns of customer behaviors and customer journeys via the utilization of data stored in the cloud system matters a lot. Yanolja is aiming to become a 'space-as-a-service company.' Based on data accumulated through our cloud system, we can digitalize all occupied static spaces, and I would say Google and Facebook took similar steps and view this standpoint as Web 3.0 in the tourism industry,\" said the chief executive, adding that its cloud service is available in 170 countries with 60 different languages.This move is a major shift for the company, as it began as a mere online search portal for cheaper hotels and guesthouse rooms on its website at prices ranging from 50,000 won to 200,000 won. Founded in 2005 by hotel housekeeper Lee Su-jin, Yanolja emerged as the biggest beneficiary of the country's \"smartphone boom\" because its mobile-available booking service allowed couples and budget tourists seeking short-term accommodation, who previously had to find such accommodation on-site, to book affordable hotels easily.'Not situated to raise cash from imminent bourse listing': CEO The gradual recovery of tourism will continue throughout this year as more destinations ease travel restrictions and pent-up demand is unleashed, according to an assessment by the World Tourism Organization. In Asia, Yanolja's key target market, an increasing number of destinations have started to ease travel restrictions. With its successful outreach to the cloud business, analysts say that such investors' sense of optimism in the market could help Yanolja remain financially competitive throughout this year. In 2021, it reported 374.8 billion won in revenue, up 29.8 percent, year-on-year, after the company swung to a profit in 2020. Its operating profit last year came in at 53.6 billion won, rising from 10.9 billion won the previous year, it said in a regulatory filing to the Korea Exchange (KRX), the country's top bourse operator. Investors' primary focus is the timing and the location of Yanolja's planned initial public offering (IPO), after the venture capital investment of SoftBank, through SoftBank Vision Fund's decision to invest $1.7 billion in it, the Japanese bank's second-largest investment in a South Korean company after Coupang. Coupang had received about $3 billion from SoftBank before its U.S. IPO. Plus, Yanolja received financial funding from other Korean companies including KT. It secured reaching a corporate valuation of between 9 trillion won and 10 trillion won, according to estimates by local investment banks.  Its cloud service is available for numerous hotels across the globe. The top executive said that because it is seeing both steady and increased requests for its cloud service focusing on Southeast Asia, India, Africa and Japan ― the countries and regions which the company identified as strategic markets ― it is aiming to ink strategic partnerships with major hotel chain operators in the United States, considered a mature market.  \"In the tourism industry, major decisions come via online. This is why a provision of digitized data regarding the patterns of customer behaviors and customer journeys via the utilization of data stored in the cloud system matters a lot. Yanolja is aiming to become a 'space-as-a-service company.' Based on data accumulated through our cloud system, we can digitalize all occupied static spaces, and I would say Google and Facebook took similar steps and view this standpoint as Web 3.0 in the tourism industry,\" said the chief executive, adding that its cloud service is available in 170 countries with 60 different languages.  This move is a major shift for the company, as it began as a mere online search portal for cheaper hotels and guesthouse rooms on its website at prices ranging from 50,000 won to 200,000 won. Founded in 2005 by hotel housekeeper Lee Su-jin, Yanolja emerged as the biggest beneficiary of the country's \"smartphone boom\" because its mobile-available booking service allowed couples and budget tourists seeking short-term accommodation, who previously had to find such accommodation on-site, to book affordable hotels easily.   The gradual recovery of tourism will continue throughout this year as more destinations ease travel restrictions and pent-up demand is unleashed, according to an assessment by the World Tourism Organization. In Asia, Yanolja's key target market, an increasing number of destinations have started to ease travel restrictions.   With its successful outreach to the cloud business, analysts say that such investors' sense of optimism in the market could help Yanolja remain financially competitive throughout this year. In 2021, it reported 374.8 billion won in revenue, up 29.8 percent, year-on-year, after the company swung to a profit in 2020. Its operating profit last year came in at 53.6 billion won, rising from 10.9 billion won the previous year, it said in a regulatory filing to the Korea Exchange (KRX), the country's top bourse operator.   Investors' primary focus is the timing and the location of Yanolja's planned initial public offering (IPO), after the venture capital investment of SoftBank, through SoftBank Vision Fund's decision to invest $1.7 billion in it, the Japanese bank's second-largest investment in a South Korean company after Coupang. Coupang had received about $3 billion from SoftBank before its U.S. IPO. Plus, Yanolja received financial funding from other Korean companies including KT. It secured reaching a corporate valuation of between 9 trillion won and 10 trillion won, according to estimates by local investment banks.  The CEO said that while it is watching to time its IPO because its cash-burn rate ― the rate at which a company uses up its cash reserves or cash balance ― isn't at an alarming level, it's not necessary to raise cash from its bourse listing immediately.\"We will conduct an IPO eventually. Yes, it's possible. However, we are not in a hurry because the company isn't in the situation of worrying about its cash holdings. We will pursue a bourse listing if necessary. However, the IPO plan could only happen based on our decisions,\" according to the chief executive. \"Our business categories are expanding and because we've reached 'economies of a scale' in our core businesses, the thing we should focus on is how to leverage our business strengths to others.\" Kim agreed on the necessity of scaling up its overseas businesses as he said the company is very keen to strengthen its global presence. \"Yes, we will continue to pursue an 'inorganic' growth strategy by scaling up the company's business sizes via mergers and acquisitions (M&As) as Yanolja wants to broaden the company's customer base in target markets throughout acquisition deals.\" Backed by the Singaporean sovereign wealth fund GIC and Booking Holdings, Yanolja has been expanding its business to include leisure activities and transport along with hotel bookings. It recently acquired a 70-percent stake in listed Korean e-commerce operator Interpark for $250 million in an attempt to incorporate more lifestyle services that Interpark has built up in the previous years, focusing on the sectors of live performances, shopping and travel tickets, alongside Yanolja's services. In 2019, it picked up the country's Dailyhotel and Indian lodging management platform, eZee Technosys, and in 2018 it acquired Southeast Asia-based hotel chain Zen Rooms.Regarding concerns and legal challenges it may face from its deep-dive into the cloud business because of data privacy and possible legal ramifications, the chief executive said he was hoping to see loosened regulations for the handling of data and data governance in Korea. \"Yanolja is keeping an eye on the latest developments of regulatory issues in international markets and how the company should address such concerns via active collaboration with peers in the industry. Investors are reassessing their thoughts on Yanolja's cloud business.\"\"The travel industry is the sector that has huge growth potential and that we can change a lot. We want to be repositioned as a global travel technology company. The continued hiring of research and development (R&D) employees represents Yanolja's plan to broaden our categories of service offerings through technology such as the Internet of Things (IoT) and artificial intelligence (AI),\" said Kim, formerly of Alphabet's Google.  The CEO said that while it is watching to time its IPO because its cash-burn rate ― the rate at which a company uses up its cash reserves or cash balance ― isn't at an alarming level, it's not necessary to raise cash from its bourse listing immediately.  \"We will conduct an IPO eventually. Yes, it's possible. However, we are not in a hurry because the company isn't in the situation of worrying about its cash holdings. We will pursue a bourse listing if necessary. However, the IPO plan could only happen based on our decisions,\" according to the chief executive. \"Our business categories are expanding and because we've reached 'economies of a scale' in our core businesses, the thing we should focus on is how to leverage our business strengths to others.\"   Kim agreed on the necessity of scaling up its overseas businesses as he said the company is very keen to strengthen its global presence. \"Yes, we will continue to pursue an 'inorganic' growth strategy by scaling up the company's business sizes via mergers and acquisitions (M&As) as Yanolja wants to broaden the company's customer base in target markets throughout acquisition deals.\"   Backed by the Singaporean sovereign wealth fund GIC and Booking Holdings, Yanolja has been expanding its business to include leisure activities and transport along with hotel bookings. It recently acquired a 70-percent stake in listed Korean e-commerce operator Interpark for $250 million in an attempt to incorporate more lifestyle services that Interpark has built up in the previous years, focusing on the sectors of live performances, shopping and travel tickets, alongside Yanolja's services. In 2019, it picked up the country's Dailyhotel and Indian lodging management platform, eZee Technosys, and in 2018 it acquired Southeast Asia-based hotel chain Zen Rooms.  Regarding concerns and legal challenges it may face from its deep-dive into the cloud business because of data privacy and possible legal ramifications, the chief executive said he was hoping to see loosened regulations for the handling of data and data governance in Korea. \"Yanolja is keeping an eye on the latest developments of regulatory issues in international markets and how the company should address such concerns via active collaboration with peers in the industry. Investors are reassessing their thoughts on Yanolja's cloud business.\"  \"The travel industry is the sector that has huge growth potential and that we can change a lot. We want to be repositioned as a global travel technology company. The continued hiring of research and development (R&D) employees represents Yanolja's plan to broaden our categories of service offerings through technology such as the Internet of Things (IoT) and artificial intelligence (AI),\" said Kim, formerly of Alphabet's Google. \n"
     ]
    },
    {
     "name": "stderr",
     "output_type": "stream",
     "text": [
      "convert squad examples to features: 100%|██████████| 1/1 [00:00<00:00,  7.80it/s]\n",
      "add example index and unique id: 100%|██████████| 1/1 [00:00<00:00, 17924.38it/s]\n"
     ]
    },
    {
     "data": {
      "application/vnd.jupyter.widget-view+json": {
       "model_id": "98698392a33248bdae7535feded9e192",
       "version_major": 2,
       "version_minor": 0
      },
      "text/plain": [
       "Running Prediction:   0%|          | 0/1 [00:00<?, ?it/s]"
      ]
     },
     "metadata": {},
     "output_type": "display_data"
    },
    {
     "name": "stderr",
     "output_type": "stream",
     "text": [
      "2022-07-15 13:44:35,864 - 322050 - simpletransformers.question_answering.question_answering_model - INFO -  Converting to features started.\n"
     ]
    },
    {
     "name": "stdout",
     "output_type": "stream",
     "text": [
      "K bank, Toss aim to differentiate from KakaoBank in their IPO plans  By Anna J. ParkFollowing KakaoBank's stock price plunge over the past year, K bank and Toss Bank, the country's two other internet-only banks, are focusing on differentiating themselves from KakaoBank in their initial public offering (IPO) strategies. KakaoBank was the first digital bank to go public last August, meeting success initially. The bank's innovative and accessible platform was evaluated highly, with its market cap once exceeding 40 trillion won ($30.5 billion) in the first few months after its listing on the benchmark KOSPI last year. But the digital bank's market cap shrank to 14.9 trillion won, as of Wednesday, now that the market's initial overvaluation of the bank has faded. While the stock price has nosedived by half since the start of this year, brokerage firms continue to publish analysis reports, lowering their target prices for the bank further. Because of KakaoBank's disappointing downward stock movement over the past year, K bank and Toss Bank, which have also been preparing for their own IPOs, are trying to set themselves apart from KakaoBank's case. The two digital banks seem to have realized that a similar IPO strategy to KakaoBank's would not guarantee success for them.   By Anna J. Park  Following KakaoBank's stock price plunge over the past year, K bank and Toss Bank, the country's two other internet-only banks, are focusing on differentiating themselves from KakaoBank in their initial public offering (IPO) strategies.   KakaoBank was the first digital bank to go public last August, meeting success initially. The bank's innovative and accessible platform was evaluated highly, with its market cap once exceeding 40 trillion won ($30.5 billion) in the first few months after its listing on the benchmark KOSPI last year.   But the digital bank's market cap shrank to 14.9 trillion won, as of Wednesday, now that the market's initial overvaluation of the bank has faded. While the stock price has nosedived by half since the start of this year, brokerage firms continue to publish analysis reports, lowering their target prices for the bank further.   Because of KakaoBank's disappointing downward stock movement over the past year, K bank and Toss Bank, which have also been preparing for their own IPOs, are trying to set themselves apart from KakaoBank's case. The two digital banks seem to have realized that a similar IPO strategy to KakaoBank's would not guarantee success for them.   As K bank has officially kicked off its IPO schedule, with submission of a preliminary evaluation request to the Korea Exchange (KRX) at the end of last month ― the first step for the bank's listing on the KOSPI ― the bank plans to emphasize its comfortable service-oriented banking. It is a different approach from KakaoBank's focus on its IT-based digital platform in its IPO strategy. Rather than stressing the bank's digital platform as a key growth factor, K bank has been highlighting the core competency of its banking services. The bank's partnership with cryptocurrency exchange Upbit is also expected to be emphasized, as a way to differentiate it from KakaoBank in terms of growth potential. However, it is uncertain whether the bank's plan to distance itself from KakaoBank's case would succeed in the market's evaluation of K bank's future growth. Given that it usually takes around four months from requesting a preliminary evaluation to going public, K bank is expected to be listed as early as November. K bank was Korea's very first internet-only bank, founded days earlier than KakaoBank in January 2016.   As K bank has officially kicked off its IPO schedule, with submission of a preliminary evaluation request to the Korea Exchange (KRX) at the end of last month ― the first step for the bank's listing on the KOSPI ― the bank plans to emphasize its comfortable service-oriented banking.   It is a different approach from KakaoBank's focus on its IT-based digital platform in its IPO strategy. Rather than stressing the bank's digital platform as a key growth factor, K bank has been highlighting the core competency of its banking services.   The bank's partnership with cryptocurrency exchange Upbit is also expected to be emphasized, as a way to differentiate it from KakaoBank in terms of growth potential. However, it is uncertain whether the bank's plan to distance itself from KakaoBank's case would succeed in the market's evaluation of K bank's future growth.   Given that it usually takes around four months from requesting a preliminary evaluation to going public, K bank is expected to be listed as early as November. K bank was Korea's very first internet-only bank, founded days earlier than KakaoBank in January 2016.   Meanwhile, Toss Bank ― the third digital bank in Korea ― is putting its priority on raising its corporate value to a maximum level, rather than accelerating its IPO plan. As Toss is a comprehensive financial platform that not only involves banking services but also brokerage as well as other functions, the company seems to be focusing on attracting further investments for now, at a corporate valuation of about 10 trillion won.It is largely expected that Toss' IPO will come as early as the second half of next year or even later than that. In the meantime, Toss is planning to brand itself as a total financial platform as well as a global fintech firm, differentiating itself from KakaoBank.   Meanwhile, Toss Bank ― the third digital bank in Korea ― is putting its priority on raising its corporate value to a maximum level, rather than accelerating its IPO plan.   As Toss is a comprehensive financial platform that not only involves banking services but also brokerage as well as other functions, the company seems to be focusing on attracting further investments for now, at a corporate valuation of about 10 trillion won.  It is largely expected that Toss' IPO will come as early as the second half of next year or even later than that.   In the meantime, Toss is planning to brand itself as a total financial platform as well as a global fintech firm, differentiating itself from KakaoBank.  \n"
     ]
    },
    {
     "name": "stderr",
     "output_type": "stream",
     "text": [
      "convert squad examples to features: 100%|██████████| 1/1 [00:00<00:00, 19.85it/s]\n",
      "add example index and unique id: 100%|██████████| 1/1 [00:00<00:00, 7345.54it/s]\n"
     ]
    },
    {
     "data": {
      "application/vnd.jupyter.widget-view+json": {
       "model_id": "65c59f404ba44e03b4353ec6d1a3e4bb",
       "version_major": 2,
       "version_minor": 0
      },
      "text/plain": [
       "Running Prediction:   0%|          | 0/1 [00:00<?, ?it/s]"
      ]
     },
     "metadata": {},
     "output_type": "display_data"
    },
    {
     "name": "stderr",
     "output_type": "stream",
     "text": [
      "2022-07-15 13:44:36,898 - 322050 - simpletransformers.question_answering.question_answering_model - INFO -  Converting to features started.\n"
     ]
    },
    {
     "name": "stdout",
     "output_type": "stream",
     "text": [
      "[INTERVIEW] 'New order takes root in fashion e-commerce industry'  Korea's top fashion unicorn dismisses concerns of bubble in sectorBy Kim Yoo-chulThe COVID-19 pandemic has dealt a huge blow to the fashion industry, causing a lot of traditional merchants to be unsure of how to maintain their bottom lines as consumers shift in droves to e-commerce platforms.Fashion retailers that managed to actively implement e-commerce strategies have benefited significantly from the pandemic. Plus, new and existing fashion e-commerce brands have been hugely successful, while the pandemic ended up gradually widening the gap between digitally-driven apps and platforms and offline laggards.Fashion industry experts have no doubt that the business of fashion is on track to seeing a new order take root, because the pandemic has changed how consumers interact with brands and redesign their shopping experience.From an investor's standpoint, the pandemic has led to the rise of \"unicorn\" fashion e-commerce companies and an increase in their valuations. Startup companies with a billion-dollar valuation are labelled as unicorns as they were once considered as rare creatures.Some industry analysts warned investors to be wary of a bubble forming in the industry that could burst at any time.But a senior executive at the country's top fashion e-commerce platform operator dismissed such concerns.\"Because a new order is prevailing in the industry given increased investor focus on sustainability-oriented considerations during and after the pandemic, with particular demand for growth potential, a few rational players will thrive even more,\" Seo Eun-hee, the marketing chief of Musinsa, said in a recent interview with The Korea Times at the fashion e-commerce unicorn's new studio in Seongsu-dong, also known as Seoul's Brooklyn.   By Kim Yoo-chul  The COVID-19 pandemic has dealt a huge blow to the fashion industry, causing a lot of traditional merchants to be unsure of how to maintain their bottom lines as consumers shift in droves to e-commerce platforms.  Fashion retailers that managed to actively implement e-commerce strategies have benefited significantly from the pandemic. Plus, new and existing fashion e-commerce brands have been hugely successful, while the pandemic ended up gradually widening the gap between digitally-driven apps and platforms and offline laggards.  Fashion industry experts have no doubt that the business of fashion is on track to seeing a new order take root, because the pandemic has changed how consumers interact with brands and redesign their shopping experience.  From an investor's standpoint, the pandemic has led to the rise of \"unicorn\" fashion e-commerce companies and an increase in their valuations. Startup companies with a billion-dollar valuation are labelled as unicorns as they were once considered as rare creatures.  Some industry analysts warned investors to be wary of a bubble forming in the industry that could burst at any time.  But a senior executive at the country's top fashion e-commerce platform operator dismissed such concerns.  \"Because a new order is prevailing in the industry given increased investor focus on sustainability-oriented considerations during and after the pandemic, with particular demand for growth potential, a few rational players will thrive even more,\" Seo Eun-hee, the marketing chief of Musinsa, said in a recent interview with The Korea Times at the fashion e-commerce unicorn's new studio in Seongsu-dong, also known as Seoul's Brooklyn.  \"I would say the fashion e-commerce industry is experiencing the 'valley of death.' Because Musinsa is the only unicorn company in the fashion e-commerce industry in Korea that is reporting profits every year since the start of business operations, investors will focus more on potential returns and I'm sure Musinsa's existing and new business models are good enough to appeal to investors,\" Seo said.The \"valley of death\" is a term widely used in the startup industry, referring to the period of negative cash-flow in the early stages of a venture company before their new product or service generates revenues. More than 80 percent of new ventures that fail to win investors' support end up failing within the first three years. That's because large investors prefer to park their money in business models that are proven and ready to scale, rather than R&D and development efforts.Founded in 2012, Musinsa operates an online shopping mall called \"Musinsa store,\" a fashion magazine \"Musinsa magazine,\" and offline store \"Musinsa store.\" As of May this year, Musinsa's is valued at around 5 trillion won, up from 2.5 trillion won just a few years ago, according to officials in the local investment banking industry.The country's top fashion e-commerce platform reached 2.3 trillion won worth of monetary transactions by last year, up 90 percent year-on-year. Revenue in 2021 reached 466.7 billion won, up 41 percent year-on-year, while the company reported 54.2 billion won in operating profit, up 19 percent, it said in a statement to The Korea Times. It has over 10 million users and so far, the company has attracted 320 billion won in investments, including 130 billion won from IMM private equity. Its outstanding growth trajectory stems from its offering of a wider selection of foreign casual brands that were quite tough to find in Korea along with limited-edition items. No change in prime targets, phased global expansion strategy Regarding its brand positioning statement, which could lead to market differentiation from competitors, the marketing chief Seo said Musinsa is attempting to rise as a multi-platform that could include fashion- and culture-centric features.  \"I would say the fashion e-commerce industry is experiencing the 'valley of death.' Because Musinsa is the only unicorn company in the fashion e-commerce industry in Korea that is reporting profits every year since the start of business operations, investors will focus more on potential returns and I'm sure Musinsa's existing and new business models are good enough to appeal to investors,\" Seo said.  The \"valley of death\" is a term widely used in the startup industry, referring to the period of negative cash-flow in the early stages of a venture company before their new product or service generates revenues. More than 80 percent of new ventures that fail to win investors' support end up failing within the first three years. That's because large investors prefer to park their money in business models that are proven and ready to scale, rather than R&D and development efforts.  Founded in 2012, Musinsa operates an online shopping mall called \"Musinsa store,\" a fashion magazine \"Musinsa magazine,\" and offline store \"Musinsa store.\" As of May this year, Musinsa's is valued at around 5 trillion won, up from 2.5 trillion won just a few years ago, according to officials in the local investment banking industry.  The country's top fashion e-commerce platform reached 2.3 trillion won worth of monetary transactions by last year, up 90 percent year-on-year. Revenue in 2021 reached 466.7 billion won, up 41 percent year-on-year, while the company reported 54.2 billion won in operating profit, up 19 percent, it said in a statement to The Korea Times.   It has over 10 million users and so far, the company has attracted 320 billion won in investments, including 130 billion won from IMM private equity. Its outstanding growth trajectory stems from its offering of a wider selection of foreign casual brands that were quite tough to find in Korea along with limited-edition items.    Regarding its brand positioning statement, which could lead to market differentiation from competitors, the marketing chief Seo said Musinsa is attempting to rise as a multi-platform that could include fashion- and culture-centric features.  \"Musinsa started with street style, the style of which is a really viral, addictive and instant; however, the evolution of street style is asking us to avoid decoupling between mainstream fashion considerations and fashion style based on individualism,\" according to the executive, adding its recent release of short YouTube ad clips that show its ability for content creation based on the company's persona is aimed at helping a group of youth find ways to gain social validation efficiently as creative endeavors.When asked about the specifics of its initial public offerings (IPO) plan, the plan of which could materialize sometime next year, according to stock market analysts, the marketing chief declined to elaborate. But she said Musinsa is specifically eyeing Japan, countries in South Asia and Southeast Asia for increased market penetration. Key rationale behind its focus on these markets is that K-Pop and Korean entertainment including music, film and TV programs are widely being circulated, a huge plus factor in terms of appealing target consumers with Korean street style clothing inventories.The continued popularity of K-culture is contributing to reshaping consumer behavior in Asia and the popularity of Korean content also means that language is no longer a barrier for consumers watching preferred foreign media content. The executive went on to say that K-content is touching \"emotional demands\" of consumers in Asia through similar cultural context and by being \"emotionally expressive.\" \"We are reviewing the validity of overseas business expansion plans. Yes, given the intensity of K-culture craze among the youth, the prime target in terms of Musinsa's age group, it's sensible for us to advance Southeast and South Asia and to further expand footsteps in Japan, possibly followed by the United States and Europe,\" the executive said, adding it plans to sponsor various events showcasing Korean culture including K-Pop in its target markets. Musinsa earlier scrapped its plan to acquire controlling stakes in its domestic rival, which focuses on Japanese shoppers because the two failed to agree on key conditions regarding the deal. \"We have a subsidiary in Japan. There are influencer groups according to regions and cities. We are trying to find common ground with these focus groups by keeping contacts with 'hot celebrities' in Instagram,\" she said. Mardi Mercredi, a domestic fashion brand, reported 1 billion won or some 100 million yen (Japanese currency) worth of revenue in six months since its market entry in Japan. Musinsa helped it set up an official online store with the availability of Japanese. It launched pop-up store campaigns in major Japanese cities.The executive said Musinsa is hoping to broaden business spectrum from fashion-centric to lifestyle-centric and stressed chances are high as Musinsa is already a \"vertical brand,\" which also has core targets both in markets and age groups. Based on brand recognition it earned from online sales, it wants to deepen its relationship with customers and personalize customer engagement by opening up physical stores, according to Seo.\"We are planning to set up pop-up stores in Jeju, September 1 and as a way to show off healthy relationship with partners, we could be able to manage joint marketing campaigns as a fleamarket style.\"  \"Musinsa started with street style, the style of which is a really viral, addictive and instant; however, the evolution of street style is asking us to avoid decoupling between mainstream fashion considerations and fashion style based on individualism,\" according to the executive, adding its recent release of short YouTube ad clips that show its ability for content creation based on the company's persona is aimed at helping a group of youth find ways to gain social validation efficiently as creative endeavors.  When asked about the specifics of its initial public offerings (IPO) plan, the plan of which could materialize sometime next year, according to stock market analysts, the marketing chief declined to elaborate.   But she said Musinsa is specifically eyeing Japan, countries in South Asia and Southeast Asia for increased market penetration. Key rationale behind its focus on these markets is that K-Pop and Korean entertainment including music, film and TV programs are widely being circulated, a huge plus factor in terms of appealing target consumers with Korean street style clothing inventories.  The continued popularity of K-culture is contributing to reshaping consumer behavior in Asia and the popularity of Korean content also means that language is no longer a barrier for consumers watching preferred foreign media content. The executive went on to say that K-content is touching \"emotional demands\" of consumers in Asia through similar cultural context and by being \"emotionally expressive.\"   \"We are reviewing the validity of overseas business expansion plans. Yes, given the intensity of K-culture craze among the youth, the prime target in terms of Musinsa's age group, it's sensible for us to advance Southeast and South Asia and to further expand footsteps in Japan, possibly followed by the United States and Europe,\" the executive said, adding it plans to sponsor various events showcasing Korean culture including K-Pop in its target markets. Musinsa earlier scrapped its plan to acquire controlling stakes in its domestic rival, which focuses on Japanese shoppers because the two failed to agree on key conditions regarding the deal.   \"We have a subsidiary in Japan. There are influencer groups according to regions and cities. We are trying to find common ground with these focus groups by keeping contacts with 'hot celebrities' in Instagram,\" she said. Mardi Mercredi, a domestic fashion brand, reported 1 billion won or some 100 million yen (Japanese currency) worth of revenue in six months since its market entry in Japan. Musinsa helped it set up an official online store with the availability of Japanese. It launched pop-up store campaigns in major Japanese cities.  The executive said Musinsa is hoping to broaden business spectrum from fashion-centric to lifestyle-centric and stressed chances are high as Musinsa is already a \"vertical brand,\" which also has core targets both in markets and age groups. Based on brand recognition it earned from online sales, it wants to deepen its relationship with customers and personalize customer engagement by opening up physical stores, according to Seo. \"We are planning to set up pop-up stores in Jeju, September 1 and as a way to show off healthy relationship with partners, we could be able to manage joint marketing campaigns as a fleamarket style.\"  \n"
     ]
    },
    {
     "name": "stderr",
     "output_type": "stream",
     "text": [
      "convert squad examples to features: 100%|██████████| 1/1 [00:00<00:00,  8.71it/s]\n",
      "add example index and unique id: 100%|██████████| 1/1 [00:00<00:00, 10754.63it/s]\n"
     ]
    },
    {
     "data": {
      "application/vnd.jupyter.widget-view+json": {
       "model_id": "ef19d47a4f6e4822a51b0e3eb14ed7b7",
       "version_major": 2,
       "version_minor": 0
      },
      "text/plain": [
       "Running Prediction:   0%|          | 0/1 [00:00<?, ?it/s]"
      ]
     },
     "metadata": {},
     "output_type": "display_data"
    },
    {
     "name": "stderr",
     "output_type": "stream",
     "text": [
      "2022-07-15 13:44:38,612 - 322050 - simpletransformers.question_answering.question_answering_model - INFO -  Converting to features started.\n"
     ]
    },
    {
     "name": "stdout",
     "output_type": "stream",
     "text": [
      "[INTERVIEW] 'Crypto party isn't over yet'  Blowup of Terra's stablecoin raises credibility concerns for industry, forcing crypto investors to wait longer for price rebound By Kim Yoo-chulThings are changing rapidly in the world of crypto. Very recently, the global cryptocurrency market saw an extension of volatility even to stablecoins, mostly due to the huge collapse of the TerraUSD, a UST or algorithmic stablecoin, and its sister token, Luna ― which should theoretically maintain a 1:1 peg to a currency and commodity. Plus, because inflation remains too much of a force on central banks around the world, pressuring them to move expeditiously to bring the level back down by raising the benchmark rate sharply, more than 40 percent of crypto holders are now underwater in terms of their investments, according to analysts.All of the numbers are just bad. The price of bitcoin, the benchmark cryptocurrency in the industry, has fallen below $21,000, data shown by market tracker investing.com said. This fall is a major break from the $31,000-to-$32,000 price range bitcoin had gotten into since the collapse of Terra's UST back in early May. This year, Bitcoin's prices have been slashed by over 50 percent of its all-time high of around $69,000 back in November 2021. The crypto market's total market capitalization has crashed to under $1 trillion, according to data from CoinMarketCap.com.Cryptocurrency analysts have no big fears that the growing inflation or elevated uncertainty regarding the economic climate could persist in the market as core dragging factors. Additionally, the belief that crypto assets offer a hedge against inflation is weakening as recent years' price increases have been thanks to excess market liquidity, which also led to the rise of the major tech stocks listed on the Nasdaq. The point is that both technology stocks and cryptocurrencies are exposed to the U.S. Federal Reserve's and other central banks' monetary tightening concerns. Investors are required to have more patience if they want to give their investments the best chance for profit-taking. Lee Sirgoo, one of the influential figures in the global crypto industry, as he is the chief executive at Dunamu, the operator of the country's largest cryptocurrency operator, Upbit, didn't deny that the crypto market is heading towards being more bearish than bullish. Institutional investors, who have kept their crypto assets in \"cold wallets,\" a type of digital wallet that stores cryptocurrency offline, have started unloading their holdings due to the worsening macro-economic conditions.\"Normally, big institutional investors don't store their cryptocurrency assets in exchanges, the amount of which is huge but out of circulation, as they use cold wallets. Amid higher crypto demand, this practice led to the increase in cryptocurrency prices. But they want to prepare for the risks associated to the additional fall in cryptocurrencies by reducing their crypto holdings, resulting in more supply and price fall,\" Lee said in a recent interview at its headquarters in Seoul.The CEO viewed that the cryptocurrency industry is facing \"credibility problems\" because risk contagion in the market is closely connected to such external shocks, which could lead to a \"butterfly effect.\" But Lee omitted saying that the continued market tumble could also lead the industry itself to face a structural downturn.\"When it comes to blockchain technology, making reward systems visible really matters. For example, if stocks could be issued as a type of coin, imminent transactions could happen 365 days a year and 24 hours a day. I just want to highlight that the technology behind cryptocurrencies is the most efficient way. Yes, it's still very necessary for blockchain network participants to consider a host of issues including the legal structure and governance model of a blockchain. We have three to five years or even more until standards mature and settle. However, everyone is talking about the price trend, which I don't think is desirable, given the potential of blockchain technology in many industrial areas,\" Lee said.While views are mixed over the validity of cryptocurrencies as some are saying that cryptocurrencies and even stablecoins are structurally flawed, as they won't replace normal money, the CEO said he disagrees with this view. Today's expanded role of \"smart contracts,\" tools that can automatically execute transactions once specific conditions are met without requiring the help of an intermediary. They are usually associated with Ethereum, a type of blockchain.\"Well, I would say there are some fundamental issues regarding the blockchain transition to the proof of the stake consensus algorithm. But the usage of smart contracts linked to ethereum is being widened and I can see conditions are becoming favorable as an improvement of reward systems is allowing market players to get involved with the release of blockchain-based services such as non-fungible tokens (NFTs), some of them are currently used in culture and arts industries,\" according to the chief executive. NFTs are the latest cryptocurrency phenomenon to go mainstream.Terra-Luna crash can't compare to dotcom bubble Could any \"good things\" emerge from TerraUSD's crash? Lee believes so. While he said that the collapse of the Terra stablecoin had caused the industry to see a rapid deterioration of investor sentiment, wiping out more than $200 billion, the downfall is part of the cryptocurrency world's \"growing pains.\"   By Kim Yoo-chul  Things are changing rapidly in the world of crypto.   Very recently, the global cryptocurrency market saw an extension of volatility even to stablecoins, mostly due to the huge collapse of the TerraUSD, a UST or algorithmic stablecoin, and its sister token, Luna ― which should theoretically maintain a 1:1 peg to a currency and commodity. Plus, because inflation remains too much of a force on central banks around the world, pressuring them to move expeditiously to bring the level back down by raising the benchmark rate sharply, more than 40 percent of crypto holders are now underwater in terms of their investments, according to analysts.  All of the numbers are just bad. The price of bitcoin, the benchmark cryptocurrency in the industry, has fallen below $21,000, data shown by market tracker investing.com said. This fall is a major break from the $31,000-to-$32,000 price range bitcoin had gotten into since the collapse of Terra's UST back in early May. This year, Bitcoin's prices have been slashed by over 50 percent of its all-time high of around $69,000 back in November 2021. The crypto market's total market capitalization has crashed to under $1 trillion, according to data from CoinMarketCap.com.  Cryptocurrency analysts have no big fears that the growing inflation or elevated uncertainty regarding the economic climate could persist in the market as core dragging factors. Additionally, the belief that crypto assets offer a hedge against inflation is weakening as recent years' price increases have been thanks to excess market liquidity, which also led to the rise of the major tech stocks listed on the Nasdaq.   The point is that both technology stocks and cryptocurrencies are exposed to the U.S. Federal Reserve's and other central banks' monetary tightening concerns. Investors are required to have more patience if they want to give their investments the best chance for profit-taking.   Lee Sirgoo, one of the influential figures in the global crypto industry, as he is the chief executive at Dunamu, the operator of the country's largest cryptocurrency operator, Upbit, didn't deny that the crypto market is heading towards being more bearish than bullish. Institutional investors, who have kept their crypto assets in \"cold wallets,\" a type of digital wallet that stores cryptocurrency offline, have started unloading their holdings due to the worsening macro-economic conditions.  \"Normally, big institutional investors don't store their cryptocurrency assets in exchanges, the amount of which is huge but out of circulation, as they use cold wallets. Amid higher crypto demand, this practice led to the increase in cryptocurrency prices. But they want to prepare for the risks associated to the additional fall in cryptocurrencies by reducing their crypto holdings, resulting in more supply and price fall,\" Lee said in a recent interview at its headquarters in Seoul.  The CEO viewed that the cryptocurrency industry is facing \"credibility problems\" because risk contagion in the market is closely connected to such external shocks, which could lead to a \"butterfly effect.\" But Lee omitted saying that the continued market tumble could also lead the industry itself to face a structural downturn.  \"When it comes to blockchain technology, making reward systems visible really matters. For example, if stocks could be issued as a type of coin, imminent transactions could happen 365 days a year and 24 hours a day. I just want to highlight that the technology behind cryptocurrencies is the most efficient way. Yes, it's still very necessary for blockchain network participants to consider a host of issues including the legal structure and governance model of a blockchain. We have three to five years or even more until standards mature and settle. However, everyone is talking about the price trend, which I don't think is desirable, given the potential of blockchain technology in many industrial areas,\" Lee said.  While views are mixed over the validity of cryptocurrencies as some are saying that cryptocurrencies and even stablecoins are structurally flawed, as they won't replace normal money, the CEO said he disagrees with this view. Today's expanded role of \"smart contracts,\" tools that can automatically execute transactions once specific conditions are met without requiring the help of an intermediary. They are usually associated with Ethereum, a type of blockchain.  \"Well, I would say there are some fundamental issues regarding the blockchain transition to the proof of the stake consensus algorithm. But the usage of smart contracts linked to ethereum is being widened and I can see conditions are becoming favorable as an improvement of reward systems is allowing market players to get involved with the release of blockchain-based services such as non-fungible tokens (NFTs), some of them are currently used in culture and arts industries,\" according to the chief executive. NFTs are the latest cryptocurrency phenomenon to go mainstream.  Terra-Luna crash can't compare to dotcom bubble   Could any \"good things\" emerge from TerraUSD's crash? Lee believes so.   While he said that the collapse of the Terra stablecoin had caused the industry to see a rapid deterioration of investor sentiment, wiping out more than $200 billion, the downfall is part of the cryptocurrency world's \"growing pains.\"  Regarding questions as to whether he views Terra-Luna event as a \"Ponzi scheme,\" he didn't clearly communicate a definitive yes or no answer. However, he stressed that the Terra-Luna crash would have a limited impact on the market. \"This assessment is based on my belief that the crypto industry will continue to evolve as is it has been doing all along.\"\"The top noticeable point for the Terra-Luna project is that it doesn't require deposits as it uses a peg approach, which won backing from investors, as this development was viewed as an alternative way to 'stay in cash' without relying on the fiat financial system. Its algorithm design was very creative. But the Terra-Luna crash awakened the need for the industry to have systems in terms of factoring in unpredictability to keep the crypto ecosystem working.\"Experts said that the Terra-Luna collapse might prove the catalyst for possible tougher regulation of the industry and may accelerate the new Korean government's efforts to regulate stablecoins. Lee wants to keep lots of communication channels open with authorities handling the crypto-related issues.\"I don't think the Terra-Luna crash will play out like the dotcom bubble back in late 1990s and early 2000s. In the dotcom era, attention had too much focused on negative factors. Yes, there were lots of schemes, plots and lies in the early age of the internet business. But these were steps in creating companies that could never be done before. Think about Naver, Kakao and NC. Blockchain technology will also produce new business models. In terms of regulatory framework, I was hoping for regulations to focus more on positive aspects of the industry,\" he said.  Regarding questions as to whether he views Terra-Luna event as a \"Ponzi scheme,\" he didn't clearly communicate a definitive yes or no answer. However, he stressed that the Terra-Luna crash would have a limited impact on the market. \"This assessment is based on my belief that the crypto industry will continue to evolve as is it has been doing all along.\"  \"The top noticeable point for the Terra-Luna project is that it doesn't require deposits as it uses a peg approach, which won backing from investors, as this development was viewed as an alternative way to 'stay in cash' without relying on the fiat financial system. Its algorithm design was very creative. But the Terra-Luna crash awakened the need for the industry to have systems in terms of factoring in unpredictability to keep the crypto ecosystem working.\"  Experts said that the Terra-Luna collapse might prove the catalyst for possible tougher regulation of the industry and may accelerate the new Korean government's efforts to regulate stablecoins. Lee wants to keep lots of communication channels open with authorities handling the crypto-related issues.  \"I don't think the Terra-Luna crash will play out like the dotcom bubble back in late 1990s and early 2000s. In the dotcom era, attention had too much focused on negative factors. Yes, there were lots of schemes, plots and lies in the early age of the internet business. But these were steps in creating companies that could never be done before. Think about Naver, Kakao and NC. Blockchain technology will also produce new business models. In terms of regulatory framework, I was hoping for regulations to focus more on positive aspects of the industry,\" he said.  South Korea, a hotbed for crypto trading activity, is being inclined to tighten regulations on listings and make it even more difficult for foreign tokens to list on Korean exchanges, a move which is raising some concerns from the crypto industry, as doing so can discourage projects from even being tried. \"I hope authorities don't remain hawkish regarding the cryptocurrency industry just because of concerns brought about by the Terra-Luna crash.\"He suggested the idea of having a \"grace period,\" which lets the industry self-regulate and self-monitor to protect investors from a Terra-like repeat. \"Based on analysis of an experimental session, we can begin talks on how to better set up regulatory frameworks. But do we actually need a 'control tower' to oversee regulating the industry? Regulators should combat activities via anti-money laundering (AML) because money laundering is a criminal act. However, that doesn't mean that the industry should constantly be checked.\"ICOs should be permitted Regarding initial coin offerings (ICOs), which the country banned in 2017, Lee said Korea should approve ICOs as early as possible. \"Now, the country doesn't have an issuance market, as it only has a distribution market resulting in investors seeking ICOs in Switzerland and others. I believe ICOs should be permitted and we have to have the methodology and principles regarding the issuance of coins.\"According to Lee, the desirable path toward ICO regulations would require a thorough examination of applicable financial reporting and investment requirements. But it's debatable whether or not to view cryptocurrency as securities or commodities. \"We have a lot of digital coins and that means we need to have different rules according to different functions of digital coins available.\" Views are that crypto is more like securities as people invest them for return on investment; however, some were saying bitcoin is a commodity as it's a form of value in the same way that gold is a form of value, in the same way that oil is a form of value.ICO is the crypto version of an IPO in the stock market. Unlike the stock market, due to the lack of regulation, ICOs are considered as very risky \"Because crypto exchanges have their own standard in evaluating business projects, ICOs will be the custom way to sort out 'bad ideas' and to help investors invest in applicable ideas at the very beginning. Yoon administration has a positive stance toward ICOs. The ICO issue is a matter of methodology.\" The financial authorities are considering mandating ICO hopefuls to submit investor prospectuses, security declarations, detailed information on transaction risks, associated taxes and fees with the money raised from the ICO should be deposited to a bank for the release of detailed accounting reports.The chief executive said despite such challenging factors, which led to what some crypto investors are dubbing as a \"crypto winter,\" the market's high volatility won't be permanent. Lee ended the interview with a reassuring note for digital coin investors: \"The cryto party isn't over yet.\"  South Korea, a hotbed for crypto trading activity, is being inclined to tighten regulations on listings and make it even more difficult for foreign tokens to list on Korean exchanges, a move which is raising some concerns from the crypto industry, as doing so can discourage projects from even being tried. \"I hope authorities don't remain hawkish regarding the cryptocurrency industry just because of concerns brought about by the Terra-Luna crash.\"  He suggested the idea of having a \"grace period,\" which lets the industry self-regulate and self-monitor to protect investors from a Terra-like repeat. \"Based on analysis of an experimental session, we can begin talks on how to better set up regulatory frameworks. But do we actually need a 'control tower' to oversee regulating the industry? Regulators should combat activities via anti-money laundering (AML) because money laundering is a criminal act. However, that doesn't mean that the industry should constantly be checked.\"  ICOs should be permitted   Regarding initial coin offerings (ICOs), which the country banned in 2017, Lee said Korea should approve ICOs as early as possible. \"Now, the country doesn't have an issuance market, as it only has a distribution market resulting in investors seeking ICOs in Switzerland and others. I believe ICOs should be permitted and we have to have the methodology and principles regarding the issuance of coins.\"  According to Lee, the desirable path toward ICO regulations would require a thorough examination of applicable financial reporting and investment requirements. But it's debatable whether or not to view cryptocurrency as securities or commodities.   \"We have a lot of digital coins and that means we need to have different rules according to different functions of digital coins available.\" Views are that crypto is more like securities as people invest them for return on investment; however, some were saying bitcoin is a commodity as it's a form of value in the same way that gold is a form of value, in the same way that oil is a form of value.  ICO is the crypto version of an IPO in the stock market. Unlike the stock market, due to the lack of regulation, ICOs are considered as very risky   \"Because crypto exchanges have their own standard in evaluating business projects, ICOs will be the custom way to sort out 'bad ideas' and to help investors invest in applicable ideas at the very beginning. Yoon administration has a positive stance toward ICOs. The ICO issue is a matter of methodology.\" The financial authorities are considering mandating ICO hopefuls to submit investor prospectuses, security declarations, detailed information on transaction risks, associated taxes and fees with the money raised from the ICO should be deposited to a bank for the release of detailed accounting reports.  The chief executive said despite such challenging factors, which led to what some crypto investors are dubbing as a \"crypto winter,\" the market's high volatility won't be permanent.   Lee ended the interview with a reassuring note for digital coin investors: \"The cryto party isn't over yet.\" \n"
     ]
    },
    {
     "name": "stderr",
     "output_type": "stream",
     "text": [
      "convert squad examples to features: 100%|██████████| 1/1 [00:00<00:00,  6.34it/s]\n",
      "add example index and unique id: 100%|██████████| 1/1 [00:00<00:00, 16777.22it/s]\n"
     ]
    },
    {
     "data": {
      "application/vnd.jupyter.widget-view+json": {
       "model_id": "9035a5e13109482db54fe19075395730",
       "version_major": 2,
       "version_minor": 0
      },
      "text/plain": [
       "Running Prediction:   0%|          | 0/1 [00:00<?, ?it/s]"
      ]
     },
     "metadata": {},
     "output_type": "display_data"
    },
    {
     "name": "stderr",
     "output_type": "stream",
     "text": [
      "2022-07-15 13:44:40,872 - 322050 - simpletransformers.question_answering.question_answering_model - INFO -  Converting to features started.\n"
     ]
    },
    {
     "name": "stdout",
     "output_type": "stream",
     "text": [
      "Kakao Mobility grapples with staff jitters of potential sell-off  Almost half Kakao Mobility employees join labor union this weekBy Park Jae-hyukKakao Mobility CEO Ryu Geung-seon held a meeting Friday with employees who are concerned about the possibility of the company's largest shareholder, Kakao, selling around 40 percent of its 57.5 percent stake in the subsidiary to a private equity firm.Ryu is said to have held the meeting to reassure employees by explaining the company's current situation and its plans. Kakao Mobility did not disclose what he said, although a spokesperson confirmed that the meeting was held on Friday afternoon.The meeting took place three days after Ryu sent a message to Kakao Mobility employees that even if its shareholder structure changes, it will not infringe on their rights. As his message did not rule out the possibility of the sell-off, fears have grown further among the employees.In addition, Kakao has not denied the news that it is in talks with MBK Partners to sell its stake in Kakao Mobility, although both sides have not confirmed the rumor.\"For the improvement in Kakao's shareholder value and Kakao Mobility's continuous growth, we are considering various measures, but nothings has been decided yet,\" Kakao said in a regulatory filing, Wednesday.The ambiguous stance has prompted almost half the employees at Kakao Mobility to join the union.Among around 700 Kakao Mobility employees, around 300 decided this week to join Crew Union, a group of unionized workers of Kakao and its affiliates, according to industry officials. Before rumors of a sell-off spread, the number of Kakao Mobility's unionized workers stood at only around 70.Their latest decision has been widely interpreted as part of efforts to gain the upper hand in a potential negotiation with the new owner of their company. The workers are expected to ask for job security and compensation for the sell-off.Seo Seung-wook, the leader of Crew Union, was unavailable for comment on Friday afternoon.Industry officials have speculated that growing uncertainties about Kakao Mobility's initial public offering (IPO) forced Kakao to unload its mobility subsidiary.According to the officials, Kakao has to compensate its foreign shareholders, including U.S. investment firm TPG, unless it fulfills its promise to list Kakao Mobility on the stock market by the end of this year.Last August, Kakao Mobility kicked off an IPO process, sending a request for proposal to securities firms here and abroad to select underwriters. However, it abruptly delayed the process last September, amid growing concerns over the government's intensifying regulations on Kakao's overall businesses at that time.Kakao Mobility hired Credit Suisse, Morgan Stanley, Citigroup, Korea Investment & Securities and Daishin Securities as underwriters in March, raising the possibility of the IPO process getting back on track. But bearish market conditions have made it difficult for Kakao to make a significant profit from the listing of Kakao Mobility. During the first six months of this year, at least six companies dropped their plans to go public.The intensifying regulations on Kakao Mobility's business after its conflict with taxi drivers are also mentioned as possible reasons for Kakao's decision to sell its stake in Kakao Mobility.  By Park Jae-hyuk  Kakao Mobility CEO Ryu Geung-seon held a meeting Friday with employees who are concerned about the possibility of the company's largest shareholder, Kakao, selling around 40 percent of its 57.5 percent stake in the subsidiary to a private equity firm.  Ryu is said to have held the meeting to reassure employees by explaining the company's current situation and its plans. Kakao Mobility did not disclose what he said, although a spokesperson confirmed that the meeting was held on Friday afternoon.  The meeting took place three days after Ryu sent a message to Kakao Mobility employees that even if its shareholder structure changes, it will not infringe on their rights. As his message did not rule out the possibility of the sell-off, fears have grown further among the employees.  In addition, Kakao has not denied the news that it is in talks with MBK Partners to sell its stake in Kakao Mobility, although both sides have not confirmed the rumor.  \"For the improvement in Kakao's shareholder value and Kakao Mobility's continuous growth, we are considering various measures, but nothings has been decided yet,\" Kakao said in a regulatory filing, Wednesday.  The ambiguous stance has prompted almost half the employees at Kakao Mobility to join the union.  Among around 700 Kakao Mobility employees, around 300 decided this week to join Crew Union, a group of unionized workers of Kakao and its affiliates, according to industry officials. Before rumors of a sell-off spread, the number of Kakao Mobility's unionized workers stood at only around 70.  Their latest decision has been widely interpreted as part of efforts to gain the upper hand in a potential negotiation with the new owner of their company. The workers are expected to ask for job security and compensation for the sell-off.  Seo Seung-wook, the leader of Crew Union, was unavailable for comment on Friday afternoon.  Industry officials have speculated that growing uncertainties about Kakao Mobility's initial public offering (IPO) forced Kakao to unload its mobility subsidiary.  According to the officials, Kakao has to compensate its foreign shareholders, including U.S. investment firm TPG, unless it fulfills its promise to list Kakao Mobility on the stock market by the end of this year.  Last August, Kakao Mobility kicked off an IPO process, sending a request for proposal to securities firms here and abroad to select underwriters. However, it abruptly delayed the process last September, amid growing concerns over the government's intensifying regulations on Kakao's overall businesses at that time.  Kakao Mobility hired Credit Suisse, Morgan Stanley, Citigroup, Korea Investment & Securities and Daishin Securities as underwriters in March, raising the possibility of the IPO process getting back on track. But bearish market conditions have made it difficult for Kakao to make a significant profit from the listing of Kakao Mobility. During the first six months of this year, at least six companies dropped their plans to go public.  The intensifying regulations on Kakao Mobility's business after its conflict with taxi drivers are also mentioned as possible reasons for Kakao's decision to sell its stake in Kakao Mobility. \n"
     ]
    },
    {
     "name": "stderr",
     "output_type": "stream",
     "text": [
      "convert squad examples to features: 100%|██████████| 1/1 [00:00<00:00, 20.48it/s]\n",
      "add example index and unique id: 100%|██████████| 1/1 [00:00<00:00, 14266.34it/s]\n"
     ]
    },
    {
     "data": {
      "application/vnd.jupyter.widget-view+json": {
       "model_id": "9380526b457e46458c39f4448cb85163",
       "version_major": 2,
       "version_minor": 0
      },
      "text/plain": [
       "Running Prediction:   0%|          | 0/1 [00:00<?, ?it/s]"
      ]
     },
     "metadata": {},
     "output_type": "display_data"
    },
    {
     "name": "stderr",
     "output_type": "stream",
     "text": [
      "2022-07-15 13:44:41,884 - 322050 - simpletransformers.question_answering.question_answering_model - INFO -  Converting to features started.\n"
     ]
    },
    {
     "name": "stdout",
     "output_type": "stream",
     "text": [
      "[ANALYSIS] How Samsung could react to Intel CEO's visit  Rare Gelsinger-Lee meeting at Samsung headquarters in Seoul raises expectations beyond today's collaboration By Kim Yoo-chulIntel's chief executive Pat Gelsinger's recent visit to Samsung raised lots of expectations in the global tech world, especially regarding the Korean tech giant's updated stance on mergers and acquisitions (M&As), as the company said recently it's on track to strike \"sizable M&A deals.\" Regarding the specifics of Gelsinger's meeting with Samsung leader Lee Jae-yong, Samsung representatives in Seoul said the pair \"discussed how to cooperate between the two companies.\" It's unclear if their meeting went beyond the reaffirmation of the two sides' long-standing partnership, or was just aimed at chit-chatting while Gelsinger was in Seoul as part of his Asia tour.But according to sources contacted by The Korea Times, all of whom are familiar with Samsung- and semiconductor-related issues, whatever was discussed is of great interest, for a variety of reasons. The bottom line is that Samsung plans to invest a whopping 450 trillion won with a focus on semiconductors and the bio industry. From the budget announced, Samsung is looking to invest at least 20 percent in business ideas that will help strengthen its core competiveness.Intel has 'structural' problems; Samsung's core businesses challengedReports said given the two companies' moves in searching for partners to jointly acquire stakes in U.K.-based chip designer Arm, Lee and Gelsinger might have touched on the possibility for the two companies to create a consortium of sorts to acquire Arm. The establishment of a consortium made up of Arm's clients would ease concerns regarding any antitrust issues raised by regulators in China, the United States and Europe. Therefore, doing this would make the deal go through quite quickly. Mobile chipset titan Qualcomm confirmed its intention to jointly acquire Arm stakes with partners, while SK hynix is also ready to join a consortium for Arm. But still, SoftBank, Arm's top stakeholder, said it plans to list Arm as soon as possible, and added it aims to maintain a majority stake after an initial public offering (IPO), which may happen within the fiscal year ending March 31, 2023.   By Kim Yoo-chul  Intel's chief executive Pat Gelsinger's recent visit to Samsung raised lots of expectations in the global tech world, especially regarding the Korean tech giant's updated stance on mergers and acquisitions (M&As), as the company said recently it's on track to strike \"sizable M&A deals.\"   Regarding the specifics of Gelsinger's meeting with Samsung leader Lee Jae-yong, Samsung representatives in Seoul said the pair \"discussed how to cooperate between the two companies.\" It's unclear if their meeting went beyond the reaffirmation of the two sides' long-standing partnership, or was just aimed at chit-chatting while Gelsinger was in Seoul as part of his Asia tour.  But according to sources contacted by The Korea Times, all of whom are familiar with Samsung- and semiconductor-related issues, whatever was discussed is of great interest, for a variety of reasons.   The bottom line is that Samsung plans to invest a whopping 450 trillion won with a focus on semiconductors and the bio industry. From the budget announced, Samsung is looking to invest at least 20 percent in business ideas that will help strengthen its core competiveness.   Reports said given the two companies' moves in searching for partners to jointly acquire stakes in U.K.-based chip designer Arm, Lee and Gelsinger might have touched on the possibility for the two companies to create a consortium of sorts to acquire Arm. The establishment of a consortium made up of Arm's clients would ease concerns regarding any antitrust issues raised by regulators in China, the United States and Europe.   Therefore, doing this would make the deal go through quite quickly. Mobile chipset titan Qualcomm confirmed its intention to jointly acquire Arm stakes with partners, while SK hynix is also ready to join a consortium for Arm. But still, SoftBank, Arm's top stakeholder, said it plans to list Arm as soon as possible, and added it aims to maintain a majority stake after an initial public offering (IPO), which may happen within the fiscal year ending March 31, 2023.  But a senior industry executive said while Samsung had considered acquiring a minor stake in Arm, it started reevaluating Arm recently, as a small stake won't bring sustainable profit and it also wants to avoid any conflict of interest with its clients ― a key lessen Samsung learned from its long fight with Apple.The executive claimed that Gelsinger shared Intel's ongoing difficulties in both technology development and investments during his meeting with the Samsung leader, adding it's feasible for Samsung Electronics to acquire a major stake in Intel.\"As the smartphone industry won't be stronger than it was before, Samsung has no clear reason to acquire a stake in Arm, as it already uses the Arm architecture and has a weaker presence beyond its mobile devices. We have to put more focus on the details of Gelsinger's recent Stratechery interview, in which he said that he never wants to be in memory,\" the executive added. During the interview, Gelsinger said, \"I never want to be in memory, you see I'm doing everything I can to exit our memory businesses in that regard.\" Plus, because Wall Street investors have questions about the validity of the current and future paths of Intel's IDM 2.0 services, Gelsinger said his budget isn't going to be carved up between memory and logic and added it's all about logic.Intel is no longer a semiconductor company that produces the most advanced chips, having long ceded that title to TSMC and Samsung. These two Asian companies are looking good in terms of possessing the extreme ultraviolet lithography (EUV) technology needed to manufacture premium chips. Intel's technology roadmap announced recently failed to reflect investors' expectations, due to capital challenges raised over an ongoing semiconductor shortage and Intel's huge struggle with its Optane memory business. This calls into question the possibility of payoffs of its announced multi-billion-dollar investment for fabrication lines in the U.S. state of Ohio and other purposes. Samsung is already a leader in Compute Express Link (CXL), although a lot of its memory is designed to operate inside Intel servers.Intel stock problems haven't gone away. Its stocks fell below $40 last week in New York from a 52-week high of $58.42.Eyeing stakes in Intel? The question is can Samsung review the possibility of acquiring stakes in Intel? Could it be worth thinking? What benefits can Samsung get?  But a senior industry executive said while Samsung had considered acquiring a minor stake in Arm, it started reevaluating Arm recently, as a small stake won't bring sustainable profit and it also wants to avoid any conflict of interest with its clients ― a key lessen Samsung learned from its long fight with Apple.  The executive claimed that Gelsinger shared Intel's ongoing difficulties in both technology development and investments during his meeting with the Samsung leader, adding it's feasible for Samsung Electronics to acquire a major stake in Intel.  \"As the smartphone industry won't be stronger than it was before, Samsung has no clear reason to acquire a stake in Arm, as it already uses the Arm architecture and has a weaker presence beyond its mobile devices. We have to put more focus on the details of Gelsinger's recent Stratechery interview, in which he said that he never wants to be in memory,\" the executive added.   During the interview, Gelsinger said, \"I never want to be in memory, you see I'm doing everything I can to exit our memory businesses in that regard.\"   Plus, because Wall Street investors have questions about the validity of the current and future paths of Intel's IDM 2.0 services, Gelsinger said his budget isn't going to be carved up between memory and logic and added it's all about logic.  Intel is no longer a semiconductor company that produces the most advanced chips, having long ceded that title to TSMC and Samsung. These two Asian companies are looking good in terms of possessing the extreme ultraviolet lithography (EUV) technology needed to manufacture premium chips.   Intel's technology roadmap announced recently failed to reflect investors' expectations, due to capital challenges raised over an ongoing semiconductor shortage and Intel's huge struggle with its Optane memory business. This calls into question the possibility of payoffs of its announced multi-billion-dollar investment for fabrication lines in the U.S. state of Ohio and other purposes. Samsung is already a leader in Compute Express Link (CXL), although a lot of its memory is designed to operate inside Intel servers.  Intel stock problems haven't gone away. Its stocks fell below $40 last week in New York from a 52-week high of $58.42.   The question is can Samsung review the possibility of acquiring stakes in Intel? Could it be worth thinking? What benefits can Samsung get?  The sources said given the \"sense of urgency\" that Samsung is feeling with challenges facing all its core businesses other than memory chips, from Samsung's viewpoint, it's worth considering making a direct investment into Intel.\"If Samsung acquires a stake between 20 percent and 30 percent in Intel, it would be a significant move on Samsung's stated goal to further cement its leadership in the memory business and expand its foundry business, given Intel's broadened foundry service portfolio,\" another industry executive said. Intel's current valuation is at about $176.79 billion, according to market research firms. SK hynix already acquired Intel's NAND flash business for $9 billion.Institutional investors hold a majority ownership in Intel, controlling 63.88 percent of outstanding shares. Samsung's cash- and cash-equivalent assets in the first quarter of this year reached 124 trillion won ($96 billion), market research firms said. In 2017, Samsung acquired Harman International for $8 billion. No large-scale M&A deals have been made since then.The sources said the estimated cost for the given range of share sizes would vary between 55 trillion won and 65 trillion won. As Samsung's credit rating is good enough, it could hedge against investment risks through financial help from outside investors, if needed. \"It's worth thinking about how Intel would be positioned under the current management because the company is highly likely to shift its business model from that of integrated device manufacturing (IDM)-focused to a hybrid-driven business model with more focus on production outsourcing,\" Kim Sun-woo, an analyst at Meritz Investment in Seoul, said in a recent report. Intel is the top manufacturer of PC microprocessors and the holder of the x86 processor architecture patent.   The sources said given the \"sense of urgency\" that Samsung is feeling with challenges facing all its core businesses other than memory chips, from Samsung's viewpoint, it's worth considering making a direct investment into Intel.  \"If Samsung acquires a stake between 20 percent and 30 percent in Intel, it would be a significant move on Samsung's stated goal to further cement its leadership in the memory business and expand its foundry business, given Intel's broadened foundry service portfolio,\" another industry executive said. Intel's current valuation is at about $176.79 billion, according to market research firms. SK hynix already acquired Intel's NAND flash business for $9 billion.  Institutional investors hold a majority ownership in Intel, controlling 63.88 percent of outstanding shares. Samsung's cash- and cash-equivalent assets in the first quarter of this year reached 124 trillion won ($96 billion), market research firms said. In 2017, Samsung acquired Harman International for $8 billion. No large-scale M&A deals have been made since then.  The sources said the estimated cost for the given range of share sizes would vary between 55 trillion won and 65 trillion won. As Samsung's credit rating is good enough, it could hedge against investment risks through financial help from outside investors, if needed.   \"It's worth thinking about how Intel would be positioned under the current management because the company is highly likely to shift its business model from that of integrated device manufacturing (IDM)-focused to a hybrid-driven business model with more focus on production outsourcing,\" Kim Sun-woo, an analyst at Meritz Investment in Seoul, said in a recent report. Intel is the top manufacturer of PC microprocessors and the holder of the x86 processor architecture patent.   Samsung recently hired chip investment banker Marco Chisari, who previously worked at Credit Suisse, JPMorgan Chase, GlobalFoundries and Bank of America Merrill Lynch, where he managed M&As, according to his LinkedIn profile. Bank of America was the key adviser on sizable M&As in the semiconductor industry, including Xilinx's $35 billion sale to Advanced Micro Devices (AMD).What to note from that example is that both Samsung and Intel have aggressive plans to expand their position in the lucrative foundry space, but both these companies have yet to win significant bulk orders from major chip design rivals, said analysts. Chip foundries manufacture semiconductors for third parties. \"U.S. President Joe Biden's visit to Samsung's semiconductor factory in Pyeongtaek and Samsung's opening of the current status of chip development using a 3-nanometer-level manufacturing technology illustrate its growing confidence in terms of providing a stable supply of advanced chips when requested. The deepening semiconductor alliance between Seoul and Washington can help Samsung Electronics win more foundry customers in the United States, many of which are using TSMC for chip manufacturing,\" said Park Jae-keun, chairman of the Korean Society of Semiconductor and Display Technology.But despite Intel's lackluster performance and falling behind in process technology, its foundry business has a rich client portfolio and some of its clients overlap with Samsung's ― AMD, Qualcomm, Nvidia and Broadcom. An acquisition of a stake in Intel could possibly help Samsung broaden its foundry customer base, as the world's top memory chipmaker could offer better wafer pricing with high quality, they said.\"A lot of challenges still remain for Intel and Samsung at least in the foundry business. If the two companies share proprietary data relevant to the foundry business and vow to provide guaranteed service with better pricing, then that will be beneficial to both, given Intel's transition to logic chips and Samsung's shift towards the foundry business,\" an industry source said. Last month, Samsung Executive Vice President Kang Moon-soo told investors that worries about its foundry business \"are excessive and unfounded,\" adding it is back on the expected yield improvement curve. A senior executive in the investment management company said that while Samsung Electronics is eligible to get trust and credits thanks to its long-term commitment in the United States and its solid support for the Biden administration's chip alliance initiative, Washington holds the key to making this scenario actually happen.  Samsung recently hired chip investment banker Marco Chisari, who previously worked at Credit Suisse, JPMorgan Chase, GlobalFoundries and Bank of America Merrill Lynch, where he managed M&As, according to his LinkedIn profile. Bank of America was the key adviser on sizable M&As in the semiconductor industry, including Xilinx's $35 billion sale to Advanced Micro Devices (AMD).  What to note from that example is that both Samsung and Intel have aggressive plans to expand their position in the lucrative foundry space, but both these companies have yet to win significant bulk orders from major chip design rivals, said analysts. Chip foundries manufacture semiconductors for third parties.   \"U.S. President Joe Biden's visit to Samsung's semiconductor factory in Pyeongtaek and Samsung's opening of the current status of chip development using a 3-nanometer-level manufacturing technology illustrate its growing confidence in terms of providing a stable supply of advanced chips when requested. The deepening semiconductor alliance between Seoul and Washington can help Samsung Electronics win more foundry customers in the United States, many of which are using TSMC for chip manufacturing,\" said Park Jae-keun, chairman of the Korean Society of Semiconductor and Display Technology.  But despite Intel's lackluster performance and falling behind in process technology, its foundry business has a rich client portfolio and some of its clients overlap with Samsung's ― AMD, Qualcomm, Nvidia and Broadcom. An acquisition of a stake in Intel could possibly help Samsung broaden its foundry customer base, as the world's top memory chipmaker could offer better wafer pricing with high quality, they said.  \"A lot of challenges still remain for Intel and Samsung at least in the foundry business. If the two companies share proprietary data relevant to the foundry business and vow to provide guaranteed service with better pricing, then that will be beneficial to both, given Intel's transition to logic chips and Samsung's shift towards the foundry business,\" an industry source said.   Last month, Samsung Executive Vice President Kang Moon-soo told investors that worries about its foundry business \"are excessive and unfounded,\" adding it is back on the expected yield improvement curve.   A senior executive in the investment management company said that while Samsung Electronics is eligible to get trust and credits thanks to its long-term commitment in the United States and its solid support for the Biden administration's chip alliance initiative, Washington holds the key to making this scenario actually happen.  \n"
     ]
    },
    {
     "name": "stderr",
     "output_type": "stream",
     "text": [
      "convert squad examples to features: 100%|██████████| 1/1 [00:00<00:00,  6.89it/s]\n",
      "add example index and unique id: 100%|██████████| 1/1 [00:00<00:00, 11244.78it/s]\n"
     ]
    },
    {
     "data": {
      "application/vnd.jupyter.widget-view+json": {
       "model_id": "ecbafd6c9a3e4f789d59c1f95103da18",
       "version_major": 2,
       "version_minor": 0
      },
      "text/plain": [
       "Running Prediction:   0%|          | 0/1 [00:00<?, ?it/s]"
      ]
     },
     "metadata": {},
     "output_type": "display_data"
    },
    {
     "name": "stderr",
     "output_type": "stream",
     "text": [
      "2022-07-15 13:44:43,919 - 322050 - simpletransformers.question_answering.question_answering_model - INFO -  Converting to features started.\n"
     ]
    },
    {
     "name": "stdout",
     "output_type": "stream",
     "text": [
      "Brent near $80 amid “supply” concerns Oil prices rose yesterday morning, for the fifth day in a row, and Brent reached its highest level since October 2018, and is heading towards $ 80 a barrel, amid concerns about supply, at a time when demand is increasing in some regions of the world with the easing of measures to combat the “Corona” pandemic. Brent crude rose $1.15, or 1.5 percent, to $79.24 a barrel, after it recorded its third consecutive weekly increase last week. US crude rose $1.07, or 1.5 percent, to $75.05 a barrel, which is close to its highest price since July, after recording its fifth consecutive weekly increase last week. Goldman Sachs raised its forecast for the price of Brent crude by the end of the year by ten dollars to $ 90 a barrel due to the recovery in fuel demand at a faster than expected rate from the repercussions of the spread of the delta mutated from the Corona virus and the impact of Hurricane “Ida” on American production, which led to a decrease in global supplies. Goldman Sachs said: “We have long had a positive outlook for oil prices, but the deficit between supply and demand is currently larger than our expectations, with global demand recovering from the impact of the delta shift faster than our previous unanimous expectations and with global supplies remaining at levels lower than our previous expectations.” The recovery in demand surprised the member countries of the Organization of the Petroleum Exporting Countries (OPEC) and its allies, the group known as “OPEC +”, and they faced difficulties in raising production with the continued lack of investments and the postponement of maintenance work due to the pandemic.\n",
      " ADNOC Drilling On the other hand, the Abu Dhabi National Oil Company (ADNOC) said that it had completed the registration of purchase orders in the first public offering of its ADNOC Drilling unit, and raised more than $1.1 billion. And it added, in a statement, that the offering was covered more than once, with the total order value exceeding $34 billion. \"Upon settlement, ADNOC Drilling's IPO will be the largest ever on the Abu Dhabi Stock Exchange, further strengthening the capital markets in Abu Dhabi and the UAE,\" the statement said. A tranche of 10 percent was specified for individual investors from the UAE, an 86 percent tranche for local, regional and international investment institutions, and the remaining 4 percent was allocated to ADNOC employees and retirees in the Emirates. ADNOC said the listing is expected on October 3. ADNOC will retain a majority stake of 84 percent in the unit, and Baker Hughes will retain its 5 percent stake.\n"
     ]
    },
    {
     "name": "stderr",
     "output_type": "stream",
     "text": [
      "convert squad examples to features: 100%|██████████| 1/1 [00:00<00:00, 36.68it/s]\n",
      "add example index and unique id: 100%|██████████| 1/1 [00:00<00:00, 17549.39it/s]\n"
     ]
    },
    {
     "data": {
      "application/vnd.jupyter.widget-view+json": {
       "model_id": "793e794bac1f455597a86851280f817d",
       "version_major": 2,
       "version_minor": 0
      },
      "text/plain": [
       "Running Prediction:   0%|          | 0/1 [00:00<?, ?it/s]"
      ]
     },
     "metadata": {},
     "output_type": "display_data"
    },
    {
     "name": "stderr",
     "output_type": "stream",
     "text": [
      "2022-07-15 13:44:44,895 - 322050 - simpletransformers.question_answering.question_answering_model - INFO -  Converting to features started.\n"
     ]
    },
    {
     "name": "stdout",
     "output_type": "stream",
     "text": [
      "Agility: Tristar prepares for initial public offering in Dubai Agility Public Warehousing Company revealed the intention of Tristar Company (under establishment), 65.12 percent owned by Agility, to proceed with the initial public offering on the Dubai Financial Market. Agility said that the size of the offering is expected to represent up to 24% of the total issued ordinary shares in the capital of Tristar after the offering in the event that all the shares of the offering are allotted, which includes 199 million new shares issued by the company, in addition to A secondary offering of up to 88.76 million existing shares by existing shareholders. The offering is expected to be reserved for certain types of legal persons and high net worth individuals who are qualified investors as they are known by the UAE Securities and Commodities Authority, with a minimum order size of AED 500,000.\n",
      " Tristar expects to receive between 120 and 160 million dollars (36 and 48 million dinars) from the total initial proceeds from the offering. It is likely that the offering will be completed in April 2021, subject to market conditions and obtaining relevant regulatory approvals in the UAE, including obtaining approvals from the Securities and Commodities Authority. Furthermore, it is expected that the offering will be declared in compliance with Islamic Shari'a principles, subject to confirmation by the Shari'a Supervisory Committee. It indicated that a consortium of banks has been appointed to manage the offering of shares, and the price will be determined by following the share price building mechanism. Upon completion of the public offering, it is expected that Agility will own 50.14 percent of Tristar shares, as it will be offered under the public offering of 14.98% of its current 65.12 percent ownership in the company.\n"
     ]
    },
    {
     "name": "stderr",
     "output_type": "stream",
     "text": [
      "convert squad examples to features: 100%|██████████| 1/1 [00:00<00:00, 48.94it/s]\n",
      "add example index and unique id: 100%|██████████| 1/1 [00:00<00:00, 10433.59it/s]\n"
     ]
    },
    {
     "data": {
      "application/vnd.jupyter.widget-view+json": {
       "model_id": "acafdd2ffe1043e897c7bf4de33f05d4",
       "version_major": 2,
       "version_minor": 0
      },
      "text/plain": [
       "Running Prediction:   0%|          | 0/1 [00:00<?, ?it/s]"
      ]
     },
     "metadata": {},
     "output_type": "display_data"
    },
    {
     "name": "stderr",
     "output_type": "stream",
     "text": [
      "2022-07-15 13:44:45,387 - 322050 - simpletransformers.question_answering.question_answering_model - INFO -  Converting to features started.\n"
     ]
    },
    {
     "name": "stdout",
     "output_type": "stream",
     "text": [
      "A competitor to “Tik Tok” is preparing for the largest IPO of a technology company since “Uber” Chinese video app Quizhou and TikTok competitor are preparing to raise $5.4 billion from its initial public offering on the Hong Kong Stock Exchange, the Financial Times reports. The IPO is estimated to value the company at $61.7 billion, and could be the largest IPO of a technology company since Uber Technologies went public in 2019. Shares for the Tencent-backed company are expected to be in the range of HK$105 (13.55). US dollars) to 115 Hong Kong dollars (14.84 US dollars).\n",
      " It is scheduled to start receiving investor requests on January 29, as it is expected to be listed on the stock exchange on February 5, and it aims to sell 365 million shares. Tencent owns a 21.6% stake in the Chinese company, and among the supporters are DCM and DST Global. The total number of daily active users through the application reached 262 million by September, while its revenue increased by about 49% to 40.7 billion yuan. ($6.3 billion) in the first 9 months of 2020.\n"
     ]
    },
    {
     "name": "stderr",
     "output_type": "stream",
     "text": [
      "convert squad examples to features: 100%|██████████| 1/1 [00:00<00:00, 117.46it/s]\n",
      "add example index and unique id: 100%|██████████| 1/1 [00:00<00:00, 9868.95it/s]\n"
     ]
    },
    {
     "data": {
      "application/vnd.jupyter.widget-view+json": {
       "model_id": "076787a5d9aa437faa308e72ff671d81",
       "version_major": 2,
       "version_minor": 0
      },
      "text/plain": [
       "Running Prediction:   0%|          | 0/1 [00:00<?, ?it/s]"
      ]
     },
     "metadata": {},
     "output_type": "display_data"
    },
    {
     "name": "stderr",
     "output_type": "stream",
     "text": [
      "2022-07-15 13:44:45,943 - 322050 - simpletransformers.question_answering.question_answering_model - INFO -  Converting to features started.\n"
     ]
    },
    {
     "name": "stdout",
     "output_type": "stream",
     "text": [
      "Nongfu Spring's stock surged more than 85%. The shares of the Chinese bottled water maker, Nongfu Spring, rose more than 85 percent as it floated on the Hong Kong Stock Exchange, making its founder the second-richest person in China. The stock opened at 39.8 Hong Kong dollars ($ 5.14), up more than 85 percent from the initial public offering price of 21.5 Hong Kong dollars ($ 2.7).\n",
      " The company - which also produces bottled drinks such as tea, coffee and fruit juices - sold 388.2 million shares in the initial public offering, which is one of the largest on the Hong Kong stock exchange this year. The stock's rise helped boost the net worth of Zhong Shanshan - who owns 84% ​​of the company he founded in 1996 - to more than $51 billion, according to the Bloomberg Billionaires Index. Shanshan thus becomes the second richest person in China after \"Jack Ma\" - the founder of \"Ali Baba\" - and the third richest person in Asia.\n"
     ]
    },
    {
     "name": "stderr",
     "output_type": "stream",
     "text": [
      "convert squad examples to features: 100%|██████████| 1/1 [00:00<00:00, 75.54it/s]\n",
      "add example index and unique id: 100%|██████████| 1/1 [00:00<00:00, 8473.34it/s]\n"
     ]
    },
    {
     "data": {
      "application/vnd.jupyter.widget-view+json": {
       "model_id": "2c954f4e10cf4d93b8e66ccf3bea73c1",
       "version_major": 2,
       "version_minor": 0
      },
      "text/plain": [
       "Running Prediction:   0%|          | 0/1 [00:00<?, ?it/s]"
      ]
     },
     "metadata": {},
     "output_type": "display_data"
    },
    {
     "name": "stderr",
     "output_type": "stream",
     "text": [
      "2022-07-15 13:44:46,473 - 322050 - simpletransformers.question_answering.question_answering_model - INFO -  Converting to features started.\n"
     ]
    },
    {
     "name": "stdout",
     "output_type": "stream",
     "text": [
      "25% decrease in Saudi Aramco's net profit in the first quarter Yesterday, Saudi Aramco announced a decrease in net profit in the first quarter of the year by 25 percent, which is less than analysts' estimates, but the quarterly cash dividends are in line with a payment plan of $75 billion to shareholders for the current year. Analysts expected that Aramco, whose shares were floated on the stock exchange last year, would keep dividends to minority shareholders, while reducing dividends to the Saudi government, whose financial conditions were affected by the drop in oil prices amid the Corona pandemic. Brent crude prices fell 65.6 percent in the first quarter, before OPEC + producers agreed to cut supplies by a record size of 9.7 million barrels per day, starting in May, to help raise prices and curb oversupply. Despite the decline in profits, the cash flows of the giant state oil company remain strong, compared to other major oil companies, which reflects the strength and robustness of its financial statements. Aramco shares rose 1.3 percent to 31.30 riyals, but it remains below the initial public offering price of $ 32. Net profit fell to 62.48 billion riyals ($16.64 billion) after zakat and tax in the quarter ended March 31, from 83.29 billion riyals a year ago, lower than analysts' estimates of a profit of $17.8 billion.\n",
      " The company said that it paid a total dividend of $13.4 billion for the fourth quarter of 2019, and that it will pay a cash dividend of $18.75 billion for the first quarter of this year, in line with the company's plan to make basic payments of $75 billion for the full year 2020. Aramco said that the first quarter dividends are \"the highest among all listed companies in the world.\" But Aramco has not made any announcement regarding the future of the dividend policy. Youssef Hosseini, an analyst at EFG Hermes, stated that there will be no change in the dividend policy in the first quarter, but he still expects to reduce the government's share, which is the largest shareholder, from the distributions. He continued, \"The government's share will be reduced in the second quarter, but there is some optimism if it renegotiates the SABIC deal, which may provide some cash flow.\" Aramco said earlier that its planned acquisition of a 70 percent stake in SABIC was on track for completion in the second quarter. Sources told Reuters this week that the $70 billion deal is likely to be restructured.\n"
     ]
    },
    {
     "name": "stderr",
     "output_type": "stream",
     "text": [
      "convert squad examples to features: 100%|██████████| 1/1 [00:00<00:00, 42.08it/s]\n",
      "add example index and unique id: 100%|██████████| 1/1 [00:00<00:00, 15033.35it/s]\n"
     ]
    },
    {
     "data": {
      "application/vnd.jupyter.widget-view+json": {
       "model_id": "94261c54379a45b2a7f354102952c65d",
       "version_major": 2,
       "version_minor": 0
      },
      "text/plain": [
       "Running Prediction:   0%|          | 0/1 [00:00<?, ?it/s]"
      ]
     },
     "metadata": {},
     "output_type": "display_data"
    },
    {
     "name": "stderr",
     "output_type": "stream",
     "text": [
      "2022-07-15 13:44:47,172 - 322050 - simpletransformers.question_answering.question_answering_model - INFO -  Converting to features started.\n"
     ]
    },
    {
     "name": "stdout",
     "output_type": "stream",
     "text": [
      "Half a billion dollars is the share of the \"Investment Authority\" in the Aramco IPO Informed sources revealed to Al-Jarida that the General Investment Authority invested about half a billion dollars in the initial public offering of Aramco, based on the subscription price of 30 riyals per share. The sources indicated that the General Investment Authority, based on the feasibility study for investing in the Saudi oil giant, submitted a specific price offer at a price of 32 riyals and another quantity at the price of 30 riyals, and based on Aramco’s decision, the price level for the subscription was adopted at the price of 30 riyals. Accordingly, the value of the invested funds amounted to about half a billion dollars, especially that the method of subscribing to the offering will be according to the book bulding mechanism, which is a mechanism followed in most international offerings, through which the subscription price is determined by investors, and the quantity of shares to be subscribed.\n",
      " She added that Aramco's executive management recently met with officials of the authority in Kuwait, with the aim of persuading them to subscribe to the company's capital, as part of a series of meetings held with some international investors and some Kuwaiti investment authorities, where a comprehensive presentation was presented on the company's financial position and the company's future plan to expand Its investment area is in the oil sector. The sources indicated that the Authority’s investment in Aramco comes within the main role it plays to achieve a return on the long-term investment of the financial reserves that it was entrusted with managing on behalf of the government, using the highest international professional standards, in a manner that ensures providing an alternative source of revenue for oil revenues. It is keen to study the areas in which it intends to invest in an extensive study, and examines many factors and financial, economic and regulatory factors and indicators, such as the size of the economy, economic growth rates, the ease of business index, the tax facilities granted, exit strategies from the market, commercial and regulatory agreements (if any) and other factors in their interest. The strategy. Saudi Aramco had announced the offering of 1.5 percent of its shares for public subscription, equivalent to 3 billion shares, with a maximum of 0.5 percent allotted to individuals, and set the price range for the subscription between 30 and 32 riyals.\n"
     ]
    },
    {
     "name": "stderr",
     "output_type": "stream",
     "text": [
      "convert squad examples to features: 100%|██████████| 1/1 [00:00<00:00, 45.63it/s]\n",
      "add example index and unique id: 100%|██████████| 1/1 [00:00<00:00, 10866.07it/s]\n"
     ]
    },
    {
     "data": {
      "application/vnd.jupyter.widget-view+json": {
       "model_id": "27110f38f98948b3a003f41c0275c650",
       "version_major": 2,
       "version_minor": 0
      },
      "text/plain": [
       "Running Prediction:   0%|          | 0/1 [00:00<?, ?it/s]"
      ]
     },
     "metadata": {},
     "output_type": "display_data"
    },
    {
     "name": "stderr",
     "output_type": "stream",
     "text": [
      "2022-07-15 13:44:47,884 - 322050 - simpletransformers.question_answering.question_answering_model - INFO -  Converting to features started.\n"
     ]
    },
    {
     "name": "stdout",
     "output_type": "stream",
     "text": [
      "Half a billion dollars the investment authority’s share in the Aramco IPO Informed sources revealed that the share of the General Investment Authority in the initial public offering of Saudi Aramco amounted to about half a billion dollars, based on the subscription price of 30 Saudi riyals.\n",
      " The sources told Al-Jarida that the authority submitted, based on the feasibility study of investing in the Saudi oil giant, two offers, one with a certain amount at the price of 32 riyals, and the other at 30 riyals, pointing out that according to Aramco's decision, the price level for the subscription was approved. On the second offer, the value of the invested funds amounted to about half a billion dollars. The method of subscribing to the offering will be according to the book bulding mechanism used in most international offerings, through which investors determine the subscription price and the quantity of shares they wish to subscribe to.\n"
     ]
    },
    {
     "name": "stderr",
     "output_type": "stream",
     "text": [
      "convert squad examples to features: 100%|██████████| 1/1 [00:00<00:00, 102.69it/s]\n",
      "add example index and unique id: 100%|██████████| 1/1 [00:00<00:00, 13148.29it/s]\n"
     ]
    },
    {
     "data": {
      "application/vnd.jupyter.widget-view+json": {
       "model_id": "73082e21746143d398b0df94b017b74a",
       "version_major": 2,
       "version_minor": 0
      },
      "text/plain": [
       "Running Prediction:   0%|          | 0/1 [00:00<?, ?it/s]"
      ]
     },
     "metadata": {},
     "output_type": "display_data"
    },
    {
     "name": "stderr",
     "output_type": "stream",
     "text": [
      "2022-07-15 13:44:48,409 - 322050 - root - INFO - writing output artifact /home/prachi_multilex2/EDI_PREIPO_report.csv to /home/prachi_multilex2\n",
      "2022-07-15 13:44:48,424 - 322050 - root - INFO - completed writing output artifact /home/prachi_multilex2/EDI_PREIPO_report.csv to /home/prachi_multilex2\n",
      "2022-07-15 13:44:48,426 - 322050 - root - INFO - last line of multilex_NERModel_lg_xform\n"
     ]
    }
   ],
   "source": [
    "import logging\n",
    "\n",
    "import pkg_resources\n",
    " \n",
    "logging.basicConfig(level=logging.INFO, format=\"%(asctime)s - %(process)d - %(name)s - %(levelname)s - %(message)s\")\n",
    "\n",
    "logging.info(\"first line of multilex_NERModel_lg_xform\")\n",
    "\n",
    "import os\n",
    "from pathlib import Path\n",
    "\n",
    "import subprocess\n",
    "import sys\n",
    "import os\n",
    "from pathlib import Path\n",
    "import pickle\n",
    "from pprint import pprint\n",
    "from simpletransformers.question_answering import QuestionAnsweringModel, QuestionAnsweringArgs\n",
    "\n",
    "with open(\"NewQuestionAnsweringModel_v2.pkl\", \"rb\") as newFile:\n",
    "    myModel = pickle.load(newFile)\n",
    "# def download_spacy_model(spacy_model_name):\n",
    "#         # install en_core_web_xx.  \n",
    "#         #     Note: pip doesn't work: if 'pip install https://github.com/explosion/spacy-models/releases/download/en_core_web_sm-2.3.1/en_core_web_sm-2.3.1.tar.gz' is used to install this in the local environemnt, \n",
    "#         #         conda is not able to install this in a remote environment again using conda.yaml (say in a single VM environment), as conda/pip doesn't seem to preserve the URL and always looks it up in \n",
    "#         #         www.pypi.org/simple or pip.infinstor.com.  so do not use above pip command to install this in the local environment.\n",
    "#         #     so use python -m spacy download en_core_web_xx.  \n",
    "#         #        TODO: Note that this command is not intelligent enough to not download the training model again, if it has already been downloaded.  See if this can be improved. \n",
    "#         #              'pip' would have been one option to improve this (as it will not download again) but it doesn't work with conda.yaml (see above)\n",
    "#         #         Note: this also adds an entry in pip's list of installated packages, which cannot be installed by conda due in another environment since the package is not found in pypi.org/simple\n",
    "#         #            (multilex) raja@xubuntu-18-04:~$ pip list | grep en-core\n",
    "#         #            en-core-web-sm                2.3.1\n",
    "#         #            (multilex) raja@xubuntu-18-04:~$ conda env export|grep en-core\n",
    "#         #            - en-core-web-sm==2.3.1\n",
    "#         try:\n",
    "#                 download_cmd = [\"python\", \"-m\", \"spacy\", \"download\", spacy_model_name]\n",
    "#                 # download_cmd = [\"python\", \"-m\", \"pip\", \"install\", spacy_model_name]\n",
    "#                 logging.info(\"Attempting to download spacy's trained model: %s\", download_cmd)\n",
    "#                 # note that if capture_output is not specified, then the subprocess output (written to stdout) is seen in iPython console output and not in the notebook output area.  so using capture_output, so that it can be displayed in the notebook cell output area\n",
    "#                 completedProcess = subprocess.run(args=download_cmd, capture_output=True)\n",
    "#                 logging.info(\"Finished downloading trained model: download_cmd=%s ; completedProcess.stdout=%s ; completedProcess.stderr=%s\", download_cmd, completedProcess.stdout, completedProcess.stderr)\n",
    "\n",
    "#                 # refresh pkg_resources so that the above downloaded model (as a python package) is visible to this code: \"pkg_resources.working_set.by_key.keys()\".  this code is used by spacy.load() below to load the model.  without this, will see this error\n",
    "#                 # to test this code:\n",
    "#                 #   delete the python package en-core-web-xx from site-packages directory\n",
    "#                 #   restart the ipython kernel\n",
    "#                 logging.debug(\"packages listed by pkg_resources.working_set.by_key.keys() before refresh using imp.reload(pkg_resources) = %s\", pkg_resources.working_set.by_key.keys())\n",
    "#                 import imp\n",
    "#                 imp.reload(pkg_resources)\n",
    "#                 logging.debug(\"packages listed by pkg_resources.working_set.by_key.keys() after refresh using imp.reload(pkg_resources) = %s\", pkg_resources.working_set.by_key.keys())\n",
    "#         except: \n",
    "#                 logging.error(\"Error: Exception caught when downloading spacy's trained model: \",  exc_info=sys.exc_info())\n",
    "#                 logging.error(\"packages listed by pkg_resources.working_set.by_key.keys()  = %s\", pkg_resources.working_set.by_key.keys())\n",
    "#                 # TODO: need to abort this transform if this download fails\n",
    "\n",
    "\n",
    "# %%\n",
    "\n",
    "def company(text):\n",
    "    predict_questions = [\n",
    "                    {\n",
    "                        \"context\": text,\n",
    "                        \"qas\": [\n",
    "                                {\n",
    "                                    \"id\": \"1\",\n",
    "                                 \"question\": \"which company is going ipo?\"\n",
    "                                 }\n",
    "                        ]\n",
    "                    }\n",
    "    ]\n",
    "    answers, probabilities = myModel.predict(predict_questions)\n",
    "    company=[]\n",
    "    for i in answers[0]['answer']:\n",
    "        if i !='':\n",
    "            company.append(i)\n",
    "    # print(company)\n",
    "    return company\n",
    "def NERModel_lg(input_dir, output_dir):\n",
    "        import os\n",
    "        print(os.getcwd())\n",
    "        # %%\n",
    "        import pandas as pd\n",
    "        # import spacy\n",
    "        from datetime import datetime ,date\n",
    "        import pyshorteners\n",
    "        cur_date = str(date.today())\n",
    "\n",
    "        # download the spacy model.  TODO: switch to en_core_web_lg\n",
    "        # spacy_model='en_core_web_sm'\n",
    "        # spacy_model='en_core_web_lg'\n",
    "        # download_spacy_model(spacy_model)\n",
    "        # load the module.  \n",
    "        # nlp1 = spacy.load(spacy_model)\n",
    "\n",
    "        input_file_fullpath = os.path.join(input_dir,'todays_report.csv')\n",
    "        logging.info(\"reading input artifact \" + input_file_fullpath)\n",
    "        data = pd.read_csv(input_file_fullpath)\n",
    "        logging.info(\"completed reading input artifact \" + input_file_fullpath)\n",
    "        # data.drop('companies', inplace=True, axis=1)\n",
    "        data = data[['text','publish_date','scraped_date','title','link']]\n",
    "        text = data['text']\n",
    "        title = data['title']\n",
    "\n",
    "        # data.dropna(inplace=True)\n",
    "#         lst1 =[];\n",
    "#         for i in text:\n",
    "#                 lst_1 =[]\n",
    "#                 i = str(i)\n",
    "#                 doc = nlp1(i)\n",
    "#                 for element in doc.ents:\n",
    "#         #             print(element.label_)\n",
    "#                     if element.label_ == 'ORG':\n",
    "#                         lst_1.append(element)\n",
    "#                 lst1.append(lst_1)     \n",
    "\n",
    "#         lst2=[]\n",
    "#         for i in title:\n",
    "#                 lst_2 =[]\n",
    "#                 i = str(i)\n",
    "#                 doc = nlp1(i)\n",
    "#                 for element in doc.ents:\n",
    "#         #             print(element.label_)\n",
    "#                     if element.label_ == 'ORG':\n",
    "#                         lst_2.append(element)\n",
    "#                 lst2.append(lst_2)    \n",
    "        company_names = []\n",
    "        for val,i in data.iterrows():\n",
    "            t = str(i[\"title\"]) + \" \" + str(i[\"text\"])\n",
    "            print(t)\n",
    "            company_names.append(company(t))\n",
    "        # data[\"Companies\"] = company_names\n",
    "        dic = {'Companies':company_names}\n",
    "        #[\"abc\",\"def\"]\n",
    "        df = pd.DataFrame(dic)\n",
    "        #data=[\"text\",\"title\"]\n",
    "        dff = [data,df]\n",
    "        \n",
    "        df_final = pd.concat(dff,axis=1)\n",
    "        # df_final.to_csv('EDI_PREIPO_report.csv',index=False)\n",
    "\n",
    "\n",
    "        # %%\n",
    "\n",
    "        # import ipynb\n",
    "        # df = pd.read_csv('EDI_PREIPO_report.csv')\n",
    "        # df[\"Companies\"] = df['companies_1'].str.cat(df['companies_2'],sep=\",\")\n",
    "        # df = df[['text','pub*lish_date','scraped_date','title','Companies','link']]\n",
    "        edi_preipo_report_fname = os.path.join( output_dir, 'EDI_PREIPO_report.csv' )\n",
    "        logging.info(\"writing output artifact \" + edi_preipo_report_fname + \" to \" + output_dir)\n",
    "        df_final.to_csv(edi_preipo_report_fname,index=False)\n",
    "        logging.info(\"completed writing output artifact \" + edi_preipo_report_fname + \" to \" + output_dir)\n",
    "\n",
    "NERModel_lg(\"/home/prachi_multilex2\", \"/home/prachi_multilex2\")    \n",
    "logging.info(\"last line of multilex_NERModel_lg_xform\")\n",
    "\n",
    "\n"
   ]
  },
  {
   "cell_type": "code",
   "execution_count": 1,
   "id": "61960499-c293-4e02-a51b-98cd2f33a134",
   "metadata": {},
   "outputs": [
    {
     "data": {
      "text/plain": [
       "'/home/prachi_multilex2/Main_Scripts'"
      ]
     },
     "execution_count": 1,
     "metadata": {},
     "output_type": "execute_result"
    }
   ],
   "source": [
    "import os \n",
    "os.getcwd()"
   ]
  },
  {
   "cell_type": "code",
   "execution_count": 5,
   "id": "b15ae5cc-25b9-4474-8569-c24b64529f1b",
   "metadata": {},
   "outputs": [
    {
     "name": "stdout",
     "output_type": "stream",
     "text": [
      "Collecting pyshorteners\n",
      "  Downloading pyshorteners-1.0.1.tar.gz (10.0 kB)\n",
      "Requirement already satisfied: requests in /home/prachi_multilex2/miniconda3/envs/infinstor/lib/python3.7/site-packages (from pyshorteners) (2.27.1)\n",
      "Requirement already satisfied: urllib3<1.27,>=1.21.1 in /home/prachi_multilex2/miniconda3/envs/infinstor/lib/python3.7/site-packages (from requests->pyshorteners) (1.26.9)\n",
      "Requirement already satisfied: certifi>=2017.4.17 in /home/prachi_multilex2/miniconda3/envs/infinstor/lib/python3.7/site-packages (from requests->pyshorteners) (2021.10.8)\n",
      "Requirement already satisfied: charset-normalizer~=2.0.0 in /home/prachi_multilex2/miniconda3/envs/infinstor/lib/python3.7/site-packages (from requests->pyshorteners) (2.0.12)\n",
      "Requirement already satisfied: idna<4,>=2.5 in /home/prachi_multilex2/miniconda3/envs/infinstor/lib/python3.7/site-packages (from requests->pyshorteners) (3.3)\n",
      "Building wheels for collected packages: pyshorteners\n",
      "  Building wheel for pyshorteners (setup.py) ... \u001b[?25ldone\n",
      "\u001b[?25h  Created wheel for pyshorteners: filename=pyshorteners-1.0.1-py3-none-any.whl size=17496 sha256=e64dc519dff9a4ca642b10420f933a85de004514100c5b0b53cce67f7040b6c2\n",
      "  Stored in directory: /home/prachi_multilex2/.cache/pip/wheels/1e/c6/50/b06780af353f181fae16d55deb7b47f8aef30567e24a9ce456\n",
      "Successfully built pyshorteners\n",
      "Installing collected packages: pyshorteners\n",
      "Successfully installed pyshorteners-1.0.1\n"
     ]
    }
   ],
   "source": [
    "!pip install pyshorteners"
   ]
  },
  {
   "cell_type": "code",
   "execution_count": 22,
   "id": "b28e6a98-51c3-439c-978a-2783f001cee8",
   "metadata": {},
   "outputs": [
    {
     "name": "stdout",
     "output_type": "stream",
     "text": [
      "Requirement already satisfied: en_core_web_sm in /home/prachi_multilex2/miniconda3/envs/infinstor/lib/python3.7/site-packages (3.2.0)\n",
      "Requirement already satisfied: spacy<3.3.0,>=3.2.0 in /home/prachi_multilex2/miniconda3/envs/infinstor/lib/python3.7/site-packages (from en_core_web_sm) (3.2.4)\n",
      "Requirement already satisfied: pydantic!=1.8,!=1.8.1,<1.9.0,>=1.7.4 in /home/prachi_multilex2/miniconda3/envs/infinstor/lib/python3.7/site-packages (from spacy<3.3.0,>=3.2.0->en_core_web_sm) (1.8.2)\n",
      "Requirement already satisfied: murmurhash<1.1.0,>=0.28.0 in /home/prachi_multilex2/miniconda3/envs/infinstor/lib/python3.7/site-packages (from spacy<3.3.0,>=3.2.0->en_core_web_sm) (1.0.6)\n",
      "Requirement already satisfied: click<8.1.0 in /home/prachi_multilex2/miniconda3/envs/infinstor/lib/python3.7/site-packages (from spacy<3.3.0,>=3.2.0->en_core_web_sm) (8.0.4)\n",
      "Requirement already satisfied: preshed<3.1.0,>=3.0.2 in /home/prachi_multilex2/miniconda3/envs/infinstor/lib/python3.7/site-packages (from spacy<3.3.0,>=3.2.0->en_core_web_sm) (3.0.6)\n",
      "Requirement already satisfied: numpy>=1.15.0 in /home/prachi_multilex2/miniconda3/envs/infinstor/lib/python3.7/site-packages (from spacy<3.3.0,>=3.2.0->en_core_web_sm) (1.21.5)\n",
      "Requirement already satisfied: requests<3.0.0,>=2.13.0 in /home/prachi_multilex2/miniconda3/envs/infinstor/lib/python3.7/site-packages (from spacy<3.3.0,>=3.2.0->en_core_web_sm) (2.27.1)\n",
      "Requirement already satisfied: wasabi<1.1.0,>=0.8.1 in /home/prachi_multilex2/miniconda3/envs/infinstor/lib/python3.7/site-packages (from spacy<3.3.0,>=3.2.0->en_core_web_sm) (0.9.1)\n",
      "Requirement already satisfied: langcodes<4.0.0,>=3.2.0 in /home/prachi_multilex2/miniconda3/envs/infinstor/lib/python3.7/site-packages (from spacy<3.3.0,>=3.2.0->en_core_web_sm) (3.3.0)\n",
      "Requirement already satisfied: typing-extensions<4.0.0.0,>=3.7.4 in /home/prachi_multilex2/miniconda3/envs/infinstor/lib/python3.7/site-packages (from spacy<3.3.0,>=3.2.0->en_core_web_sm) (3.10.0.2)\n",
      "Requirement already satisfied: packaging>=20.0 in /home/prachi_multilex2/miniconda3/envs/infinstor/lib/python3.7/site-packages (from spacy<3.3.0,>=3.2.0->en_core_web_sm) (21.3)\n",
      "Requirement already satisfied: setuptools in /home/prachi_multilex2/miniconda3/envs/infinstor/lib/python3.7/site-packages (from spacy<3.3.0,>=3.2.0->en_core_web_sm) (58.0.4)\n",
      "Requirement already satisfied: typer<0.5.0,>=0.3.0 in /home/prachi_multilex2/miniconda3/envs/infinstor/lib/python3.7/site-packages (from spacy<3.3.0,>=3.2.0->en_core_web_sm) (0.4.1)\n",
      "Requirement already satisfied: cymem<2.1.0,>=2.0.2 in /home/prachi_multilex2/miniconda3/envs/infinstor/lib/python3.7/site-packages (from spacy<3.3.0,>=3.2.0->en_core_web_sm) (2.0.6)\n",
      "Requirement already satisfied: blis<0.8.0,>=0.4.0 in /home/prachi_multilex2/miniconda3/envs/infinstor/lib/python3.7/site-packages (from spacy<3.3.0,>=3.2.0->en_core_web_sm) (0.7.7)\n",
      "Requirement already satisfied: pathy>=0.3.5 in /home/prachi_multilex2/miniconda3/envs/infinstor/lib/python3.7/site-packages (from spacy<3.3.0,>=3.2.0->en_core_web_sm) (0.6.1)\n",
      "Requirement already satisfied: srsly<3.0.0,>=2.4.1 in /home/prachi_multilex2/miniconda3/envs/infinstor/lib/python3.7/site-packages (from spacy<3.3.0,>=3.2.0->en_core_web_sm) (2.4.2)\n",
      "Requirement already satisfied: spacy-legacy<3.1.0,>=3.0.8 in /home/prachi_multilex2/miniconda3/envs/infinstor/lib/python3.7/site-packages (from spacy<3.3.0,>=3.2.0->en_core_web_sm) (3.0.9)\n",
      "Requirement already satisfied: thinc<8.1.0,>=8.0.12 in /home/prachi_multilex2/miniconda3/envs/infinstor/lib/python3.7/site-packages (from spacy<3.3.0,>=3.2.0->en_core_web_sm) (8.0.15)\n",
      "Requirement already satisfied: jinja2 in /home/prachi_multilex2/miniconda3/envs/infinstor/lib/python3.7/site-packages (from spacy<3.3.0,>=3.2.0->en_core_web_sm) (3.0.3)\n",
      "Requirement already satisfied: spacy-loggers<2.0.0,>=1.0.0 in /home/prachi_multilex2/miniconda3/envs/infinstor/lib/python3.7/site-packages (from spacy<3.3.0,>=3.2.0->en_core_web_sm) (1.0.2)\n",
      "Requirement already satisfied: catalogue<2.1.0,>=2.0.6 in /home/prachi_multilex2/miniconda3/envs/infinstor/lib/python3.7/site-packages (from spacy<3.3.0,>=3.2.0->en_core_web_sm) (2.0.7)\n",
      "Requirement already satisfied: tqdm<5.0.0,>=4.38.0 in /home/prachi_multilex2/miniconda3/envs/infinstor/lib/python3.7/site-packages (from spacy<3.3.0,>=3.2.0->en_core_web_sm) (4.63.0)\n",
      "Requirement already satisfied: zipp>=0.5 in /home/prachi_multilex2/miniconda3/envs/infinstor/lib/python3.7/site-packages (from catalogue<2.1.0,>=2.0.6->spacy<3.3.0,>=3.2.0->en_core_web_sm) (3.7.0)\n",
      "Requirement already satisfied: importlib-metadata in /home/prachi_multilex2/miniconda3/envs/infinstor/lib/python3.7/site-packages (from click<8.1.0->spacy<3.3.0,>=3.2.0->en_core_web_sm) (4.11.3)\n",
      "Requirement already satisfied: pyparsing!=3.0.5,>=2.0.2 in /home/prachi_multilex2/miniconda3/envs/infinstor/lib/python3.7/site-packages (from packaging>=20.0->spacy<3.3.0,>=3.2.0->en_core_web_sm) (3.0.7)\n",
      "Requirement already satisfied: smart-open<6.0.0,>=5.0.0 in /home/prachi_multilex2/miniconda3/envs/infinstor/lib/python3.7/site-packages (from pathy>=0.3.5->spacy<3.3.0,>=3.2.0->en_core_web_sm) (5.2.1)\n",
      "Requirement already satisfied: certifi>=2017.4.17 in /home/prachi_multilex2/miniconda3/envs/infinstor/lib/python3.7/site-packages (from requests<3.0.0,>=2.13.0->spacy<3.3.0,>=3.2.0->en_core_web_sm) (2021.10.8)\n",
      "Requirement already satisfied: idna<4,>=2.5 in /home/prachi_multilex2/miniconda3/envs/infinstor/lib/python3.7/site-packages (from requests<3.0.0,>=2.13.0->spacy<3.3.0,>=3.2.0->en_core_web_sm) (3.3)\n",
      "Requirement already satisfied: charset-normalizer~=2.0.0 in /home/prachi_multilex2/miniconda3/envs/infinstor/lib/python3.7/site-packages (from requests<3.0.0,>=2.13.0->spacy<3.3.0,>=3.2.0->en_core_web_sm) (2.0.12)\n",
      "Requirement already satisfied: urllib3<1.27,>=1.21.1 in /home/prachi_multilex2/miniconda3/envs/infinstor/lib/python3.7/site-packages (from requests<3.0.0,>=2.13.0->spacy<3.3.0,>=3.2.0->en_core_web_sm) (1.26.9)\n",
      "Requirement already satisfied: MarkupSafe>=2.0 in /home/prachi_multilex2/miniconda3/envs/infinstor/lib/python3.7/site-packages (from jinja2->spacy<3.3.0,>=3.2.0->en_core_web_sm) (2.1.1)\n"
     ]
    }
   ],
   "source": [
    "!python -m pip install en_core_web_sm"
   ]
  },
  {
   "cell_type": "code",
   "execution_count": 10,
   "id": "6c77e492-8e09-412e-b6dd-fa6915e29e82",
   "metadata": {},
   "outputs": [
    {
     "name": "stdout",
     "output_type": "stream",
     "text": [
      "Collecting package metadata (current_repodata.json): done\n",
      "Solving environment: done\n",
      "\n",
      "## Package Plan ##\n",
      "\n",
      "  environment location: /home/prachi_multilex2/miniconda3\n",
      "\n",
      "  added / updated specs:\n",
      "    - conda\n",
      "\n",
      "\n",
      "The following packages will be downloaded:\n",
      "\n",
      "    package                    |            build\n",
      "    ---------------------------|-----------------\n",
      "    ca-certificates-2022.3.29  |       h06a4308_0         117 KB\n",
      "    colorama-0.4.4             |     pyhd3eb1b0_0          21 KB\n",
      "    conda-4.12.0               |   py39h06a4308_0        14.5 MB\n",
      "    conda-package-handling-1.8.1|   py39h7f8727e_0         889 KB\n",
      "    openssl-1.1.1n             |       h7f8727e_0         2.5 MB\n",
      "    pyopenssl-22.0.0           |     pyhd3eb1b0_0          50 KB\n",
      "    setuptools-61.2.0          |   py39h06a4308_0        1011 KB\n",
      "    sqlite-3.38.2              |       hc218d9a_0         1.0 MB\n",
      "    tqdm-4.63.0                |     pyhd3eb1b0_0          84 KB\n",
      "    tzdata-2022a               |       hda174b7_0         109 KB\n",
      "    urllib3-1.26.8             |     pyhd3eb1b0_0         106 KB\n",
      "    ------------------------------------------------------------\n",
      "                                           Total:        20.3 MB\n",
      "\n",
      "The following NEW packages will be INSTALLED:\n",
      "\n",
      "  colorama           pkgs/main/noarch::colorama-0.4.4-pyhd3eb1b0_0\n",
      "\n",
      "The following packages will be REMOVED:\n",
      "\n",
      "  conda-content-trust-0.1.1-pyhd3eb1b0_0\n",
      "  six-1.16.0-pyhd3eb1b0_0\n",
      "\n",
      "The following packages will be UPDATED:\n",
      "\n",
      "  ca-certificates                     2021.10.26-h06a4308_2 --> 2022.3.29-h06a4308_0\n",
      "  conda                               4.11.0-py39h06a4308_0 --> 4.12.0-py39h06a4308_0\n",
      "  conda-package-han~                   1.7.3-py39h27cfd23_1 --> 1.8.1-py39h7f8727e_0\n",
      "  openssl                                 1.1.1m-h7f8727e_0 --> 1.1.1n-h7f8727e_0\n",
      "  pyopenssl                             21.0.0-pyhd3eb1b0_1 --> 22.0.0-pyhd3eb1b0_0\n",
      "  setuptools                          58.0.4-py39h06a4308_0 --> 61.2.0-py39h06a4308_0\n",
      "  sqlite                                  3.37.0-hc218d9a_0 --> 3.38.2-hc218d9a_0\n",
      "  tqdm                                  4.62.3-pyhd3eb1b0_1 --> 4.63.0-pyhd3eb1b0_0\n",
      "  tzdata                                   2021e-hda174b7_0 --> 2022a-hda174b7_0\n",
      "  urllib3                               1.26.7-pyhd3eb1b0_0 --> 1.26.8-pyhd3eb1b0_0\n",
      "\n",
      "\n",
      "Proceed ([y]/n)? ^C\n",
      "\n",
      "CondaSystemExit: \n",
      "Operation aborted.  Exiting.\n",
      "\n"
     ]
    }
   ],
   "source": [
    "!conda update -n base -c defaults conda"
   ]
  },
  {
   "cell_type": "code",
   "execution_count": 21,
   "id": "944cc127-c0a5-4f2c-a5e4-9d449da156f2",
   "metadata": {},
   "outputs": [
    {
     "name": "stdout",
     "output_type": "stream",
     "text": [
      "/bin/bash: y: command not found\n"
     ]
    }
   ],
   "source": [
    "!y"
   ]
  },
  {
   "cell_type": "code",
   "execution_count": null,
   "id": "2bc329dc-169a-4893-9738-8585ee26f391",
   "metadata": {},
   "outputs": [],
   "source": []
  },
  {
   "cell_type": "code",
   "execution_count": 8,
   "id": "3744fb2e-eeac-4e9d-8f24-096ba9efb5dc",
   "metadata": {},
   "outputs": [
    {
     "name": "stderr",
     "output_type": "stream",
     "text": [
      "2022-04-07 15:37:33,064 - 4130355 - infinstor - INFO - run_transforms(): start = [{'kwargs': None, 'run_options': {'run_location': 'inline', 'service_name': 'saas.infinstor.com', 'input_data_spec': {'type': 'infinsnap', 'time_spec': 'tm20220407100608', 'bucketname': 'multilex2-s3-bucket-prachi', 'prefix': ''}, 'xformname': 'sharkstrial'}}, {'kwargs': None, 'run_options': {'run_location': 'inline', 'service_name': 'saas.infinstor.com', 'input_data_spec': {'type': 'infinsnap', 'time_spec': 'tm20220407100608', 'bucketname': 'multilex2-s3-bucket-prachi', 'prefix': ''}, 'xformname': 'ner_model_transform_v3'}}, {'kwargs': None, 'run_options': {'run_location': 'inline', 'service_name': 'saas.infinstor.com', 'input_data_spec': {'type': 'infinsnap', 'time_spec': 'tm20220407100608', 'bucketname': 'multilex2-s3-bucket-prachi', 'prefix': ''}, 'xformname': 'datapreprocessnewchangesv2'}}] \n"
     ]
    },
    {
     "name": "stdout",
     "output_type": "stream",
     "text": [
      "env: MLFLOW_TRACKING_URI=infinstor://mlflow.saas.infinstor.com\n",
      "env: MLFLOW_EXPERIMENT_ID=0\n",
      "parent_run_id = 0-16493260543780000000029\n"
     ]
    },
    {
     "name": "stderr",
     "output_type": "stream",
     "text": [
      "2022-04-07 15:37:38,821 - 4130355 - infinstor - INFO - run_transform(): Starting inline run of transform = {'run_location': 'inline', 'service_name': 'saas.infinstor.com', 'input_data_spec': {'type': 'infinsnap', 'time_spec': 'tm20220407100608', 'bucketname': 'multilex2-s3-bucket-prachi', 'prefix': ''}, 'xformname': 'sharkstrial', 'experiment_id': '0', 'last_in_chain_of_xforms': 'False', 'parent_run_id': '0-16493260543780000000029', 'run_id': '0-16493260582640000000030'} with kwargs = {}\n",
      "2022-04-07 15:37:39,896 - 4130355 - infinstor - INFO - xform_local_files_zip_base64=UEsFBgAAAAAAAAAAAAAAAAAAAAAAAA==\n",
      "2022-04-07 15:37:40,412 - 4130355 - infinstor - INFO - transform with single input_data_specs detected: {'type': 'infinsnap', 'time_spec': 'tm20220407100608', 'bucketname': 'multilex2-s3-bucket-prachi', 'prefix': ''}\n"
     ]
    },
    {
     "name": "stdout",
     "output_type": "stream",
     "text": [
      "infinstor: Activating time_spec=tm20220407100608\n",
      "get_customerinfo: usePresignedUrlForInfinSnap=true\n"
     ]
    },
    {
     "name": "stderr",
     "output_type": "stream",
     "text": [
      "2022-04-07 15:37:45,418 - 4130355 - infinstor - INFO - Running transform infin_transform_all_objects\n"
     ]
    },
    {
     "name": "stdout",
     "output_type": "stream",
     "text": [
      "infin_boto3: intercept activated for buckets=['multilex2-s3-bucket-prachi']\n",
      "Other error occurred: HTTPSConnectionPool(host='mlflow.saas.infinstor.com', port=443): Max retries exceeded with url: /api/2.0/mlflow/infinstor/s3meta?prefix=&op=list-objects&bucket=multilex2-s3-bucket-prachi&list-type=2&output-format=json&endTime=1649325968000&Delimiter=/ (Caused by NewConnectionError('<urllib3.connection.HTTPSConnection object at 0x7f16b81a3d10>: Failed to establish a new connection: [Errno -3] Temporary failure in name resolution'))\n"
     ]
    },
    {
     "name": "stderr",
     "output_type": "stream",
     "text": [
      "2022-04-07 15:59:17,064 - 4130355 - urllib3.connectionpool - WARNING - Retrying (Retry(total=4, connect=4, read=5, redirect=5, status=5)) after connection broken by 'NewConnectionError('<urllib3.connection.HTTPSConnection object at 0x7f16b878a3d0>: Failed to establish a new connection: [Errno -3] Temporary failure in name resolution')': /api/2.0/mlflow/runs/update\n",
      "2022-04-07 15:59:31,079 - 4130355 - urllib3.connectionpool - WARNING - Retrying (Retry(total=3, connect=3, read=5, redirect=5, status=5)) after connection broken by 'NewConnectionError('<urllib3.connection.HTTPSConnection object at 0x7f16b87949d0>: Failed to establish a new connection: [Errno -3] Temporary failure in name resolution')': /api/2.0/mlflow/runs/update\n",
      "2022-04-07 15:59:31,751 - 4130355 - infinstor - ERROR - run_transforms(): error: caught exception: Traceback (most recent call last):\n",
      "  File \"/home/prachi_multilex2/miniconda3/envs/infinstor/lib/python3.7/site-packages/urllib3/connection.py\", line 175, in _new_conn\n",
      "    (self._dns_host, self.port), self.timeout, **extra_kw\n",
      "  File \"/home/prachi_multilex2/miniconda3/envs/infinstor/lib/python3.7/site-packages/urllib3/util/connection.py\", line 72, in create_connection\n",
      "    for res in socket.getaddrinfo(host, port, family, socket.SOCK_STREAM):\n",
      "  File \"/home/prachi_multilex2/miniconda3/envs/infinstor/lib/python3.7/socket.py\", line 752, in getaddrinfo\n",
      "    for res in _socket.getaddrinfo(host, port, family, type, proto, flags):\n",
      "socket.gaierror: [Errno -3] Temporary failure in name resolution\n",
      "\n",
      "During handling of the above exception, another exception occurred:\n",
      "\n",
      "Traceback (most recent call last):\n",
      "  File \"/home/prachi_multilex2/miniconda3/envs/infinstor/lib/python3.7/site-packages/urllib3/connectionpool.py\", line 710, in urlopen\n",
      "    chunked=chunked,\n",
      "  File \"/home/prachi_multilex2/miniconda3/envs/infinstor/lib/python3.7/site-packages/urllib3/connectionpool.py\", line 386, in _make_request\n",
      "    self._validate_conn(conn)\n",
      "  File \"/home/prachi_multilex2/miniconda3/envs/infinstor/lib/python3.7/site-packages/urllib3/connectionpool.py\", line 1040, in _validate_conn\n",
      "    conn.connect()\n",
      "  File \"/home/prachi_multilex2/miniconda3/envs/infinstor/lib/python3.7/site-packages/urllib3/connection.py\", line 358, in connect\n",
      "    self.sock = conn = self._new_conn()\n",
      "  File \"/home/prachi_multilex2/miniconda3/envs/infinstor/lib/python3.7/site-packages/urllib3/connection.py\", line 187, in _new_conn\n",
      "    self, \"Failed to establish a new connection: %s\" % e\n",
      "urllib3.exceptions.NewConnectionError: <urllib3.connection.HTTPSConnection object at 0x7f16b81a3d10>: Failed to establish a new connection: [Errno -3] Temporary failure in name resolution\n",
      "\n",
      "During handling of the above exception, another exception occurred:\n",
      "\n",
      "Traceback (most recent call last):\n",
      "  File \"/home/prachi_multilex2/miniconda3/envs/infinstor/lib/python3.7/site-packages/requests/adapters.py\", line 450, in send\n",
      "    timeout=timeout\n",
      "  File \"/home/prachi_multilex2/miniconda3/envs/infinstor/lib/python3.7/site-packages/urllib3/connectionpool.py\", line 786, in urlopen\n",
      "    method, url, error=e, _pool=self, _stacktrace=sys.exc_info()[2]\n",
      "  File \"/home/prachi_multilex2/miniconda3/envs/infinstor/lib/python3.7/site-packages/urllib3/util/retry.py\", line 592, in increment\n",
      "    raise MaxRetryError(_pool, url, error or ResponseError(cause))\n",
      "urllib3.exceptions.MaxRetryError: HTTPSConnectionPool(host='mlflow.saas.infinstor.com', port=443): Max retries exceeded with url: /api/2.0/mlflow/infinstor/s3meta?prefix=&op=list-objects&bucket=multilex2-s3-bucket-prachi&list-type=2&output-format=json&endTime=1649325968000&Delimiter=/ (Caused by NewConnectionError('<urllib3.connection.HTTPSConnection object at 0x7f16b81a3d10>: Failed to establish a new connection: [Errno -3] Temporary failure in name resolution'))\n",
      "\n",
      "During handling of the above exception, another exception occurred:\n",
      "\n",
      "Traceback (most recent call last):\n",
      "  File \"/home/prachi_multilex2/miniconda3/envs/infinstor/lib/python3.7/site-packages/infinstor/__init__.py\", line 1643, in run_transforms\n",
      "    run_id = run_transform(run_options)\n",
      "  File \"/home/prachi_multilex2/miniconda3/envs/infinstor/lib/python3.7/site-packages/infinstor/__init__.py\", line 1564, in run_transform\n",
      "    input_data_spec, xformname, **kwargs)\n",
      "  File \"/home/prachi_multilex2/miniconda3/envs/infinstor/lib/python3.7/site-packages/infinstor/__init__.py\", line 1242, in run_transform_inline\n",
      "    transform_string, zf, run_id, **kwargs)\n",
      "  File \"/home/prachi_multilex2/miniconda3/envs/infinstor/lib/python3.7/site-packages/infinstor/__init__.py\", line 1434, in run_transform_string_inline\n",
      "    transform_string, zf, **kwargs)\n",
      "  File \"/home/prachi_multilex2/miniconda3/envs/infinstor/lib/python3.7/site-packages/infinstor/__init__.py\", line 1039, in read_and_xform_all_objects\n",
      "    client, bucketname, prefix_in, prefix_trunc, transform_string, zf, None, None, ** kwargs)\n",
      "  File \"/home/prachi_multilex2/miniconda3/envs/infinstor/lib/python3.7/site-packages/infinstor/__init__.py\", line 982, in download_all_objects\n",
      "    list_dir_by_dir(client, bucketname, prefix_in, True, dict_dirname_to_arrays_of_files)\n",
      "  File \"/home/prachi_multilex2/miniconda3/envs/infinstor/lib/python3.7/site-packages/infinstor/__init__.py\", line 303, in list_dir_by_dir\n",
      "    list_dir_by_dir(client, bucket, this_prefix, recurse, dict_dirname_to_arrays_of_files)\n",
      "  File \"/home/prachi_multilex2/miniconda3/envs/infinstor/lib/python3.7/site-packages/infinstor/__init__.py\", line 303, in list_dir_by_dir\n",
      "    list_dir_by_dir(client, bucket, this_prefix, recurse, dict_dirname_to_arrays_of_files)\n",
      "  File \"/home/prachi_multilex2/miniconda3/envs/infinstor/lib/python3.7/site-packages/infinstor/__init__.py\", line 303, in list_dir_by_dir\n",
      "    list_dir_by_dir(client, bucket, this_prefix, recurse, dict_dirname_to_arrays_of_files)\n",
      "  [Previous line repeated 2633 more times]\n",
      "  File \"/home/prachi_multilex2/miniconda3/envs/infinstor/lib/python3.7/site-packages/infinstor/__init__.py\", line 269, in list_dir_by_dir\n",
      "    for page in page_iterator:\n",
      "  File \"/home/prachi_multilex2/miniconda3/envs/infinstor/lib/python3.7/site-packages/infinstor/infin_boto3.py\", line 50, in __next__\n",
      "    rv = self.infin_boto_client.list_objects_v2(None, **self.kwargs)\n",
      "  File \"/home/prachi_multilex2/miniconda3/envs/infinstor/lib/python3.7/site-packages/infinstor/infin_boto3.py\", line 163, in list_objects_v2\n",
      "    return self.list_objects_at(True, *args, **kwargs)\n",
      "  File \"/home/prachi_multilex2/miniconda3/envs/infinstor/lib/python3.7/site-packages/infinstor/infin_boto3.py\", line 298, in list_objects_at\n",
      "    response = requests.get(url, headers=headers)\n",
      "  File \"/home/prachi_multilex2/miniconda3/envs/infinstor/lib/python3.7/site-packages/requests/api.py\", line 75, in get\n",
      "    return request('get', url, params=params, **kwargs)\n",
      "  File \"/home/prachi_multilex2/miniconda3/envs/infinstor/lib/python3.7/site-packages/requests/api.py\", line 61, in request\n",
      "    return session.request(method=method, url=url, **kwargs)\n",
      "  File \"/home/prachi_multilex2/miniconda3/envs/infinstor/lib/python3.7/site-packages/requests/sessions.py\", line 529, in request\n",
      "    resp = self.send(prep, **send_kwargs)\n",
      "  File \"/home/prachi_multilex2/miniconda3/envs/infinstor/lib/python3.7/site-packages/requests/sessions.py\", line 645, in send\n",
      "    r = adapter.send(request, **kwargs)\n",
      "  File \"/home/prachi_multilex2/miniconda3/envs/infinstor/lib/python3.7/site-packages/requests/adapters.py\", line 519, in send\n",
      "    raise ConnectionError(e, request=request)\n",
      "requests.exceptions.ConnectionError: HTTPSConnectionPool(host='mlflow.saas.infinstor.com', port=443): Max retries exceeded with url: /api/2.0/mlflow/infinstor/s3meta?prefix=&op=list-objects&bucket=multilex2-s3-bucket-prachi&list-type=2&output-format=json&endTime=1649325968000&Delimiter=/ (Caused by NewConnectionError('<urllib3.connection.HTTPSConnection object at 0x7f16b81a3d10>: Failed to establish a new connection: [Errno -3] Temporary failure in name resolution'))\n",
      " \n",
      "transforms = [{'kwargs': None, 'run_options': {'run_location': 'inline', 'service_name': 'saas.infinstor.com', 'input_data_spec': {'type': 'infinsnap', 'time_spec': 'tm20220407100608', 'bucketname': 'multilex2-s3-bucket-prachi', 'prefix': ''}, 'xformname': 'sharkstrial', 'experiment_id': '0', 'last_in_chain_of_xforms': 'False', 'parent_run_id': '0-16493260543780000000029', 'run_id': '0-16493260582640000000030'}}, {'kwargs': None, 'run_options': {'run_location': 'inline', 'service_name': 'saas.infinstor.com', 'input_data_spec': {'type': 'infinsnap', 'time_spec': 'tm20220407100608', 'bucketname': 'multilex2-s3-bucket-prachi', 'prefix': ''}, 'xformname': 'ner_model_transform_v3'}}, {'kwargs': None, 'run_options': {'run_location': 'inline', 'service_name': 'saas.infinstor.com', 'input_data_spec': {'type': 'infinsnap', 'time_spec': 'tm20220407100608', 'bucketname': 'multilex2-s3-bucket-prachi', 'prefix': ''}, 'xformname': 'datapreprocessnewchangesv2'}}]\n"
     ]
    }
   ],
   "source": [
    "from infinstor import run_transforms\n",
    "\n",
    "transforms = []\n",
    "\n",
    "%env MLFLOW_TRACKING_URI infinstor://mlflow.saas.infinstor.com\n",
    "\n",
    "%env MLFLOW_EXPERIMENT_ID 0\n",
    "input_data_spec = dict()\n",
    "input_data_spec['type'] = 'infinsnap'\n",
    "input_data_spec['time_spec'] = 'tm20220407100608'\n",
    "input_data_spec['bucketname'] = 'multilex2-s3-bucket-prachi'\n",
    "input_data_spec['prefix'] = ''\n",
    "run_options = dict()\n",
    "run_options['run_location'] = 'inline'\n",
    "run_options['service_name'] = 'saas.infinstor.com'\n",
    "run_options['input_data_spec'] = input_data_spec\n",
    "run_options['xformname'] = 'sharkstrial'\n",
    "transform1= {}\n",
    "transform1['kwargs'] = None\n",
    "transform1['run_options'] = run_options\n",
    "transforms.append(transform1) \n",
    "\n",
    "run_options = dict()\n",
    "run_options['run_location'] = 'inline'\n",
    "run_options['service_name'] = 'saas.infinstor.com'\n",
    "run_options['input_data_spec'] = input_data_spec\n",
    "run_options['xformname'] = 'ner_model_transform_v3'\n",
    "transform2= {}\n",
    "transform2['kwargs'] = None\n",
    "transform2['run_options'] = run_options\n",
    "transforms.append(transform2) \n",
    "\n",
    "run_options = dict()\n",
    "run_options['run_location'] = 'inline'\n",
    "run_options['service_name'] = 'saas.infinstor.com'\n",
    "run_options['input_data_spec'] = input_data_spec\n",
    "run_options['xformname'] = 'datapreprocessnewchangesv2'\n",
    "transform3= {}\n",
    "transform3['kwargs'] = None\n",
    "transform3['run_options'] = run_options\n",
    "transforms.append(transform3) \n",
    "\n",
    "run_id = run_transforms(transforms)"
   ]
  },
  {
   "cell_type": "code",
   "execution_count": null,
   "id": "a6660757-94d5-47df-b930-4c1cb112b3e3",
   "metadata": {},
   "outputs": [
    {
     "name": "stdout",
     "output_type": "stream",
     "text": [
      "Collecting package metadata (current_repodata.json): done\n",
      "Solving environment: done\n",
      "\n",
      "## Package Plan ##\n",
      "\n",
      "  environment location: /home/prachi_multilex2/miniconda3\n",
      "\n",
      "  added / updated specs:\n",
      "    - conda\n",
      "\n",
      "\n",
      "The following packages will be downloaded:\n",
      "\n",
      "    package                    |            build\n",
      "    ---------------------------|-----------------\n",
      "    ca-certificates-2022.3.29  |       h06a4308_0         117 KB\n",
      "    colorama-0.4.4             |     pyhd3eb1b0_0          21 KB\n",
      "    conda-4.12.0               |   py39h06a4308_0        14.5 MB\n",
      "    conda-package-handling-1.8.1|   py39h7f8727e_0         889 KB\n",
      "    openssl-1.1.1n             |       h7f8727e_0         2.5 MB\n",
      "    pyopenssl-22.0.0           |     pyhd3eb1b0_0          50 KB\n",
      "    sqlite-3.38.2              |       hc218d9a_0         1.0 MB\n",
      "    tqdm-4.63.0                |     pyhd3eb1b0_0          84 KB\n",
      "    tzdata-2022a               |       hda174b7_0         109 KB\n",
      "    urllib3-1.26.8             |     pyhd3eb1b0_0         106 KB\n",
      "    ------------------------------------------------------------\n",
      "                                           Total:        19.3 MB\n",
      "\n",
      "The following NEW packages will be INSTALLED:\n",
      "\n",
      "  colorama           pkgs/main/noarch::colorama-0.4.4-pyhd3eb1b0_0\n",
      "\n",
      "The following packages will be REMOVED:\n",
      "\n",
      "  conda-content-trust-0.1.1-pyhd3eb1b0_0\n",
      "  six-1.16.0-pyhd3eb1b0_0\n",
      "\n",
      "The following packages will be UPDATED:\n",
      "\n",
      "  ca-certificates                     2021.10.26-h06a4308_2 --> 2022.3.29-h06a4308_0\n",
      "  conda                               4.11.0-py39h06a4308_0 --> 4.12.0-py39h06a4308_0\n",
      "  conda-package-han~                   1.7.3-py39h27cfd23_1 --> 1.8.1-py39h7f8727e_0\n",
      "  openssl                                 1.1.1m-h7f8727e_0 --> 1.1.1n-h7f8727e_0\n",
      "  pyopenssl                             21.0.0-pyhd3eb1b0_1 --> 22.0.0-pyhd3eb1b0_0\n",
      "  sqlite                                  3.37.0-hc218d9a_0 --> 3.38.2-hc218d9a_0\n",
      "  tqdm                                  4.62.3-pyhd3eb1b0_1 --> 4.63.0-pyhd3eb1b0_0\n",
      "  tzdata                                   2021e-hda174b7_0 --> 2022a-hda174b7_0\n",
      "  urllib3                               1.26.7-pyhd3eb1b0_0 --> 1.26.8-pyhd3eb1b0_0\n",
      "\n",
      "\n",
      "Proceed ([y]/n)? "
     ]
    }
   ],
   "source": [
    "!conda update -n base -c defaults conda"
   ]
  },
  {
   "cell_type": "code",
   "execution_count": null,
   "id": "e08dfea5-a8f3-4cab-b24a-a11ed08614d6",
   "metadata": {},
   "outputs": [],
   "source": []
  }
 ],
 "metadata": {
  "kernelspec": {
   "display_name": "Python 3.8.3 ('venv': venv)",
   "language": "python",
   "name": "python3"
  },
  "language_info": {
   "codemirror_mode": {
    "name": "ipython",
    "version": 3
   },
   "file_extension": ".py",
   "mimetype": "text/x-python",
   "name": "python",
   "nbconvert_exporter": "python",
   "pygments_lexer": "ipython3",
   "version": "3.8.3"
  },
  "vscode": {
   "interpreter": {
    "hash": "b8a3eba9cebfb28c86551ee57a111622898a8006182aee53eafa7649e6f45aff"
   }
  }
 },
 "nbformat": 4,
 "nbformat_minor": 5
}
