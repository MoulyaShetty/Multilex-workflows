{
 "cells": [
  {
   "cell_type": "code",
   "execution_count": 6,
   "id": "97967f81-df3c-4c42-85fe-d729c2649be5",
   "metadata": {},
   "outputs": [
    {
     "data": {
      "text/plain": [
       "'Report is Successfully Generated !!!!'"
      ]
     },
     "execution_count": 6,
     "metadata": {},
     "output_type": "execute_result"
    }
   ],
   "source": [
    "import pandas as pd\n",
    "import re\n",
    "from datetime import datetime , date\n",
    "cur_date = str(date.today())\n",
    "import requests\n",
    "import numpy as np\n",
    "import logging\n",
    "import pandas as pd\n",
    "import matplotlib.pyplot as plt\n",
    "from bs4 import BeautifulSoup\n",
    "import pytz\n",
    "import os\n",
    "import pandas as pd \n",
    "import html\n",
    "from datetime import datetime\n",
    "def get_time_valid(): #Returns the hour from the time \n",
    "        IST = pytz.timezone('Asia/Kolkata')\n",
    "        time = datetime.now(IST)\n",
    "        time = time.time()\n",
    "        return time.hour\n",
    "def CleaningData(data):\n",
    "    cleaned_text =[]\n",
    "    for text in data:\n",
    "        text =str(text) \n",
    "        text= text.lower().replace(\"don't\",\"do not\")\n",
    "        text = text.replace('â€¦', '').replace('<span class=\"match\">', '').replace('</span>','').replace('\\n','').replace('     ','')\n",
    "        text = text.replace(\",,\",\",\")\n",
    "        if text != 'nan':\n",
    "            new_text = re.sub('[^A-Za-z0-9%,]+', ' ', text)\n",
    "            cleaned_text.append(new_text.title())\n",
    "        else:\n",
    "            cleaned_text.append('nan')\n",
    "    return cleaned_text\n",
    "\n",
    "def CleanedReport(file_name, input_dir, output_dir):\n",
    "\n",
    "    input_file_fullpath=os.path.join(input_dir,file_name)\n",
    "\n",
    "    logging.info(\"reading input artifact \" + input_file_fullpath)\n",
    "    data = pd.read_csv(input_file_fullpath)\n",
    "    logging.info(\"completed reading input artifact \" + input_file_fullpath)\n",
    "\n",
    "    data['text'] = CleaningData(data['text'].tolist())\n",
    "    data['title'] = CleaningData(data['title'].tolist())\n",
    "    data['Companies'] = CleaningData(data['Companies'].tolist())\n",
    "    data[\"Country\"] = \" \"\n",
    "    data[\"Comments\"] = \" \"\n",
    "    data[\"update\"] = \" \"\n",
    "    \n",
    "    data =data[['publish_date','scraped_date','title','text','Companies','Country','link','Comments','update']]\n",
    "\n",
    "    \n",
    "    final_report_fullpath = os.path.join( output_dir, 'FinalReport_{}.csv').format(cur_date)\n",
    "    final_report_fullpath1 = os.path.join( output_dir, 'FinalReport_{}_1.csv').format(cur_date)\n",
    "    logging.info(\"writing output artifact \" + final_report_fullpath + \" to \" + output_dir)\n",
    "    data = data.drop_duplicates(subset=[\"text\",\"link\",\"title\"])\n",
    "    if(int(get_time_valid()) >= 16):\n",
    "         data.to_csv(final_report_fullpath1,index=False)\n",
    "    else:\n",
    "         data.to_csv(final_report_fullpath,index=False)\n",
    "    \n",
    "    logging.info(\"completed writing output artifact \" + final_report_fullpath + \" to \" + output_dir)\n",
    "\n",
    "    return 'Report is Successfully Generated !!!!'\n",
    "CleanedReport(\"EDI_PREIPO_report.csv\",\"/home/prachi_multilex2\", \"/home/prachi_multilex2\")"
   ]
  },
  {
   "cell_type": "code",
   "execution_count": null,
   "id": "cb3fbd7b-ce8f-4102-8dc3-be9e482e95d0",
   "metadata": {},
   "outputs": [],
   "source": []
  },
  {
   "cell_type": "code",
   "execution_count": 1,
   "id": "a2614ac9-b311-48f0-85c4-5e8e1c3d1964",
   "metadata": {},
   "outputs": [
    {
     "name": "stderr",
     "output_type": "stream",
     "text": [
      "2022-03-30 18:41:24,495 - 3412732 - infinstor - INFO - run_transforms(): start = [{'kwargs': None, 'run_options': {'run_location': 'inline', 'service_name': 'saas.infinstor.com', 'input_data_spec': {'type': 'infinsnap', 'time_spec': 'tm20220330130957', 'bucketname': 'multilex2-s3-bucket-prachi', 'prefix': ''}, 'xformname': 'newnhangesmornv23'}}, {'kwargs': None, 'run_options': {'run_location': 'inline', 'service_name': 'saas.infinstor.com', 'input_data_spec': {'type': 'infinsnap', 'time_spec': 'tm20220330130957', 'bucketname': 'multilex2-s3-bucket-prachi', 'prefix': ''}, 'xformname': ''}}, {'kwargs': None, 'run_options': {'run_location': 'inline', 'service_name': 'saas.infinstor.com', 'input_data_spec': {'type': 'infinsnap', 'time_spec': 'tm20220330130957', 'bucketname': 'multilex2-s3-bucket-prachi', 'prefix': ''}, 'xformname': 'ner_lg_model_transform'}}, {'kwargs': None, 'run_options': {'run_location': 'inline', 'service_name': 'saas.infinstor.com', 'input_data_spec': {'type': 'infinsnap', 'time_spec': 'tm20220330130957', 'bucketname': 'multilex2-s3-bucket-prachi', 'prefix': ''}, 'xformname': 'NewChangesDataPreprocess'}}] \n"
     ]
    },
    {
     "name": "stdout",
     "output_type": "stream",
     "text": [
      "env: MLFLOW_TRACKING_URI=infinstor://mlflow.saas.infinstor.com\n",
      "env: MLFLOW_EXPERIMENT_ID=0\n",
      "parent_run_id = 0-16486458862540000000027\n"
     ]
    },
    {
     "name": "stderr",
     "output_type": "stream",
     "text": [
      "2022-03-30 18:41:30,940 - 3412732 - infinstor - INFO - run_transform(): Starting inline run of transform = {'run_location': 'inline', 'service_name': 'saas.infinstor.com', 'input_data_spec': {'type': 'infinsnap', 'time_spec': 'tm20220330130957', 'bucketname': 'multilex2-s3-bucket-prachi', 'prefix': ''}, 'xformname': 'newnhangesmornv23', 'experiment_id': '0', 'last_in_chain_of_xforms': 'False', 'parent_run_id': '0-16486458862540000000027', 'run_id': '0-16486458903900000000028'} with kwargs = {}\n",
      "2022-03-30 18:41:31,937 - 3412732 - infinstor - INFO - xform_local_files_zip_base64=UEsFBgAAAAAAAAAAAAAAAAAAAAAAAA==\n",
      "2022-03-30 18:41:32,426 - 3412732 - infinstor - INFO - transform with single input_data_specs detected: {'type': 'infinsnap', 'time_spec': 'tm20220330130957', 'bucketname': 'multilex2-s3-bucket-prachi', 'prefix': ''}\n"
     ]
    },
    {
     "name": "stdout",
     "output_type": "stream",
     "text": [
      "infinstor: Activating time_spec=tm20220330130957\n",
      "get_customerinfo: usePresignedUrlForInfinSnap=true\n"
     ]
    },
    {
     "name": "stderr",
     "output_type": "stream",
     "text": [
      "2022-03-30 18:41:39,051 - 3412732 - infinstor - INFO - Running transform infin_transform_all_objects\n"
     ]
    },
    {
     "name": "stdout",
     "output_type": "stream",
     "text": [
      "infin_boto3: intercept activated for buckets=['multilex2-s3-bucket-prachi']\n",
      "HTTP error occurred: 504 Server Error: Gateway Timeout for url: https://mlflow.saas.infinstor.com/api/2.0/mlflow/infinstor/s3meta?prefix=&op=list-objects&bucket=multilex2-s3-bucket-prachi&list-type=2&output-format=json&endTime=1648645797000&Delimiter=/\n"
     ]
    },
    {
     "name": "stderr",
     "output_type": "stream",
     "text": [
      "2022-03-30 18:56:02,135 - 3412732 - infinstor - ERROR - run_transforms(): error: caught exception: Traceback (most recent call last):\n",
      "  File \"/home/prachi_multilex2/miniconda3/envs/infinstor/lib/python3.7/site-packages/infinstor/__init__.py\", line 1643, in run_transforms\n",
      "    run_id = run_transform(run_options)\n",
      "  File \"/home/prachi_multilex2/miniconda3/envs/infinstor/lib/python3.7/site-packages/infinstor/__init__.py\", line 1564, in run_transform\n",
      "    input_data_spec, xformname, **kwargs)\n",
      "  File \"/home/prachi_multilex2/miniconda3/envs/infinstor/lib/python3.7/site-packages/infinstor/__init__.py\", line 1242, in run_transform_inline\n",
      "    transform_string, zf, run_id, **kwargs)\n",
      "  File \"/home/prachi_multilex2/miniconda3/envs/infinstor/lib/python3.7/site-packages/infinstor/__init__.py\", line 1434, in run_transform_string_inline\n",
      "    transform_string, zf, **kwargs)\n",
      "  File \"/home/prachi_multilex2/miniconda3/envs/infinstor/lib/python3.7/site-packages/infinstor/__init__.py\", line 1039, in read_and_xform_all_objects\n",
      "    client, bucketname, prefix_in, prefix_trunc, transform_string, zf, None, None, ** kwargs)\n",
      "  File \"/home/prachi_multilex2/miniconda3/envs/infinstor/lib/python3.7/site-packages/infinstor/__init__.py\", line 982, in download_all_objects\n",
      "    list_dir_by_dir(client, bucketname, prefix_in, True, dict_dirname_to_arrays_of_files)\n",
      "  File \"/home/prachi_multilex2/miniconda3/envs/infinstor/lib/python3.7/site-packages/infinstor/__init__.py\", line 303, in list_dir_by_dir\n",
      "    list_dir_by_dir(client, bucket, this_prefix, recurse, dict_dirname_to_arrays_of_files)\n",
      "  File \"/home/prachi_multilex2/miniconda3/envs/infinstor/lib/python3.7/site-packages/infinstor/__init__.py\", line 303, in list_dir_by_dir\n",
      "    list_dir_by_dir(client, bucket, this_prefix, recurse, dict_dirname_to_arrays_of_files)\n",
      "  File \"/home/prachi_multilex2/miniconda3/envs/infinstor/lib/python3.7/site-packages/infinstor/__init__.py\", line 303, in list_dir_by_dir\n",
      "    list_dir_by_dir(client, bucket, this_prefix, recurse, dict_dirname_to_arrays_of_files)\n",
      "  [Previous line repeated 1691 more times]\n",
      "  File \"/home/prachi_multilex2/miniconda3/envs/infinstor/lib/python3.7/site-packages/infinstor/__init__.py\", line 269, in list_dir_by_dir\n",
      "    for page in page_iterator:\n",
      "  File \"/home/prachi_multilex2/miniconda3/envs/infinstor/lib/python3.7/site-packages/infinstor/infin_boto3.py\", line 50, in __next__\n",
      "    rv = self.infin_boto_client.list_objects_v2(None, **self.kwargs)\n",
      "  File \"/home/prachi_multilex2/miniconda3/envs/infinstor/lib/python3.7/site-packages/infinstor/infin_boto3.py\", line 163, in list_objects_v2\n",
      "    return self.list_objects_at(True, *args, **kwargs)\n",
      "  File \"/home/prachi_multilex2/miniconda3/envs/infinstor/lib/python3.7/site-packages/infinstor/infin_boto3.py\", line 299, in list_objects_at\n",
      "    response.raise_for_status()\n",
      "  File \"/home/prachi_multilex2/miniconda3/envs/infinstor/lib/python3.7/site-packages/requests/models.py\", line 960, in raise_for_status\n",
      "    raise HTTPError(http_error_msg, response=self)\n",
      "requests.exceptions.HTTPError: 504 Server Error: Gateway Timeout for url: https://mlflow.saas.infinstor.com/api/2.0/mlflow/infinstor/s3meta?prefix=&op=list-objects&bucket=multilex2-s3-bucket-prachi&list-type=2&output-format=json&endTime=1648645797000&Delimiter=/\n",
      " \n",
      "transforms = [{'kwargs': None, 'run_options': {'run_location': 'inline', 'service_name': 'saas.infinstor.com', 'input_data_spec': {'type': 'infinsnap', 'time_spec': 'tm20220330130957', 'bucketname': 'multilex2-s3-bucket-prachi', 'prefix': ''}, 'xformname': 'newnhangesmornv23', 'experiment_id': '0', 'last_in_chain_of_xforms': 'False', 'parent_run_id': '0-16486458862540000000027', 'run_id': '0-16486458903900000000028'}}, {'kwargs': None, 'run_options': {'run_location': 'inline', 'service_name': 'saas.infinstor.com', 'input_data_spec': {'type': 'infinsnap', 'time_spec': 'tm20220330130957', 'bucketname': 'multilex2-s3-bucket-prachi', 'prefix': ''}, 'xformname': ''}}, {'kwargs': None, 'run_options': {'run_location': 'inline', 'service_name': 'saas.infinstor.com', 'input_data_spec': {'type': 'infinsnap', 'time_spec': 'tm20220330130957', 'bucketname': 'multilex2-s3-bucket-prachi', 'prefix': ''}, 'xformname': 'ner_lg_model_transform'}}, {'kwargs': None, 'run_options': {'run_location': 'inline', 'service_name': 'saas.infinstor.com', 'input_data_spec': {'type': 'infinsnap', 'time_spec': 'tm20220330130957', 'bucketname': 'multilex2-s3-bucket-prachi', 'prefix': ''}, 'xformname': 'NewChangesDataPreprocess'}}]\n"
     ]
    }
   ],
   "source": [
    "from infinstor import run_transforms\n",
    "\n",
    "transforms = []\n",
    "\n",
    "%env MLFLOW_TRACKING_URI infinstor://mlflow.saas.infinstor.com\n",
    "\n",
    "%env MLFLOW_EXPERIMENT_ID 0\n",
    "input_data_spec = dict()\n",
    "input_data_spec['type'] = 'infinsnap'\n",
    "input_data_spec['time_spec'] = 'tm20220330130957'\n",
    "input_data_spec['bucketname'] = 'multilex2-s3-bucket-prachi'\n",
    "input_data_spec['prefix'] = ''\n",
    "run_options = dict()\n",
    "run_options['run_location'] = 'inline'\n",
    "run_options['service_name'] = 'saas.infinstor.com'\n",
    "run_options['input_data_spec'] = input_data_spec\n",
    "run_options['xformname'] = 'newnhangesmornv23'\n",
    "transform1= {}\n",
    "transform1['kwargs'] = None\n",
    "transform1['run_options'] = run_options\n",
    "transforms.append(transform1) \n",
    "\n",
    "run_options = dict()\n",
    "run_options['run_location'] = 'inline'\n",
    "run_options['service_name'] = 'saas.infinstor.com'\n",
    "run_options['input_data_spec'] = input_data_spec\n",
    "run_options['xformname'] = ''\n",
    "transform2= {}\n",
    "transform2['kwargs'] = None\n",
    "transform2['run_options'] = run_options\n",
    "transforms.append(transform2) \n",
    "\n",
    "run_options = dict()\n",
    "run_options['run_location'] = 'inline'\n",
    "run_options['service_name'] = 'saas.infinstor.com'\n",
    "run_options['input_data_spec'] = input_data_spec\n",
    "run_options['xformname'] = 'ner_lg_model_transform'\n",
    "transform3= {}\n",
    "transform3['kwargs'] = None\n",
    "transform3['run_options'] = run_options\n",
    "transforms.append(transform3) \n",
    "\n",
    "run_options = dict()\n",
    "run_options['run_location'] = 'inline'\n",
    "run_options['service_name'] = 'saas.infinstor.com'\n",
    "run_options['input_data_spec'] = input_data_spec\n",
    "run_options['xformname'] = 'NewChangesDataPreprocess'\n",
    "transform4= {}\n",
    "transform4['kwargs'] = None\n",
    "transform4['run_options'] = run_options\n",
    "transforms.append(transform4) \n",
    "\n",
    "run_id = run_transforms(transforms)"
   ]
  },
  {
   "cell_type": "code",
   "execution_count": null,
   "id": "ffe7e98a-68c4-48aa-99ad-3cd39dad82c7",
   "metadata": {},
   "outputs": [],
   "source": []
  }
 ],
 "metadata": {
  "kernelspec": {
   "display_name": "Python 3.8.3 ('venv': venv)",
   "language": "python",
   "name": "python3"
  },
  "language_info": {
   "codemirror_mode": {
    "name": "ipython",
    "version": 3
   },
   "file_extension": ".py",
   "mimetype": "text/x-python",
   "name": "python",
   "nbconvert_exporter": "python",
   "pygments_lexer": "ipython3",
   "version": "3.8.3"
  },
  "vscode": {
   "interpreter": {
    "hash": "b8a3eba9cebfb28c86551ee57a111622898a8006182aee53eafa7649e6f45aff"
   }
  }
 },
 "nbformat": 4,
 "nbformat_minor": 5
}
